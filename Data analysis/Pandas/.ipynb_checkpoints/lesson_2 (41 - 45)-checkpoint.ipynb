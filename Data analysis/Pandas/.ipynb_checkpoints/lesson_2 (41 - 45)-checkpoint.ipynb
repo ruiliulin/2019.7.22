{
 "cells": [
  {
   "cell_type": "markdown",
   "metadata": {},
   "source": [
    "# DataFrame\n",
    "- DataFrame是一个表格型的数据结构\n",
    "- 它含有一组有序的列，每一列都可以使不同类型的数据，有行索引也有列索引\n",
    "- 它可以看做是由Series组成的字典\n",
    "- 数据是以二维结构存放的"
   ]
  },
  {
   "cell_type": "markdown",
   "metadata": {},
   "source": [
    "## DataFrame构建\n",
    "#### 字典类：\n",
    "- 数组、列表或元组构成的字典构造dataframe\n",
    "- Series构成的字典构造dataframe\n",
    "- 字典构成的字典构造dataframe\n",
    "\n",
    "#### 列表类:\n",
    "- 2D ndarray 构造dataframe\n",
    "- 字典构成的列表构造dataframe\n",
    "- Series构成的列表构造dataframe\n"
   ]
  },
  {
   "cell_type": "markdown",
   "metadata": {},
   "source": [
    "### 字典类"
   ]
  },
  {
   "cell_type": "code",
   "execution_count": 1,
   "metadata": {
    "collapsed": true
   },
   "outputs": [],
   "source": [
    "import numpy as np\n",
    "import pandas as pd"
   ]
  },
  {
   "cell_type": "code",
   "execution_count": 4,
   "metadata": {},
   "outputs": [
    {
     "name": "stdout",
     "output_type": "stream",
     "text": [
      "   a  b   c\n",
      "0  1  5   9\n",
      "1  2  6  10\n",
      "2  3  7  11\n",
      "3  4  8  12\n"
     ]
    }
   ],
   "source": [
    "# 1. 数组、列表或元组构成的字典构造dataframe\n",
    "# 构造一个字典\n",
    "data = {'a':[1,2,3,4], \n",
    "        'b':(5,6,7,8),\n",
    "        'c':np.arange(9,13)\n",
    "       }\n",
    "# 构造DataFrame\n",
    "f = pd.DataFrame(data)\n",
    "print(f)"
   ]
  },
  {
   "cell_type": "code",
   "execution_count": 7,
   "metadata": {},
   "outputs": [
    {
     "name": "stdout",
     "output_type": "stream",
     "text": [
      "RangeIndex(start=0, stop=4, step=1)\n"
     ]
    }
   ],
   "source": [
    "# 通过index属性查看行索引\n",
    "print(f.index)"
   ]
  },
  {
   "cell_type": "code",
   "execution_count": 9,
   "metadata": {},
   "outputs": [
    {
     "name": "stdout",
     "output_type": "stream",
     "text": [
      "Index(['a', 'b', 'c'], dtype='object')\n"
     ]
    }
   ],
   "source": [
    "# 通过columns属性查看列索引\n",
    "print(f.columns)"
   ]
  },
  {
   "cell_type": "code",
   "execution_count": 11,
   "metadata": {},
   "outputs": [
    {
     "name": "stdout",
     "output_type": "stream",
     "text": [
      "[[ 1  5  9]\n",
      " [ 2  6 10]\n",
      " [ 3  7 11]\n",
      " [ 4  8 12]]\n"
     ]
    }
   ],
   "source": [
    "# 通过values属性查看值\n",
    "print(f.values)"
   ]
  },
  {
   "cell_type": "code",
   "execution_count": 13,
   "metadata": {},
   "outputs": [
    {
     "name": "stdout",
     "output_type": "stream",
     "text": [
      "   a  b   c\n",
      "A  1  5   9\n",
      "B  2  6  10\n",
      "C  3  7  11\n",
      "D  4  8  12\n"
     ]
    }
   ],
   "source": [
    "# 指定index行索引\n",
    "f = pd.DataFrame(data, index=[\"A\", \"B\", \"C\", \"D\"])\n",
    "print(f)"
   ]
  },
  {
   "cell_type": "code",
   "execution_count": 18,
   "metadata": {},
   "outputs": [
    {
     "name": "stdout",
     "output_type": "stream",
     "text": [
      "   a  b   c    d\n",
      "A  1  5   9  NaN\n",
      "B  2  6  10  NaN\n",
      "C  3  7  11  NaN\n",
      "D  4  8  12  NaN\n"
     ]
    }
   ],
   "source": [
    "# 指定columns列索引\n",
    "f = pd.DataFrame(data, index=[\"A\", \"B\", \"C\", \"D\"], columns=[\"a\", \"b\", \"c\", \"d\"])\n",
    "print(f)"
   ]
  },
  {
   "cell_type": "code",
   "execution_count": 20,
   "metadata": {},
   "outputs": [
    {
     "name": "stdout",
     "output_type": "stream",
     "text": [
      "   a  b    c\n",
      "0  0  4  7.0\n",
      "1  1  5  8.0\n",
      "2  2  6  NaN\n"
     ]
    }
   ],
   "source": [
    "# 2. Series构成的字典构造dataframe\n",
    "pd1 = pd.DataFrame({'a':pd.Series(np.arange(3)), \n",
    "                   'b':pd.Series(np.arange(4, 7)),\n",
    "                   'c':pd.Series(np.arange(7, 9))\n",
    "                   })\n",
    "print(pd1)"
   ]
  },
  {
   "cell_type": "code",
   "execution_count": 23,
   "metadata": {},
   "outputs": [
    {
     "name": "stdout",
     "output_type": "stream",
     "text": [
      "          a    b    c\n",
      "apple   3.6  3.4  3.8\n",
      "banana  5.6  5.5  5.8\n"
     ]
    }
   ],
   "source": [
    "# 3. 字典构成的字典构造dataframe\n",
    "# 字典嵌套（内部字典的key是行索引，外部字典的key是列索引）\n",
    "pd2 = pd.DataFrame({'a':{'apple':3.6, 'banana':5.6},\n",
    "                   'b':{'apple':3.4, 'banana':5.5},\n",
    "                   'c':{'apple':3.8, 'banana':5.8}\n",
    "                   })\n",
    "print(pd2)"
   ]
  },
  {
   "cell_type": "markdown",
   "metadata": {},
   "source": [
    "### 列表类"
   ]
  },
  {
   "cell_type": "code",
   "execution_count": 33,
   "metadata": {},
   "outputs": [
    {
     "name": "stdout",
     "output_type": "stream",
     "text": [
      "   a   b   c\n",
      "1  0   1   2\n",
      "2  3   4   5\n",
      "3  6   7   8\n",
      "4  9  10  11\n"
     ]
    }
   ],
   "source": [
    "# 1. 2D ndarray 构造dataframe\n",
    "# 首先构造二维数组\n",
    "arr1 = np.arange(12).reshape(4,3)\n",
    "pd1 = pd.DataFrame(arr1, index=range(1,5), columns=['a', 'b', 'c'])# 注意指定索引时，长度与原数组保持一致\n",
    "print(pd1)"
   ]
  },
  {
   "cell_type": "code",
   "execution_count": 36,
   "metadata": {},
   "outputs": [
    {
     "name": "stdout",
     "output_type": "stream",
     "text": [
      "   apple  banana\n",
      "0    3.6     5.6\n",
      "1    3.7     5.5\n",
      "2    3.9     5.2\n"
     ]
    }
   ],
   "source": [
    "# 2. 字典构成的列表构造dataframe\n",
    "pd2 = pd.DataFrame([{'apple':3.6, 'banana':5.6}, {'apple':3.7, 'banana':5.5}, {'apple':3.9, 'banana':5.2}])\n",
    "print(pd2)"
   ]
  },
  {
   "cell_type": "code",
   "execution_count": 39,
   "metadata": {},
   "outputs": [
    {
     "name": "stdout",
     "output_type": "stream",
     "text": [
      "          0         1         2\n",
      "0  0.480952  0.653118  0.895774\n",
      "1  0.137835  0.244478       NaN\n",
      "2  0.299664  0.957929  0.267158\n"
     ]
    }
   ],
   "source": [
    "# 3. Series构成的列表构造dataframe\n",
    "pd3 = pd.DataFrame([pd.Series(np.random.rand(3)), pd.Series(np.random.rand(2)), pd.Series(np.random.rand(3))])\n",
    "print(pd3)"
   ]
  },
  {
   "cell_type": "markdown",
   "metadata": {},
   "source": [
    "## DataFrame基本用法\n",
    "- .T转置\n",
    "- 通过列索引获取列数据（Series类型）\n",
    "- 增加列数据\n",
    "-  删除列"
   ]
  },
  {
   "cell_type": "code",
   "execution_count": 40,
   "metadata": {},
   "outputs": [
    {
     "name": "stdout",
     "output_type": "stream",
     "text": [
      "   A  B  C\n",
      "a  0  1  2\n",
      "c  3  4  5\n",
      "b  6  7  8\n"
     ]
    }
   ],
   "source": [
    "pd = pd.DataFrame(np.arange(9).reshape(3,3), index=['a', 'c', 'b'], columns=['A', 'B', 'C']) \n",
    "print(pd)"
   ]
  },
  {
   "cell_type": "code",
   "execution_count": 44,
   "metadata": {},
   "outputs": [
    {
     "data": {
      "text/html": [
       "<div>\n",
       "<style>\n",
       "    .dataframe thead tr:only-child th {\n",
       "        text-align: right;\n",
       "    }\n",
       "\n",
       "    .dataframe thead th {\n",
       "        text-align: left;\n",
       "    }\n",
       "\n",
       "    .dataframe tbody tr th {\n",
       "        vertical-align: top;\n",
       "    }\n",
       "</style>\n",
       "<table border=\"1\" class=\"dataframe\">\n",
       "  <thead>\n",
       "    <tr style=\"text-align: right;\">\n",
       "      <th></th>\n",
       "      <th>a</th>\n",
       "      <th>c</th>\n",
       "      <th>b</th>\n",
       "    </tr>\n",
       "  </thead>\n",
       "  <tbody>\n",
       "    <tr>\n",
       "      <th>A</th>\n",
       "      <td>0</td>\n",
       "      <td>3</td>\n",
       "      <td>6</td>\n",
       "    </tr>\n",
       "    <tr>\n",
       "      <th>B</th>\n",
       "      <td>1</td>\n",
       "      <td>4</td>\n",
       "      <td>7</td>\n",
       "    </tr>\n",
       "    <tr>\n",
       "      <th>C</th>\n",
       "      <td>2</td>\n",
       "      <td>5</td>\n",
       "      <td>8</td>\n",
       "    </tr>\n",
       "  </tbody>\n",
       "</table>\n",
       "</div>"
      ],
      "text/plain": [
       "   a  c  b\n",
       "A  0  3  6\n",
       "B  1  4  7\n",
       "C  2  5  8"
      ]
     },
     "execution_count": 44,
     "metadata": {},
     "output_type": "execute_result"
    }
   ],
   "source": [
    "# 和numpy一样进行转置\n",
    "# 行和列进行转置\n",
    "pd.T"
   ]
  },
  {
   "cell_type": "code",
   "execution_count": 51,
   "metadata": {},
   "outputs": [
    {
     "name": "stdout",
     "output_type": "stream",
     "text": [
      "a    0\n",
      "c    3\n",
      "b    6\n",
      "Name: A, dtype: int64\n",
      "\n",
      "<class 'pandas.core.series.Series'>\n"
     ]
    }
   ],
   "source": [
    "# 通过列索引获取列数据\n",
    "print(pd['A'])\n",
    "print()\n",
    "print(type(pd['A']))"
   ]
  },
  {
   "cell_type": "code",
   "execution_count": 59,
   "metadata": {},
   "outputs": [
    {
     "name": "stdout",
     "output_type": "stream",
     "text": [
      "   A  B  C   D\n",
      "a  0  1  2   9\n",
      "c  3  4  5  10\n",
      "b  6  7  8  11\n"
     ]
    }
   ],
   "source": [
    "# 增加列数据\n",
    "pd['D'] = [9, 10, 11]\n",
    "print(pd)"
   ]
  },
  {
   "cell_type": "code",
   "execution_count": 60,
   "metadata": {},
   "outputs": [
    {
     "name": "stdout",
     "output_type": "stream",
     "text": [
      "   A  B  C\n",
      "a  0  1  2\n",
      "c  3  4  5\n",
      "b  6  7  8\n"
     ]
    }
   ],
   "source": [
    "# 删除列\n",
    "del(pd['D'])\n",
    "print(pd)"
   ]
  },
  {
   "cell_type": "markdown",
   "metadata": {},
   "source": [
    "# DataFrame练习\n"
   ]
  },
  {
   "cell_type": "code",
   "execution_count": 63,
   "metadata": {},
   "outputs": [
    {
     "name": "stdout",
     "output_type": "stream",
     "text": [
      "<module 'pandas' from '/var/sw/anaconda3/lib/python3.6/site-packages/pandas/__init__.py'>\n"
     ]
    }
   ],
   "source": [
    "#１. 创建一个DataFrame\n",
    "# 用列表创建\n",
    "import numpy as np\n",
    "import pandas as pd\n",
    "\n",
    "ls1 = [{'语文':89, '数学':59, '英语':84, '体育':0} , \n",
    "       {'语文':78, '数学':83, '英语':97, '体育':0} ,\n",
    "       {'语文':79, '数学':85, '英语':88, '体育':0} ,\n",
    "       {'语文':89, '数学':92, '英语':83, '体育':0} ,\n",
    "       {'语文':90, '数学':67, '英语':67, '体育':0} ,\n",
    "       {'语文':87, '数学':81, '英语':73, '体育':0} ,\n",
    "       {'语文':83, '数学':77, '英语':71, '体育':0} ,\n",
    "      ]\n",
    "pd1 = pd.DataFrame(ls1, index=['张三', \"李四\", '王五', '小明', '小红', '小刚', '小亮'])\n",
    "print(pd)"
   ]
  },
  {
   "cell_type": "code",
   "execution_count": 64,
   "metadata": {},
   "outputs": [
    {
     "name": "stdout",
     "output_type": "stream",
     "text": [
      "    小亮  小刚  小明  小红  张三  李四  王五\n",
      "体育   0   0   0   0   0   0   0\n",
      "数学  77  81  92  67  59  83  85\n",
      "英语  71  73  83  67  84  97  88\n",
      "语文  83  87  89  90  89  78  79\n"
     ]
    }
   ],
   "source": [
    "#１. 创建一个DataFrame\n",
    "# 用字典创建\n",
    "import numpy as np\n",
    "import pandas as pd\n",
    "d1 = {'张三':{'语文':89, '数学':59, '英语':84, '体育':0},\n",
    "      '李四':{'语文':78, '数学':83, '英语':97, '体育':0},\n",
    "      '王五':{'语文':79, '数学':85, '英语':88, '体育':0},\n",
    "      '小明':{'语文':89, '数学':92, '英语':83, '体育':0},\n",
    "      '小红':{'语文':90, '数学':67, '英语':67, '体育':0},\n",
    "      '小刚':{'语文':87, '数学':81, '英语':73, '体育':0},\n",
    "      '小亮':{'语文':83, '数学':77, '英语':71, '体育':0}\n",
    "     }\n",
    "pd = pd.DataFrame(d1)\n",
    "print(pd)"
   ]
  },
  {
   "cell_type": "code",
   "execution_count": null,
   "metadata": {
    "collapsed": true
   },
   "outputs": [],
   "source": []
  },
  {
   "cell_type": "code",
   "execution_count": null,
   "metadata": {
    "collapsed": true
   },
   "outputs": [],
   "source": []
  }
 ],
 "metadata": {
  "kernelspec": {
   "display_name": "Python 3",
   "language": "python",
   "name": "python3"
  },
  "language_info": {
   "codemirror_mode": {
    "name": "ipython",
    "version": 3
   },
   "file_extension": ".py",
   "mimetype": "text/x-python",
   "name": "python",
   "nbconvert_exporter": "python",
   "pygments_lexer": "ipython3",
   "version": "3.6.3"
  }
 },
 "nbformat": 4,
 "nbformat_minor": 2
}
