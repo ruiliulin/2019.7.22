{
 "cells": [
  {
   "cell_type": "markdown",
   "metadata": {},
   "source": [
    "# 为什么要学习pandas?\n",
    "### 那么问题来了：\n",
    "    - numpy已经能够帮助我们处理数据，能够结合matplotlib解决我们数据分析的问题，那么pandas学习的目的在什么地方呢？\n",
    "    - numpy能够帮我们处理处理数值型数据，但是这还不够， 很多时候，我们的数据除了数值之外，还有字符串，还有时间序列等\n",
    "        - 比如：我们通过爬虫获取到了存储在数据库中的数据\n",
    "### 所以，pandas出现了。\n"
   ]
  },
  {
   "cell_type": "markdown",
   "metadata": {},
   "source": [
    "## 什么是Pandas? \n",
    "- Pandas的名称来自于面板数据（panel data）\n",
    "- Pandas是一个强大的分析结构化数据的工具集。\n",
    "- Pandas基于NumPy构建，提供了高级数据结构和数据操作工具，它是使Python成为强大而高效的数据分析环境的重要因素之一。\n",
    "    - 一个强大的分析和操作大型结构化数据集所需的工具集\n",
    "    - 基础是NumPy，提供了高性能矩阵的运算\n",
    "    - 提供了大量能够快速便捷地处理数据的函数和方法\n",
    "    - 应用于数据挖掘，数据分析\n",
    "    - 提供数据清洗功能"
   ]
  },
  {
   "cell_type": "markdown",
   "metadata": {},
   "source": [
    "### 官网：\n",
    "- http://pandas.pydata.org/"
   ]
  },
  {
   "cell_type": "code",
   "execution_count": 1,
   "metadata": {
    "collapsed": true
   },
   "outputs": [],
   "source": [
    "import pandas as pd"
   ]
  },
  {
   "cell_type": "code",
   "execution_count": 2,
   "metadata": {},
   "outputs": [
    {
     "name": "stdout",
     "output_type": "stream",
     "text": [
      "0    1\n",
      "1    2\n",
      "2    3\n",
      "dtype: int64\n"
     ]
    }
   ],
   "source": [
    "s = pd.Series([1,2,3])\n",
    "print(s)"
   ]
  },
  {
   "cell_type": "markdown",
   "metadata": {},
   "source": [
    "# Pandas的索引操作 \n",
    "## 索引对象Index \n",
    "- Series 和 DataFrame 中的索引都是 Index 对象 "
   ]
  },
  {
   "cell_type": "markdown",
   "metadata": {},
   "source": [
    "## Series:\n",
    "- 由索引和数组组成的类似字典的东东"
   ]
  },
  {
   "cell_type": "code",
   "execution_count": 3,
   "metadata": {
    "collapsed": true
   },
   "outputs": [],
   "source": [
    "import pandas as pd\n",
    "import numpy as np"
   ]
  },
  {
   "cell_type": "markdown",
   "metadata": {},
   "source": [
    "### Series的创建\n",
    "- 通过列表list创建\n",
    "- 通过numpy数组创建\n",
    "- 通过字典dict创建"
   ]
  },
  {
   "cell_type": "code",
   "execution_count": 4,
   "metadata": {},
   "outputs": [
    {
     "name": "stdout",
     "output_type": "stream",
     "text": [
      "0    1\n",
      "1    2\n",
      "2    3\n",
      "3    4\n",
      "4    5\n",
      "dtype: int64\n"
     ]
    }
   ],
   "source": [
    "# 1. 通过list创建\n",
    "s = pd.Series([1,2,3,4,5])\n",
    "print(s)"
   ]
  },
  {
   "cell_type": "code",
   "execution_count": 5,
   "metadata": {},
   "outputs": [
    {
     "name": "stdout",
     "output_type": "stream",
     "text": [
      "[1 2 3 4 5]\n",
      "0    1\n",
      "1    2\n",
      "2    3\n",
      "3    4\n",
      "4    5\n",
      "dtype: int64\n"
     ]
    }
   ],
   "source": [
    "# 2. 通过numpy中的数组来创建\n",
    "arr1 = np.arange(1,6)\n",
    "print(arr1)\n",
    "s1 = pd.Series(arr1)\n",
    "print(s1)"
   ]
  },
  {
   "cell_type": "code",
   "execution_count": 6,
   "metadata": {},
   "outputs": [
    {
     "name": "stdout",
     "output_type": "stream",
     "text": [
      "a    1\n",
      "b    2\n",
      "c    3\n",
      "d    4\n",
      "e    5\n",
      "dtype: int64\n"
     ]
    }
   ],
   "source": [
    "# 可以更改索引（索引多了或少了都不行！！！）\n",
    "s2 = pd.Series(arr1, index=['a', 'b', 'c', 'd', 'e'])# 注意要一一对应，索引数量和数组的元素数量必须一致\n",
    "print(s2)"
   ]
  },
  {
   "cell_type": "code",
   "execution_count": 7,
   "metadata": {},
   "outputs": [
    {
     "name": "stdout",
     "output_type": "stream",
     "text": [
      "[1 2 3 4 5]\n",
      "RangeIndex(start=0, stop=5, step=1)\n",
      "[1 2 3 4 5]\n",
      "Index(['a', 'b', 'c', 'd', 'e'], dtype='object')\n"
     ]
    }
   ],
   "source": [
    "# 打印值和索引\n",
    "print(s1.values)\n",
    "print(s1.index)\n",
    "print(s2.values)\n",
    "print(s2.index)"
   ]
  },
  {
   "cell_type": "code",
   "execution_count": 8,
   "metadata": {},
   "outputs": [
    {
     "name": "stdout",
     "output_type": "stream",
     "text": [
      "{'name': '李宁', 'age': 18, 'class': '三班'}\n",
      "age      18\n",
      "class    三班\n",
      "name     李宁\n",
      "dtype: object\n"
     ]
    }
   ],
   "source": [
    "# 3 通过字典来创建\n",
    "dict = {'name':'李宁', 'age':18, 'class':'三班'}\n",
    "print(dict)\n",
    "s3 = pd.Series(dict)\n",
    "print(s3)"
   ]
  },
  {
   "cell_type": "code",
   "execution_count": 9,
   "metadata": {},
   "outputs": [
    {
     "name": "stdout",
     "output_type": "stream",
     "text": [
      "{'name': '李宁', 'age': 18, 'class': '三班'}\n",
      "name      李宁\n",
      "age       18\n",
      "class     三班\n",
      "sex      NaN\n",
      "dtype: object\n"
     ]
    }
   ],
   "source": [
    "# 给s3的字典按序输出（这里索引可以多出来，但没有Value值，是NAN值）\n",
    "dict = {'name':'李宁', 'age':18, 'class':'三班'}\n",
    "print(dict)\n",
    "s3 = pd.Series(dict, index=['name', 'age', 'class', 'sex'])# 注意这里索引可以多出来，但只能对应NAN，尽量一一对应！！！\n",
    "print(s3)"
   ]
  },
  {
   "cell_type": "markdown",
   "metadata": {},
   "source": [
    "### Series的基本用法"
   ]
  },
  {
   "cell_type": "code",
   "execution_count": 10,
   "metadata": {},
   "outputs": [
    {
     "name": "stdout",
     "output_type": "stream",
     "text": [
      "name     False\n",
      "age      False\n",
      "class    False\n",
      "sex       True\n",
      "dtype: bool\n"
     ]
    }
   ],
   "source": [
    "# isnull 和 notnull 检查缺失值 \n",
    "print(s3.isnull()) # 判断是否为空，空就是True"
   ]
  },
  {
   "cell_type": "code",
   "execution_count": 11,
   "metadata": {},
   "outputs": [
    {
     "name": "stdout",
     "output_type": "stream",
     "text": [
      "name      True\n",
      "age       True\n",
      "class     True\n",
      "sex      False\n",
      "dtype: bool\n"
     ]
    }
   ],
   "source": [
    "print(s3.notnull())# 判断是否不为空，不为空是True，空是False"
   ]
  },
  {
   "cell_type": "code",
   "execution_count": 12,
   "metadata": {},
   "outputs": [
    {
     "name": "stdout",
     "output_type": "stream",
     "text": [
      "Index(['name', 'age', 'class', 'sex'], dtype='object')\n",
      "['李宁' 18 '三班' nan]\n"
     ]
    }
   ],
   "source": [
    "# 通过索引获取数据\n",
    "print(s3.index)\n",
    "print(s3.values)"
   ]
  },
  {
   "cell_type": "code",
   "execution_count": 13,
   "metadata": {},
   "outputs": [
    {
     "name": "stdout",
     "output_type": "stream",
     "text": [
      "18\n",
      "李宁\n"
     ]
    }
   ],
   "source": [
    "# 通过下标获取数据\n",
    "print(s3[1])\n",
    "print(s3[0])"
   ]
  },
  {
   "cell_type": "code",
   "execution_count": 14,
   "metadata": {},
   "outputs": [
    {
     "name": "stdout",
     "output_type": "stream",
     "text": [
      "18\n",
      "李宁\n"
     ]
    }
   ],
   "source": [
    "# 通过标签名获取数据\n",
    "print(s3['age'])\n",
    "print(s3['name'])"
   ]
  },
  {
   "cell_type": "code",
   "execution_count": 15,
   "metadata": {},
   "outputs": [
    {
     "name": "stdout",
     "output_type": "stream",
     "text": [
      "age     18\n",
      "sex    NaN\n",
      "dtype: object\n",
      "age     18\n",
      "sex    NaN\n",
      "dtype: object\n"
     ]
    }
   ],
   "source": [
    "# 选取多个数据\n",
    "print(s3[[1, 3]])\n",
    "print(s3[['age', 'sex']])"
   ]
  },
  {
   "cell_type": "code",
   "execution_count": 16,
   "metadata": {},
   "outputs": [
    {
     "name": "stdout",
     "output_type": "stream",
     "text": [
      "age      18\n",
      "class    三班\n",
      "dtype: object\n",
      "name     李宁\n",
      "age      18\n",
      "class    三班\n",
      "dtype: object\n"
     ]
    }
   ],
   "source": [
    "# 切片选取数据\n",
    "print(s3[1:3])# 注意下标切片还是左包括右不包括\n",
    "print(s3['name':'class'])# 标签切边是左右都包括的！！！！！"
   ]
  },
  {
   "cell_type": "code",
   "execution_count": 17,
   "metadata": {},
   "outputs": [
    {
     "name": "stdout",
     "output_type": "stream",
     "text": [
      "a    1\n",
      "b    2\n",
      "c    3\n",
      "d    4\n",
      "e    5\n",
      "dtype: int64\n"
     ]
    }
   ],
   "source": [
    "print(s2)"
   ]
  },
  {
   "cell_type": "markdown",
   "metadata": {},
   "source": [
    "### 布尔索引"
   ]
  },
  {
   "cell_type": "code",
   "execution_count": 18,
   "metadata": {},
   "outputs": [
    {
     "name": "stdout",
     "output_type": "stream",
     "text": [
      "d    4\n",
      "e    5\n",
      "dtype: int64\n"
     ]
    }
   ],
   "source": [
    "print(s2[s2>3])"
   ]
  },
  {
   "cell_type": "markdown",
   "metadata": {},
   "source": [
    "### 索引与数据的对应关系不被运算结果影响！！！！！"
   ]
  },
  {
   "cell_type": "code",
   "execution_count": 19,
   "metadata": {},
   "outputs": [
    {
     "name": "stdout",
     "output_type": "stream",
     "text": [
      "a     2\n",
      "b     4\n",
      "c     6\n",
      "d     8\n",
      "e    10\n",
      "dtype: int64\n",
      "a    False\n",
      "b    False\n",
      "c     True\n",
      "d     True\n",
      "e     True\n",
      "dtype: bool\n"
     ]
    }
   ],
   "source": [
    "print(s2*2)# Value值会变，但索引不会变而且其与数据的对应关系也不被影响\n",
    "print(s2>2)"
   ]
  },
  {
   "cell_type": "code",
   "execution_count": 20,
   "metadata": {},
   "outputs": [
    {
     "name": "stdout",
     "output_type": "stream",
     "text": [
      "year\n",
      "a    1\n",
      "b    2\n",
      "c    3\n",
      "d    4\n",
      "e    5\n",
      "Name: temp, dtype: int64\n"
     ]
    }
   ],
   "source": [
    "# name属性\n",
    "s2.name = 'temp'# 对象名\n",
    "s2.index.name = 'year'# 对象的索引名\n",
    "\n",
    "print(s2)"
   ]
  },
  {
   "cell_type": "code",
   "execution_count": 21,
   "metadata": {},
   "outputs": [
    {
     "name": "stdout",
     "output_type": "stream",
     "text": [
      "year\n",
      "a    1\n",
      "b    2\n",
      "c    3\n",
      "d    4\n",
      "e    5\n",
      "Name: temp, dtype: int64\n",
      "year\n",
      "a    1\n",
      "b    2\n",
      "c    3\n",
      "Name: temp, dtype: int64\n"
     ]
    }
   ],
   "source": [
    "# 读取头部的几行数据，默认为前5行，可以指定\n",
    "print(s2.head())\n",
    "print(s2.head(3))# 只打印前3行"
   ]
  },
  {
   "cell_type": "code",
   "execution_count": 22,
   "metadata": {},
   "outputs": [
    {
     "name": "stdout",
     "output_type": "stream",
     "text": [
      "year\n",
      "a    1\n",
      "b    2\n",
      "c    3\n",
      "d    4\n",
      "e    5\n",
      "Name: temp, dtype: int64\n",
      "year\n",
      "c    3\n",
      "d    4\n",
      "e    5\n",
      "Name: temp, dtype: int64\n"
     ]
    }
   ],
   "source": [
    "# 读取尾部的几行数据，默认为后5行，可以指定\n",
    "print(s2.tail())\n",
    "print(s2.tail(3))# 只打印后3行"
   ]
  },
  {
   "cell_type": "markdown",
   "metadata": {},
   "source": [
    "# Series 练习"
   ]
  },
  {
   "cell_type": "code",
   "execution_count": 23,
   "metadata": {},
   "outputs": [
    {
     "name": "stdout",
     "output_type": "stream",
     "text": [
      "class\n",
      "1     90.0\n",
      "2     95.0\n",
      "3     85.0\n",
      "4     78.0\n",
      "5      NaN\n",
      "6     96.0\n",
      "7     94.0\n",
      "8      NaN\n",
      "9     80.0\n",
      "10    87.0\n",
      "11    86.0\n",
      "12    83.0\n",
      "Name: score, dtype: float64\n"
     ]
    }
   ],
   "source": [
    "# 1. 创建一个Series对象\n",
    "import numpy as np\n",
    "import pandas as pd\n",
    "a = np.array([90, 95, 85, 78, np.nan, 96, 94, np.nan, 80, 87, 86,83], dtype=np.float)\n",
    "s = pd.Series(a, index=range(1,13), name='score')\n",
    "s.index.name = 'class'\n",
    "print(s)"
   ]
  },
  {
   "cell_type": "code",
   "execution_count": 24,
   "metadata": {},
   "outputs": [
    {
     "name": "stdout",
     "output_type": "stream",
     "text": [
      "class\n",
      "1    90.0\n",
      "2    95.0\n",
      "3    85.0\n",
      "4    78.0\n",
      "5     NaN\n",
      "Name: score, dtype: float64\n",
      "class\n",
      "1    90.0\n",
      "2    95.0\n",
      "3    85.0\n",
      "4    78.0\n",
      "5     NaN\n",
      "Name: score, dtype: float64\n"
     ]
    }
   ],
   "source": [
    "# 2. 查看1-5班的数据\n",
    "print(s[0:5])\n",
    "print(s.head())"
   ]
  },
  {
   "cell_type": "code",
   "execution_count": 25,
   "metadata": {},
   "outputs": [
    {
     "name": "stdout",
     "output_type": "stream",
     "text": [
      "class\n",
      "5   NaN\n",
      "8   NaN\n",
      "Name: score, dtype: float64\n",
      "\n",
      "class\n",
      "5   NaN\n",
      "8   NaN\n",
      "Name: score, dtype: float64\n"
     ]
    }
   ],
   "source": [
    "# 3. 查看那个班级的成绩还没有录入\n",
    "print(s[s.isnull()])\n",
    "print()\n",
    "print(s[np.isnan(s)])"
   ]
  },
  {
   "cell_type": "code",
   "execution_count": 26,
   "metadata": {},
   "outputs": [
    {
     "name": "stdout",
     "output_type": "stream",
     "text": [
      "86.0\n"
     ]
    }
   ],
   "source": [
    "# 4. 获取11班的平均成绩\n",
    "print(s[11])"
   ]
  },
  {
   "cell_type": "code",
   "execution_count": 27,
   "metadata": {},
   "outputs": [
    {
     "name": "stdout",
     "output_type": "stream",
     "text": [
      "class\n",
      "1     92.0\n",
      "2     97.0\n",
      "3     87.0\n",
      "4     80.0\n",
      "5      NaN\n",
      "6     98.0\n",
      "7     96.0\n",
      "8      NaN\n",
      "9     82.0\n",
      "10    89.0\n",
      "11    88.0\n",
      "12    85.0\n",
      "Name: score, dtype: float64\n"
     ]
    }
   ],
   "source": [
    "# 5. 有一道题的答案是错误的，所以现在在每一位同学的成绩上都加两分\n",
    "s += 2\n",
    "print(s)"
   ]
  },
  {
   "cell_type": "code",
   "execution_count": 29,
   "metadata": {},
   "outputs": [
    {
     "name": "stdout",
     "output_type": "stream",
     "text": [
      "class\n",
      "1    92.0\n",
      "2    97.0\n",
      "6    98.0\n",
      "7    96.0\n",
      "Name: score, dtype: float64\n"
     ]
    }
   ],
   "source": [
    "# 6. 找出平均分在90分以上的班级\n",
    "print(s[s >= 90])"
   ]
  }
 ],
 "metadata": {
  "kernelspec": {
   "display_name": "Python 3",
   "language": "python",
   "name": "python3"
  },
  "language_info": {
   "codemirror_mode": {
    "name": "ipython",
    "version": 3
   },
   "file_extension": ".py",
   "mimetype": "text/x-python",
   "name": "python",
   "nbconvert_exporter": "python",
   "pygments_lexer": "ipython3",
   "version": "3.6.3"
  }
 },
 "nbformat": 4,
 "nbformat_minor": 2
}
