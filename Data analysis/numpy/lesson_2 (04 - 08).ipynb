{
 "cells": [
  {
   "cell_type": "code",
   "execution_count": 1,
   "metadata": {
    "collapsed": true
   },
   "outputs": [],
   "source": [
    "import numpy as np"
   ]
  },
  {
   "cell_type": "code",
   "execution_count": 2,
   "metadata": {},
   "outputs": [
    {
     "name": "stdout",
     "output_type": "stream",
     "text": [
      "1\n",
      "2\n",
      "3\n"
     ]
    }
   ],
   "source": [
    "#  ndarray.ndim 判断数组的维数\n",
    "a1 = np.array([1,2,3])\n",
    "print(a1.ndim)\n",
    "a2 = np.array([[1,2,3], [4,5,6]])\n",
    "print(a2.ndim)\n",
    "a3 = np.array([\n",
    "    [\n",
    "        [1,2,3], \n",
    "        [4,5,6]\n",
    "    ],\n",
    "    [\n",
    "        [11,12,13],\n",
    "        [14,15,16]\n",
    "    ]\n",
    "])\n",
    "print(a3.ndim)"
   ]
  },
  {
   "cell_type": "code",
   "execution_count": 3,
   "metadata": {},
   "outputs": [
    {
     "name": "stdout",
     "output_type": "stream",
     "text": [
      "(3,)\n",
      "(2, 3)\n",
      "(2, 2, 3)\n"
     ]
    }
   ],
   "source": [
    "# ndarray.shape 写出数组的形状？\n",
    "print(a1.shape)\n",
    "print(a2.shape)\n",
    "print(a3.shape)"
   ]
  },
  {
   "cell_type": "code",
   "execution_count": 4,
   "metadata": {},
   "outputs": [
    {
     "name": "stdout",
     "output_type": "stream",
     "text": [
      "[[ 1  2  3  4  5  6]\n",
      " [11 12 13 14 15 16]]\n",
      "(2, 6)\n",
      "[[[ 1  2  3]\n",
      "  [ 4  5  6]]\n",
      "\n",
      " [[11 12 13]\n",
      "  [14 15 16]]]\n",
      "[[[ 1  2  3]\n",
      "  [ 4  5  6]]\n",
      "\n",
      " [[11 12 13]\n",
      "  [14 15 16]]]\n"
     ]
    }
   ],
   "source": [
    "# ndarray.reshape 修改数组的维数\n",
    "a4 = a3.reshape((2, 6))# 注意修改后的元素个数与修改前的要一致\n",
    "print(a4)\n",
    "print(a4.shape)\n",
    "\n",
    "print(a3)# 不会修改原数组！！！\n",
    "a3.reshape((2, 6))# 不会修改原数组！！！\n",
    "print(a3)"
   ]
  },
  {
   "cell_type": "code",
   "execution_count": 5,
   "metadata": {},
   "outputs": [
    {
     "name": "stdout",
     "output_type": "stream",
     "text": [
      "[[[ 1  2  3]\n",
      "  [ 4  5  6]]\n",
      "\n",
      " [[11 12 13]\n",
      "  [14 15 16]]]\n",
      "[[ 1  2  3  4  5  6]\n",
      " [11 12 13 14 15 16]]\n"
     ]
    }
   ],
   "source": [
    "# ndarray.resize 修改数组的维数, 可以直接修改原数组\n",
    "a5 = np.array([\n",
    "    [\n",
    "        [1,2,3], \n",
    "        [4,5,6]\n",
    "    ],\n",
    "    [\n",
    "        [11,12,13],\n",
    "        [14,15,16]\n",
    "    ]\n",
    "])\n",
    "print(a5)\n",
    "a5.resize(2,6)\n",
    "print(a5)"
   ]
  },
  {
   "cell_type": "code",
   "execution_count": 6,
   "metadata": {},
   "outputs": [
    {
     "name": "stdout",
     "output_type": "stream",
     "text": [
      "[ 1  2  3  4  5  6  7  8  9 10 11 12]\n",
      "1\n",
      "[[[ 1  2]\n",
      "  [ 3  4]]\n",
      "\n",
      " [[ 5  6]\n",
      "  [ 7  8]]\n",
      "\n",
      " [[ 9 10]\n",
      "  [11 12]]]\n",
      "3\n",
      "[[ 1  2  3  4  5  6  7  8  9 10 11 12]]\n",
      "2\n",
      "[ 1  2  3  4  5  6  7  8  9 10 11 12]\n",
      "1\n",
      "[ 1  2  3  4  5  6  7  8  9 10 11 12]\n",
      "1\n"
     ]
    }
   ],
   "source": [
    "# 注意以下数组维数的修改\n",
    "a1 = np.arange(1,13)\n",
    "print(a1)\n",
    "print(a1.ndim)\n",
    "\n",
    "a2 = a1.reshape(3,2,2)# 分3大段，每段为2行2列\n",
    "print(a2)\n",
    "print(a2.ndim)\n",
    "\n",
    "a3 = a2.reshape(1,12)# 注意这里是二维数组，1行12列\n",
    "print(a3)\n",
    "print(a3.ndim)\n",
    "\n",
    "a4 = a2.reshape(12,)# 这才是一维数组的改法\n",
    "print(a4)\n",
    "print(a4.ndim)\n",
    "\n",
    "# adarray.flatten 将数组维数改变成一维(扁平化)\n",
    "a5 = a2.flatten()# 不管a2是几维数组，都将他变成一个一维数组\n",
    "print(a5)\n",
    "print(a5.ndim)"
   ]
  },
  {
   "cell_type": "code",
   "execution_count": 7,
   "metadata": {},
   "outputs": [
    {
     "name": "stdout",
     "output_type": "stream",
     "text": [
      "12\n",
      "12\n"
     ]
    }
   ],
   "source": [
    "# ndarray.size: 获取数组中总的元素的个数\n",
    "a1 = np.arange(1,13)\n",
    "count1 = a1.size\n",
    "print(count1)\n",
    "\n",
    "a2 = a1.reshape(2,2,3)\n",
    "count2 = a2.size\n",
    "print(count2)"
   ]
  },
  {
   "cell_type": "code",
   "execution_count": 8,
   "metadata": {},
   "outputs": [
    {
     "name": "stdout",
     "output_type": "stream",
     "text": [
      "8\n",
      "int64\n",
      "96\n"
     ]
    }
   ],
   "source": [
    "#  ndarray.itemsize: 数组中每个元素占的大小，单位是字节(一个字节是8位)\n",
    "a1 = np.arange(1,13)\n",
    "print(a1.itemsize)# 输出为8，说明1个元素占了8个字节，一个字节是8位，则为8*8=64位,即数据类型是64位的类型\n",
    "print(a1.dtype)\n",
    "# 计算数组中的所有元素所占的字节数量\n",
    "print(a1.itemsize*a1.size)# 数组中的元素个数乘以每个元素所占的字节数量"
   ]
  },
  {
   "cell_type": "code",
   "execution_count": 9,
   "metadata": {
    "collapsed": true
   },
   "outputs": [],
   "source": [
    "# Numpy索引和切片操作\n",
    "import numpy as np"
   ]
  },
  {
   "cell_type": "code",
   "execution_count": 10,
   "metadata": {},
   "outputs": [
    {
     "name": "stdout",
     "output_type": "stream",
     "text": [
      "0\n",
      "[4 5]\n",
      "[0 2 4 6 8]\n",
      "[9 7 5 3 1]\n"
     ]
    }
   ],
   "source": [
    "# 1. 一维数组的索引和切片操作(与python中的list相似)\n",
    "a1 = np.arange(10)\n",
    "#1.1 索引\n",
    "print(a1[0])\n",
    "# 1.2 切片\n",
    "print(a1[4:6])\n",
    "# 1.3 使用步长\n",
    "print(a1[::2])\n",
    "# 1.4 使用负数作为索引\n",
    "print(a1[-1:-11:-2])"
   ]
  },
  {
   "cell_type": "code",
   "execution_count": 11,
   "metadata": {},
   "outputs": [
    {
     "name": "stdout",
     "output_type": "stream",
     "text": [
      "[[6 2 0 0 9 0]\n",
      " [6 5 4 7 9 2]\n",
      " [2 4 6 8 4 0]\n",
      " [9 0 9 0 8 9]]\n"
     ]
    }
   ],
   "source": [
    "# 2. 多维数组\n",
    "# 也是通过中括号来索引和切片，在中括号中，使用逗号进行分隔，逗号前面的是行，逗号后面的是列\n",
    "# 如果多维数组中只有一个值，那么这个值就是行\n",
    "a2 = np.random.randint(0,10, size=(4,6))\n",
    "print(a2)"
   ]
  },
  {
   "cell_type": "code",
   "execution_count": 12,
   "metadata": {},
   "outputs": [
    {
     "name": "stdout",
     "output_type": "stream",
     "text": [
      "[6 2 0 0 9 0]\n",
      "============================================================\n",
      "[[6 5 4 7 9 2]\n",
      " [2 4 6 8 4 0]]\n",
      "============================================================\n",
      "7\n",
      "============================================================\n",
      "[[6 2 0 0 9 0]\n",
      " [2 4 6 8 4 0]\n",
      " [9 0 9 0 8 9]]\n",
      "============================================================\n",
      "[9 0]\n",
      "============================================================\n",
      "[[9 2]\n",
      " [4 0]]\n",
      "============================================================\n",
      "[0 4 6 9]\n",
      "============================================================\n",
      "[[0 0]\n",
      " [4 7]\n",
      " [6 8]\n",
      " [9 0]]\n",
      "============================================================\n"
     ]
    }
   ],
   "source": [
    "print(a2[0])\n",
    "print(\"==\" * 30)\n",
    "\n",
    "print(a2[1:3])# 注意索引是从零开始，左包括右不包括\n",
    "print(\"==\" * 30)\n",
    "\n",
    "print(a2[1, 3])\n",
    "print(\"==\" * 30)\n",
    "\n",
    "print(a2[[0,2,3]])# 只要第0,2,3行，不要第1行，即不连续的切片\n",
    "print(\"==\" * 30)\n",
    "\n",
    "print(a2[[1,2],[4,5]])# 第1行第四列，第2行第5列，不连续的两个数据\n",
    "print(\"==\" * 30)\n",
    "\n",
    "print(a2[1:3, 4:6])# 第1,2行的4,5列，连续的四个数（还是左包括右不包括）\n",
    "print(\"==\" * 30)\n",
    "\n",
    "print(a2[:, 2])# 只要第2列\n",
    "print(\"==\" * 30)\n",
    "\n",
    "print(a2[:, 2:4])# 第2-3列\n",
    "print(\"==\" * 30)"
   ]
  },
  {
   "cell_type": "code",
   "execution_count": 13,
   "metadata": {},
   "outputs": [
    {
     "name": "stdout",
     "output_type": "stream",
     "text": [
      "[[ 0  1  2  3  4  5]\n",
      " [ 6  7  8  9 10 11]\n",
      " [12 13 14 15 16 17]\n",
      " [18 19 20 21 22 23]]\n"
     ]
    }
   ],
   "source": [
    "# 布尔索引：布尔运算也是矢量的\n",
    "a2 = np.arange(24).reshape(4,6)\n",
    "print(a2)"
   ]
  },
  {
   "cell_type": "code",
   "execution_count": 14,
   "metadata": {},
   "outputs": [
    {
     "name": "stdout",
     "output_type": "stream",
     "text": [
      "[[ True  True  True  True  True  True]\n",
      " [ True  True  True  True False False]\n",
      " [False False False False False False]\n",
      " [False False False False False False]]\n"
     ]
    }
   ],
   "source": [
    "print(a2 < 10)"
   ]
  },
  {
   "cell_type": "code",
   "execution_count": 15,
   "metadata": {},
   "outputs": [
    {
     "name": "stdout",
     "output_type": "stream",
     "text": [
      "[0 1 2 3 4 5 6 7 8 9]\n"
     ]
    }
   ],
   "source": [
    "print(a2[a2 < 10])"
   ]
  },
  {
   "cell_type": "code",
   "execution_count": 16,
   "metadata": {},
   "outputs": [
    {
     "name": "stdout",
     "output_type": "stream",
     "text": [
      "[ 0  1  2  3  4 11 12 13 14 15 16 17 18 19 20 21 22 23]\n",
      "[6 7 8 9]\n"
     ]
    }
   ],
   "source": [
    "# 其中布尔运算可以有 != 、 == 、 > 、 < 、 >= 、 <= 以及 &(与) 和 |(或) \n",
    "# | 和 &\n",
    "print(a2[(a2 < 5) | (a2 > 10)])# 注意条件要用小括号括起来\n",
    "print(a2[(a2 > 5) & (a2 < 10)])"
   ]
  },
  {
   "cell_type": "code",
   "execution_count": 17,
   "metadata": {},
   "outputs": [
    {
     "name": "stdout",
     "output_type": "stream",
     "text": [
      "[[5 4 8 6]\n",
      " [9 3 0 5]\n",
      " [1 0 7 6]]\n",
      "[[5 4 8 6]\n",
      " [0 0 0 0]\n",
      " [1 0 7 6]]\n"
     ]
    }
   ],
   "source": [
    "# 值的替换：利用索引，也可以做一些值的替换。把满足条件的位置的值替换成其他的值\n",
    "a3 = np.random.randint(0,10, size=(3,4))\n",
    "print(a3)\n",
    "a3[1] = 0# 利用索引替换元素值\n",
    "print(a3)"
   ]
  },
  {
   "cell_type": "code",
   "execution_count": 18,
   "metadata": {},
   "outputs": [
    {
     "name": "stdout",
     "output_type": "stream",
     "text": [
      "[[5 4 8 6]\n",
      " [2 3 4 5]\n",
      " [1 0 7 6]]\n"
     ]
    }
   ],
   "source": [
    "a3[1] = np.array([2,3,4,5])# 注意元素的数量一致\n",
    "print(a3)"
   ]
  },
  {
   "cell_type": "code",
   "execution_count": 19,
   "metadata": {},
   "outputs": [
    {
     "name": "stdout",
     "output_type": "stream",
     "text": [
      "[[5 4 8 6]\n",
      " [1 3 4 5]\n",
      " [1 1 7 6]]\n"
     ]
    }
   ],
   "source": [
    "# 也可以使用条件索引来实现\n",
    "a3[a3 < 3] = 1\n",
    "print(a3)"
   ]
  },
  {
   "cell_type": "code",
   "execution_count": 20,
   "metadata": {},
   "outputs": [
    {
     "name": "stdout",
     "output_type": "stream",
     "text": [
      "(array([0, 1, 1, 1, 2, 2]), array([1, 0, 1, 2, 0, 1]))\n"
     ]
    }
   ],
   "source": [
    "# 还可以使用函数来实现\n",
    "# where函数\n",
    "result = np.where(a3 < 5)# 单纯判断小于5的在第几行第几列\n",
    "print(result)"
   ]
  },
  {
   "cell_type": "code",
   "execution_count": 21,
   "metadata": {},
   "outputs": [
    {
     "name": "stdout",
     "output_type": "stream",
     "text": [
      "[[1 0 1 1]\n",
      " [0 0 0 1]\n",
      " [0 0 1 1]]\n"
     ]
    }
   ],
   "source": [
    "result = np.where(a3 < 5, 0, 1)# 将全部小于5的替换成0，大于等于5的替换成1！！！\n",
    "print(result)"
   ]
  },
  {
   "cell_type": "markdown",
   "metadata": {},
   "source": [
    "# 总结\n",
    "1. 数组一般达到3维就非常复杂了，不方便计算，所以一般会把3维以上的数组转化为2维数组来进行计算\n",
    "2. 通过ndarray.ndim可以看到数组的维度\n",
    "3. 通过ndarray.shape可以看到数组的形状（几行几列）shape是一个元组，里面有几个元素就代表是几维的数组\n",
    "4. 通过ndarray.reshape可以改变数组的形状及维度，修改形状后数组的元素个数必须和原数组的元素个数一致，不会修改原数组的形状，只会将结果返回\n",
    "5. 通过ndarray.size可以看到数组里元素的总数量\n",
    "6. 通过ndarray.itemsize可以看到数组中每个元素所占内存的大小，单位是字节\n",
    "\n",
    "7. 如果数组是一维的，那么数组的索引和切片是与python中的list是一样的\n",
    "8. 如果是数组是多维的（以二维为例子），那么在中括号中给用逗号分隔开的两个值，其中逗号前面的表示行，后面的表示列，如果只有一个值（没有逗号的前提下），则只代表行！\n",
    "9. 在行的单独部分和列的单独部分中的索引和切片操作遵循一维数组的操作，需注意可以用中括号的形式来操作不连续的行或者列\n",
    " \n",
    "10. 布尔索引是通过相同数组上的True还是False来进行提取的。提取的条件可以有多个，如果有多个条件，每个条件要用小括号括起来，条件与条件之间用|（or）或者 &（and）连接\n",
    "\n",
    "11. 可以使用索引或者切片来替换数组的元素\n",
    "12. 可以使用条件索引来替换数组的元素\n",
    "13. 可以使用where函数来实现替换数组的元素"
   ]
  },
  {
   "cell_type": "markdown",
   "metadata": {},
   "source": [
    "# Numpy索引和切片作业！！！！！！\n",
    "\n",
    "1. 将 np.arange(10) 数组中的奇数全部都替换成 -1 。\n",
    "2. 有一个 4 行 4 列的数组（比如： np.random.randint(0,10,size=(4,4)) ），请将其中对角线的数取出来形成一个一维数组。提示（使用 np.eye ）。\n",
    "3. 有一个 4 行 4 列的数组，请取出其中 (0,0),(1,2),(3,2) 的点。\n",
    "4. 有一个 4 行 4 列的数组，请取出其中 2-3 行（包括第3行）的所有数据。(第0行开始算起！！！)\n",
    "5. 有一个 8 行 9 列的数组，请将其中1-5行（包含第5行）的第8列大于3的数全部都取出来。(第0行开始算起！！！)\n"
   ]
  },
  {
   "cell_type": "code",
   "execution_count": 22,
   "metadata": {},
   "outputs": [
    {
     "name": "stdout",
     "output_type": "stream",
     "text": [
      "[ 0 -1  2 -1  4 -1  6 -1  8 -1]\n"
     ]
    }
   ],
   "source": [
    "# 1\n",
    "import numpy as np\n",
    "a1 = np.arange(10)\n",
    "a1[a1 %2 != 0] = -1\n",
    "print(a1)"
   ]
  },
  {
   "cell_type": "code",
   "execution_count": 23,
   "metadata": {},
   "outputs": [
    {
     "name": "stdout",
     "output_type": "stream",
     "text": [
      "[[7 4 3 8]\n",
      " [0 0 0 4]\n",
      " [0 0 5 0]\n",
      " [5 9 9 0]]\n",
      "[7 0 5 0]\n"
     ]
    }
   ],
   "source": [
    "# 2\n",
    "import numpy as np\n",
    "a2 = np.random.randint(0,10,size=(4,4))\n",
    "print(a2)\n",
    "print(a2[[0,1,2,3], [0,1,2,3]])"
   ]
  },
  {
   "cell_type": "code",
   "execution_count": 24,
   "metadata": {},
   "outputs": [
    {
     "name": "stdout",
     "output_type": "stream",
     "text": [
      "[7 0 5 0]\n"
     ]
    }
   ],
   "source": [
    "# 2 原答案\n",
    "eye = np.eye(4, dtype=bool)\n",
    "print(a2[eye])"
   ]
  },
  {
   "cell_type": "code",
   "execution_count": 25,
   "metadata": {},
   "outputs": [
    {
     "name": "stdout",
     "output_type": "stream",
     "text": [
      "[[7 6 5 2]\n",
      " [7 5 9 8]\n",
      " [7 4 6 0]\n",
      " [4 5 5 8]]\n",
      "[7 9 5]\n"
     ]
    }
   ],
   "source": [
    "# 3\n",
    "import numpy as np\n",
    "a3 = np.random.randint(0,10,size=(4,4))\n",
    "print(a3)\n",
    "print(a3[[0,1,3], [0,2,2]])"
   ]
  },
  {
   "cell_type": "code",
   "execution_count": 26,
   "metadata": {},
   "outputs": [
    {
     "name": "stdout",
     "output_type": "stream",
     "text": [
      "[[1 4 4 2]\n",
      " [9 2 6 6]\n",
      " [2 7 2 0]\n",
      " [7 9 8 5]]\n",
      "[[2 7 2 0]\n",
      " [7 9 8 5]]\n"
     ]
    }
   ],
   "source": [
    "# 4\n",
    "import numpy as np\n",
    "a4 = np.random.randint(0,10,size=(4,4))\n",
    "print(a4)\n",
    "print(a4[2:4])"
   ]
  },
  {
   "cell_type": "code",
   "execution_count": 27,
   "metadata": {},
   "outputs": [
    {
     "name": "stdout",
     "output_type": "stream",
     "text": [
      "[[7 8 3 0 6 9 9 4 6]\n",
      " [9 8 1 9 5 4 8 9 3]\n",
      " [7 2 9 3 2 4 5 9 8]\n",
      " [2 8 5 0 4 2 2 9 7]\n",
      " [4 7 4 6 6 2 5 2 7]\n",
      " [5 7 1 1 8 9 3 3 2]\n",
      " [4 4 7 7 3 9 8 7 6]\n",
      " [7 5 6 8 0 4 6 7 3]]\n",
      "========================================\n",
      "[3 8 7 7 2]\n",
      "[8 7 7]\n"
     ]
    }
   ],
   "source": [
    "# 5\n",
    "import numpy as np\n",
    "a5 = np.random.randint(0,10,size=(8,9))\n",
    "print(a5)\n",
    "print(\"==\" * 20)\n",
    "aq = a5[1:6, 8]\n",
    "print(aq)\n",
    "print(aq[aq > 3])"
   ]
  },
  {
   "cell_type": "code",
   "execution_count": 29,
   "metadata": {},
   "outputs": [
    {
     "name": "stdout",
     "output_type": "stream",
     "text": [
      "[False  True  True  True False]\n",
      "[3 8 7 7 2]\n",
      "[8 7 7]\n"
     ]
    }
   ],
   "source": [
    "# 5 答案\n",
    "conditions = a5[1:6, 8] > 3# 判断条件\n",
    "print(conditions)\n",
    "ap = a5[1:6, 8]# 需要进行判断的切片数组\n",
    "print(ap)\n",
    "print(ap[conditions])\n"
   ]
  }
 ],
 "metadata": {
  "kernelspec": {
   "display_name": "Python 3",
   "language": "python",
   "name": "python3"
  },
  "language_info": {
   "codemirror_mode": {
    "name": "ipython",
    "version": 3
   },
   "file_extension": ".py",
   "mimetype": "text/x-python",
   "name": "python",
   "nbconvert_exporter": "python",
   "pygments_lexer": "ipython3",
   "version": "3.6.3"
  }
 },
 "nbformat": 4,
 "nbformat_minor": 2
}
