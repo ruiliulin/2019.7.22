{
 "cells": [
  {
   "cell_type": "code",
   "execution_count": 1,
   "metadata": {
    "collapsed": true
   },
   "outputs": [],
   "source": [
    "import numpy as np"
   ]
  },
  {
   "cell_type": "markdown",
   "metadata": {},
   "source": [
    "## 深拷贝和浅拷贝\n",
    "- 在操作数组的时候，它们的数据有时候拷贝进一个新的数组，有时候又不是。这经常是初学者感到困惑。下面有三种情况："
   ]
  },
  {
   "cell_type": "code",
   "execution_count": 2,
   "metadata": {},
   "outputs": [
    {
     "name": "stdout",
     "output_type": "stream",
     "text": [
      "True\n",
      "139856156797008\n",
      "139856156797008\n"
     ]
    }
   ],
   "source": [
    "# 1. 不拷贝：如果只是简单的赋值，那么不会进行拷贝。\n",
    "a = np.arange(12)\n",
    "b = a #这种情况不会进行拷贝\n",
    "print(b is a) #返回True，说明b和a是相同的\n",
    "print(id(a))\n",
    "print(id(b))"
   ]
  },
  {
   "cell_type": "code",
   "execution_count": 3,
   "metadata": {},
   "outputs": [
    {
     "name": "stdout",
     "output_type": "stream",
     "text": [
      "[ 0  1  2  3  4  5  6  7  8  9 10 11]\n",
      "[ 0  1  2  3  4  5  6  7  8  9 10 11]\n",
      "False\n",
      "139856156797008\n",
      "139856156797408\n",
      "[100   1   2   3   4   5   6   7   8   9  10  11]\n"
     ]
    }
   ],
   "source": [
    "# 2. View或者浅拷贝：有些情况，会进行变量的拷贝，但是他们所指向的内存空间都是一样的，那么这种情况叫做浅拷贝，或者叫做 View(视图)。\n",
    "print(a)\n",
    "c = a.view()\n",
    "print(c)\n",
    "print(c is a)\n",
    "print(id(a))\n",
    "print(id(c))\n",
    "\n",
    "c[0] = 100\n",
    "print(a)# ！！！！"
   ]
  },
  {
   "cell_type": "code",
   "execution_count": 4,
   "metadata": {},
   "outputs": [
    {
     "name": "stdout",
     "output_type": "stream",
     "text": [
      "[100   1   2   3   4   5   6   7   8   9  10  11]\n",
      "False\n",
      "139856156797008\n",
      "139856156797088\n",
      "[1000    1    2    3    4    5    6    7    8    9   10   11]\n",
      "[100   1   2   3   4   5   6   7   8   9  10  11]\n"
     ]
    }
   ],
   "source": [
    "# 3. 深拷贝：将之前数据完完整整的拷贝一份放到另外一块内存空间中，这样就是两个完全不同的值了。\n",
    "print(a)\n",
    "d = a.copy()\n",
    "print(d is a)\n",
    "print(id(a))\n",
    "print(id(d))\n",
    "\n",
    "d[0] = 1000\n",
    "print(d)\n",
    "print(a)# ！！！！"
   ]
  },
  {
   "cell_type": "code",
   "execution_count": 5,
   "metadata": {
    "scrolled": true
   },
   "outputs": [
    {
     "name": "stdout",
     "output_type": "stream",
     "text": [
      "[[0 4 2 1]\n",
      " [5 1 2 2]]\n",
      "========================================\n",
      "[100   4   2   1   5   1   2   2]\n",
      "[[0 4 2 1]\n",
      " [5 1 2 2]]\n",
      "========================================\n",
      "[100   4   2   1   5   1   2   2]\n",
      "[[100   4   2   1]\n",
      " [  5   1   2   2]]\n"
     ]
    }
   ],
   "source": [
    "# 像之前讲到的 flatten 和 ravel 就是这种情况， ravel 返回的就是View，而 flatten 返回的就是深拷贝。\n",
    "a1 = np.random.randint(0,9, size=(2,4))\n",
    "print(a1)\n",
    "print(\"==\" * 20)\n",
    "\n",
    "a2 = a1.flatten()\n",
    "a2[0] = 100\n",
    "print(a2)\n",
    "print(a1)# a1的值不变\n",
    "print(\"==\" * 20)\n",
    "\n",
    "a3 = a1.ravel()\n",
    "a3[0] = 100\n",
    "print(a3)\n",
    "print(a1)# a1的值也会被修改，即ravel()返回的是浅拷贝"
   ]
  },
  {
   "cell_type": "markdown",
   "metadata": {},
   "source": [
    "# 文件操作\n",
    "- 操作CSV文件：\n",
    "- 文件保存：\n",
    "    - 有时候我们有了一个数组，需要保存到文件中，那么可以使用 np.savetxt 来实现。\n",
    "    - np.savetxt(frame, array, fmt='%.18e', delimiter=None)\n",
    "        * frame : 文件、字符串或产生器，可以是.gz或.bz2的压缩文件\n",
    "        * array : 存入文件的数组\n",
    "        * fmt : 写入文件的格式，例如：%d %.2f %.18e\n",
    "        * delimiter : 分割字符串，默认是任何空格\n",
    "\n",
    "- 读取文件：\n",
    "    - 有时候我们的数据是需要从文件中读取出来的，那么可以使用 np.loadtxt 来实现。\n",
    "    - np.loadtxt(frame, dtype=np.float, delimiter=None, unpack=False)\n",
    "        * frame：文件、字符串或产生器，可以是.gz或.bz2的压缩文件。\n",
    "        * dtype：数据类型，可选。\n",
    "        * delimiter：分割字符串，默认是任何空格。\n",
    "        * skiprows：跳过前面x行。\n",
    "        * usecols：读取指定的列，用元组组合。\n",
    "        * unpack：如果True，读取出来的数组是转置后的。\n"
   ]
  },
  {
   "cell_type": "code",
   "execution_count": 6,
   "metadata": {},
   "outputs": [
    {
     "name": "stdout",
     "output_type": "stream",
     "text": [
      "[[84 97]\n",
      " [88 90]\n",
      " [93 23]\n",
      " [86 38]\n",
      " [50 21]\n",
      " [11 37]\n",
      " [57 78]\n",
      " [13 12]\n",
      " [66 55]\n",
      " [79 67]\n",
      " [91 13]\n",
      " [45 68]\n",
      " [22 16]\n",
      " [55 88]\n",
      " [88 82]\n",
      " [89 15]\n",
      " [34 12]\n",
      " [94 19]\n",
      " [10 58]\n",
      " [39 76]]\n"
     ]
    }
   ],
   "source": [
    "scores = np.random.randint(0,101, size=(20,2))\n",
    "print(scores)"
   ]
  },
  {
   "cell_type": "code",
   "execution_count": 7,
   "metadata": {
    "scrolled": true
   },
   "outputs": [
    {
     "name": "stdout",
     "output_type": "stream",
     "text": [
      "Help on function savetxt in module numpy.lib.npyio:\n",
      "\n",
      "savetxt(fname, X, fmt='%.18e', delimiter=' ', newline='\\n', header='', footer='', comments='# ')\n",
      "    Save an array to a text file.\n",
      "    \n",
      "    Parameters\n",
      "    ----------\n",
      "    fname : filename or file handle\n",
      "        If the filename ends in ``.gz``, the file is automatically saved in\n",
      "        compressed gzip format.  `loadtxt` understands gzipped files\n",
      "        transparently.\n",
      "    X : array_like\n",
      "        Data to be saved to a text file.\n",
      "    fmt : str or sequence of strs, optional\n",
      "        A single format (%10.5f), a sequence of formats, or a\n",
      "        multi-format string, e.g. 'Iteration %d -- %10.5f', in which\n",
      "        case `delimiter` is ignored. For complex `X`, the legal options\n",
      "        for `fmt` are:\n",
      "            a) a single specifier, `fmt='%.4e'`, resulting in numbers formatted\n",
      "                like `' (%s+%sj)' % (fmt, fmt)`\n",
      "            b) a full string specifying every real and imaginary part, e.g.\n",
      "                `' %.4e %+.4ej %.4e %+.4ej %.4e %+.4ej'` for 3 columns\n",
      "            c) a list of specifiers, one per column - in this case, the real\n",
      "                and imaginary part must have separate specifiers,\n",
      "                e.g. `['%.3e + %.3ej', '(%.15e%+.15ej)']` for 2 columns\n",
      "    delimiter : str, optional\n",
      "        String or character separating columns.\n",
      "    newline : str, optional\n",
      "        String or character separating lines.\n",
      "    \n",
      "        .. versionadded:: 1.5.0\n",
      "    header : str, optional\n",
      "        String that will be written at the beginning of the file.\n",
      "    \n",
      "        .. versionadded:: 1.7.0\n",
      "    footer : str, optional\n",
      "        String that will be written at the end of the file.\n",
      "    \n",
      "        .. versionadded:: 1.7.0\n",
      "    comments : str, optional\n",
      "        String that will be prepended to the ``header`` and ``footer`` strings,\n",
      "        to mark them as comments. Default: '# ',  as expected by e.g.\n",
      "        ``numpy.loadtxt``.\n",
      "    \n",
      "        .. versionadded:: 1.7.0\n",
      "    \n",
      "    \n",
      "    See Also\n",
      "    --------\n",
      "    save : Save an array to a binary file in NumPy ``.npy`` format\n",
      "    savez : Save several arrays into an uncompressed ``.npz`` archive\n",
      "    savez_compressed : Save several arrays into a compressed ``.npz`` archive\n",
      "    \n",
      "    Notes\n",
      "    -----\n",
      "    Further explanation of the `fmt` parameter\n",
      "    (``%[flag]width[.precision]specifier``):\n",
      "    \n",
      "    flags:\n",
      "        ``-`` : left justify\n",
      "    \n",
      "        ``+`` : Forces to precede result with + or -.\n",
      "    \n",
      "        ``0`` : Left pad the number with zeros instead of space (see width).\n",
      "    \n",
      "    width:\n",
      "        Minimum number of characters to be printed. The value is not truncated\n",
      "        if it has more characters.\n",
      "    \n",
      "    precision:\n",
      "        - For integer specifiers (eg. ``d,i,o,x``), the minimum number of\n",
      "          digits.\n",
      "        - For ``e, E`` and ``f`` specifiers, the number of digits to print\n",
      "          after the decimal point.\n",
      "        - For ``g`` and ``G``, the maximum number of significant digits.\n",
      "        - For ``s``, the maximum number of characters.\n",
      "    \n",
      "    specifiers:\n",
      "        ``c`` : character\n",
      "    \n",
      "        ``d`` or ``i`` : signed decimal integer\n",
      "    \n",
      "        ``e`` or ``E`` : scientific notation with ``e`` or ``E``.\n",
      "    \n",
      "        ``f`` : decimal floating point\n",
      "    \n",
      "        ``g,G`` : use the shorter of ``e,E`` or ``f``\n",
      "    \n",
      "        ``o`` : signed octal\n",
      "    \n",
      "        ``s`` : string of characters\n",
      "    \n",
      "        ``u`` : unsigned decimal integer\n",
      "    \n",
      "        ``x,X`` : unsigned hexadecimal integer\n",
      "    \n",
      "    This explanation of ``fmt`` is not complete, for an exhaustive\n",
      "    specification see [1]_.\n",
      "    \n",
      "    References\n",
      "    ----------\n",
      "    .. [1] `Format Specification Mini-Language\n",
      "           <http://docs.python.org/library/string.html#\n",
      "           format-specification-mini-language>`_, Python Documentation.\n",
      "    \n",
      "    Examples\n",
      "    --------\n",
      "    >>> x = y = z = np.arange(0.0,5.0,1.0)\n",
      "    >>> np.savetxt('test.out', x, delimiter=',')   # X is an array\n",
      "    >>> np.savetxt('test.out', (x,y,z))   # x,y,z equal sized 1D arrays\n",
      "    >>> np.savetxt('test.out', x, fmt='%1.4e')   # use exponential notation\n",
      "\n"
     ]
    }
   ],
   "source": [
    "help(np.savetxt)"
   ]
  },
  {
   "cell_type": "code",
   "execution_count": 8,
   "metadata": {
    "collapsed": true
   },
   "outputs": [],
   "source": [
    "# 文件保存\n",
    "np.savetxt(\"score.csv\", scores, fmt='%d', delimiter=\",\", header=\"chinese,math\", comments=\"\")"
   ]
  },
  {
   "cell_type": "code",
   "execution_count": 9,
   "metadata": {},
   "outputs": [
    {
     "name": "stdout",
     "output_type": "stream",
     "text": [
      "[[84 97]\n",
      " [88 90]\n",
      " [93 23]\n",
      " [86 38]\n",
      " [50 21]\n",
      " [11 37]\n",
      " [57 78]\n",
      " [13 12]\n",
      " [66 55]\n",
      " [79 67]\n",
      " [91 13]\n",
      " [45 68]\n",
      " [22 16]\n",
      " [55 88]\n",
      " [88 82]\n",
      " [89 15]\n",
      " [34 12]\n",
      " [94 19]\n",
      " [10 58]\n",
      " [39 76]]\n"
     ]
    }
   ],
   "source": [
    "# 文件读取\n",
    "s = np.loadtxt(\"score.csv\", dtype=np.int, delimiter=\",\", skiprows=1)\n",
    "print(s)"
   ]
  },
  {
   "cell_type": "markdown",
   "metadata": {},
   "source": [
    "## np独有的存储解决方案：\n",
    "\n",
    "- numpy 中还有一种独有的存储解决方案。文件名是以 .npy 或者 npz 结尾的。\n",
    "- 以下是存储和加载的函数: \n",
    "    - 存储： np.save(fname,array) 或 np.savez(fname,array) 。 \n",
    "        - 其中，np.save函数的扩展名是 .npy ，np.savez的扩展名是 .npz ，np.savez是经过压缩的。 \n",
    "    - 加载： np.load(fname) 。\n"
   ]
  },
  {
   "cell_type": "code",
   "execution_count": 10,
   "metadata": {
    "collapsed": true
   },
   "outputs": [],
   "source": [
    "c = np.random.randint(0,10, size=(2,3))\n",
    "np.save('c', c)"
   ]
  },
  {
   "cell_type": "code",
   "execution_count": 11,
   "metadata": {},
   "outputs": [
    {
     "name": "stdout",
     "output_type": "stream",
     "text": [
      "[[6 2 9]\n",
      " [1 1 0]]\n"
     ]
    }
   ],
   "source": [
    "c1 = np.load(\"c.npy\")\n",
    "print(c1)"
   ]
  },
  {
   "cell_type": "code",
   "execution_count": 12,
   "metadata": {
    "collapsed": true
   },
   "outputs": [],
   "source": [
    "d = np.random.randint(0,10, size=(2,3,4))\n",
    "#np.savetxt(\"d.csv\", d)#只能保存一维或二维数组\n",
    "np.save('d', d)"
   ]
  },
  {
   "cell_type": "code",
   "execution_count": 13,
   "metadata": {
    "scrolled": true
   },
   "outputs": [
    {
     "name": "stdout",
     "output_type": "stream",
     "text": [
      "[[[0 8 2 6]\n",
      "  [2 1 1 4]\n",
      "  [2 9 8 6]]\n",
      "\n",
      " [[9 1 9 7]\n",
      "  [6 6 8 9]\n",
      "  [2 0 0 2]]]\n"
     ]
    }
   ],
   "source": [
    "d1 = np.load('d.npy')\n",
    "print(d1)"
   ]
  },
  {
   "cell_type": "markdown",
   "metadata": {},
   "source": [
    "# 总结：\n",
    "1. 在数组操作中分成三种拷贝：\n",
    "    - 不拷贝：直接赋值，呢么栈区没有拷贝，只是用同一个栈区定义了不同的名称\n",
    "    - 浅拷贝：只拷贝栈区，栈区指定的堆区并没有拷贝\n",
    "    - 深拷贝：栈区和堆区都拷贝\n",
    " \n",
    "2. np.savetxt 和 np.loadtxt 一般用来操作csv文件，他可以设置header，但是不能存储三维及以上的数组。\n",
    "3. np.save 和 np.load 一般用来存储非文本类型的文件他不可以设置header，但是可以存储三维及以上的数组。\n",
    "4. 如果想专门操作csv文件，还有另外一个模块，叫做 csv 。这个模块是python内置的，不需要安装，具体操作见 demo1.py 和 demo2.py 。"
   ]
  },
  {
   "cell_type": "markdown",
   "metadata": {},
   "source": [
    "# 数组操作和文件操作作业\n",
    "- 1.数组 a = np.random.rand(3,2,3) 能和 b = np.random.rand(3,2,2) 进行运算吗？能和 c = np.random.rand(3,1,1) 进行运算吗？请说明结果的原因。\n",
    "- 2.将数组 a = np.random.rand(3,5) 和 b = np.random.rand(6,4) 叠加在一起，其中 a 在 b 的上面，并且在 b 的第2列（下标从0开始）新增一列，用0来填充。\n",
    "- 3.将数组 a = np.random.rand(4,5) 扁平化成一维数组，可以使用 flatten 和 ravel ，对两者的返回值进行操作，哪个会影响到数组 a ？对会影响到 a 数组的那个函数，请说明详细的原因。\n",
    "- 4.使用 numpy 自带的 csv 方法读取出 stock.csv 文件中 preClosePrice 、 openPrice 、 highestPrice 、 lowestPrice 的数据（提示：使用skiprows和usecols参数）。\n"
   ]
  },
  {
   "cell_type": "code",
   "execution_count": 14,
   "metadata": {
    "scrolled": true
   },
   "outputs": [
    {
     "name": "stdout",
     "output_type": "stream",
     "text": [
      "[[[ 0.39081538  0.80057991  0.60178444]\n",
      "  [ 0.62556314  0.4383818   0.98898784]]\n",
      "\n",
      " [[ 1.49750991  0.95794824  1.10096572]\n",
      "  [ 1.66403645  0.74644246  0.7166377 ]]\n",
      "\n",
      " [[ 0.43625274  0.8450375   1.28303868]\n",
      "  [ 1.13817038  0.74985924  0.6916932 ]]]\n",
      "============================================================\n",
      "[[[ 0.86044294  0.48165006]\n",
      "  [ 0.65943375  0.55687402]]\n",
      "\n",
      " [[ 1.38966457  0.88657038]\n",
      "  [ 1.39224072  0.73782559]]\n",
      "\n",
      " [[ 0.34482363  0.96521319]\n",
      "  [ 1.21250813  1.24112379]]]\n"
     ]
    }
   ],
   "source": [
    "# 1.数组 a = np.random.rand(3,2,3) 能和 b = np.random.rand(3,2,2) 进行运算吗？\n",
    "#能和 c = np.random.rand(3,1,1) 进行运算吗？请说明结果的原因。\n",
    "import numpy as np\n",
    "\n",
    "a = np.random.rand(3,2,3)\n",
    "b = np.random.rand(3,2,2)\n",
    "c = np.random.rand(3,1,1)\n",
    "#print(a+b)\n",
    "print(a+c)\n",
    "print(\"==\" * 30)\n",
    "print(b+c)\n",
    "# 数组a和数组b不可以进行运算，数组a可以和数组c进行运算，b可以和c进行运算\n",
    "# 造成以上结果的原因是因为数组的广播原则是看两个数组是否从末尾的维度开始判断其轴长度是否相等或其中一方等于一，才可以兼容\n",
    "# a的末尾轴长度是3，b末尾轴长度是2，所以a，b不能兼容；c的末尾轴长度是1，中间也是1，开头和ab一样都是3，所以c可以和a或b兼容"
   ]
  },
  {
   "cell_type": "code",
   "execution_count": 15,
   "metadata": {},
   "outputs": [
    {
     "name": "stdout",
     "output_type": "stream",
     "text": [
      "[[ 0.20686139  0.88552708  0.23690103  0.88916738  0.7962272 ]\n",
      " [ 0.4328922   0.67658396  0.9019317   0.36731198  0.74828796]\n",
      " [ 0.14685788  0.33444494  0.15660804  0.75707148  0.34217701]]\n",
      "[[ 0.56313143  0.81982051  0.99189184  0.68273709]\n",
      " [ 0.9197482   0.52846284  0.91731227  0.20833258]\n",
      " [ 0.30805323  0.92765813  0.20136304  0.41189006]\n",
      " [ 0.94811331  0.20301044  0.00308053  0.34844724]\n",
      " [ 0.81832214  0.31624638  0.55677474  0.98435641]\n",
      " [ 0.34660701  0.44865918  0.09343125  0.48084566]]\n",
      "==========================================================================================\n",
      "[[ 0.]\n",
      " [ 0.]\n",
      " [ 0.]\n",
      " [ 0.]\n",
      " [ 0.]\n",
      " [ 0.]]\n",
      "==========================================================================================\n",
      "[[ 0.56313143  0.81982051]\n",
      " [ 0.9197482   0.52846284]\n",
      " [ 0.30805323  0.92765813]\n",
      " [ 0.94811331  0.20301044]\n",
      " [ 0.81832214  0.31624638]\n",
      " [ 0.34660701  0.44865918]]\n",
      "[[ 0.99189184  0.68273709]\n",
      " [ 0.91731227  0.20833258]\n",
      " [ 0.20136304  0.41189006]\n",
      " [ 0.00308053  0.34844724]\n",
      " [ 0.55677474  0.98435641]\n",
      " [ 0.09343125  0.48084566]]\n",
      "==========================================================================================\n",
      "[[ 0.56313143  0.81982051  0.          0.99189184  0.68273709]\n",
      " [ 0.9197482   0.52846284  0.          0.91731227  0.20833258]\n",
      " [ 0.30805323  0.92765813  0.          0.20136304  0.41189006]\n",
      " [ 0.94811331  0.20301044  0.          0.00308053  0.34844724]\n",
      " [ 0.81832214  0.31624638  0.          0.55677474  0.98435641]\n",
      " [ 0.34660701  0.44865918  0.          0.09343125  0.48084566]]\n",
      "==========================================================================================\n",
      "[[ 0.20686139  0.88552708  0.23690103  0.88916738  0.7962272 ]\n",
      " [ 0.4328922   0.67658396  0.9019317   0.36731198  0.74828796]\n",
      " [ 0.14685788  0.33444494  0.15660804  0.75707148  0.34217701]\n",
      " [ 0.56313143  0.81982051  0.          0.99189184  0.68273709]\n",
      " [ 0.9197482   0.52846284  0.          0.91731227  0.20833258]\n",
      " [ 0.30805323  0.92765813  0.          0.20136304  0.41189006]\n",
      " [ 0.94811331  0.20301044  0.          0.00308053  0.34844724]\n",
      " [ 0.81832214  0.31624638  0.          0.55677474  0.98435641]\n",
      " [ 0.34660701  0.44865918  0.          0.09343125  0.48084566]]\n"
     ]
    }
   ],
   "source": [
    "# 2.将数组 a = np.random.rand(3,5) 和 b = np.random.rand(6,4) 叠加在一起，\n",
    "#其中 a 在 b 的上面，并且在 b 的第2列（下标从0开始）新增一列，用0来填充。\n",
    "import numpy as np\n",
    "\n",
    "a = np.random.rand(3,5)\n",
    "b = np.random.rand(6,4)\n",
    "print(a)\n",
    "print(b)\n",
    "print(\"===\" * 30)\n",
    "\n",
    "c = np.zeros((6,1))\n",
    "print(c)\n",
    "print(\"===\" * 30)\n",
    "\n",
    "d, e = np.hsplit(b, (2))\n",
    "print(d)\n",
    "print(e)\n",
    "print(\"===\" * 30)\n",
    "\n",
    "b = np.concatenate([d,c,e], axis=1)\n",
    "print(b)\n",
    "print(\"===\" * 30)\n",
    "\n",
    "print(np.vstack([a,b]))"
   ]
  },
  {
   "cell_type": "code",
   "execution_count": 16,
   "metadata": {},
   "outputs": [
    {
     "name": "stdout",
     "output_type": "stream",
     "text": [
      "[[ 0.00171783  0.22028824  0.29963977  0.3802325   0.83572257]\n",
      " [ 0.46115556  0.19623829  0.56938633  0.2283597   0.70465926]\n",
      " [ 0.91986106  0.39412838  0.27268411  0.09756007  0.57166627]\n",
      " [ 0.10457225  0.44214674  0.80763982  0.21959469  0.56097181]]\n",
      "==========================================================================================\n",
      "[[ 0.00171783  0.22028824  0.29963977  0.3802325   0.83572257]\n",
      " [ 0.46115556  0.19623829  0.56938633  0.2283597   0.70465926]\n",
      " [ 0.91986106  0.39412838  0.27268411  0.09756007  0.57166627]\n",
      " [ 0.10457225  0.44214674  0.80763982  0.21959469  0.56097181]]\n",
      "==========================================================================================\n",
      "[[ 0.          0.          0.          0.          0.        ]\n",
      " [ 0.46115556  0.19623829  0.56938633  0.2283597   0.70465926]\n",
      " [ 0.91986106  0.39412838  0.27268411  0.09756007  0.57166627]\n",
      " [ 0.10457225  0.44214674  0.80763982  0.21959469  0.56097181]]\n"
     ]
    }
   ],
   "source": [
    "# 3.将数组 a = np.random.rand(4,5) 扁平化成一维数组，可以使用 flatten 和 ravel ，对两者的返回值进行操作，\n",
    "#哪个会影响到数组 a ？对会影响到 a 数组的那个函数，请说明详细的原因。\n",
    "import numpy as np\n",
    "\n",
    "a = np.random.rand(4,5)\n",
    "print(a)\n",
    "print(\"===\" * 30)\n",
    "\n",
    "af = a.flatten()\n",
    "af[0:5] = 0\n",
    "print(a)\n",
    "print(\"===\" * 30)\n",
    "\n",
    "ar = a.ravel()\n",
    "ar[0:5] = 0\n",
    "print(a)\n",
    "# 以上结果是flatten()没有影响到原数组，而ravel() 对原数组的返回值产生影响。\n",
    "# 原因是flatten()是深拷贝，堆区和栈区全都拷贝了；\n",
    "# 而ravel()是浅拷贝，只拷贝栈区的变量，对其指向的堆区的数组并没有拷贝，还是指向同一个数组"
   ]
  },
  {
   "cell_type": "code",
   "execution_count": 75,
   "metadata": {},
   "outputs": [
    {
     "ename": "UnicodeEncodeError",
     "evalue": "'latin-1' codec can't encode characters in position 16-19: ordinal not in range(256)",
     "output_type": "error",
     "traceback": [
      "\u001b[0;31m---------------------------------------------------------------------------\u001b[0m",
      "\u001b[0;31mUnicodeEncodeError\u001b[0m                        Traceback (most recent call last)",
      "\u001b[0;32m<ipython-input-75-8418cc14bdd8>\u001b[0m in \u001b[0;36m<module>\u001b[0;34m()\u001b[0m\n\u001b[1;32m      3\u001b[0m \u001b[0;32mimport\u001b[0m \u001b[0mnumpy\u001b[0m \u001b[0;32mas\u001b[0m \u001b[0mnp\u001b[0m\u001b[0;34m\u001b[0m\u001b[0m\n\u001b[1;32m      4\u001b[0m \u001b[0;34m\u001b[0m\u001b[0m\n\u001b[0;32m----> 5\u001b[0;31m \u001b[0mdp\u001b[0m \u001b[0;34m=\u001b[0m \u001b[0mnp\u001b[0m\u001b[0;34m.\u001b[0m\u001b[0mloadtxt\u001b[0m\u001b[0;34m(\u001b[0m\u001b[0;34m\"stock.csv\"\u001b[0m\u001b[0;34m.\u001b[0m\u001b[0mencode\u001b[0m\u001b[0;34m(\u001b[0m\u001b[0;34m\"latin-1\"\u001b[0m\u001b[0;34m)\u001b[0m\u001b[0;34m.\u001b[0m\u001b[0mdecode\u001b[0m\u001b[0;34m(\u001b[0m\u001b[0;34m\"utf-8\"\u001b[0m\u001b[0;34m)\u001b[0m\u001b[0;34m,\u001b[0m \u001b[0mdtype\u001b[0m\u001b[0;34m=\u001b[0m\u001b[0mnp\u001b[0m\u001b[0;34m.\u001b[0m\u001b[0mfloat\u001b[0m\u001b[0;34m,\u001b[0m \u001b[0mdelimiter\u001b[0m\u001b[0;34m=\u001b[0m\u001b[0;34m','\u001b[0m\u001b[0;34m,\u001b[0m \u001b[0mskiprows\u001b[0m\u001b[0;34m=\u001b[0m\u001b[0;36m1\u001b[0m\u001b[0;34m,\u001b[0m \u001b[0musecols\u001b[0m\u001b[0;34m=\u001b[0m\u001b[0;34m(\u001b[0m\u001b[0;36m6\u001b[0m\u001b[0;34m,\u001b[0m\u001b[0;36m10\u001b[0m\u001b[0;34m)\u001b[0m\u001b[0;34m)\u001b[0m\u001b[0;34m\u001b[0m\u001b[0m\n\u001b[0m\u001b[1;32m      6\u001b[0m \u001b[0mprint\u001b[0m\u001b[0;34m(\u001b[0m\u001b[0mdp\u001b[0m\u001b[0;34m)\u001b[0m\u001b[0;34m\u001b[0m\u001b[0m\n",
      "\u001b[0;32m/var/sw/anaconda3/lib/python3.6/site-packages/numpy/lib/npyio.py\u001b[0m in \u001b[0;36mloadtxt\u001b[0;34m(fname, dtype, comments, delimiter, converters, skiprows, usecols, unpack, ndmin)\u001b[0m\n\u001b[1;32m    980\u001b[0m             \u001b[0;32mwhile\u001b[0m \u001b[0;32mnot\u001b[0m \u001b[0mfirst_vals\u001b[0m\u001b[0;34m:\u001b[0m\u001b[0;34m\u001b[0m\u001b[0m\n\u001b[1;32m    981\u001b[0m                 \u001b[0mfirst_line\u001b[0m \u001b[0;34m=\u001b[0m \u001b[0mnext\u001b[0m\u001b[0;34m(\u001b[0m\u001b[0mfh\u001b[0m\u001b[0;34m)\u001b[0m\u001b[0;34m\u001b[0m\u001b[0m\n\u001b[0;32m--> 982\u001b[0;31m                 \u001b[0mfirst_vals\u001b[0m \u001b[0;34m=\u001b[0m \u001b[0msplit_line\u001b[0m\u001b[0;34m(\u001b[0m\u001b[0mfirst_line\u001b[0m\u001b[0;34m)\u001b[0m\u001b[0;34m\u001b[0m\u001b[0m\n\u001b[0m\u001b[1;32m    983\u001b[0m         \u001b[0;32mexcept\u001b[0m \u001b[0mStopIteration\u001b[0m\u001b[0;34m:\u001b[0m\u001b[0;34m\u001b[0m\u001b[0m\n\u001b[1;32m    984\u001b[0m             \u001b[0;31m# End of lines reached\u001b[0m\u001b[0;34m\u001b[0m\u001b[0;34m\u001b[0m\u001b[0m\n",
      "\u001b[0;32m/var/sw/anaconda3/lib/python3.6/site-packages/numpy/lib/npyio.py\u001b[0m in \u001b[0;36msplit_line\u001b[0;34m(line)\u001b[0m\n\u001b[1;32m    956\u001b[0m \u001b[0;34m\u001b[0m\u001b[0m\n\u001b[1;32m    957\u001b[0m         \"\"\"\n\u001b[0;32m--> 958\u001b[0;31m         \u001b[0mline\u001b[0m \u001b[0;34m=\u001b[0m \u001b[0masbytes\u001b[0m\u001b[0;34m(\u001b[0m\u001b[0mline\u001b[0m\u001b[0;34m)\u001b[0m\u001b[0;34m\u001b[0m\u001b[0m\n\u001b[0m\u001b[1;32m    959\u001b[0m         \u001b[0;32mif\u001b[0m \u001b[0mcomments\u001b[0m \u001b[0;32mis\u001b[0m \u001b[0;32mnot\u001b[0m \u001b[0;32mNone\u001b[0m\u001b[0;34m:\u001b[0m\u001b[0;34m\u001b[0m\u001b[0m\n\u001b[1;32m    960\u001b[0m             \u001b[0mline\u001b[0m \u001b[0;34m=\u001b[0m \u001b[0mregex_comments\u001b[0m\u001b[0;34m.\u001b[0m\u001b[0msplit\u001b[0m\u001b[0;34m(\u001b[0m\u001b[0masbytes\u001b[0m\u001b[0;34m(\u001b[0m\u001b[0mline\u001b[0m\u001b[0;34m)\u001b[0m\u001b[0;34m,\u001b[0m \u001b[0mmaxsplit\u001b[0m\u001b[0;34m=\u001b[0m\u001b[0;36m1\u001b[0m\u001b[0;34m)\u001b[0m\u001b[0;34m[\u001b[0m\u001b[0;36m0\u001b[0m\u001b[0;34m]\u001b[0m\u001b[0;34m\u001b[0m\u001b[0m\n",
      "\u001b[0;32m/var/sw/anaconda3/lib/python3.6/site-packages/numpy/compat/py3k.py\u001b[0m in \u001b[0;36masbytes\u001b[0;34m(s)\u001b[0m\n\u001b[1;32m     33\u001b[0m         \u001b[0;32mif\u001b[0m \u001b[0misinstance\u001b[0m\u001b[0;34m(\u001b[0m\u001b[0ms\u001b[0m\u001b[0;34m,\u001b[0m \u001b[0mbytes\u001b[0m\u001b[0;34m)\u001b[0m\u001b[0;34m:\u001b[0m\u001b[0;34m\u001b[0m\u001b[0m\n\u001b[1;32m     34\u001b[0m             \u001b[0;32mreturn\u001b[0m \u001b[0ms\u001b[0m\u001b[0;34m\u001b[0m\u001b[0m\n\u001b[0;32m---> 35\u001b[0;31m         \u001b[0;32mreturn\u001b[0m \u001b[0mstr\u001b[0m\u001b[0;34m(\u001b[0m\u001b[0ms\u001b[0m\u001b[0;34m)\u001b[0m\u001b[0;34m.\u001b[0m\u001b[0mencode\u001b[0m\u001b[0;34m(\u001b[0m\u001b[0;34m'latin1'\u001b[0m\u001b[0;34m)\u001b[0m\u001b[0;34m\u001b[0m\u001b[0m\n\u001b[0m\u001b[1;32m     36\u001b[0m \u001b[0;34m\u001b[0m\u001b[0m\n\u001b[1;32m     37\u001b[0m     \u001b[0;32mdef\u001b[0m \u001b[0masstr\u001b[0m\u001b[0;34m(\u001b[0m\u001b[0ms\u001b[0m\u001b[0;34m)\u001b[0m\u001b[0;34m:\u001b[0m\u001b[0;34m\u001b[0m\u001b[0m\n",
      "\u001b[0;31mUnicodeEncodeError\u001b[0m: 'latin-1' codec can't encode characters in position 16-19: ordinal not in range(256)"
     ]
    }
   ],
   "source": [
    "# 4.3 \n",
    "# encoding:utf-8\n",
    "import numpy as np\n",
    "\n",
    "dp = np.loadtxt(\"stock.csv\", dtype=np.float, delimiter=',', skiprows=1, usecols=(6,10))\n",
    "print(dp)"
   ]
  },
  {
   "cell_type": "code",
   "execution_count": null,
   "metadata": {},
   "outputs": [],
   "source": [
    "# 4.1 使用 numpy 自带的 csv 方法读取出 stock.csv 文件中 \n",
    "#preClosePrice 、 openPrice 、 highestPrice 、 lowestPrice 的数据（提示：使用skiprows和usecols参数）。\n",
    "import numpy as np\n",
    "import csv\n",
    "\n",
    "with open('stock.csv', 'r', encoding='utf-8') as fp:\n",
    "    reader = csv.reader(fp)\n",
    "    next(reader)\n",
    "    for r in reader:\n",
    "        preClosePrice = r[6]\n",
    "        openPrice = r[7]\n",
    "        highestPrice = r[8]\n",
    "        lowestPrice = r[9]\n",
    "        print({'preClosePrice':preClosePrice, 'openPrice':openPrice, \n",
    "               'highestPrice':highestPrice, 'lowestPrice':lowestPrice})\n",
    "    "
   ]
  },
  {
   "cell_type": "code",
   "execution_count": null,
   "metadata": {},
   "outputs": [],
   "source": [
    "# 4.2 使用 numpy 自带的 csv 方法读取出 stock.csv 文件中 \n",
    "#preClosePrice 、 openPrice 、 highestPrice 、 lowestPrice 的数据（提示：使用skiprows和usecols参数）。\n",
    "import numpy as np\n",
    "import csv\n",
    "\n",
    "with open('stock.csv', 'r', encoding='utf-8') as fp:\n",
    "    reader = csv.DictReader(fp)\n",
    "    for r in reader:\n",
    "        print({'preClosePrice':r[\"preClosePrice\"], 'openPrice':r[\"openPrice\"],\n",
    "              'highestPrice':r[\"highestPrice\"], 'lowestPrice':r[\"lowestPrice\"]})\n",
    "        "
   ]
  },
  {
   "cell_type": "code",
   "execution_count": 62,
   "metadata": {
    "scrolled": true
   },
   "outputs": [
    {
     "name": "stdout",
     "output_type": "stream",
     "text": [
      "Help on function loadtxt in module numpy.lib.npyio:\n",
      "\n",
      "loadtxt(fname, dtype=<class 'float'>, comments='#', delimiter=None, converters=None, skiprows=0, usecols=None, unpack=False, ndmin=0)\n",
      "    Load data from a text file.\n",
      "    \n",
      "    Each row in the text file must have the same number of values.\n",
      "    \n",
      "    Parameters\n",
      "    ----------\n",
      "    fname : file, str, or pathlib.Path\n",
      "        File, filename, or generator to read.  If the filename extension is\n",
      "        ``.gz`` or ``.bz2``, the file is first decompressed. Note that\n",
      "        generators should return byte strings for Python 3k.\n",
      "    dtype : data-type, optional\n",
      "        Data-type of the resulting array; default: float.  If this is a\n",
      "        structured data-type, the resulting array will be 1-dimensional, and\n",
      "        each row will be interpreted as an element of the array.  In this\n",
      "        case, the number of columns used must match the number of fields in\n",
      "        the data-type.\n",
      "    comments : str or sequence, optional\n",
      "        The characters or list of characters used to indicate the start of a\n",
      "        comment;\n",
      "        default: '#'.\n",
      "    delimiter : str, optional\n",
      "        The string used to separate values.  By default, this is any\n",
      "        whitespace.\n",
      "    converters : dict, optional\n",
      "        A dictionary mapping column number to a function that will convert\n",
      "        that column to a float.  E.g., if column 0 is a date string:\n",
      "        ``converters = {0: datestr2num}``.  Converters can also be used to\n",
      "        provide a default value for missing data (but see also `genfromtxt`):\n",
      "        ``converters = {3: lambda s: float(s.strip() or 0)}``.  Default: None.\n",
      "    skiprows : int, optional\n",
      "        Skip the first `skiprows` lines; default: 0.\n",
      "    \n",
      "    usecols : int or sequence, optional\n",
      "        Which columns to read, with 0 being the first. For example,\n",
      "        usecols = (1,4,5) will extract the 2nd, 5th and 6th columns.\n",
      "        The default, None, results in all columns being read.\n",
      "    \n",
      "        .. versionadded:: 1.11.0\n",
      "    \n",
      "        Also when a single column has to be read it is possible to use\n",
      "        an integer instead of a tuple. E.g ``usecols = 3`` reads the\n",
      "        fourth column the same way as `usecols = (3,)`` would.\n",
      "    \n",
      "    unpack : bool, optional\n",
      "        If True, the returned array is transposed, so that arguments may be\n",
      "        unpacked using ``x, y, z = loadtxt(...)``.  When used with a structured\n",
      "        data-type, arrays are returned for each field.  Default is False.\n",
      "    ndmin : int, optional\n",
      "        The returned array will have at least `ndmin` dimensions.\n",
      "        Otherwise mono-dimensional axes will be squeezed.\n",
      "        Legal values: 0 (default), 1 or 2.\n",
      "    \n",
      "        .. versionadded:: 1.6.0\n",
      "    \n",
      "    Returns\n",
      "    -------\n",
      "    out : ndarray\n",
      "        Data read from the text file.\n",
      "    \n",
      "    See Also\n",
      "    --------\n",
      "    load, fromstring, fromregex\n",
      "    genfromtxt : Load data with missing values handled as specified.\n",
      "    scipy.io.loadmat : reads MATLAB data files\n",
      "    \n",
      "    Notes\n",
      "    -----\n",
      "    This function aims to be a fast reader for simply formatted files.  The\n",
      "    `genfromtxt` function provides more sophisticated handling of, e.g.,\n",
      "    lines with missing values.\n",
      "    \n",
      "    .. versionadded:: 1.10.0\n",
      "    \n",
      "    The strings produced by the Python float.hex method can be used as\n",
      "    input for floats.\n",
      "    \n",
      "    Examples\n",
      "    --------\n",
      "    >>> from io import StringIO   # StringIO behaves like a file object\n",
      "    >>> c = StringIO(\"0 1\\n2 3\")\n",
      "    >>> np.loadtxt(c)\n",
      "    array([[ 0.,  1.],\n",
      "           [ 2.,  3.]])\n",
      "    \n",
      "    >>> d = StringIO(\"M 21 72\\nF 35 58\")\n",
      "    >>> np.loadtxt(d, dtype={'names': ('gender', 'age', 'weight'),\n",
      "    ...                      'formats': ('S1', 'i4', 'f4')})\n",
      "    array([('M', 21, 72.0), ('F', 35, 58.0)],\n",
      "          dtype=[('gender', '|S1'), ('age', '<i4'), ('weight', '<f4')])\n",
      "    \n",
      "    >>> c = StringIO(\"1,0,2\\n3,0,4\")\n",
      "    >>> x, y = np.loadtxt(c, delimiter=',', usecols=(0, 2), unpack=True)\n",
      "    >>> x\n",
      "    array([ 1.,  3.])\n",
      "    >>> y\n",
      "    array([ 2.,  4.])\n",
      "\n"
     ]
    }
   ],
   "source": [
    "help(np.loadtxt)"
   ]
  }
 ],
 "metadata": {
  "kernelspec": {
   "display_name": "Python 3",
   "language": "python",
   "name": "python3"
  },
  "language_info": {
   "codemirror_mode": {
    "name": "ipython",
    "version": 3
   },
   "file_extension": ".py",
   "mimetype": "text/x-python",
   "name": "python",
   "nbconvert_exporter": "python",
   "pygments_lexer": "ipython3",
   "version": "3.6.3"
  }
 },
 "nbformat": 4,
 "nbformat_minor": 2
}
