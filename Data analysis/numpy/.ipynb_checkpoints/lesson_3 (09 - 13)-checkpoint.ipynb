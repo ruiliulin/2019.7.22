{
 "cells": [
  {
   "cell_type": "markdown",
   "metadata": {},
   "source": [
    "# Numpy数组操作\n",
    "\n",
    "## 数组广播机制：\n",
    "- 数组与数的计算：\n",
    "- 在 Python 列表中，想要对列表中所有的元素都加一个数，要么采用 map 函数，要么循环整个列表进行操作。但是 NumPy 中的数组可以直接在数组上进行操作\n"
   ]
  },
  {
   "cell_type": "code",
   "execution_count": 1,
   "metadata": {
    "collapsed": true
   },
   "outputs": [],
   "source": [
    "import numpy as np"
   ]
  },
  {
   "cell_type": "code",
   "execution_count": 2,
   "metadata": {},
   "outputs": [
    {
     "name": "stdout",
     "output_type": "stream",
     "text": [
      "[[0 1 1 3]\n",
      " [4 4 6 5]\n",
      " [9 6 6 7]]\n"
     ]
    }
   ],
   "source": [
    "a1 = np.random.randint(0,10, size=(3,4))\n",
    "print(a1)"
   ]
  },
  {
   "cell_type": "code",
   "execution_count": 3,
   "metadata": {},
   "outputs": [
    {
     "name": "stdout",
     "output_type": "stream",
     "text": [
      "[[ 0 10 10 30]\n",
      " [40 40 60 50]\n",
      " [90 60 60 70]]\n"
     ]
    }
   ],
   "source": [
    "print(a1*10)"
   ]
  },
  {
   "cell_type": "code",
   "execution_count": 4,
   "metadata": {},
   "outputs": [
    {
     "name": "stdout",
     "output_type": "stream",
     "text": [
      "[[-10  -9  -9  -7]\n",
      " [ -6  -6  -4  -5]\n",
      " [ -1  -4  -4  -3]]\n"
     ]
    }
   ],
   "source": [
    "print(a1-10)"
   ]
  },
  {
   "cell_type": "code",
   "execution_count": 5,
   "metadata": {},
   "outputs": [
    {
     "name": "stdout",
     "output_type": "stream",
     "text": [
      "[[10 11 11 13]\n",
      " [14 14 16 15]\n",
      " [19 16 16 17]]\n"
     ]
    }
   ],
   "source": [
    "print(a1+10)"
   ]
  },
  {
   "cell_type": "code",
   "execution_count": 6,
   "metadata": {},
   "outputs": [
    {
     "name": "stdout",
     "output_type": "stream",
     "text": [
      "[[ 0.   0.1  0.1  0.3]\n",
      " [ 0.4  0.4  0.6  0.5]\n",
      " [ 0.9  0.6  0.6  0.7]]\n"
     ]
    }
   ],
   "source": [
    "print(a1/10)"
   ]
  },
  {
   "cell_type": "code",
   "execution_count": 7,
   "metadata": {},
   "outputs": [
    {
     "name": "stdout",
     "output_type": "stream",
     "text": [
      "[[2 4 0 0]\n",
      " [4 0 5 0]\n",
      " [8 1 3 1]]\n"
     ]
    }
   ],
   "source": [
    "a2 = np.random.randint(0,10, size=(3,4))\n",
    "print(a2)"
   ]
  },
  {
   "cell_type": "code",
   "execution_count": 8,
   "metadata": {},
   "outputs": [
    {
     "name": "stdout",
     "output_type": "stream",
     "text": [
      "[[ 2  5  1  3]\n",
      " [ 8  4 11  5]\n",
      " [17  7  9  8]]\n"
     ]
    }
   ],
   "source": [
    "# 1. 结构相同的数组与数组之间的运算\n",
    "print(a1 + a2)"
   ]
  },
  {
   "cell_type": "code",
   "execution_count": 9,
   "metadata": {},
   "outputs": [
    {
     "name": "stdout",
     "output_type": "stream",
     "text": [
      "[[3 7 0 3]\n",
      " [3 4 2 0]\n",
      " [6 8 0 1]\n",
      " [1 6 8 8]]\n"
     ]
    }
   ],
   "source": [
    "# 2. 结构不相同的数组之间的运算（会报错！！！）\n",
    "a3 = np.random.randint(0,10, size=(4,4))\n",
    "print(a3)\n",
    "#print(a2+a3)# ！！！！！！！！"
   ]
  },
  {
   "cell_type": "code",
   "execution_count": 10,
   "metadata": {},
   "outputs": [
    {
     "name": "stdout",
     "output_type": "stream",
     "text": [
      "[[0 1 1 3]\n",
      " [4 4 6 5]\n",
      " [9 6 6 7]]\n",
      "========================================\n",
      "[[9]\n",
      " [8]\n",
      " [7]]\n",
      "========================================\n",
      "[[ 9 10 10 12]\n",
      " [12 12 14 13]\n",
      " [16 13 13 14]]\n"
     ]
    }
   ],
   "source": [
    "# 3. 与行数相同并且只有1列的数组之间的运算\n",
    "a4 = np.random.randint(0,10, size=(3,1))\n",
    "print(a1)\n",
    "print(\"==\"*20)\n",
    "\n",
    "print(a4)\n",
    "print(\"==\"*20)\n",
    "\n",
    "print(a1+a4)"
   ]
  },
  {
   "cell_type": "code",
   "execution_count": 11,
   "metadata": {},
   "outputs": [
    {
     "name": "stdout",
     "output_type": "stream",
     "text": [
      "[[0 1 1 3]\n",
      " [4 4 6 5]\n",
      " [9 6 6 7]]\n",
      "========================================\n",
      "[[4 1 2 6]]\n",
      "========================================\n",
      "[[ 4  2  3  9]\n",
      " [ 8  5  8 11]\n",
      " [13  7  8 13]]\n"
     ]
    }
   ],
   "source": [
    "# 4.与列数相同并且只有1行的数组之间的运算 \n",
    "a5 = np.random.randint(0,10, size=(1,4))\n",
    "print(a1)\n",
    "print(\"==\"*20)\n",
    "\n",
    "print(a5)\n",
    "print(\"==\"*20)\n",
    "\n",
    "print(a1+a5)"
   ]
  },
  {
   "cell_type": "markdown",
   "metadata": {},
   "source": [
    "## 广播原则！！！！！！\n",
    "- 如果两个数组的后缘维度（trailing dimension，即从末尾开始算起的维度）的轴长度相符或其中一方的长度为1，则认为他们是广播兼容的。\n",
    "- 广播会在缺失和（或）长度为1的维度上进行，看一下例子分析\n",
    "- shape 为 (3,8,2) 的数组能和 (8,3) 的数组进行运算吗？\n",
    "    - 分析：不能，因为按照广播原则，从后面往前面数， (3,8,2) 和 (8,3) 中的 2 和 3 不相等，所以不能进行运算。\n",
    "- shape 为 (3,8,2) 的数组能和 (8,1) 的数组进行运算吗？\n",
    "    - 分析：能，因为按照广播原则，从后面往前面数， (3,8,2) 和 (8,1) 中的 2 和 1 虽然不相等，但是因为有一方的长度为 1 ，所以能参与运算。\n",
    "- shape 为 (3,1,4) 的数组能和 (8,1) 的数组进行运算吗？\n",
    "    - 分析：能，因为按照广播原则，从后面往前面数， (3,1,4) 和 (8,1) 中的 4 和 1 虽然不相等且 1 和 8 不相等，但是因为这两项中有一方的长度为 1 ，所以能参与运算。"
   ]
  },
  {
   "cell_type": "code",
   "execution_count": 12,
   "metadata": {
    "collapsed": true
   },
   "outputs": [],
   "source": [
    "a6 = np.random.randint(0,10, size=(3,8,2))\n",
    "a7 = np.random.randint(0,10, size=(8,3))\n",
    "#print(a6+a7) # 会出错"
   ]
  },
  {
   "cell_type": "code",
   "execution_count": 13,
   "metadata": {},
   "outputs": [
    {
     "name": "stdout",
     "output_type": "stream",
     "text": [
      "[[[10  5]\n",
      "  [18 11]\n",
      "  [ 6  7]\n",
      "  [17 14]\n",
      "  [10 11]\n",
      "  [ 6 13]\n",
      "  [ 4  4]\n",
      "  [13  9]]\n",
      "\n",
      " [[ 6  1]\n",
      "  [13 13]\n",
      "  [ 2  4]\n",
      "  [13 12]\n",
      "  [ 7  4]\n",
      "  [11 13]\n",
      "  [ 7  6]\n",
      "  [12 18]]\n",
      "\n",
      " [[ 6  1]\n",
      "  [18 18]\n",
      "  [ 1  2]\n",
      "  [12 15]\n",
      "  [ 6  4]\n",
      "  [11  9]\n",
      "  [ 8  1]\n",
      "  [ 9 14]]]\n"
     ]
    }
   ],
   "source": [
    "a6 = np.random.randint(0,10, size=(3,8,2))\n",
    "a7 = np.random.randint(0,10, size=(8,1))\n",
    "print(a6+a7)"
   ]
  },
  {
   "cell_type": "code",
   "execution_count": 14,
   "metadata": {
    "scrolled": true
   },
   "outputs": [
    {
     "name": "stdout",
     "output_type": "stream",
     "text": [
      "[[[4 8 2 6]]\n",
      "\n",
      " [[0 7 3 7]]\n",
      "\n",
      " [[9 5 5 9]]]\n",
      "========================================\n",
      "[[0]\n",
      " [1]\n",
      " [1]\n",
      " [9]\n",
      " [3]\n",
      " [5]\n",
      " [1]\n",
      " [2]]\n",
      "========================================\n",
      "[[[ 4  8  2  6]\n",
      "  [ 5  9  3  7]\n",
      "  [ 5  9  3  7]\n",
      "  [13 17 11 15]\n",
      "  [ 7 11  5  9]\n",
      "  [ 9 13  7 11]\n",
      "  [ 5  9  3  7]\n",
      "  [ 6 10  4  8]]\n",
      "\n",
      " [[ 0  7  3  7]\n",
      "  [ 1  8  4  8]\n",
      "  [ 1  8  4  8]\n",
      "  [ 9 16 12 16]\n",
      "  [ 3 10  6 10]\n",
      "  [ 5 12  8 12]\n",
      "  [ 1  8  4  8]\n",
      "  [ 2  9  5  9]]\n",
      "\n",
      " [[ 9  5  5  9]\n",
      "  [10  6  6 10]\n",
      "  [10  6  6 10]\n",
      "  [18 14 14 18]\n",
      "  [12  8  8 12]\n",
      "  [14 10 10 14]\n",
      "  [10  6  6 10]\n",
      "  [11  7  7 11]]]\n"
     ]
    }
   ],
   "source": [
    "a6 = np.random.randint(0,10, size=(3,1,4))\n",
    "a7 = np.random.randint(0,10, size=(8,1))\n",
    "print(a6)\n",
    "print(\"==\" * 20)\n",
    "print(a7)\n",
    "print(\"==\" * 20)\n",
    "print(a6+a7)"
   ]
  },
  {
   "cell_type": "markdown",
   "metadata": {},
   "source": [
    "## 数组形状的操作：\n",
    "- 可以通过一些函数，非常方便的操作数组的形状。\n",
    "- reshape和resize方法：两个方法都是用来修改数组形状的，但是有一些不同。\n",
    "    1. reshape 是将数组转换成指定的形状，然后返回转换后的结果，对于原数组的形状是不会发生改变的。\n",
    "    2. resize 是将数组转换成指定的形状，会直接修改数组本身。并不会返回任何值。"
   ]
  },
  {
   "cell_type": "code",
   "execution_count": 15,
   "metadata": {},
   "outputs": [
    {
     "name": "stdout",
     "output_type": "stream",
     "text": [
      "[[3 1 5 8]\n",
      " [5 5 9 3]\n",
      " [4 2 6 5]]\n"
     ]
    }
   ],
   "source": [
    "a1 = np.random.randint(0,10, size=(3,4))\n",
    "print(a1)"
   ]
  },
  {
   "cell_type": "code",
   "execution_count": 16,
   "metadata": {},
   "outputs": [
    {
     "name": "stdout",
     "output_type": "stream",
     "text": [
      "[[3 1 5 8 5 5]\n",
      " [9 3 4 2 6 5]]\n",
      "[[3 1 5 8]\n",
      " [5 5 9 3]\n",
      " [4 2 6 5]]\n"
     ]
    }
   ],
   "source": [
    "print(a1.reshape((2,6)))\n",
    "print(a1)"
   ]
  },
  {
   "cell_type": "code",
   "execution_count": 17,
   "metadata": {},
   "outputs": [
    {
     "name": "stdout",
     "output_type": "stream",
     "text": [
      "None\n",
      "[[3 1 5 8 5 5]\n",
      " [9 3 4 2 6 5]]\n"
     ]
    }
   ],
   "source": [
    "print(a1.resize((2,6)))\n",
    "print(a1)"
   ]
  },
  {
   "cell_type": "markdown",
   "metadata": {},
   "source": [
    "## flatten和ravel方法：\n",
    "- 两个方法都是将多维数组转换为一维数组，但是有以下不同： \n",
    "    1. flatten 是将数组转换为一维数组后，然后将这个拷贝返回回去，所以后续对这个返回值进行修改不会影响之前的数组。 \n",
    "    2. ravel 是将数组转换为一维数组后，将这个视图（可以理解为引用）返回回去，所以后续对这个返回值进行修改会影响之前的数组。"
   ]
  },
  {
   "cell_type": "code",
   "execution_count": 18,
   "metadata": {},
   "outputs": [
    {
     "name": "stdout",
     "output_type": "stream",
     "text": [
      "[[2 4 7 3]\n",
      " [0 1 7 8]\n",
      " [3 9 2 1]]\n"
     ]
    }
   ],
   "source": [
    "a2 = np.random.randint(0,10, size=(3,4))\n",
    "print(a2)"
   ]
  },
  {
   "cell_type": "code",
   "execution_count": 19,
   "metadata": {},
   "outputs": [
    {
     "name": "stdout",
     "output_type": "stream",
     "text": [
      "[2 4 7 3 0 1 7 8 3 9 2 1]\n",
      "[[2 4 7 3]\n",
      " [0 1 7 8]\n",
      " [3 9 2 1]]\n"
     ]
    }
   ],
   "source": [
    "print(a2.flatten())\n",
    "print(a2)# 不影响原数组的结构形状"
   ]
  },
  {
   "cell_type": "code",
   "execution_count": 20,
   "metadata": {},
   "outputs": [
    {
     "name": "stdout",
     "output_type": "stream",
     "text": [
      "[2 4 7 3 0 1 7 8 3 9 2 1]\n",
      "[[2 4 7 3]\n",
      " [0 1 7 8]\n",
      " [3 9 2 1]]\n"
     ]
    }
   ],
   "source": [
    "print(a2.ravel())\n",
    "print(a2)# 同样不影响原数组的结构形状"
   ]
  },
  {
   "cell_type": "code",
   "execution_count": 21,
   "metadata": {},
   "outputs": [
    {
     "name": "stdout",
     "output_type": "stream",
     "text": [
      "[100   4   7   3   0   1   7   8   3   9   2   1]\n",
      "[[2 4 7 3]\n",
      " [0 1 7 8]\n",
      " [3 9 2 1]]\n"
     ]
    }
   ],
   "source": [
    "a3 = a2.flatten()\n",
    "a3[0] = 100\n",
    "print(a3)\n",
    "print(a2)# 当修改a3的元素时，a2中的元素不会发生更改"
   ]
  },
  {
   "cell_type": "code",
   "execution_count": 22,
   "metadata": {},
   "outputs": [
    {
     "name": "stdout",
     "output_type": "stream",
     "text": [
      "[100   4   7   3   0   1   7   8   3   9   2   1]\n",
      "[[100   4   7   3]\n",
      " [  0   1   7   8]\n",
      " [  3   9   2   1]]\n"
     ]
    }
   ],
   "source": [
    "a4 = a2.ravel()\n",
    "a4[0] = 100\n",
    "print(a3)\n",
    "print(a2)# 当修改a3的元素时，a2中的元素会随之改变"
   ]
  },
  {
   "cell_type": "markdown",
   "metadata": {},
   "source": [
    "## 不同数组的组合\n",
    "- 如果有多个数组想要组合在一起，也可以通过其中的一些函数来实现。"
   ]
  },
  {
   "cell_type": "code",
   "execution_count": 23,
   "metadata": {},
   "outputs": [
    {
     "name": "stdout",
     "output_type": "stream",
     "text": [
      "[[3 6 2 8]\n",
      " [0 5 8 9]\n",
      " [2 0 8 6]]\n"
     ]
    }
   ],
   "source": [
    "#  vstack ：将数组按垂直方向进行叠加。\n",
    "vs1 = np.random.randint(0,10, size=(3,4))\n",
    "print(vs1)"
   ]
  },
  {
   "cell_type": "code",
   "execution_count": 24,
   "metadata": {},
   "outputs": [
    {
     "name": "stdout",
     "output_type": "stream",
     "text": [
      "[[3 5 7 0]\n",
      " [8 7 1 4]]\n"
     ]
    }
   ],
   "source": [
    "vs2 = np.random.randint(0,10, size=(2,4))\n",
    "print(vs2)"
   ]
  },
  {
   "cell_type": "code",
   "execution_count": 25,
   "metadata": {},
   "outputs": [
    {
     "name": "stdout",
     "output_type": "stream",
     "text": [
      "[[3 6 2 8]\n",
      " [0 5 8 9]\n",
      " [2 0 8 6]\n",
      " [3 5 7 0]\n",
      " [8 7 1 4]]\n"
     ]
    }
   ],
   "source": [
    "vs3 = np.vstack([vs1, vs2])\n",
    "print(vs3)"
   ]
  },
  {
   "cell_type": "code",
   "execution_count": 26,
   "metadata": {},
   "outputs": [
    {
     "name": "stdout",
     "output_type": "stream",
     "text": [
      "[[4 7 2 1]\n",
      " [6 8 9 2]\n",
      " [0 0 8 7]]\n"
     ]
    }
   ],
   "source": [
    "#  hstack ：将数组按水平方向进行叠加。\n",
    "hs1 = np.random.randint(0,10, size=(3,4))\n",
    "print(hs1)"
   ]
  },
  {
   "cell_type": "code",
   "execution_count": 27,
   "metadata": {},
   "outputs": [
    {
     "name": "stdout",
     "output_type": "stream",
     "text": [
      "[[1 6]\n",
      " [7 0]\n",
      " [4 5]]\n"
     ]
    }
   ],
   "source": [
    "hs2 = np.random.randint(0,10, size=(3,2))\n",
    "print(hs2)"
   ]
  },
  {
   "cell_type": "code",
   "execution_count": 28,
   "metadata": {},
   "outputs": [
    {
     "name": "stdout",
     "output_type": "stream",
     "text": [
      "[[1 6 4 7 2 1]\n",
      " [7 0 6 8 9 2]\n",
      " [4 5 0 0 8 7]]\n"
     ]
    }
   ],
   "source": [
    "hs3 = np.hstack([hs2, hs1])\n",
    "print(hs3)"
   ]
  },
  {
   "cell_type": "code",
   "execution_count": 29,
   "metadata": {},
   "outputs": [
    {
     "name": "stdout",
     "output_type": "stream",
     "text": [
      "[[3 6 2 8]\n",
      " [0 5 8 9]\n",
      " [2 0 8 6]\n",
      " [3 5 7 0]\n",
      " [8 7 1 4]]\n",
      "====================\n",
      "[[1 6 4 7 2 1]\n",
      " [7 0 6 8 9 2]\n",
      " [4 5 0 0 8 7]]\n",
      "========================================\n",
      "[3 6 2 8 0 5 8 9 2 0 8 6 3 5 7 0 8 7 1 4]\n"
     ]
    }
   ],
   "source": [
    "# concatenate([],axis) ：将两个数组进行叠加，但是具体是按水平方向还是按垂直方向。则要看 axis 的参数；\n",
    "# 如果 axis=0 ，那么代表的是往垂直方向（行）叠加，\n",
    "# 如果 axis=1 ，那么代表的是往水平方向（列）上叠加，\n",
    "# 如果 axis=None ，那么会将两个数组组合成一个一维数组。\n",
    "# 需要注意的是，如果往水平方向上叠加，那么行必须相同，如果是往垂直方向叠加，那么列必须相同\n",
    "c1 = np.concatenate([vs1, vs2], axis=0)\n",
    "print(c1)\n",
    "print(\"=\" * 20)\n",
    "c2 = np.concatenate([hs2, hs1], axis=1)\n",
    "print(c2)\n",
    "print(\"==\" * 20)\n",
    "c3 = np.concatenate([vs1, vs2], axis=None)\n",
    "print(c3)"
   ]
  },
  {
   "cell_type": "markdown",
   "metadata": {},
   "source": [
    "## 数组的切割：\n",
    "- 通过 hsplit 和 vsplit 以及 array_split 可以将一个数组进行切割。"
   ]
  },
  {
   "cell_type": "code",
   "execution_count": 30,
   "metadata": {},
   "outputs": [
    {
     "name": "stdout",
     "output_type": "stream",
     "text": [
      "[[0 6 9 3 4 2]\n",
      " [1 6 7 5 6 3]\n",
      " [7 1 5 2 0 7]\n",
      " [1 7 8 2 8 6]]\n"
     ]
    }
   ],
   "source": [
    "# hsplit ：按照水平方向进行切割。\n",
    "# 用于指定分割成几列，可以使用数字来代表分成几部分，也可以使用数组来代表分割的地方\n",
    "hs1 = np.random.randint(0,10, size=(4,6))\n",
    "print(hs1)"
   ]
  },
  {
   "cell_type": "code",
   "execution_count": 31,
   "metadata": {},
   "outputs": [
    {
     "name": "stdout",
     "output_type": "stream",
     "text": [
      "[array([[0, 6, 9],\n",
      "       [1, 6, 7],\n",
      "       [7, 1, 5],\n",
      "       [1, 7, 8]]), array([[3, 4, 2],\n",
      "       [5, 6, 3],\n",
      "       [2, 0, 7],\n",
      "       [2, 8, 6]])]\n"
     ]
    }
   ],
   "source": [
    "print(np.hsplit(hs1, 2))# 均分n段切割"
   ]
  },
  {
   "cell_type": "code",
   "execution_count": 32,
   "metadata": {},
   "outputs": [
    {
     "name": "stdout",
     "output_type": "stream",
     "text": [
      "[array([[0],\n",
      "       [1],\n",
      "       [7],\n",
      "       [1]]), array([[6],\n",
      "       [6],\n",
      "       [1],\n",
      "       [7]]), array([[9],\n",
      "       [7],\n",
      "       [5],\n",
      "       [8]]), array([[3, 4],\n",
      "       [5, 6],\n",
      "       [2, 0],\n",
      "       [2, 8]]), array([[2],\n",
      "       [3],\n",
      "       [7],\n",
      "       [6]])]\n"
     ]
    }
   ],
   "source": [
    "print(np.hsplit(hs1, (1,2,3,5)))# 元组里顺序切割，想切几段就切几段"
   ]
  },
  {
   "cell_type": "code",
   "execution_count": 33,
   "metadata": {},
   "outputs": [
    {
     "name": "stdout",
     "output_type": "stream",
     "text": [
      "[[6 6 7 3 7]\n",
      " [9 9 0 3 3]\n",
      " [1 7 9 8 9]\n",
      " [3 7 8 2 9]]\n"
     ]
    }
   ],
   "source": [
    "# vsplit ：按照垂直方向进行切割。\n",
    "# 用于指定分割成几行，可以使用数字来代表分成几部分，也可以使用数组来代表分割的地方\n",
    "vs1 = np.random.randint(0,10, size=(4,5))\n",
    "print(vs1)"
   ]
  },
  {
   "cell_type": "code",
   "execution_count": 34,
   "metadata": {},
   "outputs": [
    {
     "name": "stdout",
     "output_type": "stream",
     "text": [
      "[array([[6, 6, 7, 3, 7]]), array([[9, 9, 0, 3, 3]]), array([[1, 7, 9, 8, 9]]), array([[3, 7, 8, 2, 9]])]\n"
     ]
    }
   ],
   "source": [
    "print(np.vsplit(vs1, 4))# 均分四段切割"
   ]
  },
  {
   "cell_type": "code",
   "execution_count": 35,
   "metadata": {},
   "outputs": [
    {
     "name": "stdout",
     "output_type": "stream",
     "text": [
      "[array([[6, 6, 7, 3, 7]]), array([[9, 9, 0, 3, 3],\n",
      "       [1, 7, 9, 8, 9]]), array([[3, 7, 8, 2, 9]])]\n"
     ]
    }
   ],
   "source": [
    "print(np.vsplit(vs1, (1,3)))# 随意切割"
   ]
  },
  {
   "cell_type": "code",
   "execution_count": 36,
   "metadata": {},
   "outputs": [
    {
     "name": "stdout",
     "output_type": "stream",
     "text": [
      "[[0 6 9 3 4 2]\n",
      " [1 6 7 5 6 3]\n",
      " [7 1 5 2 0 7]\n",
      " [1 7 8 2 8 6]]\n",
      "[[6 6 7 3 7]\n",
      " [9 9 0 3 3]\n",
      " [1 7 9 8 9]\n",
      " [3 7 8 2 9]]\n",
      "[array([[0],\n",
      "       [1],\n",
      "       [7],\n",
      "       [1]]), array([[6],\n",
      "       [6],\n",
      "       [1],\n",
      "       [7]]), array([[9],\n",
      "       [7],\n",
      "       [5],\n",
      "       [8]]), array([[3],\n",
      "       [5],\n",
      "       [2],\n",
      "       [2]]), array([[4],\n",
      "       [6],\n",
      "       [0],\n",
      "       [8]]), array([[2],\n",
      "       [3],\n",
      "       [7],\n",
      "       [6]])]\n"
     ]
    }
   ],
   "source": [
    "# split/array_split(array,indicate_or_seciont,axis) ：\n",
    "# 用于指定切割方式，在切割的时候需要指定是沿着水平方向还是垂直方向；\n",
    "# axis=1 代表沿着水平方向切割，\n",
    "# axis=0 代表沿着垂直方向切割\n",
    "print(hs1)\n",
    "print(vs1)\n",
    "print(np.split(hs1, 6, axis=1))"
   ]
  },
  {
   "cell_type": "code",
   "execution_count": 37,
   "metadata": {},
   "outputs": [
    {
     "name": "stdout",
     "output_type": "stream",
     "text": [
      "[array([[6],\n",
      "       [9],\n",
      "       [1],\n",
      "       [3]]), array([[6],\n",
      "       [9],\n",
      "       [7],\n",
      "       [7]]), array([[7],\n",
      "       [0],\n",
      "       [9],\n",
      "       [8]]), array([[3],\n",
      "       [3],\n",
      "       [8],\n",
      "       [2]]), array([[7],\n",
      "       [3],\n",
      "       [9],\n",
      "       [9]])]\n"
     ]
    }
   ],
   "source": [
    "print(np.split(vs1,5, axis=1))"
   ]
  },
  {
   "cell_type": "markdown",
   "metadata": {},
   "source": [
    "## 数组（矩阵）转置和轴对换：\n",
    "- numpy 中的数组其实就是线性代数中的矩阵。矩阵是可以进行转置的。 \n",
    "- ndarray 有一个 T 属性，可以返回这个数组的转置的结果。"
   ]
  },
  {
   "cell_type": "code",
   "execution_count": 38,
   "metadata": {},
   "outputs": [
    {
     "name": "stdout",
     "output_type": "stream",
     "text": [
      "[[7 3 2 8 0]\n",
      " [2 4 6 6 8]\n",
      " [4 5 4 4 2]\n",
      " [8 3 2 3 0]]\n"
     ]
    }
   ],
   "source": [
    "t1 = np.random.randint(0,10, size=(4,5))\n",
    "print(t1)"
   ]
  },
  {
   "cell_type": "code",
   "execution_count": 39,
   "metadata": {},
   "outputs": [
    {
     "name": "stdout",
     "output_type": "stream",
     "text": [
      "[[7 2 4 8]\n",
      " [3 4 5 3]\n",
      " [2 6 4 2]\n",
      " [8 6 4 3]\n",
      " [0 8 2 0]]\n",
      "[[7 3 2 8 0]\n",
      " [2 4 6 6 8]\n",
      " [4 5 4 4 2]\n",
      " [8 3 2 3 0]]\n"
     ]
    }
   ],
   "source": [
    "# 矩阵转置方法1: T 不会修改原数组\n",
    "t2 = t1.T\n",
    "print(t2)\n",
    "print(t1)"
   ]
  },
  {
   "cell_type": "code",
   "execution_count": 40,
   "metadata": {},
   "outputs": [
    {
     "name": "stdout",
     "output_type": "stream",
     "text": [
      "[[126  86  83  93]\n",
      " [ 86 156  92  58]\n",
      " [ 83  92  77  67]\n",
      " [ 93  58  67  86]]\n"
     ]
    }
   ],
   "source": [
    "# ndarray.dot() 线性代数中的矩阵的内积算法！！！\n",
    "print(t1.dot(t1.T))"
   ]
  },
  {
   "cell_type": "code",
   "execution_count": 41,
   "metadata": {},
   "outputs": [
    {
     "name": "stdout",
     "output_type": "stream",
     "text": [
      "[[11 11 11 11]\n",
      " [ 3  4  5  3]\n",
      " [ 2  6  4  2]\n",
      " [ 8  6  4  3]\n",
      " [ 0  8  2  0]]\n",
      "[[11  3  2  8  0]\n",
      " [11  4  6  6  8]\n",
      " [11  5  4  4  2]\n",
      " [11  3  2  3  0]]\n"
     ]
    }
   ],
   "source": [
    "# 矩阵转置方法2: transpose() 不会修改原数组，但是对transpose()的返回值进行修改会影响到原数组\n",
    "t3 = t1.transpose()\n",
    "t3[0] = 11\n",
    "print(t3)\n",
    "print(t1)"
   ]
  },
  {
   "cell_type": "code",
   "execution_count": 42,
   "metadata": {},
   "outputs": [
    {
     "name": "stdout",
     "output_type": "stream",
     "text": [
      "[[198 193 176 158]\n",
      " [193 273 205 163]\n",
      " [176 205 182 156]\n",
      " [158 163 156 143]]\n"
     ]
    }
   ],
   "source": [
    "print(t1.dot(t1.transpose()))"
   ]
  },
  {
   "cell_type": "markdown",
   "metadata": {},
   "source": [
    "# 总结：\n",
    "1. 数组和数字直接进行运算是没有问题的\n",
    "2. 两个shape相同的数组是可以进行运算的\n",
    "3. 如果两个shape不同的数组想要进行计算，需要遵广播原则：\n",
    "    - 如果两个数组的后缘维度（trailing dimension，即从末尾开始算起的维度）的轴长度相符或其中一方的长度为1，则认为他们是广播兼容的。广播会在缺失和（或）长度为1的维度上进行。\n",
    "    \n",
    "4. reshape 和 resize 都是重新定义形状的，但是，reshape不会修改数组本身，而是将修改后的结果直接返回回去，而resize则是直接修改数组本身的。\n",
    "5. flatten 和 ravel 都是用来将多维数组转换成一维数组的，并且他们都不会对原数组的形状进行修改，但是flatten返回的是一个拷贝，所以对flatten的返回值的修改不会影响到原数组的值，而ravel返回的是一个View，所以对它返回值的修改会影响到原数组的值。\n",
    "\n",
    "6. hstack 代表在水平方向叠加，如果想要叠加成功，那么他们的行必须一致。\n",
    "7. vstack 代表在垂直方向叠加，如果想要叠加成功，那么他们的列必须一致。\n",
    "8. concatenate 可以手动的指定axis的参数，如果axis=0，代表往垂直方向(行)叠加，如果axis=1，代表往水平方向(列)叠加，如果axis=None，代表会先进行叠加，再转换成一维数组。\n",
    "\n",
    "9. hsplit 代表往水平方向（列）切割，它的切割方式有两种：第一种是平均分开进行切割，第二种是指定下标值（元组的形式）进行切割。\n",
    "10. vsplit 代表在垂直方向（行）切割，它的切割方式同hsplit一致。\n",
    "11. split/array_split 是手动的指定axis参数axis=0，代表沿垂直方向（行）进行切割，axis=1，代表沿水平方向（列）进行切割。\n",
    "\n",
    "12. 可以通过 ndarray.T 的形式进行转置\n",
    "13. 也可以通过 ndarray.transpose() 的进行转置，此方法返回的是一个View，所以若果对返回值进行修改，会影响到原来的数组。"
   ]
  }
 ],
 "metadata": {
  "kernelspec": {
   "display_name": "Python 3",
   "language": "python",
   "name": "python3"
  },
  "language_info": {
   "codemirror_mode": {
    "name": "ipython",
    "version": 3
   },
   "file_extension": ".py",
   "mimetype": "text/x-python",
   "name": "python",
   "nbconvert_exporter": "python",
   "pygments_lexer": "ipython3",
   "version": "3.6.3"
  }
 },
 "nbformat": 4,
 "nbformat_minor": 2
}
