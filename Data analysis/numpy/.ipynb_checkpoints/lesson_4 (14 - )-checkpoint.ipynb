{
 "cells": [
  {
   "cell_type": "markdown",
   "metadata": {},
   "source": [
    "## 深拷贝和浅拷贝\n",
    "- 在操作数组的时候，它们的数据有时候拷贝进一个新的数组，有时候又不是。这经常是初学者感到困惑。下面有三种情况："
   ]
  },
  {
   "cell_type": "code",
   "execution_count": 3,
   "metadata": {
    "collapsed": true
   },
   "outputs": [],
   "source": [
    "import numpy as np"
   ]
  },
  {
   "cell_type": "code",
   "execution_count": 6,
   "metadata": {},
   "outputs": [
    {
     "name": "stdout",
     "output_type": "stream",
     "text": [
      "True\n",
      "139785071124032\n",
      "139785071124032\n"
     ]
    }
   ],
   "source": [
    "# 1. 不拷贝：如果只是简单的赋值，那么不会进行拷贝。\n",
    "a = np.arange(12)\n",
    "b = a #这种情况不会进行拷贝\n",
    "print(b is a) #返回True，说明b和a是相同的\n",
    "print(id(a))\n",
    "print(id(b))"
   ]
  },
  {
   "cell_type": "code",
   "execution_count": 11,
   "metadata": {},
   "outputs": [
    {
     "name": "stdout",
     "output_type": "stream",
     "text": [
      "[ 0  1  2  3  4  5  6  7  8  9 10 11]\n",
      "[ 0  1  2  3  4  5  6  7  8  9 10 11]\n",
      "False\n",
      "139785071124032\n",
      "139785070646336\n",
      "[100   1   2   3   4   5   6   7   8   9  10  11]\n"
     ]
    }
   ],
   "source": [
    "# 2. View或者浅拷贝：有些情况，会进行变量的拷贝，但是他们所指向的内存空间都是一样的，那么这种情况叫做浅拷贝，或者叫做 View(视图)。\n",
    "print(a)\n",
    "c = a.view()\n",
    "print(c)\n",
    "print(c is a)\n",
    "print(id(a))\n",
    "print(id(c))\n",
    "\n",
    "c[0] = 100\n",
    "print(a)# ！！！！"
   ]
  },
  {
   "cell_type": "code",
   "execution_count": 14,
   "metadata": {},
   "outputs": [
    {
     "name": "stdout",
     "output_type": "stream",
     "text": [
      "[100   1   2   3   4   5   6   7   8   9  10  11]\n",
      "False\n",
      "139785071124032\n",
      "139785070647216\n",
      "[100   1   2   3   4   5   6   7   8   9  10  11]\n",
      "[1000    1    2    3    4    5    6    7    8    9   10   11]\n"
     ]
    }
   ],
   "source": [
    "# 3. 深拷贝：将之前数据完完整整的拷贝一份放到另外一块内存空间中，这样就是两个完全不同的值了。\n",
    "print(a)\n",
    "d = a.copy()\n",
    "print(d is a)\n",
    "print(id(a))\n",
    "print(id(d))\n",
    "\n",
    "d[0] = 1000\n",
    "print(a)\n",
    "print(d)"
   ]
  },
  {
   "cell_type": "code",
   "execution_count": 19,
   "metadata": {},
   "outputs": [
    {
     "name": "stdout",
     "output_type": "stream",
     "text": [
      "[[8 6 6 3]\n",
      " [0 4 0 4]]\n",
      "========================================\n",
      "[100   6   6   3   0   4   0   4]\n",
      "[[8 6 6 3]\n",
      " [0 4 0 4]]\n",
      "========================================\n",
      "[100   6   6   3   0   4   0   4]\n",
      "[[100   6   6   3]\n",
      " [  0   4   0   4]]\n"
     ]
    }
   ],
   "source": [
    "# 像之前讲到的 flatten 和 ravel 就是这种情况， ravel 返回的就是View，而 flatten 返回的就是深拷贝。\n",
    "a1 = np.random.randint(0,9, size=(2,4))\n",
    "print(a1)\n",
    "print(\"==\" * 20)\n",
    "\n",
    "a2 = a1.flatten()\n",
    "a2[0] = 100\n",
    "print(a2)\n",
    "print(a1)# a1的值不变\n",
    "print(\"==\" * 20)\n",
    "\n",
    "a3 = a1.ravel()\n",
    "a3[0] = 100\n",
    "print(a3)\n",
    "print(a1)# a1的值也会被修改，即ravel()返回的是浅拷贝"
   ]
  },
  {
   "cell_type": "markdown",
   "metadata": {},
   "source": [
    "# 总结：\n",
    "1. 在数组操作中分成三种拷贝：\n",
    "    - 不拷贝：直接赋值，呢么栈区没有拷贝，只是用同一个栈区定义了不同的名称\n",
    "    - 浅拷贝：只拷贝栈区，栈区指定的堆区并没有拷贝\n",
    "    - 深拷贝：栈区和堆区都拷贝\n"
   ]
  }
 ],
 "metadata": {
  "kernelspec": {
   "display_name": "Python 3",
   "language": "python",
   "name": "python3"
  },
  "language_info": {
   "codemirror_mode": {
    "name": "ipython",
    "version": 3
   },
   "file_extension": ".py",
   "mimetype": "text/x-python",
   "name": "python",
   "nbconvert_exporter": "python",
   "pygments_lexer": "ipython3",
   "version": "3.6.3"
  }
 },
 "nbformat": 4,
 "nbformat_minor": 2
}
