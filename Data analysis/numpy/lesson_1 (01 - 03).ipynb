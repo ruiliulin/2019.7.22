{
 "cells": [
  {
   "cell_type": "markdown",
   "metadata": {
    "collapsed": true
   },
   "source": [
    "# Numpy库介绍\n",
    "\n",
    "- Numpy 是一个功能强大的 Python 库，主要用于对多维数组执行计算。 \n",
    "- Numpy 这个词来源于两个单词 -- Numerical 和 Python 。 \n",
    "- Numpy 提供了大量的库函数和操作，可以帮助程序员轻松地进行数值计算。\n",
    "- Numpy 在数据分析和机器学习领域被广泛使用。他有以下几个特点： \n",
    "    - Numpy内置了并行运算功能，当系统有多个核心时，做某种计算时，Numpy会自动做并行计算。 \n",
    "    - Numpy底层使用C语言编写，内部解除了GIL（全局解释器锁），其对数组的操作速度不受Python解释器的限制，效率远高于纯Python代码。 \n",
    "    - 有一个强大的N维数组对象Array（一种类似于列表的东西）。 \n",
    "    - 实用的线性代数、傅里叶变换和随机数生成函数。\n",
    "- 总而言之，Numpy是一个非常高效的用于处理数值型运算的包。\n"
   ]
  },
  {
   "cell_type": "markdown",
   "metadata": {},
   "source": [
    "## Numpy安装：\n",
    "\n",
    "- 通过 pip install numpy 即可安装。\n",
    "- 教程地址：\n",
    "    - 官网： https://docs.scipy.org/doc/numpy/user/quickstart.html \n",
    "    - 中文文档： https://www.numpy.org.cn/user_guide/quickstart_tutorial/index.html \n"
   ]
  },
  {
   "cell_type": "code",
   "execution_count": 33,
   "metadata": {},
   "outputs": [
    {
     "name": "stdout",
     "output_type": "stream",
     "text": [
      "0.5726618766784668\n",
      "0.0025014877319335938\n"
     ]
    }
   ],
   "source": [
    "# Numpy数组和Python列表性能对比：\n",
    "# 比如我们想要对一个Numpy数组和Python列表中的每个素进行求平方。那么代码如下：\n",
    "import numpy as np\n",
    "import time\n",
    "a = list()\n",
    "t1 = time.time()\n",
    "for i in range(1000000):\n",
    "    a.append(i**2)\n",
    "t2 = time.time()\n",
    "t = t2 - t1\n",
    "print(t)\n",
    "# 花费的时间大约是 0.57s 左右。而如果使用 numpy 的数组来做，那速度就要快很多了：\n",
    "t3 = time.time()\n",
    "b = np.arange(1000000)**2\n",
    "t4 = time.time()\n",
    "tt = t4 - t3\n",
    "print(tt)"
   ]
  },
  {
   "cell_type": "code",
   "execution_count": 28,
   "metadata": {},
   "outputs": [
    {
     "name": "stdout",
     "output_type": "stream",
     "text": [
      "0.003094196319580078\n"
     ]
    }
   ],
   "source": [
    "import numpy as np\n",
    "import time\n",
    "t3 = time.time()\n",
    "b = np.arange(1000000)**2\n",
    "t4 = time.time()\n",
    "tt = t4 - t3\n",
    "print(tt)"
   ]
  },
  {
   "cell_type": "markdown",
   "metadata": {},
   "source": [
    "## Numpy数组array基本用法\n",
    "1. Numpy 是 Python 科学计算库，用于快速处理任意维度的数组。\n",
    "2. NumPy 提供一个N维数组类型ndarray，它描述了相同类型的“items”的集合。\n",
    "3. numpy.ndarray 支持向量化运算。\n",
    "4. NumPy 使用c语言写的，底部解除了 GIL ，其对数组的操作速度不在受 python 解释器限制。\n",
    "5. Numpy 中的数组：\n",
    "    - Numpy 中的数组的使用跟 Python 中的列表非常类似。他们之间的区别如下： \n",
    "        - 一个列表中可以存储多种数据类型。比如 a = [1,'a'] 是允许的，而数组只能存储同一种数据类型。 \n",
    "        - 数组可以是多维的，当多维数组中所有的数据都是数值类型的时候，相当于线性代数中的矩阵，是可以进行相互间的运算的。\n"
   ]
  },
  {
   "cell_type": "code",
   "execution_count": 39,
   "metadata": {},
   "outputs": [
    {
     "data": {
      "text/plain": [
       "[1, 2.3, '4']"
      ]
     },
     "execution_count": 39,
     "metadata": {},
     "output_type": "execute_result"
    }
   ],
   "source": [
    "import numpy as np\n",
    "a = [1, 2.3, \"4\"]\n",
    "a"
   ]
  },
  {
   "cell_type": "code",
   "execution_count": 40,
   "metadata": {},
   "outputs": [
    {
     "data": {
      "text/plain": [
       "array(['1', '2.3', '4'],\n",
       "      dtype='<U32')"
      ]
     },
     "execution_count": 40,
     "metadata": {},
     "output_type": "execute_result"
    }
   ],
   "source": [
    "# numpy中的数组的数据类型必须全部一致\n",
    "b = np.array([1, 2.3, \"4\"])\n",
    "b"
   ]
  },
  {
   "cell_type": "code",
   "execution_count": 42,
   "metadata": {},
   "outputs": [
    {
     "data": {
      "text/plain": [
       "array([ 1. ,  2.3,  6. ])"
      ]
     },
     "execution_count": 42,
     "metadata": {},
     "output_type": "execute_result"
    }
   ],
   "source": [
    "# numpy中的数组的数据类型必须全部一致\n",
    "c = np.array([1, 2.3, 6])\n",
    "c"
   ]
  },
  {
   "cell_type": "code",
   "execution_count": 44,
   "metadata": {},
   "outputs": [
    {
     "data": {
      "text/plain": [
       "array([1, 2, 6])"
      ]
     },
     "execution_count": 44,
     "metadata": {},
     "output_type": "execute_result"
    }
   ],
   "source": [
    "# numpy中的数组的数据类型必须全部一致\n",
    "d = np.array([1, 2, 6])\n",
    "d"
   ]
  },
  {
   "cell_type": "markdown",
   "metadata": {},
   "source": [
    "## 创建数组（np.ndarray对象）\n",
    "- Numpy 经常和数组打交道，因此首先第一步是要学会创建数组。在 Numpy 中的数组的数据类型叫做 ndarray "
   ]
  },
  {
   "cell_type": "code",
   "execution_count": 45,
   "metadata": {},
   "outputs": [
    {
     "name": "stdout",
     "output_type": "stream",
     "text": [
      "[1 2 3 4]\n",
      "<class 'numpy.ndarray'>\n"
     ]
    }
   ],
   "source": [
    "# 创建数组的几种方法\n",
    "# 1.使用np.array生成数组，根据python中的列表生成\n",
    "a = np.array([1, 2, 3, 4])\n",
    "print(a)\n",
    "print(type(a))"
   ]
  },
  {
   "cell_type": "code",
   "execution_count": 46,
   "metadata": {
    "scrolled": true
   },
   "outputs": [
    {
     "name": "stdout",
     "output_type": "stream",
     "text": [
      "Help on built-in function array in module numpy.core.multiarray:\n",
      "\n",
      "array(...)\n",
      "    array(object, dtype=None, copy=True, order='K', subok=False, ndmin=0)\n",
      "    \n",
      "    Create an array.\n",
      "    \n",
      "    Parameters\n",
      "    ----------\n",
      "    object : array_like\n",
      "        An array, any object exposing the array interface, an object whose\n",
      "        __array__ method returns an array, or any (nested) sequence.\n",
      "    dtype : data-type, optional\n",
      "        The desired data-type for the array.  If not given, then the type will\n",
      "        be determined as the minimum type required to hold the objects in the\n",
      "        sequence.  This argument can only be used to 'upcast' the array.  For\n",
      "        downcasting, use the .astype(t) method.\n",
      "    copy : bool, optional\n",
      "        If true (default), then the object is copied.  Otherwise, a copy will\n",
      "        only be made if __array__ returns a copy, if obj is a nested sequence,\n",
      "        or if a copy is needed to satisfy any of the other requirements\n",
      "        (`dtype`, `order`, etc.).\n",
      "    order : {'K', 'A', 'C', 'F'}, optional\n",
      "        Specify the memory layout of the array. If object is not an array, the\n",
      "        newly created array will be in C order (row major) unless 'F' is\n",
      "        specified, in which case it will be in Fortran order (column major).\n",
      "        If object is an array the following holds.\n",
      "    \n",
      "        ===== ========= ===================================================\n",
      "        order  no copy                     copy=True\n",
      "        ===== ========= ===================================================\n",
      "        'K'   unchanged F & C order preserved, otherwise most similar order\n",
      "        'A'   unchanged F order if input is F and not C, otherwise C order\n",
      "        'C'   C order   C order\n",
      "        'F'   F order   F order\n",
      "        ===== ========= ===================================================\n",
      "    \n",
      "        When ``copy=False`` and a copy is made for other reasons, the result is\n",
      "        the same as if ``copy=True``, with some exceptions for `A`, see the\n",
      "        Notes section. The default order is 'K'.\n",
      "    subok : bool, optional\n",
      "        If True, then sub-classes will be passed-through, otherwise\n",
      "        the returned array will be forced to be a base-class array (default).\n",
      "    ndmin : int, optional\n",
      "        Specifies the minimum number of dimensions that the resulting\n",
      "        array should have.  Ones will be pre-pended to the shape as\n",
      "        needed to meet this requirement.\n",
      "    \n",
      "    Returns\n",
      "    -------\n",
      "    out : ndarray\n",
      "        An array object satisfying the specified requirements.\n",
      "    \n",
      "    See Also\n",
      "    --------\n",
      "    empty, empty_like, zeros, zeros_like, ones, ones_like, full, full_like\n",
      "    \n",
      "    Notes\n",
      "    -----\n",
      "    When order is 'A' and `object` is an array in neither 'C' nor 'F' order,\n",
      "    and a copy is forced by a change in dtype, then the order of the result is\n",
      "    not necessarily 'C' as expected. This is likely a bug.\n",
      "    \n",
      "    Examples\n",
      "    --------\n",
      "    >>> np.array([1, 2, 3])\n",
      "    array([1, 2, 3])\n",
      "    \n",
      "    Upcasting:\n",
      "    \n",
      "    >>> np.array([1, 2, 3.0])\n",
      "    array([ 1.,  2.,  3.])\n",
      "    \n",
      "    More than one dimension:\n",
      "    \n",
      "    >>> np.array([[1, 2], [3, 4]])\n",
      "    array([[1, 2],\n",
      "           [3, 4]])\n",
      "    \n",
      "    Minimum dimensions 2:\n",
      "    \n",
      "    >>> np.array([1, 2, 3], ndmin=2)\n",
      "    array([[1, 2, 3]])\n",
      "    \n",
      "    Type provided:\n",
      "    \n",
      "    >>> np.array([1, 2, 3], dtype=complex)\n",
      "    array([ 1.+0.j,  2.+0.j,  3.+0.j])\n",
      "    \n",
      "    Data-type consisting of more than one element:\n",
      "    \n",
      "    >>> x = np.array([(1,2),(3,4)],dtype=[('a','<i4'),('b','<i4')])\n",
      "    >>> x['a']\n",
      "    array([1, 3])\n",
      "    \n",
      "    Creating an array from sub-classes:\n",
      "    \n",
      "    >>> np.array(np.mat('1 2; 3 4'))\n",
      "    array([[1, 2],\n",
      "           [3, 4]])\n",
      "    \n",
      "    >>> np.array(np.mat('1 2; 3 4'), subok=True)\n",
      "    matrix([[1, 2],\n",
      "            [3, 4]])\n",
      "\n"
     ]
    }
   ],
   "source": [
    "help(np.array)"
   ]
  },
  {
   "cell_type": "code",
   "execution_count": 51,
   "metadata": {},
   "outputs": [
    {
     "data": {
      "text/plain": [
       "array([0, 2, 4, 6, 8])"
      ]
     },
     "execution_count": 51,
     "metadata": {},
     "output_type": "execute_result"
    }
   ],
   "source": [
    "# 2.使用np.arange生成数组，np.arange的用法类似于Python中的range \n",
    "b = np.arange(0, 10, 2)\n",
    "b\n",
    "#print(b)\n",
    "#print(type(b))"
   ]
  },
  {
   "cell_type": "code",
   "execution_count": 52,
   "metadata": {
    "scrolled": true
   },
   "outputs": [
    {
     "name": "stdout",
     "output_type": "stream",
     "text": [
      "Help on built-in function arange in module numpy.core.multiarray:\n",
      "\n",
      "arange(...)\n",
      "    arange([start,] stop[, step,], dtype=None)\n",
      "    \n",
      "    Return evenly spaced values within a given interval.\n",
      "    \n",
      "    Values are generated within the half-open interval ``[start, stop)``\n",
      "    (in other words, the interval including `start` but excluding `stop`).\n",
      "    For integer arguments the function is equivalent to the Python built-in\n",
      "    `range <http://docs.python.org/lib/built-in-funcs.html>`_ function,\n",
      "    but returns an ndarray rather than a list.\n",
      "    \n",
      "    When using a non-integer step, such as 0.1, the results will often not\n",
      "    be consistent.  It is better to use ``linspace`` for these cases.\n",
      "    \n",
      "    Parameters\n",
      "    ----------\n",
      "    start : number, optional\n",
      "        Start of interval.  The interval includes this value.  The default\n",
      "        start value is 0.\n",
      "    stop : number\n",
      "        End of interval.  The interval does not include this value, except\n",
      "        in some cases where `step` is not an integer and floating point\n",
      "        round-off affects the length of `out`.\n",
      "    step : number, optional\n",
      "        Spacing between values.  For any output `out`, this is the distance\n",
      "        between two adjacent values, ``out[i+1] - out[i]``.  The default\n",
      "        step size is 1.  If `step` is specified, `start` must also be given.\n",
      "    dtype : dtype\n",
      "        The type of the output array.  If `dtype` is not given, infer the data\n",
      "        type from the other input arguments.\n",
      "    \n",
      "    Returns\n",
      "    -------\n",
      "    arange : ndarray\n",
      "        Array of evenly spaced values.\n",
      "    \n",
      "        For floating point arguments, the length of the result is\n",
      "        ``ceil((stop - start)/step)``.  Because of floating point overflow,\n",
      "        this rule may result in the last element of `out` being greater\n",
      "        than `stop`.\n",
      "    \n",
      "    See Also\n",
      "    --------\n",
      "    linspace : Evenly spaced numbers with careful handling of endpoints.\n",
      "    ogrid: Arrays of evenly spaced numbers in N-dimensions.\n",
      "    mgrid: Grid-shaped arrays of evenly spaced numbers in N-dimensions.\n",
      "    \n",
      "    Examples\n",
      "    --------\n",
      "    >>> np.arange(3)\n",
      "    array([0, 1, 2])\n",
      "    >>> np.arange(3.0)\n",
      "    array([ 0.,  1.,  2.])\n",
      "    >>> np.arange(3,7)\n",
      "    array([3, 4, 5, 6])\n",
      "    >>> np.arange(3,7,2)\n",
      "    array([3, 5])\n",
      "\n"
     ]
    }
   ],
   "source": [
    "help(np.arange)"
   ]
  },
  {
   "cell_type": "code",
   "execution_count": 69,
   "metadata": {},
   "outputs": [
    {
     "name": "stdout",
     "output_type": "stream",
     "text": [
      "[[ 0.46036162  0.8909577 ]\n",
      " [ 0.63533308  0.13154813]]\n"
     ]
    }
   ],
   "source": [
    "# 3.使用np.random.random生成N行N列的数组，其中里面的值是0-1之间随机数\n",
    "c = np.random.random((2, 2))# 生成一个两行两列的数组\n",
    "print(c)\n"
   ]
  },
  {
   "cell_type": "code",
   "execution_count": 70,
   "metadata": {},
   "outputs": [
    {
     "name": "stdout",
     "output_type": "stream",
     "text": [
      "[[0 6 4 5]\n",
      " [3 5 0 6]\n",
      " [2 5 0 0]\n",
      " [6 7 4 2]]\n"
     ]
    }
   ],
   "source": [
    "# 4.使用np.random.randint生成一个N行N列的整数数组，其中里面的值可通过前两个参数来指定\n",
    "d = np.random.randint(0, 9, size=(4, 4))\n",
    "print(d)"
   ]
  },
  {
   "cell_type": "code",
   "execution_count": 80,
   "metadata": {},
   "outputs": [
    {
     "name": "stdout",
     "output_type": "stream",
     "text": [
      "[[ 0.  0.  0.]\n",
      " [ 0.  0.  0.]\n",
      " [ 0.  0.  0.]]\n",
      "* * * * * * * * * * * * * * * * * * * * * * * * * * * * * * \n",
      "[[ 1.  1.]\n",
      " [ 1.  1.]\n",
      " [ 1.  1.]\n",
      " [ 1.  1.]]\n",
      "* * * * * * * * * * * * * * * * * * * * * * * * * * * * * * \n",
      "[[9 9 9 9 9]\n",
      " [9 9 9 9 9]\n",
      " [9 9 9 9 9]]\n",
      "* * * * * * * * * * * * * * * * * * * * * * * * * * * * * * \n",
      "[[ 1.  0.  0.  0.  0.]\n",
      " [ 0.  1.  0.  0.  0.]\n",
      " [ 0.  0.  1.  0.  0.]\n",
      " [ 0.  0.  0.  1.  0.]\n",
      " [ 0.  0.  0.  0.  1.]]\n"
     ]
    }
   ],
   "source": [
    "# 5.使用函数生成特殊的数组\n",
    "import numpy as np\n",
    "\n",
    "# 5.1 zeros\n",
    "a_zeros = np.zeros((3, 3))# 生成一个所有元素都是0的3行3列的数组\n",
    "print(a_zeros)\n",
    "print(\"* \" * 30)\n",
    "\n",
    "# 5.2 ones\n",
    "a_ones = np.ones((4, 2))# 生成一个所有元素都是1的4行2列的数组\n",
    "print(a_ones)\n",
    "print(\"* \" * 30)\n",
    "\n",
    "# 5.3 full 可以指定元素的值\n",
    "a_full = np.full((3, 5), 9)# 生成一个所有元素都是9的3行5列的数组\n",
    "print(a_full)\n",
    "print(\"* \" * 30)\n",
    "\n",
    "# 5.4 eye 对称，行和列的值相同\n",
    "a_eye = np.eye(5)# 生成一个在斜线方向上元素为1，其余元素都为0的5×5的矩阵\n",
    "print(a_eye)"
   ]
  },
  {
   "cell_type": "markdown",
   "metadata": {},
   "source": [
    "## ndarray常用属性：\n",
    "\n",
    "- ndarray.dtype:\n",
    "- 因为数组中只能存储同一种数据类型，因此可以通过 dtype 获取数组中的元素的数据类型。\n",
    "- 以下是 ndarray.dtype 的常用的数据类型：\n",
    "\n",
    "\n",
    "    - 数据类型                        描述                                         唯一标识符\n",
    "    - bool         用一个字节存储的布尔类型(True或False)                                'b' \n",
    "    - int8         一个字节大小, -128 至 127                                          'i1' \n",
    "    - int16        整数, 16 位整数(-32768 - 32767)                                   'i2' \n",
    "    - int32        整数, 32 位整数(-2147483648 - 2147483647)                         'i4' \n",
    "    - int64        整数, 64 位整数(-9223372036854775808 - 9223372036854775807)       'i8' \n",
    "    - uint8        无符号整数, 0 至 255                                               'u1' \n",
    "    - uint16       无符号整数, 0 至 65535                                             'u2' \n",
    "    - uint32       无符号整数, 0 至 2 ** 32 - 1                                       'u4' \n",
    "    - uint64       无符号整数, 0 至 2 ** 64 - 1                                       'u8' \n",
    "    - float16      半精度浮点数: 16位，正负号1位，指数5位，精度10位                        'f2' \n",
    "    - float32      单精度浮点数: 32位，正负号1位，指数8位，精度23位                        'f4' \n",
    "    - float64      双精度浮点数: 64位，正负号1位，指数11位，精度52位                       'f8' \n",
    "    - complex64    复数, 分别用两个32位浮点数表示实部和虚部                               'c8' \n",
    "    - complex128   复数, 分别用两个64位浮点数表示实部和虚部                               'c16' \n",
    "    - object_      python对象                                                        'O' \n",
    "    - string_      字符串                                                             'S' \n",
    "    - unicode_     unicode类型                                                       'U' \n",
    "\n",
    "- 我们可以看到， Numpy 中关于数值的类型比 Python 内置的多得多，这是因为 Numpy 为了能高效处理处理海量数据而设计的。\n",
    "- 举个例子，比如现在想要存储上百亿的数字，并且这些数字都不超过254（一个字节内），我们就可以将 dtype 设置为 int8 ，这样就比默认使用 int64 更能节省内存空间了。\n",
    "- 类型相关的操作如下：\n"
   ]
  },
  {
   "cell_type": "code",
   "execution_count": 82,
   "metadata": {},
   "outputs": [
    {
     "name": "stdout",
     "output_type": "stream",
     "text": [
      "[0 1 2 3 4 5 6 7 8 9]\n",
      "int64\n"
     ]
    }
   ],
   "source": [
    "# 默认的数据类型\n",
    "import numpy as np\n",
    "a = np.arange(10)\n",
    "print(a)\n",
    "print(a.dtype)\n",
    "# 如果是windows系统，默认是int32\n",
    "# 如果是mac或者linux系统，则根据系统来\n"
   ]
  },
  {
   "cell_type": "code",
   "execution_count": 101,
   "metadata": {
    "scrolled": true
   },
   "outputs": [
    {
     "name": "stdout",
     "output_type": "stream",
     "text": [
      "[1 2 3 4 5]\n",
      "int8\n"
     ]
    }
   ],
   "source": [
    "# 指定dtype\n",
    "# b = np.array([1, 2, 3, 4, 5], dtype=np.int8)\n",
    "b = np.array([1, 2, 3, 4, 5], dtype='i1')\n",
    "print(b)\n",
    "print(b.dtype)"
   ]
  },
  {
   "cell_type": "code",
   "execution_count": 90,
   "metadata": {},
   "outputs": [
    {
     "name": "stdout",
     "output_type": "stream",
     "text": [
      "[ 1.  2.  3.  4.  5.]\n",
      "float16\n"
     ]
    }
   ],
   "source": [
    "# 指定dtype\n",
    "c = np.array([1, 2, 3, 4, 5], dtype=np.float16)\n",
    "print(c)\n",
    "print(c.dtype)"
   ]
  },
  {
   "cell_type": "code",
   "execution_count": 94,
   "metadata": {},
   "outputs": [
    {
     "name": "stdout",
     "output_type": "stream",
     "text": [
      "[<__main__.Person object at 0x7f30940f4978>\n",
      " <__main__.Person object at 0x7f30940f4908>]\n",
      "object\n"
     ]
    }
   ],
   "source": [
    "# 对象类型\n",
    "class Person():\n",
    "    def __init__(self, name, age):\n",
    "        self.name = name\n",
    "        self.age = age\n",
    "\n",
    "d = np.array([Person(\"liuliu\", 18), Person(\"lili\", 28)])\n",
    "print(d)\n",
    "print(d.dtype)"
   ]
  },
  {
   "cell_type": "code",
   "execution_count": 95,
   "metadata": {},
   "outputs": [
    {
     "name": "stdout",
     "output_type": "stream",
     "text": [
      "[b'a' b'b']\n",
      "|S1\n"
     ]
    }
   ],
   "source": [
    "# 指定dtype\n",
    "e = np.array([\"a\", \"b\"], dtype='S')\n",
    "print(e)\n",
    "print(e.dtype)# 竖线S1代表字符串类型"
   ]
  },
  {
   "cell_type": "code",
   "execution_count": 96,
   "metadata": {},
   "outputs": [
    {
     "name": "stdout",
     "output_type": "stream",
     "text": [
      "['v' 't']\n",
      "<U1\n"
     ]
    }
   ],
   "source": [
    "# 指定dtype \n",
    "f = np.array(['v', 't'], dtype='U')\n",
    "print(f)\n",
    "print(f.dtype)# <U1代表Unicode类型"
   ]
  },
  {
   "cell_type": "code",
   "execution_count": 100,
   "metadata": {},
   "outputs": [
    {
     "name": "stdout",
     "output_type": "stream",
     "text": [
      "[b'v' b't']\n",
      "|S1\n",
      "<U1\n"
     ]
    }
   ],
   "source": [
    "# 使用astype修改dtype ！！！！！\n",
    "sf = f.astype('S')\n",
    "print(sf)\n",
    "print(sf.dtype)# astype不会修改数组本身，而是会将修改后的结果返回\n",
    "print(f.dtype)"
   ]
  },
  {
   "cell_type": "markdown",
   "metadata": {},
   "source": [
    "# 总结\n",
    "1. Numpy的特点\n",
    "    - 并行运算，C语言编写，解除了GIL，N维数组对象Array，实用的线性代数、傅里叶变换和随机数生成函数\n",
    "2. Numpy中创建数组的几种方式\n",
    "    - np.array([]), np.arange(), np.random.random(()), np.random.randint(x, y, size=())\n",
    "    - np.zeros(()), np.ones(()), np.full((), ), np.eye()\n",
    "3. Numpy的数组中数据类型众多的原因？\n",
    "    - 基于C语言编写，C语言本身就有很多数据类型，直接引用过来了\n",
    "    - 为了考虑处理海量数据的性能，通过针对不同的数据给不同的数据类型，来节省内存空间，所有有不同范围的数据类型\n",
    "4. Numpy的数组中的元素有哪些数据类型？\n",
    "    - bool, i, i2, i4, i8, u, u2, u4, u8, f2, f4, f8, c8, c16, O, S, U\n",
    "5. 使用 ndarray.astype 可以修改Numpy中的数据类型"
   ]
  }
 ],
 "metadata": {
  "kernelspec": {
   "display_name": "Python 3",
   "language": "python",
   "name": "python3"
  },
  "language_info": {
   "codemirror_mode": {
    "name": "ipython",
    "version": 3
   },
   "file_extension": ".py",
   "mimetype": "text/x-python",
   "name": "python",
   "nbconvert_exporter": "python",
   "pygments_lexer": "ipython3",
   "version": "3.6.3"
  }
 },
 "nbformat": 4,
 "nbformat_minor": 2
}
