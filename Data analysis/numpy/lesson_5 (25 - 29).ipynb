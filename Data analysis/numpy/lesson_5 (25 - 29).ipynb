{
 "cells": [
  {
   "cell_type": "markdown",
   "metadata": {
    "collapsed": true
   },
   "source": [
    "# NAN和INF值处理\n",
    "- 首先我们要知道这两个英文单词代表的什么意思： \n",
    "    - NAN ： Not A number ，不是一个数字的意思，但是他是属于浮点类型的，所以想要进行数据操作的时候需要注意他的类型。 \n",
    "    - INF ： Infinity ，代表的是无穷大的意思，也是属于浮点类型。 \n",
    "        - np.inf 表示正无穷大， -np.inf 表示负无穷大，\n",
    "        - 一般在出现除数为0的时候为无穷大。比如 2/0 。"
   ]
  },
  {
   "cell_type": "code",
   "execution_count": 2,
   "metadata": {
    "collapsed": true
   },
   "outputs": [],
   "source": [
    "import numpy as np"
   ]
  },
  {
   "cell_type": "code",
   "execution_count": 7,
   "metadata": {},
   "outputs": [
    {
     "name": "stdout",
     "output_type": "stream",
     "text": [
      "[[6 3 7 8 7]\n",
      " [2 8 2 9 9]\n",
      " [5 9 4 0 6]]\n",
      "[[ 6. nan  7.  8.  7.]\n",
      " [ 2.  8.  2.  9.  9.]\n",
      " [ 5.  9.  4.  0.  6.]]\n"
     ]
    }
   ],
   "source": [
    "# NAN值\n",
    "data = np.random.randint(0,10, size=(3,5))\n",
    "print(data)\n",
    "data = data.astype(np.float)\n",
    "data[0,1] = np.NAN\n",
    "print(data)"
   ]
  },
  {
   "cell_type": "code",
   "execution_count": 9,
   "metadata": {},
   "outputs": [
    {
     "name": "stdout",
     "output_type": "stream",
     "text": [
      "[[inf nan inf inf inf]\n",
      " [inf inf inf inf inf]\n",
      " [inf inf inf nan inf]]\n"
     ]
    },
    {
     "name": "stderr",
     "output_type": "stream",
     "text": [
      "/var/sw/anaconda3/lib/python3.6/site-packages/ipykernel_launcher.py:2: RuntimeWarning: divide by zero encountered in true_divide\n",
      "  \n",
      "/var/sw/anaconda3/lib/python3.6/site-packages/ipykernel_launcher.py:2: RuntimeWarning: invalid value encountered in true_divide\n",
      "  \n"
     ]
    }
   ],
   "source": [
    "# INF值\n",
    "# 注意在python中直接除以0会报错\n",
    "print(data/0)# nan/0=nan, 0/0=nan, 普通数/0=inf"
   ]
  },
  {
   "cell_type": "markdown",
   "metadata": {},
   "source": [
    "## NAN一些特点：\n",
    "- 1.NAN和NAN不相等。比如 np.NAN != np.NAN 这个条件是成立的。\n",
    "- 2.NAN和任何值做运算，结果都是NAN。\n",
    "\n",
    "- 有些时候，特别是从文件中读取数据的时候，经常会出现一些缺失值。缺失值的出现会影响数据的处理。\n",
    "- 因此我们在做数据分析之前，先要对缺失值进行一些处理。处理的方式有多种，需要根据实际情况来做。\n",
    "    - 一般有两种处理方式：\n",
    "        - 删除缺失值，\n",
    "        - 用其他值进行填充。"
   ]
  },
  {
   "cell_type": "code",
   "execution_count": 19,
   "metadata": {},
   "outputs": [
    {
     "name": "stdout",
     "output_type": "stream",
     "text": [
      "False\n"
     ]
    }
   ],
   "source": [
    "print(np.NAN == np.NAN)"
   ]
  },
  {
   "cell_type": "code",
   "execution_count": 20,
   "metadata": {},
   "outputs": [
    {
     "name": "stdout",
     "output_type": "stream",
     "text": [
      "[12. nan 14. 16. 14.]\n"
     ]
    }
   ],
   "source": [
    "print(data[0]*2)"
   ]
  },
  {
   "cell_type": "code",
   "execution_count": 25,
   "metadata": {},
   "outputs": [
    {
     "name": "stdout",
     "output_type": "stream",
     "text": [
      "[[ 6. nan  7.  8.  7.]\n",
      " [ 2.  8. nan  9.  9.]\n",
      " [ 5.  9.  4.  0.  6.]]\n"
     ]
    }
   ],
   "source": [
    "data[1,2] = np.NAN\n",
    "print(data)"
   ]
  },
  {
   "cell_type": "code",
   "execution_count": 27,
   "metadata": {},
   "outputs": [
    {
     "name": "stdout",
     "output_type": "stream",
     "text": [
      "[[False  True False False False]\n",
      " [False False  True False False]\n",
      " [False False False False False]]\n"
     ]
    }
   ],
   "source": [
    "# np.isnan可以判断数组中的值是否有NAN值\n",
    "print(np.isnan(data))"
   ]
  },
  {
   "cell_type": "markdown",
   "metadata": {},
   "source": [
    "### 删除缺失值1：\n",
    "- 有时候，我们想要将数组中的 NAN 删掉，那么我们可以换一种思路，就是只提取不为 NAN 的值。"
   ]
  },
  {
   "cell_type": "code",
   "execution_count": 29,
   "metadata": {},
   "outputs": [
    {
     "name": "stdout",
     "output_type": "stream",
     "text": [
      "[nan nan]\n",
      "[6. 7. 8. 7. 2. 8. 9. 9. 5. 9. 4. 0. 6.]\n"
     ]
    }
   ],
   "source": [
    "# 可以用上面的布尔条件提取数组中的nan值\n",
    "print(data[np.isnan(data)])\n",
    "# 加上波浪号～可以提取非nan的值\n",
    "print(data[~np.isnan(data)])# 注意会变成1维数组！！！！！！此方法会改变数组的维度"
   ]
  },
  {
   "cell_type": "markdown",
   "metadata": {},
   "source": [
    "### 删除缺失值2：\n",
    "- 删除 NAN 所在的行\n",
    "- np.delete() 返回删除数组中指定的行或者列后的数组，不会改变原数组"
   ]
  },
  {
   "cell_type": "code",
   "execution_count": 42,
   "metadata": {},
   "outputs": [
    {
     "name": "stdout",
     "output_type": "stream",
     "text": [
      "[[ 6. nan  7.  8.  7.]\n",
      " [ 2.  8. nan  9.  9.]\n",
      " [ 5.  9.  4.  0.  6.]]\n",
      "[0 1]\n",
      "[[5. 9. 4. 0. 6.]]\n"
     ]
    }
   ],
   "source": [
    "print(data)\n",
    "# np.where返回数组中满足给定判断条件的数据所对应的行的元组和列的元组\n",
    "lines = np.where(np.isnan(data))[0]# 返回data数组中满足判断条件的数值所对应的行的数组\n",
    "print(lines)# 这里就是第0行和第1行\n",
    "# 删除掉满足条件（是NAN）的数据所在的行，这样返回的就是没有没有NAN数据的数组了\n",
    "print(np.delete(data, lines, axis=0))#　注意此时还是二维数组，不会改变数组的维度"
   ]
  },
  {
   "cell_type": "markdown",
   "metadata": {},
   "source": [
    "### 用其他值进行替代(填充)：\n",
    "- 有些时候我们不想直接删掉，比如有一个成绩表，分别是数学和英语，\n",
    "- 但是因为某个人在某个科目上没有成绩，那么此时就会出现NAN的情况，这时候就不能直接删掉了，就可以使用某些值进行替代。\n",
    "- 如果想要求每门成绩的总分，以及每门成绩的平均分，那么就可以采用某些值替代。\n",
    "- 比如求总分，那么就可以把NAN替换成0，如果想要求平均分，那么就可以把NAN替换成其他值的平均值。"
   ]
  },
  {
   "cell_type": "code",
   "execution_count": 67,
   "metadata": {},
   "outputs": [
    {
     "name": "stdout",
     "output_type": "stream",
     "text": [
      "[[59.  89. ]\n",
      " [90.  32. ]\n",
      " [78.  45.5]\n",
      " [34.   nan]\n",
      " [ nan 56. ]\n",
      " [23.  56. ]]\n",
      "============================================================\n",
      "[148.  122.  123.5  34.   56.   79. ]\n",
      "============================================================\n",
      "[284.  278.5]\n"
     ]
    }
   ],
   "source": [
    "# 因为有空白字符，不能直接读取为np.float的类型，所以先读取为字符串类型，注意编码\n",
    "score = np.loadtxt('nan_scores.csv', dtype=np.str, skiprows=1, delimiter=',', encoding='utf-8')\n",
    "# 先把空白字符串给转成np.NAN类型，因为NAN本身就是浮点类型\n",
    "score[score==''] = np.NAN\n",
    "# 然后再把字符串转化成浮点类型\n",
    "score1 = score.astype(np.float)\n",
    "# 此时在打印score就可以得到我们想要的数组了\n",
    "print(score1)\n",
    "print(\"===\" * 20)\n",
    "\n",
    "# 计算总分：先将nan替换成0，再进行计算\n",
    "score1[np.isnan(score1)] = 0\n",
    "\n",
    "# 每位同学的数学和英语的总分\n",
    "print(score1.sum(axis=1))# 注意这里是第0列的数加第1列的数，看似是同一行里两个数相加的操作，实则还是对列进行的操作\n",
    "print(\"===\" * 20)\n",
    "# 数学的总分和英语的总分\n",
    "print(score1.sum(axis=0))# 注意这里是第0行的数一值加到第n行的数，看似是同一列里n个数相加的操作，实则还是对行进行的操作"
   ]
  },
  {
   "cell_type": "code",
   "execution_count": 82,
   "metadata": {},
   "outputs": [
    {
     "name": "stdout",
     "output_type": "stream",
     "text": [
      "56.800000000000004 55.699999999999996\n",
      "[[59.  89. ]\n",
      " [90.  32. ]\n",
      " [78.  45.5]\n",
      " [34.  55.7]\n",
      " [56.8 56. ]\n",
      " [23.  56. ]]\n"
     ]
    }
   ],
   "source": [
    "# 计算平均分：先将nan替换成平均分，再进行计算\n",
    "score2 = score.astype(np.float)\n",
    "\n",
    "for i in range(score2.shape[1]):\n",
    "    # 分别切取第0列和第1列\n",
    "    col = score2[:, i]\n",
    "    # 将列中的所有不为NAN的数据提取出来\n",
    "    non_nan_clo = col[~np.isnan(col)]\n",
    "    # 将提取出来的数组求平均值并将其赋值给原数组中是NAN的数\n",
    "    mean = non_nan_clo.mean()# mean()是求平均值：non_nan_clo.sum() / np.size(non_nan_clo)\n",
    "    col[np.isnan(col)] = mean\n",
    "\n",
    "# 打印平均值和数组\n",
    "print(score2[:,0].mean(), score2[:,1].mean())\n",
    "print(score2)"
   ]
  },
  {
   "cell_type": "markdown",
   "metadata": {},
   "source": [
    "# np.random模块\n",
    "- np.random 为我们提供了许多获取随机数的函数。这里统一来学习一下。\n",
    "    - np.random.seed\n",
    "    - np.random.rand\n",
    "    - np.random.randn\n",
    "    - np.random.randint\n",
    "    - np.random.choice\n",
    "    - np.random.shuffle"
   ]
  },
  {
   "cell_type": "code",
   "execution_count": 83,
   "metadata": {
    "collapsed": true
   },
   "outputs": [],
   "source": [
    "import numpy as np"
   ]
  },
  {
   "cell_type": "markdown",
   "metadata": {},
   "source": [
    "## np.random.seed：\n",
    "- 用于指定随机数生成时所用算法开始的整数值，如果使用相同的 seed() 值，则每次生成的随机数都相同，如果不设置这个值，则系统根据时间来自己选择这个值，此时每次生成的随机数因时间差异而不同。\n",
    "- 一般没有特殊要求不用设置。"
   ]
  },
  {
   "cell_type": "code",
   "execution_count": 106,
   "metadata": {},
   "outputs": [
    {
     "name": "stdout",
     "output_type": "stream",
     "text": [
      "0.417022004702574\n"
     ]
    }
   ],
   "source": [
    "np.random.seed(1)\n",
    "# 多次运行也只会有这一个值，不会改变\n",
    "print(np.random.rand())"
   ]
  },
  {
   "cell_type": "code",
   "execution_count": 155,
   "metadata": {},
   "outputs": [
    {
     "name": "stdout",
     "output_type": "stream",
     "text": [
      "0.13002857211827767\n"
     ]
    }
   ],
   "source": [
    "print(np.random.rand())# 注意随机数种子只对下一次随机数的产生有影响"
   ]
  },
  {
   "cell_type": "markdown",
   "metadata": {},
   "source": [
    "## np.random.rand：\n",
    "- 生成一个值为 [0,1) 之间的数组，形状由参数指定，如果没有参数，那么将返回一个随机值。"
   ]
  },
  {
   "cell_type": "code",
   "execution_count": 157,
   "metadata": {},
   "outputs": [
    {
     "name": "stdout",
     "output_type": "stream",
     "text": [
      "[[0.57411761 0.14672857 0.58930554]\n",
      " [0.69975836 0.10233443 0.41405599]]\n"
     ]
    }
   ],
   "source": [
    "print(np.random.rand(2,3))"
   ]
  },
  {
   "cell_type": "markdown",
   "metadata": {},
   "source": [
    "## np.random.randn：\n",
    "- 生成均值(μ)为0，标准差（σ）为1的标准正态分布的值。"
   ]
  },
  {
   "cell_type": "code",
   "execution_count": 158,
   "metadata": {},
   "outputs": [
    {
     "name": "stdout",
     "output_type": "stream",
     "text": [
      "[[-0.74715829  1.6924546   0.05080775]\n",
      " [-0.63699565  0.19091548  2.10025514]]\n"
     ]
    }
   ],
   "source": [
    "#生成一个2行3列的数组，数组中的值都满足标准正态分布\n",
    "print(np.random.randn(2,3))"
   ]
  },
  {
   "cell_type": "markdown",
   "metadata": {},
   "source": [
    "## np.random.randint：\n",
    "- 生成指定范围内的随机数，并且可以通过 size 参数指定维度。"
   ]
  },
  {
   "cell_type": "code",
   "execution_count": 160,
   "metadata": {},
   "outputs": [
    {
     "name": "stdout",
     "output_type": "stream",
     "text": [
      "[[5 7 8 4]\n",
      " [4 7 7 4]\n",
      " [9 0 2 0]]\n"
     ]
    }
   ],
   "source": [
    "# 注意此randint的随机值取值的区间还是左包括右不包括，和python里的random模块是不一样的！！！\n",
    "print(np.random.randint(10, size=(3,4)))# 生成由0-10（包括0，不包括10！！！）之间的整数值所组成的一个3行4列的数组"
   ]
  },
  {
   "cell_type": "markdown",
   "metadata": {},
   "source": [
    "## np.random.choice：\n",
    "- 从一个列表或者数组中，随机进行采样。或者是从指定的区间中进行采样，采样个数可以通过参数指定。"
   ]
  },
  {
   "cell_type": "code",
   "execution_count": 177,
   "metadata": {},
   "outputs": [
    {
     "name": "stdout",
     "output_type": "stream",
     "text": [
      "[1 4 1]\n",
      "[[3 3 1 2]\n",
      " [0 2 4 0]\n",
      " [2 4 3 4]]\n",
      "[[7 6 3 7]\n",
      " [0 5 6 5]\n",
      " [4 7 6 2]]\n"
     ]
    }
   ],
   "source": [
    "data = np.arange(5)\n",
    "\n",
    "# 注意是随机选择数值，可以重复\n",
    "print(np.random.choice(data, 3))\n",
    "print(np.random.choice(data, size=(3,4)))\n",
    "print(np.random.choice(8, size=(3,4)))# 这里的8和上面data的意思是一样的"
   ]
  },
  {
   "cell_type": "markdown",
   "metadata": {},
   "source": [
    "## np.random.shuffle：\n",
    "- 把原来数组的元素的位置打乱。"
   ]
  },
  {
   "cell_type": "code",
   "execution_count": 183,
   "metadata": {},
   "outputs": [
    {
     "name": "stdout",
     "output_type": "stream",
     "text": [
      "[0 1 2 3 4 5 6 7 8 9]\n",
      "None\n",
      "[6 5 1 7 2 9 8 3 0 4]\n"
     ]
    }
   ],
   "source": [
    "data1 = np.arange(10)\n",
    "print(data1)\n",
    "print(np.random.shuffle(data1))# 注意这个函数没有返回值，直接更改原数组！！！\n",
    "print(data1)"
   ]
  },
  {
   "cell_type": "markdown",
   "metadata": {},
   "source": [
    "# Axis理解\n",
    "- 之前的课程中，为了方便大家理解，我们说 axis=0 代表的是行， axis=1 代表的是列。\n",
    "- 但其实不是这么简单理解的。这里我们专门用一节来解释一下这个 axis 轴的概念。\n",
    "- 简单来说， 最外面的括号代表着 axis=0，依次往里的括号对应的 axis 的计数就依次加 1。\n",
    "- 操作方式：\n",
    "    - 如果指定轴进行相关的操作，那么他会使用轴下的每个直接子元素的第0个，第1个，第2个...分别进行相关的操作。"
   ]
  },
  {
   "cell_type": "code",
   "execution_count": 184,
   "metadata": {
    "collapsed": true
   },
   "outputs": [],
   "source": [
    "import numpy as np"
   ]
  },
  {
   "cell_type": "code",
   "execution_count": 185,
   "metadata": {},
   "outputs": [
    {
     "name": "stdout",
     "output_type": "stream",
     "text": [
      "[[0 1]\n",
      " [2 3]]\n"
     ]
    }
   ],
   "source": [
    "a = np.arange(4).reshape(2,2)\n",
    "print(a)"
   ]
  },
  {
   "cell_type": "code",
   "execution_count": 187,
   "metadata": {},
   "outputs": [
    {
     "name": "stdout",
     "output_type": "stream",
     "text": [
      "[2 4]\n"
     ]
    }
   ],
   "source": [
    "# 注意当axis=0时，是使用此轴下的每个直接子元素的第0个(0,2), 第1个(1,3)分别进行求和\n",
    "print(a.sum(axis=0))"
   ]
  },
  {
   "cell_type": "code",
   "execution_count": 190,
   "metadata": {},
   "outputs": [
    {
     "name": "stdout",
     "output_type": "stream",
     "text": [
      "[1 5]\n"
     ]
    }
   ],
   "source": [
    "# axis=1\n",
    "print(a.sum(axis=1))"
   ]
  },
  {
   "cell_type": "code",
   "execution_count": 192,
   "metadata": {},
   "outputs": [
    {
     "name": "stdout",
     "output_type": "stream",
     "text": [
      "[[ 0  1  2  3  4  5]\n",
      " [ 6  7  8  9 10 11]]\n"
     ]
    }
   ],
   "source": [
    "b = np.arange(12).reshape(2,6)\n",
    "print(b)"
   ]
  },
  {
   "cell_type": "code",
   "execution_count": 197,
   "metadata": {},
   "outputs": [
    {
     "name": "stdout",
     "output_type": "stream",
     "text": [
      "[ 6  7  8  9 10 11]\n",
      "[ 5 11]\n"
     ]
    }
   ],
   "source": [
    "# 用 np.max 求 axis=0 和 axis=1 两种情况下的最大值\n",
    "print(b.max(axis=0))\n",
    "print(b.max(axis=1))"
   ]
  },
  {
   "cell_type": "code",
   "execution_count": 200,
   "metadata": {},
   "outputs": [
    {
     "name": "stdout",
     "output_type": "stream",
     "text": [
      "[[ 6  7  8  9 10 11]]\n",
      "[[ 1  2  3  4  5]\n",
      " [ 7  8  9 10 11]]\n"
     ]
    }
   ],
   "source": [
    "# 用 np.delete 在 axis=0 和 axis=1 两种情况下删除元素，有区别！但也好理解\n",
    "print(np.delete(b, 0, axis=0))\n",
    "print(np.delete(b, 0, axis=1))"
   ]
  },
  {
   "cell_type": "code",
   "execution_count": 204,
   "metadata": {},
   "outputs": [
    {
     "name": "stdout",
     "output_type": "stream",
     "text": [
      "[[[ 0  1  2  3  4  5]\n",
      "  [ 6  7  8  9 10 11]]\n",
      "\n",
      " [[12 13 14 15 16 17]\n",
      "  [18 19 20 21 22 23]]]\n"
     ]
    }
   ],
   "source": [
    "# 三维数组\n",
    "c = np.arange(24).reshape(2,2,6)\n",
    "print(c)"
   ]
  },
  {
   "cell_type": "code",
   "execution_count": 208,
   "metadata": {},
   "outputs": [
    {
     "name": "stdout",
     "output_type": "stream",
     "text": [
      "[[12 13 14 15 16 17]\n",
      " [18 19 20 21 22 23]]\n",
      "[[ 6  7  8  9 10 11]\n",
      " [18 19 20 21 22 23]]\n",
      "[[ 5 11]\n",
      " [17 23]]\n"
     ]
    }
   ],
   "source": [
    "print(c.max(axis=0))\n",
    "print(c.max(axis=1))\n",
    "print(c.max(axis=2))"
   ]
  },
  {
   "cell_type": "code",
   "execution_count": 209,
   "metadata": {},
   "outputs": [
    {
     "name": "stdout",
     "output_type": "stream",
     "text": [
      "[[[12 13 14 15 16 17]\n",
      "  [18 19 20 21 22 23]]]\n",
      "[[[ 6  7  8  9 10 11]]\n",
      "\n",
      " [[18 19 20 21 22 23]]]\n",
      "[[[ 1  2  3  4  5]\n",
      "  [ 7  8  9 10 11]]\n",
      "\n",
      " [[13 14 15 16 17]\n",
      "  [19 20 21 22 23]]]\n"
     ]
    }
   ],
   "source": [
    "print(np.delete(c, 0, axis=0))\n",
    "print(np.delete(c, 0, axis=1))\n",
    "print(np.delete(c, 0, axis=2))"
   ]
  },
  {
   "cell_type": "markdown",
   "metadata": {},
   "source": [
    "# 总结:\n",
    "1. NAN: 代表 Not A Number 的简写，不是一个数字，但是它属于浮点类型。\n",
    "2. INF: 代表无穷大，在除数为0的情况下会出现INF。\n",
    "3. NAN 和所有的值进行计算，其结果都是等于 NAN 。\n",
    "4. NAN != NAN 。\n",
    "5. 可以通过 np.isnan() 来判断某个值是否是 NAN 。\n",
    "6. 处理 NAN 的时候，可以通过删除 NAN 的值进行处理，也可以通过替换 NAN 的值进行处理。\n",
    "\n",
    "7. np.random常用的函数：\n",
    "    - np.random.seed\n",
    "    - np.random.rand\n",
    "    - np.random.randn\n",
    "    - np.random.randint\n",
    "    - np.random.choice\n",
    "    - np.random.shuffle\n",
    "    \n",
    "8. 但其实不是这么简单理解的。这里我们专门用一节来解释一下这个 axis 轴的概念。\n",
    "9. 简单来说， 最外面的括号代表着 axis=0，依次往里的括号对应的 axis 的计数就依次加 1。\n",
    "10. np.delete ，是直接删除指定轴下的第几个直接子元素。"
   ]
  }
 ],
 "metadata": {
  "kernelspec": {
   "display_name": "Python 3",
   "language": "python",
   "name": "python3"
  },
  "language_info": {
   "codemirror_mode": {
    "name": "ipython",
    "version": 3
   },
   "file_extension": ".py",
   "mimetype": "text/x-python",
   "name": "python",
   "nbconvert_exporter": "python",
   "pygments_lexer": "ipython3",
   "version": "3.6.3"
  }
 },
 "nbformat": 4,
 "nbformat_minor": 2
}
