{
 "cells": [
  {
   "cell_type": "markdown",
   "metadata": {
    "collapsed": true
   },
   "source": [
    "# Numpy练习题"
   ]
  },
  {
   "cell_type": "markdown",
   "metadata": {},
   "source": [
    "## 一、查看Numpy的版本号"
   ]
  },
  {
   "cell_type": "code",
   "execution_count": 1,
   "metadata": {},
   "outputs": [
    {
     "name": "stdout",
     "output_type": "stream",
     "text": [
      "1.17.4\n"
     ]
    }
   ],
   "source": [
    "# 1.\n",
    "import numpy as np\n",
    "print(np.__version__)"
   ]
  },
  {
   "cell_type": "markdown",
   "metadata": {},
   "source": [
    "## 二、如何创建一个所有值都是False的布尔类型的数组"
   ]
  },
  {
   "cell_type": "code",
   "execution_count": 2,
   "metadata": {},
   "outputs": [
    {
     "name": "stdout",
     "output_type": "stream",
     "text": [
      "[[False False False False False]\n",
      " [False False False False False]\n",
      " [False False False False False]\n",
      " [False False False False False]]\n"
     ]
    }
   ],
   "source": [
    "# 2.1\n",
    "a = np.zeros((4,5), dtype=np.bool)\n",
    "print(a)"
   ]
  },
  {
   "cell_type": "code",
   "execution_count": 3,
   "metadata": {},
   "outputs": [
    {
     "name": "stdout",
     "output_type": "stream",
     "text": [
      "[[ True  True  True  True  True]\n",
      " [ True  True  True  True  True]\n",
      " [ True  True  True  True  True]\n",
      " [ True  True  True  True  True]]\n"
     ]
    }
   ],
   "source": [
    "# 2.2\n",
    "a = np.full((4,5), True, dtype=np.bool)\n",
    "print(a)"
   ]
  },
  {
   "cell_type": "markdown",
   "metadata": {},
   "source": [
    "## 三、将一个有10个数的数组的形状进行转换"
   ]
  },
  {
   "cell_type": "code",
   "execution_count": 4,
   "metadata": {},
   "outputs": [
    {
     "name": "stdout",
     "output_type": "stream",
     "text": [
      "[0 1 2 3 4 5 6 7 8 9]\n",
      "[[0 1 2 3 4]\n",
      " [5 6 7 8 9]]\n"
     ]
    }
   ],
   "source": [
    "# 3.1\n",
    "a = np.arange(10)\n",
    "b = a.reshape((2,5))\n",
    "print(a)\n",
    "print(b)"
   ]
  },
  {
   "cell_type": "code",
   "execution_count": 5,
   "metadata": {},
   "outputs": [
    {
     "name": "stdout",
     "output_type": "stream",
     "text": [
      "[[0]\n",
      " [1]\n",
      " [2]\n",
      " [3]\n",
      " [4]\n",
      " [5]\n",
      " [6]\n",
      " [7]\n",
      " [8]\n",
      " [9]]\n"
     ]
    }
   ],
   "source": [
    "# 3.2\n",
    "a = np.arange(10)\n",
    "# 转换成 n行一列 的二维数组\n",
    "b = a[:,np.newaxis]# 转换成(10,1)的数组，新方法\n",
    "\n",
    "print(b)"
   ]
  },
  {
   "cell_type": "code",
   "execution_count": 6,
   "metadata": {},
   "outputs": [
    {
     "name": "stdout",
     "output_type": "stream",
     "text": [
      "(3, 1, 5)\n"
     ]
    }
   ],
   "source": [
    "# 上面的 np.newaxis 所处的位置，会变成1。比如：\n",
    "a = np.random.randint(10, size=(3,5))\n",
    "a1 = a[:,np.newaxis,:]\n",
    "print(a1.shape)# 结果是(3,1,5)，因为np.newaxis所在的位置是1"
   ]
  },
  {
   "cell_type": "markdown",
   "metadata": {},
   "source": [
    "## 四、将数组中所有偶数都替换成0（改变原来数组和不改变原来数组两种方式实现）"
   ]
  },
  {
   "cell_type": "code",
   "execution_count": 7,
   "metadata": {},
   "outputs": [
    {
     "name": "stdout",
     "output_type": "stream",
     "text": [
      "[[8 7 8 0 6]\n",
      " [3 9 0 3 4]\n",
      " [2 4 2 9 8]]\n",
      "[[0 7 0 0 0]\n",
      " [3 9 0 3 0]\n",
      " [0 0 0 9 0]]\n"
     ]
    }
   ],
   "source": [
    "# 4.1 改变原数组\n",
    "a = np.random.randint(10, size=(3,5))\n",
    "print(a)\n",
    "a[a % 2 == 0] = 0\n",
    "print(a)"
   ]
  },
  {
   "cell_type": "code",
   "execution_count": 8,
   "metadata": {},
   "outputs": [
    {
     "name": "stdout",
     "output_type": "stream",
     "text": [
      "[[0 0 0 5 5]\n",
      " [5 0 0 7 1]\n",
      " [3 0 7 0 3]]\n",
      "[[6 6 6 5 5]\n",
      " [5 2 6 7 1]\n",
      " [3 2 7 2 3]]\n"
     ]
    }
   ],
   "source": [
    "# 4.2 不改变原数组\n",
    "a = np.random.randint(10, size=(3,5))\n",
    "print(np.where(a%2==0, 0, a))\n",
    "print(a)"
   ]
  },
  {
   "cell_type": "markdown",
   "metadata": {},
   "source": [
    "## 五、创建一个一维且有10个数的数组，元素是从 0-1 之间，但是不包含0和1"
   ]
  },
  {
   "cell_type": "code",
   "execution_count": 9,
   "metadata": {},
   "outputs": [
    {
     "name": "stdout",
     "output_type": "stream",
     "text": [
      "[0.85972976 0.08206368 0.73061837 0.87582341 0.19696641 0.40545831\n",
      " 0.98799372 0.48864226 0.14157156 0.40902747]\n"
     ]
    }
   ],
   "source": [
    "# 5.1\n",
    "a = np.random.rand(10)# 这里虽然包含0，但取到完全是0值的概率基本为0\n",
    "print(a)"
   ]
  },
  {
   "cell_type": "code",
   "execution_count": 10,
   "metadata": {},
   "outputs": [
    {
     "name": "stdout",
     "output_type": "stream",
     "text": [
      "[0.09090909 0.18181818 0.27272727 0.36363636 0.45454545 0.54545455\n",
      " 0.63636364 0.72727273 0.81818182 0.90909091]\n"
     ]
    }
   ],
   "source": [
    "# 5.2 \n",
    "# 注意linspace是等分的，所以取12个值，抛去开头和结尾的值剩下的10个值必然不包含0和1\n",
    "print(np.linspace(0,1,12)[1:-1])"
   ]
  },
  {
   "cell_type": "markdown",
   "metadata": {},
   "source": [
    "## 六、求以下数组大于等于5并且小于等于10的数组\n",
    "- a = np.arange(15)"
   ]
  },
  {
   "cell_type": "code",
   "execution_count": 11,
   "metadata": {},
   "outputs": [
    {
     "name": "stdout",
     "output_type": "stream",
     "text": [
      "[ 5  6  7  8  9 10]\n"
     ]
    }
   ],
   "source": [
    "# 6.1\n",
    "a = np.arange(15)\n",
    "print(a[(a>=5) & (a<=10)])"
   ]
  },
  {
   "cell_type": "code",
   "execution_count": 12,
   "metadata": {},
   "outputs": [
    {
     "name": "stdout",
     "output_type": "stream",
     "text": [
      "[ 5  6  7  8  9 10]\n"
     ]
    }
   ],
   "source": [
    "# 6.2\n",
    "a = np.arange(15)\n",
    "print(a[np.logical_and(a>=5, a<=10)])"
   ]
  },
  {
   "cell_type": "code",
   "execution_count": 13,
   "metadata": {},
   "outputs": [
    {
     "name": "stdout",
     "output_type": "stream",
     "text": [
      "[ 5  6  7  8  9 10]\n"
     ]
    }
   ],
   "source": [
    "# 6.3\n",
    "a = np.arange(15)\n",
    "index = np.where((a>=5) & (a<=10))\n",
    "print(a[index])"
   ]
  },
  {
   "cell_type": "markdown",
   "metadata": {},
   "source": [
    "## 七、将一个二维数组的行和列分别进行逆向"
   ]
  },
  {
   "cell_type": "code",
   "execution_count": 14,
   "metadata": {},
   "outputs": [
    {
     "name": "stdout",
     "output_type": "stream",
     "text": [
      "[[4 4 0 4 1]\n",
      " [3 9 9 3 3]\n",
      " [7 2 9 4 3]]\n",
      "[[7 2 9 4 3]\n",
      " [3 9 9 3 3]\n",
      " [4 4 0 4 1]]\n",
      "[[1 4 0 4 4]\n",
      " [3 3 9 9 3]\n",
      " [3 4 9 2 7]]\n",
      "[[3 4 9 2 7]\n",
      " [3 3 9 9 3]\n",
      " [1 4 0 4 4]]\n",
      "[[4 3 7]\n",
      " [4 9 2]\n",
      " [0 9 9]\n",
      " [4 3 4]\n",
      " [1 3 3]]\n",
      "[[4 4 0 4 1]\n",
      " [3 9 9 3 3]\n",
      " [7 2 9 4 3]]\n"
     ]
    }
   ],
   "source": [
    "# 7\n",
    "a = np.random.randint(10, size=(3,5))\n",
    "print(a)\n",
    "print(a[::-1])# 对行进行逆向\n",
    "print(a[:, ::-1])# 对列进行逆向\n",
    "print(a[::-1, ::-1])# 对行列都进行逆向\n",
    "print(a.T)# 这是转置\n",
    "print(a)"
   ]
  },
  {
   "cell_type": "markdown",
   "metadata": {},
   "source": [
    "## 八、如何将科学计数法转换为浮点类型打印"
   ]
  },
  {
   "cell_type": "code",
   "execution_count": 15,
   "metadata": {},
   "outputs": [
    {
     "name": "stdout",
     "output_type": "stream",
     "text": [
      "[[0.00921615 0.0472691  0.00915681 0.06783558 0.02752529]\n",
      " [0.06444871 0.03731267 0.0801772  0.00996459 0.05288384]\n",
      " [0.03954653 0.06802426 0.08015224 0.01540668 0.05111305]]\n"
     ]
    }
   ],
   "source": [
    "# 8\n",
    "# set_printoptions用来设置打印的时候的一些配置和选项\n",
    "# 将suppress设置为True，就不会显示成科学计数法了，并且通过precision来控制小数点后要保留几位\n",
    "np.set_printoptions(suppress=True, precision=8)\n",
    "a = np.random.rand(3,5)/1e1\n",
    "print(a)\n",
    "# help(np.set_printoptions)"
   ]
  },
  {
   "cell_type": "markdown",
   "metadata": {},
   "source": [
    "## 九、获取一个数组中唯一的元素\n",
    "## 十、获取一个数组中唯一的元素个数的排行"
   ]
  },
  {
   "cell_type": "code",
   "execution_count": 16,
   "metadata": {
    "scrolled": true
   },
   "outputs": [
    {
     "name": "stdout",
     "output_type": "stream",
     "text": [
      "[[1 4 7 3 2 0]\n",
      " [4 6 9 3 7 8]\n",
      " [3 3 6 0 8 4]]\n",
      "(array([0, 1, 2, 3, 4, 6, 7, 8, 9]), array([2, 1, 1, 4, 3, 2, 2, 2, 1]))\n"
     ]
    }
   ],
   "source": [
    "# 9\n",
    "# 10\n",
    "a = np.random.randint(10, size=(3,6))\n",
    "print(a)\n",
    "print(np.unique(a, return_counts=True))# 返回数组中唯一的元素并打印其出现的次数"
   ]
  },
  {
   "cell_type": "markdown",
   "metadata": {},
   "source": [
    "## 十一、如何找到数组中每行的最大值"
   ]
  },
  {
   "cell_type": "code",
   "execution_count": 17,
   "metadata": {},
   "outputs": [
    {
     "name": "stdout",
     "output_type": "stream",
     "text": [
      "[[2 6 6 7 6]\n",
      " [7 0 0 1 0]\n",
      " [3 0 0 1 3]\n",
      " [9 2 3 2 9]\n",
      " [3 9 5 1 4]\n",
      " [3 4 7 0 7]]\n",
      "[7 7 3 9 9 7]\n"
     ]
    }
   ],
   "source": [
    "# 11.1\n",
    "a = np.random.randint(10, size=(6,5))\n",
    "print(a)\n",
    "print(np.max(a,axis=1))"
   ]
  },
  {
   "cell_type": "code",
   "execution_count": 18,
   "metadata": {},
   "outputs": [
    {
     "name": "stdout",
     "output_type": "stream",
     "text": [
      "[[2 6 6 7 6]\n",
      " [7 0 0 1 0]\n",
      " [3 0 0 1 3]\n",
      " [9 2 3 2 9]\n",
      " [3 9 5 1 4]\n",
      " [3 4 7 0 7]]\n",
      "[7 7 3 9 9 7]\n"
     ]
    }
   ],
   "source": [
    "# 11.2\n",
    "print(a)\n",
    "print(np.apply_along_axis(lambda x: np.max(x), axis=1, arr=a))"
   ]
  },
  {
   "cell_type": "markdown",
   "metadata": {},
   "source": [
    "## 十二、如何按照行求最小值与最大值相除的结果"
   ]
  },
  {
   "cell_type": "code",
   "execution_count": 19,
   "metadata": {},
   "outputs": [
    {
     "name": "stdout",
     "output_type": "stream",
     "text": [
      "[[5 1 7 7 5]\n",
      " [7 9 5 4 4]\n",
      " [5 1 9 7 3]\n",
      " [6 2 1 1 2]\n",
      " [8 9 6 7 7]\n",
      " [6 4 2 7 2]\n",
      " [3 9 3 1 7]]\n",
      "[0.14285714 0.44444444 0.11111111 0.16666667 0.66666667 0.28571429\n",
      " 0.11111111]\n"
     ]
    }
   ],
   "source": [
    "# 12.1\n",
    "a = np.random.randint(1, 10, size=(7,5))\n",
    "print(a)\n",
    "print(np.min(a, axis=1) / np.max(a, axis=1))"
   ]
  },
  {
   "cell_type": "code",
   "execution_count": 20,
   "metadata": {},
   "outputs": [
    {
     "name": "stdout",
     "output_type": "stream",
     "text": [
      "[0.14285714 0.44444444 0.11111111 0.16666667 0.66666667 0.28571429\n",
      " 0.11111111]\n"
     ]
    }
   ],
   "source": [
    "# 12.2\n",
    "print(np.apply_along_axis(lambda x: np.min(x)/np.max(x), axis=1, arr=a))"
   ]
  },
  {
   "cell_type": "code",
   "execution_count": 21,
   "metadata": {},
   "outputs": [
    {
     "name": "stdout",
     "output_type": "stream",
     "text": [
      "[0.44444444 0.125      0.5        1.         0.11111111]\n"
     ]
    }
   ],
   "source": [
    "# 12.3 答案\n",
    "np.random.seed(100)\n",
    "a = np.random.randint(1,10, [5,3])\n",
    "print(np.apply_along_axis(lambda x: np.min(x)/np.max(x),arr=a,axis=1))"
   ]
  },
  {
   "cell_type": "markdown",
   "metadata": {},
   "source": [
    "## 十三、判断两个数组是否完全相等"
   ]
  },
  {
   "cell_type": "code",
   "execution_count": 22,
   "metadata": {},
   "outputs": [
    {
     "name": "stdout",
     "output_type": "stream",
     "text": [
      "False\n",
      "False\n"
     ]
    }
   ],
   "source": [
    "a = np.random.randint(1, 10, size=(3,5))\n",
    "b = np.random.randint(1, 10, size=(3,5))\n",
    "print(np.all(a == b))\n",
    "print((a == b).all())"
   ]
  },
  {
   "cell_type": "markdown",
   "metadata": {},
   "source": [
    "## 十四、找到数组中离某个元素的最近的值"
   ]
  },
  {
   "cell_type": "code",
   "execution_count": 23,
   "metadata": {},
   "outputs": [
    {
     "name": "stdout",
     "output_type": "stream",
     "text": [
      "[7.94188579 1.18676754 6.70283411 7.73923494 5.48656311 3.02316981\n",
      " 2.78256578 7.84477641 2.52199753 1.79505833 7.16823837 9.58054012\n",
      " 1.0355344  5.60973037 8.31358865 6.5127346  7.49579786 3.62688461\n",
      " 9.2599671  7.43118205]\n",
      "2.782565782836616\n"
     ]
    }
   ],
   "source": [
    "# 14\n",
    "np.random.seed(10)\n",
    "a = np.random.uniform(1, 10, 20)# 一个一维数组\n",
    "print(a)\n",
    "A = 2.8 # 某个元素\n",
    "print(a[np.abs(A - a).argmin()])"
   ]
  },
  {
   "cell_type": "markdown",
   "metadata": {},
   "source": [
    "## 十五、设置一个数组不能修改值"
   ]
  },
  {
   "cell_type": "code",
   "execution_count": 24,
   "metadata": {},
   "outputs": [
    {
     "ename": "ValueError",
     "evalue": "assignment destination is read-only",
     "output_type": "error",
     "traceback": [
      "\u001b[0;31m---------------------------------------------------------------------------\u001b[0m",
      "\u001b[0;31mValueError\u001b[0m                                Traceback (most recent call last)",
      "\u001b[0;32m<ipython-input-24-dbeabb8331c1>\u001b[0m in \u001b[0;36m<module>\u001b[0;34m()\u001b[0m\n\u001b[1;32m      2\u001b[0m \u001b[0ma\u001b[0m \u001b[0;34m=\u001b[0m \u001b[0mnp\u001b[0m\u001b[0;34m.\u001b[0m\u001b[0mfull\u001b[0m\u001b[0;34m(\u001b[0m\u001b[0;34m(\u001b[0m\u001b[0;36m2\u001b[0m\u001b[0;34m,\u001b[0m\u001b[0;36m2\u001b[0m\u001b[0;34m)\u001b[0m\u001b[0;34m,\u001b[0m \u001b[0;36m3\u001b[0m\u001b[0;34m)\u001b[0m\u001b[0;34m\u001b[0m\u001b[0m\n\u001b[1;32m      3\u001b[0m \u001b[0ma\u001b[0m\u001b[0;34m.\u001b[0m\u001b[0mflags\u001b[0m\u001b[0;34m.\u001b[0m\u001b[0mwriteable\u001b[0m \u001b[0;34m=\u001b[0m \u001b[0;32mFalse\u001b[0m\u001b[0;31m# 注意，np.flags.writeable 属性默认为True，当为False时是不可写入的状态，即只能读取\u001b[0m\u001b[0;34m\u001b[0m\u001b[0m\n\u001b[0;32m----> 4\u001b[0;31m \u001b[0ma\u001b[0m\u001b[0;34m[\u001b[0m\u001b[0;36m0\u001b[0m\u001b[0;34m]\u001b[0m \u001b[0;34m=\u001b[0m \u001b[0;36m1\u001b[0m\u001b[0;34m\u001b[0m\u001b[0m\n\u001b[0m\u001b[1;32m      5\u001b[0m \u001b[0;31m# help(np.ndarray.flags)\u001b[0m\u001b[0;34m\u001b[0m\u001b[0;34m\u001b[0m\u001b[0m\n",
      "\u001b[0;31mValueError\u001b[0m: assignment destination is read-only"
     ]
    }
   ],
   "source": [
    "# 15\n",
    "a = np.full((2,2), 3)\n",
    "a.flags.writeable = False# 注意，np.flags.writeable 属性默认为True，当为False时是不可写入的状态，即只能读取\n",
    "a[0] = 1\n",
    "# help(np.ndarray.flags)"
   ]
  }
 ],
 "metadata": {
  "kernelspec": {
   "display_name": "Python 3",
   "language": "python",
   "name": "python3"
  },
  "language_info": {
   "codemirror_mode": {
    "name": "ipython",
    "version": 3
   },
   "file_extension": ".py",
   "mimetype": "text/x-python",
   "name": "python",
   "nbconvert_exporter": "python",
   "pygments_lexer": "ipython3",
   "version": "3.6.3"
  }
 },
 "nbformat": 4,
 "nbformat_minor": 2
}
