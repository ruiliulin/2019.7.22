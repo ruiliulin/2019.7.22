{
 "cells": [
  {
   "cell_type": "code",
   "execution_count": 1,
   "metadata": {
    "collapsed": true
   },
   "outputs": [],
   "source": [
    "import numpy as np"
   ]
  },
  {
   "cell_type": "markdown",
   "metadata": {},
   "source": [
    "# 通用函数\n",
    "\n",
    "## 一元函数：\n",
    "\n",
    "\n",
    "        函数                                                       描述\n",
    "\n",
    "        np.abs                                                    绝对值 \n",
    "        np.sqrt                                                    开根 \n",
    "        np.square                                                  平方 \n",
    "        np.exp                                                  计算指数(e^x) \n",
    "        np.log，np.log10，np.log2，np.log1p        求以e为底，以10为低，以2为低，以(1+x)为底的对数 \n",
    "        np.sign                                   将数组中的值标签化，大于0的变成1，等于0的还是0，小于0的变成-1 \n",
    "        np.ceil                                   朝着无穷大的方向取整，比如5.1会变成6，-6.3会变成-6 \n",
    "        np.floor                                  朝着负无穷大方向取证，比如5.1会变成5，-6.3会变成-7 \n",
    "        np.rint，np.round                                     返回四舍五入后的值 \n",
    "        np.modf                                       将整数和小数分隔开来形成两个数组 \n",
    "        np.isnan                                                判断是否是nan \n",
    "        np.isinf                                                判断是否是inf \n",
    "        np.cos，np.cosh，np.sin，np.sinh，np.tan，np.tanh            三角函数 \n",
    "        np.arccos，np.arcsin，np.arctan                            反三角函数 \n"
   ]
  },
  {
   "cell_type": "code",
   "execution_count": 3,
   "metadata": {},
   "outputs": [
    {
     "name": "stdout",
     "output_type": "stream",
     "text": [
      "[[-6.4062641   5.93380205 -1.23429029  4.58653456 -4.68457809]\n",
      " [ 6.81126537  0.44264164  5.80108833 -7.41264647 -4.55589217]\n",
      " [-3.9033839   8.70968194  3.28034325  7.98252149  0.81938142]]\n"
     ]
    }
   ],
   "source": [
    "a = np.random.uniform(-10, 10, size=(3,5))\n",
    "print(a)"
   ]
  },
  {
   "cell_type": "code",
   "execution_count": 4,
   "metadata": {},
   "outputs": [
    {
     "name": "stdout",
     "output_type": "stream",
     "text": [
      "[[6.4062641  5.93380205 1.23429029 4.58653456 4.68457809]\n",
      " [6.81126537 0.44264164 5.80108833 7.41264647 4.55589217]\n",
      " [3.9033839  8.70968194 3.28034325 7.98252149 0.81938142]]\n"
     ]
    }
   ],
   "source": [
    "# np.abs \n",
    "print(np.abs(a))"
   ]
  },
  {
   "cell_type": "code",
   "execution_count": 5,
   "metadata": {},
   "outputs": [
    {
     "name": "stdout",
     "output_type": "stream",
     "text": [
      "[[       nan 2.43593966        nan 2.14161961        nan]\n",
      " [2.6098401  0.66531319 2.40854486        nan        nan]\n",
      " [       nan 2.95121703 1.81117179 2.82533564 0.90519689]]\n"
     ]
    },
    {
     "name": "stderr",
     "output_type": "stream",
     "text": [
      "/var/sw/anaconda3/lib/python3.6/site-packages/ipykernel_launcher.py:1: RuntimeWarning: invalid value encountered in sqrt\n",
      "  \"\"\"Entry point for launching an IPython kernel.\n"
     ]
    }
   ],
   "source": [
    "# np.sqrt\n",
    "# 注意负数开根号会变成NAN值\n",
    "print(np.sqrt(a))"
   ]
  },
  {
   "cell_type": "code",
   "execution_count": 6,
   "metadata": {},
   "outputs": [
    {
     "name": "stdout",
     "output_type": "stream",
     "text": [
      "[[41.04021976 35.21000674  1.52347251 21.03629926 21.94527184]\n",
      " [46.39333588  0.19593162 33.6526258  54.94732766 20.75615348]\n",
      " [15.23640588 75.85855951 10.76065181 63.72064929  0.6713859 ]]\n"
     ]
    }
   ],
   "source": [
    "# np.square\n",
    "print(np.square(a))"
   ]
  },
  {
   "cell_type": "code",
   "execution_count": 7,
   "metadata": {},
   "outputs": [
    {
     "name": "stdout",
     "output_type": "stream",
     "text": [
      "[[1.65118164e-03 3.77587394e+02 2.91041245e-01 9.81536942e+01\n",
      "  9.23663085e-03]\n",
      " [9.08019056e+02 1.55681433e+00 3.30659230e+02 6.03571247e-04\n",
      "  1.05051237e-02]\n",
      " [2.01735306e-02 6.06131432e+03 2.65848963e+01 2.92930797e+03\n",
      "  2.26909578e+00]]\n"
     ]
    }
   ],
   "source": [
    "# np.exp\n",
    "print(np.exp(a))"
   ]
  },
  {
   "cell_type": "code",
   "execution_count": 14,
   "metadata": {},
   "outputs": [
    {
     "name": "stdout",
     "output_type": "stream",
     "text": [
      "[[        nan  1.78066516         nan  1.52312474         nan]\n",
      " [ 1.91857791 -0.81499478  1.75804554         nan         nan]\n",
      " [        nan  2.16443527  1.18794806  2.07725434 -0.19920559]]\n",
      "[[        nan  0.77333305         nan  0.66148467         nan]\n",
      " [ 0.8332278  -0.35394773  0.76350948         nan         nan]\n",
      " [        nan  0.9400023   0.51591929  0.9021401  -0.08651389]]\n",
      "[[        nan  2.5689568          nan  2.19740451         nan]\n",
      " [ 2.76792284 -1.17578892  2.53632359         nan         nan]\n",
      " [        nan  3.12262004  1.71384678  2.99684453 -0.28739292]]\n",
      "[[       nan 1.9364083         nan 1.72035916        nan]\n",
      " [2.05556697 0.3664759  1.91708265        nan        nan]\n",
      " [       nan 2.27312353 1.4540332  2.19528063 0.59849656]]\n"
     ]
    },
    {
     "name": "stderr",
     "output_type": "stream",
     "text": [
      "/var/sw/anaconda3/lib/python3.6/site-packages/ipykernel_launcher.py:2: RuntimeWarning: invalid value encountered in log\n",
      "  \n",
      "/var/sw/anaconda3/lib/python3.6/site-packages/ipykernel_launcher.py:3: RuntimeWarning: invalid value encountered in log10\n",
      "  This is separate from the ipykernel package so we can avoid doing imports until\n",
      "/var/sw/anaconda3/lib/python3.6/site-packages/ipykernel_launcher.py:4: RuntimeWarning: invalid value encountered in log2\n",
      "  after removing the cwd from sys.path.\n",
      "/var/sw/anaconda3/lib/python3.6/site-packages/ipykernel_launcher.py:5: RuntimeWarning: invalid value encountered in log1p\n",
      "  \"\"\"\n"
     ]
    }
   ],
   "source": [
    "# np.log\n",
    "print(np.log(a))\n",
    "print(np.log10(a))\n",
    "print(np.log2(a))\n",
    "print(np.log1p(a))"
   ]
  },
  {
   "cell_type": "code",
   "execution_count": 15,
   "metadata": {},
   "outputs": [
    {
     "name": "stdout",
     "output_type": "stream",
     "text": [
      "[[-1.  1. -1.  1. -1.]\n",
      " [ 1.  1.  1. -1. -1.]\n",
      " [-1.  1.  1.  1.  1.]]\n"
     ]
    }
   ],
   "source": [
    "# np.sign\n",
    "print(np.sign(a))"
   ]
  },
  {
   "cell_type": "code",
   "execution_count": 17,
   "metadata": {},
   "outputs": [
    {
     "name": "stdout",
     "output_type": "stream",
     "text": [
      "[[-6.  6. -1.  5. -4.]\n",
      " [ 7.  1.  6. -7. -4.]\n",
      " [-3.  9.  4.  8.  1.]]\n"
     ]
    }
   ],
   "source": [
    "# np.ceil 朝正无穷大的方向取整, 就是变大了\n",
    "print(np.ceil(a))"
   ]
  },
  {
   "cell_type": "code",
   "execution_count": 19,
   "metadata": {},
   "outputs": [
    {
     "name": "stdout",
     "output_type": "stream",
     "text": [
      "[[-7.  5. -2.  4. -5.]\n",
      " [ 6.  0.  5. -8. -5.]\n",
      " [-4.  8.  3.  7.  0.]]\n"
     ]
    }
   ],
   "source": [
    "# np.floor 朝负无穷大的方向取整，就是变小了\n",
    "print(np.floor(a))"
   ]
  },
  {
   "cell_type": "code",
   "execution_count": 20,
   "metadata": {},
   "outputs": [
    {
     "name": "stdout",
     "output_type": "stream",
     "text": [
      "[[-6.  6. -1.  5. -5.]\n",
      " [ 7.  0.  6. -7. -5.]\n",
      " [-4.  9.  3.  8.  1.]]\n",
      "[[-6.  6. -1.  5. -5.]\n",
      " [ 7.  0.  6. -7. -5.]\n",
      " [-4.  9.  3.  8.  1.]]\n"
     ]
    }
   ],
   "source": [
    "# np.rint 或者 np.round\n",
    "print(np.rint(a))\n",
    "print(np.round(a))"
   ]
  },
  {
   "cell_type": "code",
   "execution_count": 22,
   "metadata": {},
   "outputs": [
    {
     "name": "stdout",
     "output_type": "stream",
     "text": [
      "(array([[-0.4062641 ,  0.93380205, -0.23429029,  0.58653456, -0.68457809],\n",
      "       [ 0.81126537,  0.44264164,  0.80108833, -0.41264647, -0.55589217],\n",
      "       [-0.9033839 ,  0.70968194,  0.28034325,  0.98252149,  0.81938142]]), array([[-6.,  5., -1.,  4., -4.],\n",
      "       [ 6.,  0.,  5., -7., -4.],\n",
      "       [-3.,  8.,  3.,  7.,  0.]]))\n"
     ]
    }
   ],
   "source": [
    "# np.modf 注意会切割成两个数组！！！！！！\n",
    "print(np.modf(a))"
   ]
  },
  {
   "cell_type": "code",
   "execution_count": 25,
   "metadata": {},
   "outputs": [
    {
     "name": "stdout",
     "output_type": "stream",
     "text": [
      "[[False False False False False]\n",
      " [False False False False False]\n",
      " [False False False False False]]\n"
     ]
    }
   ],
   "source": [
    "# np.isnan\n",
    "print(np.isnan(a))"
   ]
  },
  {
   "cell_type": "code",
   "execution_count": 24,
   "metadata": {},
   "outputs": [
    {
     "name": "stdout",
     "output_type": "stream",
     "text": [
      "[[False False False False False]\n",
      " [False False False False False]\n",
      " [False False False False False]]\n"
     ]
    }
   ],
   "source": [
    "# np.isinf 判断是否是INF值，就是正负无穷大的值\n",
    "print(np.isinf(a))"
   ]
  },
  {
   "cell_type": "code",
   "execution_count": 27,
   "metadata": {},
   "outputs": [
    {
     "name": "stdout",
     "output_type": "stream",
     "text": [
      "[[-0.12276829 -0.34231839 -0.9439141  -0.99209078  0.9996133 ]\n",
      " [ 0.50387587  0.428328   -0.46363817 -0.90418216  0.98777935]\n",
      " [ 0.6902187   0.65568992 -0.13830582  0.99175012  0.73072368]]\n"
     ]
    }
   ],
   "source": [
    "# np.cos，np.cosh，np.sin，np.sinh，np.tan，np.tanh  \n",
    "print(np.sin(a))"
   ]
  },
  {
   "cell_type": "code",
   "execution_count": 29,
   "metadata": {},
   "outputs": [
    {
     "name": "stdout",
     "output_type": "stream",
     "text": [
      "[[      nan       nan       nan       nan       nan]\n",
      " [      nan 0.4585425       nan       nan       nan]\n",
      " [      nan       nan       nan       nan 0.9603311]]\n"
     ]
    },
    {
     "name": "stderr",
     "output_type": "stream",
     "text": [
      "/var/sw/anaconda3/lib/python3.6/site-packages/ipykernel_launcher.py:2: RuntimeWarning: invalid value encountered in arcsin\n",
      "  \n"
     ]
    }
   ],
   "source": [
    "# np.arccos，np.arcsin，np.arctan\n",
    "print(np.arcsin(a))"
   ]
  },
  {
   "cell_type": "markdown",
   "metadata": {},
   "source": [
    "## 二元函数：\n",
    "\n",
    "\n",
    "        函数                                                            描述\n",
    "\n",
    "        np.add                                                 加法运算（即1+1=2），相当于+ \n",
    "        np.subtract                                            减法运算（即3-2=1），相当于- \n",
    "        np.negative                                            负数运算（即-2），相当于加个负号 \n",
    "        np.multiply                                            乘法运算（即2*3=6），相当于* \n",
    "        np.divide                                              除法运算（即3/2=1.5），相当于/ \n",
    "        np.floor_divide                                        取整运算，相当于// \n",
    "        np.mod                                                 取余运算，相当于% \n",
    "        greater,greater_equal,less,less_equal,equal,not_equal  >,>=,<,<=,=,!= 的函数表达式 \n",
    "        logical_and                                            & 的函数表达式 \n",
    "        logical_or                                             | 的函数表达式 \n"
   ]
  },
  {
   "cell_type": "code",
   "execution_count": 32,
   "metadata": {},
   "outputs": [
    {
     "name": "stdout",
     "output_type": "stream",
     "text": [
      "[[-5.4062641   6.93380205 -0.23429029  5.58653456 -3.68457809]\n",
      " [ 7.81126537  1.44264164  6.80108833 -6.41264647 -3.55589217]\n",
      " [-2.9033839   9.70968194  4.28034325  8.98252149  1.81938142]]\n"
     ]
    }
   ],
   "source": [
    "# 可以用运算符直接进行计算, 实际上运算符（+-×/）就是函数的语法糖，可以让代码更简单一些\n",
    "print(a+1)"
   ]
  },
  {
   "cell_type": "code",
   "execution_count": 34,
   "metadata": {},
   "outputs": [
    {
     "name": "stdout",
     "output_type": "stream",
     "text": [
      "[[-5.4062641   6.93380205 -0.23429029  5.58653456 -3.68457809]\n",
      " [ 7.81126537  1.44264164  6.80108833 -6.41264647 -3.55589217]\n",
      " [-2.9033839   9.70968194  4.28034325  8.98252149  1.81938142]]\n"
     ]
    }
   ],
   "source": [
    "# np.add\n",
    "print(np.add(a, 1))"
   ]
  },
  {
   "cell_type": "code",
   "execution_count": 35,
   "metadata": {},
   "outputs": [
    {
     "name": "stdout",
     "output_type": "stream",
     "text": [
      "[[-8.4062641   3.93380205 -3.23429029  2.58653456 -6.68457809]\n",
      " [ 4.81126537 -1.55735836  3.80108833 -9.41264647 -6.55589217]\n",
      " [-5.9033839   6.70968194  1.28034325  5.98252149 -1.18061858]]\n"
     ]
    }
   ],
   "source": [
    "# np.subtract\n",
    "print(np.subtract(a, 2))"
   ]
  },
  {
   "cell_type": "code",
   "execution_count": 36,
   "metadata": {},
   "outputs": [
    {
     "name": "stdout",
     "output_type": "stream",
     "text": [
      "[[ 6.4062641  -5.93380205  1.23429029 -4.58653456  4.68457809]\n",
      " [-6.81126537 -0.44264164 -5.80108833  7.41264647  4.55589217]\n",
      " [ 3.9033839  -8.70968194 -3.28034325 -7.98252149 -0.81938142]]\n"
     ]
    }
   ],
   "source": [
    "# np.negative 直接加负号\n",
    "print(np.negative(a))"
   ]
  },
  {
   "cell_type": "code",
   "execution_count": 40,
   "metadata": {},
   "outputs": [
    {
     "name": "stdout",
     "output_type": "stream",
     "text": [
      "[[ 12.81252821 -11.8676041    2.46858057  -9.17306912   9.36915617]\n",
      " [-13.62253073  -0.88528328 -11.60217666  14.82529294   9.11178434]\n",
      " [  7.8067678  -17.41936388  -6.56068649 -15.96504297  -1.63876283]]\n"
     ]
    }
   ],
   "source": [
    "# np.multiply \n",
    "print(np.multiply(a, -2))"
   ]
  },
  {
   "cell_type": "code",
   "execution_count": 41,
   "metadata": {},
   "outputs": [
    {
     "name": "stdout",
     "output_type": "stream",
     "text": [
      "[[-inf  inf -inf  inf -inf]\n",
      " [ inf  inf  inf -inf -inf]\n",
      " [-inf  inf  inf  inf  inf]]\n"
     ]
    },
    {
     "name": "stderr",
     "output_type": "stream",
     "text": [
      "/var/sw/anaconda3/lib/python3.6/site-packages/ipykernel_launcher.py:2: RuntimeWarning: divide by zero encountered in true_divide\n",
      "  \n"
     ]
    }
   ],
   "source": [
    "# np.divide\n",
    "print(np.divide(a, 0))"
   ]
  },
  {
   "cell_type": "code",
   "execution_count": 44,
   "metadata": {},
   "outputs": [
    {
     "name": "stdout",
     "output_type": "stream",
     "text": [
      "[[-4.  2. -1.  2. -3.]\n",
      " [ 3.  0.  2. -4. -3.]\n",
      " [-2.  4.  1.  3.  0.]]\n",
      "[[-4.  2. -1.  2. -3.]\n",
      " [ 3.  0.  2. -4. -3.]\n",
      " [-2.  4.  1.  3.  0.]]\n"
     ]
    }
   ],
   "source": [
    "# np.floor_divide 地板除，取整\n",
    "print(np.floor_divide(a, 2))\n",
    "print(a // 2)"
   ]
  },
  {
   "cell_type": "code",
   "execution_count": 58,
   "metadata": {},
   "outputs": [
    {
     "name": "stdout",
     "output_type": "stream",
     "text": [
      "[[1.5937359  1.93380205 0.76570971 0.58653456 1.31542191]\n",
      " [0.81126537 0.44264164 1.80108833 0.58735353 1.44410783]\n",
      " [0.0966161  0.70968194 1.28034325 1.98252149 0.81938142]]\n",
      "[[1.5937359  1.93380205 0.76570971 0.58653456 1.31542191]\n",
      " [0.81126537 0.44264164 1.80108833 0.58735353 1.44410783]\n",
      " [0.0966161  0.70968194 1.28034325 1.98252149 0.81938142]]\n"
     ]
    }
   ],
   "source": [
    "# np.mod 取余 \n",
    "print(np.mod(a, 2))\n",
    "print(a % 2)"
   ]
  },
  {
   "cell_type": "code",
   "execution_count": 65,
   "metadata": {},
   "outputs": [
    {
     "name": "stdout",
     "output_type": "stream",
     "text": [
      "[[False  True False  True False]\n",
      " [ True  True  True False False]\n",
      " [False  True  True  True  True]]\n",
      "[[False  True False  True False]\n",
      " [ True  True  True False False]\n",
      " [False  True  True  True  True]]\n",
      "[5.93380205 4.58653456 6.81126537 0.44264164 5.80108833 8.70968194\n",
      " 3.28034325 7.98252149 0.81938142]\n",
      "[5.93380205 4.58653456 6.81126537 0.44264164 5.80108833 8.70968194\n",
      " 3.28034325 7.98252149 0.81938142]\n"
     ]
    }
   ],
   "source": [
    "# greater,greater_equal,less,less_equal,equal,not_equal  注意返回值是True或False\n",
    "print(np.greater(a,0))\n",
    "print(a > 0)\n",
    "print(a[a > 0])# 利用判断条件进行切片\n",
    "print(a[np.greater(a,0)])"
   ]
  },
  {
   "cell_type": "code",
   "execution_count": 81,
   "metadata": {},
   "outputs": [
    {
     "name": "stdout",
     "output_type": "stream",
     "text": [
      "[[False False False  True False]\n",
      " [False  True False False False]\n",
      " [False False  True False  True]]\n",
      "[[False False False  True False]\n",
      " [False  True False False False]\n",
      " [False False  True False  True]]\n"
     ]
    }
   ],
   "source": [
    "# logical_and 注意返回值是True或False\n",
    "print(np.logical_and(a>0, a<5))\n",
    "print((a>0) & (a<5))"
   ]
  },
  {
   "cell_type": "code",
   "execution_count": 80,
   "metadata": {},
   "outputs": [
    {
     "name": "stdout",
     "output_type": "stream",
     "text": [
      "[[ True  True  True  True  True]\n",
      " [ True  True  True  True  True]\n",
      " [ True  True  True  True  True]]\n",
      "[[ True  True  True  True  True]\n",
      " [ True  True  True  True  True]\n",
      " [ True  True  True  True  True]]\n"
     ]
    }
   ],
   "source": [
    "# logical_or 注意返回值是True或False\n",
    "print(np.logical_or(a>0, a<5))\n",
    "print((a>0) | (a<5))"
   ]
  },
  {
   "cell_type": "markdown",
   "metadata": {},
   "source": [
    "## 聚合函数：\n",
    "\n",
    "\n",
    "        函数名称                 NAN安全                 版本描述\n",
    "\n",
    "        np.sum                np.nansum              计算元素的和 \n",
    "        np.prod               np.nanprod             计算元素的积 \n",
    "        np.mean               np.nanmean             计算元素的平均值 \n",
    "        np.std                np.nanstd              计算元素的标准差 \n",
    "        np.var                np.nanvar              计算元素的方差 \n",
    "        np.min                np.nanmin              计算元素的最小值 \n",
    "        np.max                np.nanmax              计算元素的最大值 \n",
    "        np.argmin             np.nanargmin           找出最小值的索引 \n",
    "        np.argmax             np.nanargmax           找出最大值的索引 \n",
    "        np.median             np.nanmedian           计算元素的中位数 \n"
   ]
  },
  {
   "cell_type": "code",
   "execution_count": 85,
   "metadata": {},
   "outputs": [
    {
     "name": "stdout",
     "output_type": "stream",
     "text": [
      "[-3.49838264 15.08612563  7.84714129  5.15640958 -8.42108884]\n"
     ]
    }
   ],
   "source": [
    "# np.sum\n",
    "print(np.sum(a, axis=0))"
   ]
  },
  {
   "cell_type": "code",
   "execution_count": 86,
   "metadata": {},
   "outputs": [
    {
     "name": "stdout",
     "output_type": "stream",
     "text": [
      "[ 170.32323851   22.87639653  -23.48800219 -271.3926328    17.48759266]\n"
     ]
    }
   ],
   "source": [
    "# np.prod\n",
    "print(np.prod(a, axis=0))"
   ]
  },
  {
   "cell_type": "code",
   "execution_count": 88,
   "metadata": {},
   "outputs": [
    {
     "name": "stdout",
     "output_type": "stream",
     "text": [
      "1.0780136675609464\n"
     ]
    }
   ],
   "source": [
    "# np.mean\n",
    "print(np.mean(a))"
   ]
  },
  {
   "cell_type": "code",
   "execution_count": 90,
   "metadata": {},
   "outputs": [
    {
     "name": "stdout",
     "output_type": "stream",
     "text": [
      "5.326140534812175\n"
     ]
    }
   ],
   "source": [
    "# np.std 标准差\n",
    "print(np.std(a))"
   ]
  },
  {
   "cell_type": "code",
   "execution_count": 92,
   "metadata": {},
   "outputs": [
    {
     "name": "stdout",
     "output_type": "stream",
     "text": [
      "28.367772996569318\n",
      "28.36777299656932\n"
     ]
    }
   ],
   "source": [
    "# np.var\n",
    "print(np.square(np.std(a)))# 标准差的平方就是方差\n",
    "print(np.var(a))"
   ]
  },
  {
   "cell_type": "code",
   "execution_count": 94,
   "metadata": {},
   "outputs": [
    {
     "name": "stdout",
     "output_type": "stream",
     "text": [
      "[1 2 1 2 2]\n",
      "[0 3 0]\n"
     ]
    }
   ],
   "source": [
    "# np.argmax, np.argmin 注意索引还是从0开始！！！！\n",
    "print(np.argmax(a, axis=0))\n",
    "print(np.argmin(a, axis=1))"
   ]
  },
  {
   "cell_type": "code",
   "execution_count": 97,
   "metadata": {},
   "outputs": [
    {
     "name": "stdout",
     "output_type": "stream",
     "text": [
      "[-3.9033839   5.93380205  3.28034325  4.58653456 -4.55589217]\n",
      "[-1.23429029  0.44264164  3.28034325]\n"
     ]
    }
   ],
   "source": [
    "# np.median 注意中位数是将数组先按数值排大小后，再选择位于数组最中间的那个数，如果数组的数量是偶数就用最中间的两个数除以2得到\n",
    "# 所以中位数不一定是数组里的数！！！\n",
    "print(np.median(a, axis=0))\n",
    "print(np.median(a, axis=1))"
   ]
  },
  {
   "cell_type": "markdown",
   "metadata": {},
   "source": [
    "### 同样 Python 中也内置了 sum 函数，但是Python内置的 sum 函数执行效率没有 np.sum 那么高，差距极大！"
   ]
  },
  {
   "cell_type": "code",
   "execution_count": 142,
   "metadata": {},
   "outputs": [
    {
     "name": "stdout",
     "output_type": "stream",
     "text": [
      "499999500000\n",
      "CPU times: user 520 ms, sys: 0 ns, total: 520 ms\n",
      "Wall time: 527 ms\n"
     ]
    }
   ],
   "source": [
    "# 使用python内置的函数sum\n",
    "%time  print(sum(np.arange(1000000)))"
   ]
  },
  {
   "cell_type": "code",
   "execution_count": 134,
   "metadata": {},
   "outputs": [
    {
     "name": "stdout",
     "output_type": "stream",
     "text": [
      "499999500000\n",
      "CPU times: user 2.17 ms, sys: 184 µs, total: 2.35 ms\n",
      "Wall time: 2.06 ms\n"
     ]
    }
   ],
   "source": [
    "# 使用numpy.sum\n",
    "%time  print(np.sum(np.arange(1000000)))"
   ]
  },
  {
   "cell_type": "markdown",
   "metadata": {},
   "source": [
    "## 布尔数组的函数\n",
    "\n",
    "\n",
    "        函数名称             描述\n",
    "\n",
    "        np.any       验证任何一个元素是否为真 \n",
    "        np.all       验证所有元素是否为真 \n"
   ]
  },
  {
   "cell_type": "code",
   "execution_count": 146,
   "metadata": {},
   "outputs": [
    {
     "name": "stdout",
     "output_type": "stream",
     "text": [
      "False\n",
      "True\n"
     ]
    }
   ],
   "source": [
    "# 比如想看下数组中是不是所有元素都为0\n",
    "b = np.arange(10)\n",
    "print(b.all())\n",
    "# 再比如我们想要看数组中是否有等于0的数\n",
    "print(b.any())"
   ]
  },
  {
   "cell_type": "code",
   "execution_count": 149,
   "metadata": {},
   "outputs": [
    {
     "name": "stdout",
     "output_type": "stream",
     "text": [
      "False\n",
      "True\n"
     ]
    }
   ],
   "source": [
    "print((a>0).all())\n",
    "print((a>0).any())"
   ]
  },
  {
   "cell_type": "code",
   "execution_count": 151,
   "metadata": {},
   "outputs": [
    {
     "name": "stdout",
     "output_type": "stream",
     "text": [
      "False\n",
      "True\n"
     ]
    }
   ],
   "source": [
    "print(np.all(a>0))\n",
    "print(np.any(a>0))"
   ]
  },
  {
   "cell_type": "markdown",
   "metadata": {},
   "source": [
    "## 排序：\n",
    "- np.sort ：\n",
    "    - 指定轴进行排序。默认是使用数组的最后一个轴进行排序。\n",
    "    - 还有 ndarray.sort() ，这个方法会直接影响到原来的数组，而不是返回一个新的排序后的数组。\n",
    "- np.argsort ：\n",
    "    - 返回排序后的索引下标值。\n",
    "- 降序排序： \n",
    "    - np.sort 默认会采用升序排序。\n",
    "    - 如果我们想采用降序排序，那么可以采用以下方案来实现：\n",
    "        - 使用负号\n",
    "            - np.sort(-a)\n",
    "        - 使用sort和argsort以及take\n",
    "            - indexes = np.argsort(-a) #排序后的结果就是降序的\n",
    "            - np.take(a,indexes) #从a中根据下标提取相应的元素\n",
    "            "
   ]
  },
  {
   "cell_type": "code",
   "execution_count": 155,
   "metadata": {},
   "outputs": [
    {
     "name": "stdout",
     "output_type": "stream",
     "text": [
      "[[-6.4062641  -4.68457809 -1.23429029  4.58653456  5.93380205]\n",
      " [-7.41264647 -4.55589217  0.44264164  5.80108833  6.81126537]\n",
      " [-3.9033839   0.81938142  3.28034325  7.98252149  8.70968194]]\n",
      "[[-6.4062641   0.44264164 -1.23429029 -7.41264647 -4.68457809]\n",
      " [-3.9033839   5.93380205  3.28034325  4.58653456 -4.55589217]\n",
      " [ 6.81126537  8.70968194  5.80108833  7.98252149  0.81938142]]\n",
      "[[-6.4062641   5.93380205 -1.23429029  4.58653456 -4.68457809]\n",
      " [ 6.81126537  0.44264164  5.80108833 -7.41264647 -4.55589217]\n",
      " [-3.9033839   8.70968194  3.28034325  7.98252149  0.81938142]]\n"
     ]
    }
   ],
   "source": [
    "# np.sort\n",
    "print(np.sort(a))# 如果没有指定轴，则默认以最里面的轴进行排序，即axis=1\n",
    "print(np.sort(a, axis=0))\n",
    "print(a)# 此方法不会更改数组本身！！！"
   ]
  },
  {
   "cell_type": "code",
   "execution_count": 163,
   "metadata": {},
   "outputs": [
    {
     "name": "stdout",
     "output_type": "stream",
     "text": [
      "[[6 9 2 6 9]\n",
      " [8 4 9 5 3]\n",
      " [4 2 4 5 0]]\n",
      "None\n",
      "[[4 2 2 5 0]\n",
      " [6 4 4 5 3]\n",
      " [8 9 9 6 9]]\n"
     ]
    }
   ],
   "source": [
    "# ndarray.sort()\n",
    "b = np.random.randint(10, size=(3,5))\n",
    "print(b)\n",
    "print(b.sort(axis=0))# 注意此方法无返回值，直接修改原数组\n",
    "print(b)"
   ]
  },
  {
   "cell_type": "code",
   "execution_count": 166,
   "metadata": {},
   "outputs": [
    {
     "name": "stdout",
     "output_type": "stream",
     "text": [
      "[[0 1 0 1 0]\n",
      " [2 0 2 0 1]\n",
      " [1 2 1 2 2]]\n"
     ]
    }
   ],
   "source": [
    "# np.argsort\n",
    "print(np.argsort(a, axis=0))# 注意返回的是从小到大排列后的索引值（从0开始）"
   ]
  },
  {
   "cell_type": "code",
   "execution_count": 185,
   "metadata": {},
   "outputs": [
    {
     "name": "stdout",
     "output_type": "stream",
     "text": [
      "[[ 5.93380205  4.58653456 -1.23429029 -4.68457809 -6.4062641 ]\n",
      " [ 6.81126537  5.80108833  0.44264164 -4.55589217 -7.41264647]\n",
      " [ 8.70968194  7.98252149  3.28034325  0.81938142 -3.9033839 ]]\n"
     ]
    }
   ],
   "source": [
    "# 降序排序\n",
    "# 1.加负号，加两次，就变成原数组从大到小排序了\n",
    "print(-np.sort(-a))"
   ]
  },
  {
   "cell_type": "code",
   "execution_count": 187,
   "metadata": {
    "collapsed": true
   },
   "outputs": [],
   "source": [
    "# 降序排序\n",
    "# 2.使用sort和argsort以及take\n",
    "indexs = np.argsort(-a)# 此时相当于是降序排序的索引\n"
   ]
  },
  {
   "cell_type": "markdown",
   "metadata": {},
   "source": [
    "## 其他函数补充：\n",
    "- np.apply_along_axis ：\n",
    "    - 沿着某个轴执行指定的函数.\n",
    "- np.linspace ：\n",
    "    - 用来将指定区间内的值平均分成多少份\n",
    "- np.unique ：\n",
    "    - 返回数组中的唯一值, 并且会返回每个唯一值出现的次数。"
   ]
  },
  {
   "cell_type": "code",
   "execution_count": 188,
   "metadata": {},
   "outputs": [
    {
     "name": "stdout",
     "output_type": "stream",
     "text": [
      "[[98 37 67 27 89  7 43 96 52 63 59 37 54 45 97 19 35 54  8 60]\n",
      " [62  8 37 63 79 39 15 18 54 55 28 17 59 85 15 20 43 21 78 45]\n",
      " [28 13 84 88 27 49 22 41 23 92 34  4 72 50 83 16 10 59 24 42]]\n"
     ]
    }
   ],
   "source": [
    "c = np.random.randint(100, size=(3,20))\n",
    "print(c)"
   ]
  },
  {
   "cell_type": "code",
   "execution_count": 196,
   "metadata": {},
   "outputs": [
    {
     "name": "stdout",
     "output_type": "stream",
     "text": [
      "[52.33333333 41.55555556 42.5       ]\n"
     ]
    }
   ],
   "source": [
    "# np.apply_along_axis 可以沿着某个轴执行函数\n",
    "def get_mean(x):\n",
    "    y = x[(x!=np.max(x)) & (x!=np.min(x))].mean()# 去除最大值和最小值后取平均值\n",
    "#     print(y)\n",
    "#     print(\"====\" * 20)\n",
    "    return y\n",
    "print(np.apply_along_axis(get_mean, axis=1, arr=c))# 对c数组中的每一行(axis=1)执行get_mean()函数"
   ]
  },
  {
   "cell_type": "code",
   "execution_count": 203,
   "metadata": {},
   "outputs": [
    {
     "name": "stdout",
     "output_type": "stream",
     "text": [
      "[52.33333333 41.55555556 42.5       ]\n"
     ]
    }
   ],
   "source": [
    "# 使用lambda匿名函数\n",
    "print(np.apply_along_axis(lambda x: x[(x!=np.max(x)) & (x!=np.min(x))].mean(), axis=1, arr=c))"
   ]
  },
  {
   "cell_type": "code",
   "execution_count": 211,
   "metadata": {},
   "outputs": [
    {
     "name": "stdout",
     "output_type": "stream",
     "text": [
      "[ 0.  1.  2.  3.  4.  5.  6.  7.  8.  9. 10.]\n",
      "[ 1.  2.  3.  4.  5.  6.  7.  8.  9. 10.]\n"
     ]
    }
   ],
   "source": [
    "# np.linspace 用来将指定区间内的值平均分成多少份\n",
    "# 注意这个函数里的取值区间是-----------------------------------------------左右都包括的！！！！！！\n",
    "# 注意这个函数里的取值区间是-----------------------------------------------左右都包括的！！！！！！\n",
    "# 注意这个函数里的取值区间是-----------------------------------------------左右都包括的！！！！！！\n",
    "print(np.linspace(0, 10, 11))# 将包含0~10区间内的值平均等分成11份\n",
    "print(np.linspace(1, 10, 10))# 将包含1~10区间内的值平均等分成10份"
   ]
  },
  {
   "cell_type": "code",
   "execution_count": 222,
   "metadata": {},
   "outputs": [
    {
     "name": "stdout",
     "output_type": "stream",
     "text": [
      "[[4 4 6 9 0]\n",
      " [9 0 8 3 5]\n",
      " [3 8 9 5 1]]\n",
      "[0 1 3 4 5 6 8 9]\n",
      "(array([0, 1, 3, 4, 5, 6, 8, 9]), array([2, 1, 2, 2, 2, 1, 2, 3]))\n"
     ]
    }
   ],
   "source": [
    "# np.unique 返回数组中的唯一值, 并且会返回每个唯一值出现的次数\n",
    "d = np.random.randint(10, size=(3,5))\n",
    "print(d)\n",
    "print(np.unique(d))# 返回数组中的唯一值\n",
    "print(np.unique(d, return_counts=True))# 返回数组中的唯一值, 并且返回每个唯一值出现的次数"
   ]
  },
  {
   "cell_type": "markdown",
   "metadata": {},
   "source": [
    "### 更多：\n",
    "- https://docs.scipy.org/doc/numpy/reference/index.html"
   ]
  }
 ],
 "metadata": {
  "kernelspec": {
   "display_name": "Python 3",
   "language": "python",
   "name": "python3"
  },
  "language_info": {
   "codemirror_mode": {
    "name": "ipython",
    "version": 3
   },
   "file_extension": ".py",
   "mimetype": "text/x-python",
   "name": "python",
   "nbconvert_exporter": "python",
   "pygments_lexer": "ipython3",
   "version": "3.6.3"
  }
 },
 "nbformat": 4,
 "nbformat_minor": 2
}
