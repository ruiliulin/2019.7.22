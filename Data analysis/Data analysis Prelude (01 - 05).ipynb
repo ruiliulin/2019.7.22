{
 "cells": [
  {
   "cell_type": "markdown",
   "metadata": {},
   "source": [
    "# 数据分析介绍\n"
   ]
  },
  {
   "cell_type": "markdown",
   "metadata": {},
   "source": [
    "## 什么是数据分析\n",
    "\n",
    "- 数据分析是指用适当的统计分析方法对收集来的大量数据进行分析，提取有用信息和形成结论而对数据加以详细研究和概括总结的过程。\n",
    "- 数据分析的目的有多种，概括起来有三种：\n",
    "    - 现状分析：现状分析简单来说就是告诉你过去发生了什么。\n",
    "    - 原因分析：原因分析简单来说就是告诉你某一现状为什么发生。\n",
    "    - 预测分析：预测分析简单来说就是预测未来会发生什么。\n",
    "    "
   ]
  },
  {
   "cell_type": "markdown",
   "metadata": {},
   "source": [
    "## 数据分析步骤：\n",
    "\n",
    "- 数据分析主要有六个过程： \n",
    "    - 1.需求明确：明确做数据分析的目标。为后面的分析过程做好铺垫。 \n",
    "    - 2.数据收集：通过爬虫、商务合作的方式，获取想要的数据。 \n",
    "    - 3.数据处理：对获取来的数据进行处理和清洗，把不需要的剔除掉，把需要的加工成我们想要的。方便后面的分析。 \n",
    "    - 4.数据分析：根据自己的目的，以及现有的数据确定好分析的方法。 \n",
    "    - 5.数据展现：将数据按照确定好的分析方法展示出来。 \n",
    "    - 6.撰写报告：将分析的结果通过图表和文字的方式形成报告文档。\n",
    "    "
   ]
  },
  {
   "cell_type": "markdown",
   "metadata": {},
   "source": [
    "## 数据分析的误区：\n",
    "\n",
    "- 1.分析目的不明确，为分析而分析：\n",
    "    - 一定要找准自己分析数据的目标而去分析，比如是要了解现状，还是找出原因，还是预测未来发展等，千万不要为了分析而分析，这样就偏离主题了。\n",
    "- 2.缺乏业务知识，分析结果偏离实际：\n",
    "    - 分析数据的时候，一定要和公司的业务结合起来。如果脱离业务，即使数据分析方法再牛逼，图标再优美，也无济于事。\n",
    "- 3.追求高级分析方法：\n",
    "    - 一些人喜欢用一些高级的分析方法，认为只有这样才能体现专业性。其实高级的数据分析方法不一定是最好的，能够简单有效的解决问题的方法才是最好的。\n",
    "    "
   ]
  },
  {
   "cell_type": "markdown",
   "metadata": {},
   "source": [
    "## 数据分析的方法和工具：\n",
    "\n",
    "- 数据分析可以通过工具，也可以通过代码来实现。以下分别列出这些常用的： \n",
    "    - 1.工具：Excel、Tableau、SPSS、百度图说等。 \n",
    "    - 2.编程：Python语言、R语言、数据库的SQL语言、Excel的VBA语言等。\n",
    "    "
   ]
  },
  {
   "cell_type": "markdown",
   "metadata": {},
   "source": [
    "## 工具和代码该怎么选：\n",
    "\n",
    "- 两者没有好坏之分，只有合适之分。\n",
    "- 数据分析总体来讲有两个模块，一个是数据处理，一个是可视化。\n",
    "- 如果数据已经经过处理了，并且手头上的软件可以直接非常方便的做可视化处理，那么我们用软件实现就可以。如果数据没有经过处理，那么最好通过python或者r对数据进行有一些处理，然后再通过软件可视化。或者软件的可视化无法满足我们的要求，那么可以通过代码来实现。总而言之，工具功能无法100%的满足你的要求，但是效率高。代码做数据处理比较好，最数据可视化比较繁琐，但是DIY属性强！\n"
   ]
  },
  {
   "cell_type": "markdown",
   "metadata": {},
   "source": [
    "## Anaconda\n",
    "\n",
    "- Anaconda（水蟒） 是一个捆绑了 Python 、 conda 、其他相关依赖包的一个软件。包含了180多个可学计算包及其依赖。 \n",
    "- Anaconda3 是集成了 Python3 的环境， Anaconda2 是集成了 Python2 的环境。 \n",
    "- Anaconda 默认集成的包，是属于内置的 Python 的包。并且支持绝大部分操作系统（比如：Windows、Mac、Linux等）。\n",
    "- 下载地址如下： https://www.anaconda.com/distribution/ \n",
    "- 如果官网下载太慢，可以在清华大学开源软件站中下载： https://mirrors.tuna.tsinghua.edu.cn/anaconda/archive/ \n",
    "- 在安装完成后，会有以下几个模块： \n",
    "    - Anaconda prompt \n",
    "    - Anaconda Navigator \n",
    "    - Spyder\n",
    "    - jupyter notebook\n"
   ]
  },
  {
   "cell_type": "markdown",
   "metadata": {},
   "source": [
    "## Anaconda prompt\n",
    "\n",
    "- Anaconda prompt 是专门用来操作 anaconda 的终端。\n",
    "- 如果你安装完 Anaconda 后没有在环境变量的 PATH 中添加相关的环境变量，那么以后你想在终端使用 anaconda 相关的命令，则必须要在 Anaconda prompt 中完成。\n"
   ]
  },
  {
   "cell_type": "markdown",
   "metadata": {},
   "source": [
    "## Anaconda Navigator\n",
    "\n",
    "- 这个相当于是一个导航面板，上面组织了 Anaconda 相关的软件。\n"
   ]
  },
  {
   "cell_type": "markdown",
   "metadata": {},
   "source": [
    "## Spyder\n",
    "\n",
    "- 一个专门开发 Python 的软件，熟悉 MATLAB 的同学会比较有亲切感，但在后期的学习过程中，我们将不会使用这个工具写代码，因为还有更好的可替代的工具。\n"
   ]
  },
  {
   "cell_type": "markdown",
   "metadata": {},
   "source": [
    "## jupyter notebook\n",
    "\n",
    "- 一个Python编辑环境，可以实时的查看代码的运行效果。\n",
    "\n",
    "### 使用jupyter notebook的姿势：\n",
    "- 1.先打开 Anaconda Prompt ，然后进入到项目所在的目录。\n",
    "- 2.输入命令 jupyter notebook 打开 jupyter notebook 浏览器。\n"
   ]
  },
  {
   "cell_type": "markdown",
   "metadata": {},
   "source": [
    "## conda基本使用：\n",
    "\n",
    "- conda 伴随着 Anaconda 安装而自动安装的。 \n",
    "- conda 可以跟 virtualenv 一样管理不同的环境，也可以跟 pip 一样管理某个环境下的包。以下来看看两个功能的用法:\n",
    "    - 1.环境管理：\n",
    "        - conda 能跟 virtualenv 一样管理不同的 Python 环境，不同的环境之间是互相隔离，互不影响的。为什么需要创建不同的环境呢？原因是有时候项目比较多，但是项目依赖的包不一样，比如 A 项目用的是 Python2 开发的，而 B 项目用的是 Python3 开发的，那么我们在同一台电脑上就需要两套不同的环境来支撑他们运行了。\n",
    "        - 创建环境的基本命令如下：     \n",
    "            -  # conda create --name [环境名称] 比如以下：\n",
    "            -  conda create --name da-env\n",
    "        - 这样将创建一个叫做 da-env 的环境，这个环境的 python 解释器根据 anaconda 来，如果 anaconda 为 3.7，那么将默认使用 3.7的环境，如果 anaconda 内置的是 2.7，那么将默认使用 2.7的环境。然后你就可以使用 conda install numpy 的方式来安装包了，并且这样安装进来的包，只会安装在当前环境中。有的同学可能有想问，如果想要装一个 Python2.7 的环境， anaconda 中没有内置 Python2.7 ，那么该怎么实现呢？实际上，我们只需要在安装的时候指定 python 的版本，如果这个版本现在不存在，那么 anaconda 会自动的给我们下载。所以安装 Python2.7 的环境，使用以下代码即可实现：\n",
    "            - conda create --name xxx python=2.7\n",
    "        - 以下再列出 conda 管理环境的其他命令：\n",
    "            - 1.创建的时候指定需要安装的包：\n",
    "                 - conda create --name xxx numpy pandas\n",
    "            - 2.创建的时候既需要指定包，也需要指定python环境：\n",
    "                 - conda create --name xxx python=3.7 numpy pandas\n",
    "            - 3.进入到某个环境\n",
    "                 - windows: activate xxx\n",
    "                 - mac/linux: source activate xxx\n",
    "            - 4.退出环境：\n",
    "                 - deactivate\n",
    "            - 5.列出当前所有的环境：\n",
    "                - conda env list\n",
    "            - 6.移除某个环境：\n",
    "                - conda remove --name xxx --all\n",
    "            - 7.环境下的包导出和导入：\n",
    "                - 导出： conda env export > environment.yml \n",
    "                - 导入： conda env create --name xxx -f environment.yml \n",
    "\n",
    "    - 2.包管理：\n",
    "        - conda 也可以用来管理包。比如我们创建完一个新的环境后，想要在这个环境中安装包（比如numpy），那么可以通过以下代码来实现：\n",
    "            - activate xxx\n",
    "            - conda install numpy\n",
    "        - 以下再介绍一些包管理常用的命令：\n",
    "            - 1.在不进入某个环境下直接给这个环境安装包：\n",
    "                - conda install [包名] -n [环境名]\n",
    "            - 2.列出该环境下所有的包：\n",
    "                - conda list\n",
    "            - 3.卸载某个包：\n",
    "                - conda remove [包名]\n",
    "            - 4.设置安装包的源：\n",
    "                - conda config --add channels https://mirrors.tuna.tsinghua.edu.cn/anaconda/pkgs/free/\n",
    "                - conda config --add channels https://mirrors.tuna.tsinghua.edu.cn/anaconda/pkgs/main/\n",
    "                - conda config --set show_channel_urls yes\n"
   ]
  },
  {
   "cell_type": "markdown",
   "metadata": {},
   "source": [
    "## Jupyter notebook使用\n",
    "- 常用快捷键：\n",
    "    - 命令模式（按Esc键）：\n",
    "        - Enter：转入编辑模式\n",
    "        - Shift-Enter：运行本单元，选中下个单元\n",
    "        - Ctrl-Enter：运行本单元\n",
    "        - Alt-Enter：运行本单元，在其下插入新单元\n",
    "        - Y：单元转入代码状态\n",
    "        - M：单元转入markdown状态\n",
    "        - R：单元转入raw状态\n",
    "        - 1：设定 1 级标题\n",
    "        - 2：设定 2 级标题\n",
    "        - 3：设定 3 级标题\n",
    "        - 4：设定 4 级标题\n",
    "        - 5：设定 5 级标题\n",
    "        - 6：设定 6 级标题\n",
    "        - Up：选中上方单元\n",
    "        - K：选中上方单元\n",
    "        - Down：选中下方单元\n",
    "        - J：选中下方单元\n",
    "        - Shift-K：扩大选中上方单元\n",
    "        - Shift-J：扩大选中下方单元\n",
    "        - A：在上方插入新单元\n",
    "        - B：在下方插入新单元\n",
    "        - X：剪切选中的单元\n",
    "        - C：复制选中的单元\n",
    "        - Shift-V：粘贴到上方单元\n",
    "        - V：粘贴到下方单元\n",
    "        - Z：恢复删除的最后一个单元\n",
    "        - D,D：删除选中的单元\n",
    "        - Shift-M：合并选中的单元\n",
    "        - Ctrl-S：文件存盘\n",
    "        - S：文件存盘\n",
    "        - L：转换行号\n",
    "        - O：转换输出\n",
    "        - Shift-O：转换输出滚动\n",
    "        - Esc：关闭页面\n",
    "        - Q：关闭页面\n",
    "        - H：显示快捷键帮助\n",
    "        - I,I：中断Notebook内核\n",
    "        - 0,0：重启Notebook内核\n",
    "        - Shift：忽略\n",
    "        - Shift-Space：向上滚动\n",
    "        - Space：向下滚动\n",
    "\n",
    "    - 编辑模式：\n",
    "        - Tab : 代码补全或缩进\n",
    "        - Shift-Tab : 提示\n",
    "        - Ctrl-] : 缩进\n",
    "        - Ctrl-[ : 解除缩进\n",
    "        - Ctrl-A : 全选\n",
    "        - Ctrl-Z : 复原\n",
    "        - Ctrl-Shift-Z : 再做\n",
    "        - Ctrl-Y : 再做\n",
    "        - Ctrl-Home : 跳到单元开头\n",
    "        - Ctrl-Up : 跳到单元开头\n",
    "        - Ctrl-End : 跳到单元末尾\n",
    "        - Ctrl-Down : 跳到单元末尾\n",
    "        - Ctrl-Left : 跳到左边一个字首\n",
    "        - Ctrl-Right : 跳到右边一个字首\n",
    "        - Ctrl-Backspace : 删除前面一个字\n",
    "        - Ctrl-Delete : 删除后面一个字\n",
    "        - Esc : 进入命令模式\n",
    "        - Ctrl-M : 进入命令模式\n",
    "        - Shift-Enter : 运行本单元，选中下一单元\n",
    "        - Ctrl-Enter : 运行本单元\n",
    "        - Alt-Enter : 运行本单元，在下面插入一单元\n",
    "        - Ctrl-Shift-- : 分割单元\n",
    "        - Ctrl-Shift-Subtract : 分割单元\n",
    "        - Ctrl-S : 文件存盘\n",
    "        - Shift : 忽略\n",
    "        - Up : 光标上移或转入上一单元\n",
    "        - Down :光标下移或转入下一单元\n"
   ]
  },
  {
   "cell_type": "code",
   "execution_count": 1,
   "metadata": {
    "collapsed": true
   },
   "outputs": [],
   "source": [
    "# jupyter notebook注意事项：\n",
    "# jupyter notebook 每一个 cell 运行完后都会把这个 cell 中的变量保存到内存中，\n",
    "# 如果在一个 cell 中修改了之前的变量，再此运行这个 cell 的时候可能会导致一些问题产生。比如以下代码：\n"
   ]
  },
  {
   "cell_type": "code",
   "execution_count": 2,
   "metadata": {
    "collapsed": true
   },
   "outputs": [],
   "source": [
    "a = 10 \n",
    "b = 5"
   ]
  },
  {
   "cell_type": "code",
   "execution_count": 3,
   "metadata": {},
   "outputs": [
    {
     "name": "stdout",
     "output_type": "stream",
     "text": [
      "2.0\n"
     ]
    }
   ],
   "source": [
    "c = a / b\n",
    "print(c)\n",
    "b = 0\n"
   ]
  },
  {
   "cell_type": "code",
   "execution_count": 4,
   "metadata": {
    "collapsed": true
   },
   "outputs": [],
   "source": [
    "# 因为第二个 cell 修改了 b 变量，此时在整个环境中 b 都是等于0的，所以以后再运行这个 cell 的时候， a/b 这个就会出问题了。\n",
    "# 这时候可以使用 Kernel->Rstart&Run All 来重新运行整个项目。"
   ]
  },
  {
   "cell_type": "code",
   "execution_count": 6,
   "metadata": {},
   "outputs": [
    {
     "name": "stdout",
     "output_type": "stream",
     "text": [
      "[0 1 2 3 4 5 6 7 8 9]\n"
     ]
    }
   ],
   "source": [
    "import numpy as np\n",
    "\n",
    "a = np.arange(10)\n",
    "print(a)"
   ]
  },
  {
   "cell_type": "code",
   "execution_count": null,
   "metadata": {
    "collapsed": true
   },
   "outputs": [],
   "source": []
  }
 ],
 "metadata": {
  "kernelspec": {
   "display_name": "Python 3",
   "language": "python",
   "name": "python3"
  },
  "language_info": {
   "codemirror_mode": {
    "name": "ipython",
    "version": 3
   },
   "file_extension": ".py",
   "mimetype": "text/x-python",
   "name": "python",
   "nbconvert_exporter": "python",
   "pygments_lexer": "ipython3",
   "version": "3.6.3"
  }
 },
 "nbformat": 4,
 "nbformat_minor": 2
}
