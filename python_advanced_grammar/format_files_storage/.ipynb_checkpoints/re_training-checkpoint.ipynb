{
 "cells": [
  {
   "cell_type": "markdown",
   "metadata": {},
   "source": [
    "# RE使用大致步骤\n",
    "1. 使用compile将表示正则的字符串编译为一个pattern对象\n",
    "2. 通过pattern对象提供一系列方法对文本进行查找匹配，获得匹配效果，一个Match对象\n",
    "3. 最后使用Match对象提供的属性和方法获得信息，根据需要进行操作\n",
    "\n",
    "\n",
    "# RE常用函数\n",
    "- group(): 获得一个或多个分组匹配的字符串，当要获得整个匹配的子串时，直接使用group或者group(0)\n",
    "- start: 获取分组匹配的子串在整个字符串中的起始位置，参数默认是0\n",
    "- end: 获取分组匹配的子串在整个字符串中的结束位置，参数默认是0\n",
    "- span: 返回的结构技术(start(group), end(group))\n",
    " "
   ]
  },
  {
   "cell_type": "code",
   "execution_count": 11,
   "metadata": {},
   "outputs": [
    {
     "name": "stdout",
     "output_type": "stream",
     "text": [
      "None\n"
     ]
    }
   ],
   "source": [
    "# 导入相关包\n",
    "import re\n",
    "\n",
    "# 查找数字\n",
    "# r表示字符串不转义\n",
    "p = re.compile(r'\\d+')\n",
    "# 在字符串’one12twothree33456four78‘中进行查找，按照规则p制定的正则进行查找\n",
    "# 返回结果是None的话表示没有找到，否则会返回match对象\n",
    "m = p.match(\"one12twothree33456four78\")\n",
    "\n",
    "print(m)"
   ]
  },
  {
   "cell_type": "code",
   "execution_count": 12,
   "metadata": {},
   "outputs": [
    {
     "name": "stdout",
     "output_type": "stream",
     "text": [
      "<_sre.SRE_Match object; span=(3, 5), match='12'>\n"
     ]
    }
   ],
   "source": [
    "# 导入相关包\n",
    "import re\n",
    "\n",
    "# 查找数字\n",
    "# r表示字符串不转义\n",
    "p = re.compile(r'\\d+')\n",
    "# 在字符串’one12twothree33456four78‘中进行查找，按照规则p制定的正则进行查找\n",
    "# 返回结果是None的话表示没有找到，否则会返回match对象\n",
    "# 参数3和18表示在字符串中查找的范围（3-18）\n",
    "m = p.match(\"one12twothree33456four78\", 3, 18)\n",
    "\n",
    "print(m)\n",
    "\n",
    "# 上述代码说明的问题\n",
    "# 1. match可以输入参数表示起始位置\n",
    "# 2. 查找到的结果只包含一个，表示第一次进行匹配成功的内容"
   ]
  },
  {
   "cell_type": "code",
   "execution_count": 15,
   "metadata": {},
   "outputs": [
    {
     "name": "stdout",
     "output_type": "stream",
     "text": [
      "12\n",
      "3\n",
      "5\n"
     ]
    }
   ],
   "source": [
    "print(m[0])\n",
    "print(m.start(0))\n",
    "print(m.end(0))"
   ]
  },
  {
   "cell_type": "code",
   "execution_count": 27,
   "metadata": {},
   "outputs": [
    {
     "name": "stdout",
     "output_type": "stream",
     "text": [
      "<_sre.SRE_Match object; span=(0, 4), match='I am'>\n",
      "('I', 'am')\n",
      "I am\n",
      "0\n",
      "4\n",
      "******************************\n",
      "I\n",
      "0\n",
      "1\n",
      "******************************\n",
      "am\n",
      "2\n",
      "4\n"
     ]
    }
   ],
   "source": [
    "import re\n",
    "\n",
    "# I表示忽略大小写 \n",
    "p = re.compile(r'([a-z]+) ([a-z]+)', re.I)\n",
    "\n",
    "m = p.match(\"I am really like wangerqing\")\n",
    "print(m)\n",
    "print(m.groups())\n",
    "print(m.group(0))\n",
    "print(m.start(0))\n",
    "print(m.end(0))\n",
    "\n",
    "print(\"*\" * 30)\n",
    "\n",
    "print(m.group(1))\n",
    "print(m.start(1))\n",
    "print(m.end(1))\n",
    "\n",
    "print(\"*\" * 30)\n",
    "\n",
    "print(m.group(2))\n",
    "print(m.start(2))\n",
    "print(m.end(2))"
   ]
  },
  {
   "cell_type": "markdown",
   "metadata": {},
   "source": [
    "# 查找\n",
    "- search(str, [, pos[, endpos]]): 在字符串中查找匹配，pos和endpos表示起始和结束位置\n",
    "- findall: 查找所有\n",
    "- finditer: 查找，返回一个iter结果"
   ]
  },
  {
   "cell_type": "code",
   "execution_count": 31,
   "metadata": {},
   "outputs": [
    {
     "name": "stdout",
     "output_type": "stream",
     "text": [
      "12\n",
      "<class 'list'>\n",
      "['12', '34', '567']\n"
     ]
    }
   ],
   "source": [
    "import re\n",
    "\n",
    "p = re.compile(r'\\d+')\n",
    "\n",
    "\n",
    "m = p.search(\"one12two34three567four\")\n",
    "\n",
    "print(m.group())\n",
    "\n",
    "rst = p.findall(\"one12two34three567four\")\n",
    "print(type(rst))\n",
    "print(rst)\n",
    "\n"
   ]
  },
  {
   "cell_type": "markdown",
   "metadata": {},
   "source": [
    "# sub 替换\n",
    "- sub(rep1, str[, count])"
   ]
  },
  {
   "cell_type": "code",
   "execution_count": 33,
   "metadata": {},
   "outputs": [
    {
     "name": "stdout",
     "output_type": "stream",
     "text": [
      "<class 'str'>\n",
      "hello world hello world xiaojing, hello world you\n"
     ]
    }
   ],
   "source": [
    "# sub 替换案例\n",
    "import re\n",
    "\n",
    "p = re.compile(r'(\\w+) (\\w+)')\n",
    "\n",
    "s = \"hello 123 wang 456 xiaojing, i love you\"\n",
    "\n",
    "rst = p.sub(\"hello world\", s)\n",
    "print(type(rst))\n",
    "print(rst)"
   ]
  },
  {
   "cell_type": "markdown",
   "metadata": {},
   "source": [
    "# 匹配中文\n",
    "- 大部分中文表示范围是[u4e00-u9fa5]，不包括全角标点"
   ]
  },
  {
   "cell_type": "code",
   "execution_count": 37,
   "metadata": {},
   "outputs": [
    {
     "name": "stdout",
     "output_type": "stream",
     "text": [
      "['世界', '你好']\n"
     ]
    }
   ],
   "source": [
    "import re\n",
    "\n",
    "\n",
    "title = u'世界 你好，hello moto'\n",
    "\n",
    "p = re.compile(r'[\\u4e00-\\u9fa5]+')\n",
    "rst = p.findall(title)\n",
    "\n",
    "print(rst)\n"
   ]
  },
  {
   "cell_type": "markdown",
   "metadata": {},
   "source": [
    "# 贪婪和非贪婪\n",
    "- 贪婪：尽可能多的匹配，(*)表示贪婪匹配\n",
    "- 非贪婪：找到符合条件的最小内容即可，(?)表示非贪婪\n",
    "- 正则默认使用贪婪匹配"
   ]
  },
  {
   "cell_type": "code",
   "execution_count": 48,
   "metadata": {},
   "outputs": [
    {
     "name": "stdout",
     "output_type": "stream",
     "text": [
      "<div>name</div><div>age</div>\n",
      "<div>name</div>\n"
     ]
    }
   ],
   "source": [
    "import re\n",
    "\n",
    "\n",
    "title = u\"<div>name</div><div>age</div>\"\n",
    "\n",
    "p1 = re.compile(r\"<div>.*</div>\")\n",
    "p2 = re.compile(r\"<div>.*?</div>\")\n",
    "\n",
    "m1 = p1.search(title)\n",
    "print(m1.group())\n",
    "\n",
    "m2 = p2.search(title)\n",
    "print(m2.group())\n"
   ]
  }
 ],
 "metadata": {
  "kernelspec": {
   "display_name": "Python 3",
   "language": "python",
   "name": "python3"
  },
  "language_info": {
   "codemirror_mode": {
    "name": "ipython",
    "version": 3
   },
   "file_extension": ".py",
   "mimetype": "text/x-python",
   "name": "python",
   "nbconvert_exporter": "python",
   "pygments_lexer": "ipython3",
   "version": "3.6.3"
  }
 },
 "nbformat": 4,
 "nbformat_minor": 2
}
