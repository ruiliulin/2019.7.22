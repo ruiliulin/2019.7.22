{
 "cells": [
  {
   "cell_type": "markdown",
   "metadata": {},
   "source": [
    "# 异常\n",
    "- 广义上的错误分为错误和异常\n",
    "- 错误指的是可以人为避免\n",
    "- 异常是指在语法逻辑正确的前提下，出现的问题\n",
    "- 在Python里，异常是一个类，可以处理和使用"
   ]
  },
  {
   "cell_type": "markdown",
   "metadata": {},
   "source": [
    "##  异常的分类\n",
    "\n",
    "        - AssertError 断句语句（assert）失败\n",
    "        - AttributeError 尝试访问未知的对象属性\n",
    "        - EOFError 用户输入文件末尾标志EOF（Ctrl+d）\n",
    "        - FloatingPointError 浮点计算错误\n",
    "        - GeneratorExit generator.close()方法被调用的时候\n",
    "        - ImportError 导入模块失败的时候\n",
    "        - IndexError 索引超出序列的范围\n",
    "        - KeyError 字典中查找一个不存在的关键字\n",
    "        - KeyboardInterrupt 用户输入中断键（Ctrl+c)\n",
    "        - MemoryError 内存溢出（可通过删除对象释放内存\n",
    "        - NameError 尝试访问一个不存在的变量\n",
    "        - NotImplementedError 尚未实现的方法\n",
    "        - OSError 操作系统产生的异常（例如打开一个不存在的文件）\n",
    "        - OverflowError 数值运算超出最大限制\n",
    "        - ReferenceError 弱引用（weak reference）试图访问一个已经被垃圾回收机制回收了的对象\n",
    "        - RuntimeError 一般的运行时错误\n",
    "        - StopInteration 迭代器没有更多的值\n",
    "        - SyntaxError python语法错误\n",
    "        - IndentationError 缩进错误\n",
    "        - TabError tab和空格混合使用\n",
    "        - SystemError Python解释器系统错误\n",
    "        - SystemExit Python解释器进程被关闭\n",
    "        - TypeError 不同类型间的无效操作\n",
    "        - UnboundLocalError 访问一个未初始化的本地变量（NameError的子类）\n",
    "        - UnicodeError Unicode相关的错误（ValueError的子类）\n",
    "        - UnicodeEncodeError Unicode编码时的错误（UnicodeError的子类）\n",
    "        - unicodeDecodeError Unicode解码时的错误（UnicodeError的子类）\n",
    "        - ValueError 传入无效的参数\n",
    "        - ZeroDivisionError 除数为0 "
   ]
  },
  {
   "cell_type": "code",
   "execution_count": 5,
   "metadata": {},
   "outputs": [
    {
     "ename": "ZeroDivisionError",
     "evalue": "division by zero",
     "output_type": "error",
     "traceback": [
      "\u001b[0;31m---------------------------------------------------------------------------\u001b[0m",
      "\u001b[0;31mZeroDivisionError\u001b[0m                         Traceback (most recent call last)",
      "\u001b[0;32m<ipython-input-5-0cbf74ea4041>\u001b[0m in \u001b[0;36m<module>\u001b[0;34m()\u001b[0m\n\u001b[1;32m      1\u001b[0m \u001b[0ml\u001b[0m \u001b[0;34m=\u001b[0m \u001b[0;34m[\u001b[0m\u001b[0;36m1\u001b[0m\u001b[0;34m,\u001b[0m \u001b[0;36m2\u001b[0m\u001b[0;34m,\u001b[0m \u001b[0;36m3\u001b[0m\u001b[0;34m,\u001b[0m \u001b[0;36m4\u001b[0m\u001b[0;34m,\u001b[0m \u001b[0;36m5\u001b[0m\u001b[0;34m,\u001b[0m \u001b[0;36m6\u001b[0m\u001b[0;34m]\u001b[0m\u001b[0;34m\u001b[0m\u001b[0m\n\u001b[1;32m      2\u001b[0m \u001b[0;34m\u001b[0m\u001b[0m\n\u001b[0;32m----> 3\u001b[0;31m \u001b[0mprint\u001b[0m\u001b[0;34m(\u001b[0m\u001b[0;36m100\u001b[0m\u001b[0;34m/\u001b[0m\u001b[0;36m0\u001b[0m\u001b[0;34m)\u001b[0m\u001b[0;34m\u001b[0m\u001b[0m\n\u001b[0m",
      "\u001b[0;31mZeroDivisionError\u001b[0m: division by zero"
     ]
    }
   ],
   "source": [
    "l = [1, 2, 3, 4, 5, 6]\n",
    "\n",
    "print(100/0)"
   ]
  },
  {
   "cell_type": "markdown",
   "metadata": {},
   "source": [
    "## 异常处理\n",
    "- 不能保证程序永远正确的运行\n",
    "- 但是，必须保证程序在最坏的情况下出现的问题能被妥善处理\n",
    "- python基本的异常处理模块全部语法为：\n",
    "\n",
    "        try:\n",
    "            尝试实现某个操作\n",
    "            如果没出现异常，任务就可以完成\n",
    "            如果出现异常，将异常从当前代码块扔出去尝试解决异常\n",
    "            \n",
    "        except 异常类型1:\n",
    "            解决方案1：用于尝试在此处处理异常解决问题\n",
    "        \n",
    "        except 异常类型2:\n",
    "            解决方案2：用于尝试在此处处理异常解决问题\n",
    "        \n",
    "        except (异常类型1，异常类型2...):   \n",
    "            解决方案：针对多个异常使用相同的处理方式\n",
    "        \n",
    "        except:\n",
    "            解决方案：所有异常的解决方案\n",
    "          \n",
    "        else:\n",
    "            如果没有出现任何异常，将会执行此处代码！！！\n",
    "            \n",
    "        finally:\n",
    "            管你有没有异常都要执行的代码！！！\n",
    "            \n",
    "- 流程\n",
    "    1. 执行try下面的语句\n",
    "    2. 如果出现异常，则在except语句里查找对应的异常并进行处理（此时3不会执行）\n",
    "    3. 如果没有出现异常，则执行else语句内容\n",
    "    4. 最后，不管是否出现异常，都要执行finally语句\n",
    "    - 除except（最少一个）以外，else和finally都可选"
   ]
  },
  {
   "cell_type": "code",
   "execution_count": 7,
   "metadata": {},
   "outputs": [
    {
     "name": "stdout",
     "output_type": "stream",
     "text": [
      "请输入一个数字：0\n",
      "让你输入数字，你输入的是啥？\n"
     ]
    }
   ],
   "source": [
    "# 简单异常案例-1\n",
    "try:\n",
    "    num = int(input(\"请输入一个数字：\"))\n",
    "    rst = 100/num\n",
    "    print(\"计算结果是：{}\".format(rst))\n",
    "except:\n",
    "    print(\"让你输入数字，你输入的是啥？\")\n",
    "    # exit是退出程序的意思\n",
    "    exit()\n",
    "    "
   ]
  },
  {
   "cell_type": "code",
   "execution_count": 5,
   "metadata": {},
   "outputs": [
    {
     "name": "stdout",
     "output_type": "stream",
     "text": [
      "请输入一个数字：dsa\n",
      "我也不知道就给出错啦\n",
      "invalid literal for int() with base 10: 'dsa'\n",
      "hahaha\n"
     ]
    }
   ],
   "source": [
    "# 简单异常案例-2\n",
    "# 给出提示信息\n",
    "try:\n",
    "    num = int(input(\"请输入一个数字：\"))\n",
    "    rst = 100/num\n",
    "    print(\"计算结果是：{}\".format(rst))\n",
    "    \n",
    "# 如果是多种Error的情况\n",
    "# 需要把越具体的错误，越往前放\n",
    "# 在异常类继承关系中，越是子类的异常，越要往前放\n",
    "# 越是父亲类的异常，越要往后放\n",
    "\n",
    "# 在处理异常的时候，一旦拦截到某一个异常，则不再继续往下查看，直接进行下一个代码，\n",
    "# 即有finally则执行finally语句块，否则就执行下一个大的语句块\n",
    "except ZeroDivisionError as e:\n",
    "    print(\"小弟弟，0是不能作除数的\")\n",
    "    print(e)\n",
    "    # exit是退出程序的意思\n",
    "    exit()\n",
    "except NameError as e:\n",
    "    print(\"名字起错啦\")\n",
    "    print(e)\n",
    "\n",
    "except AttributeError as e:\n",
    "    print(\"属性有问题\")\n",
    "    print(e)\n",
    "    exit()\n",
    "    \n",
    "# 所有异常都是继承自Exception\n",
    "# 如果写上下面这句话，任何异常都能拦截住！！！！！！\n",
    "# 而且，下面这句话一定是最后一个exception\n",
    "# 往下不可以再出现except！！！\n",
    "except Exception as e:\n",
    "    print(\"我也不知道就给出错啦\")\n",
    "    print(e)\n",
    "    \n",
    "except ValueError as e:# 这个except不会执行，因为上面已经拦住所有的啦\n",
    "    print(\"No>>>>>>>>>>>>>>>>>>\")\n",
    "    \n",
    "\n",
    "print(\"hahaha\")"
   ]
  },
  {
   "cell_type": "markdown",
   "metadata": {},
   "source": [
    "## 用户手动引发异常\n",
    "- 某些情况，用户希望自己引发一个异常的时候，可以使用\n",
    "- raise 关键字来引发异常"
   ]
  },
  {
   "cell_type": "code",
   "execution_count": 4,
   "metadata": {},
   "outputs": [
    {
     "name": "stdout",
     "output_type": "stream",
     "text": [
      "我爱王老吉\n",
      "3.1415926\n",
      "ValueError\n",
      "我肯定会被执行的\n"
     ]
    }
   ],
   "source": [
    "# raise案例-1\n",
    "try:\n",
    "    print(\"我爱王老吉\")\n",
    "    print(3.1415926)\n",
    "    # 手动引发一个异常\n",
    "    # 注意语法：raise后面跟异常类\n",
    "    raise ValueError\n",
    "    print(\"还没完呐\")\n",
    "except NameError as e:\n",
    "    print(\"NameError\")\n",
    "except ValueError as e:\n",
    "    print(\"ValueError\")\n",
    "except Exception as e:\n",
    "    print(\"有异常\")\n",
    "finally:\n",
    "    print(\"我肯定会被执行的\")"
   ]
  },
  {
   "cell_type": "code",
   "execution_count": 9,
   "metadata": {},
   "outputs": [
    {
     "name": "stdout",
     "output_type": "stream",
     "text": [
      "我爱王老吉\n",
      "3.1415926\n",
      "NameError\n",
      "我肯定会被执行的\n"
     ]
    }
   ],
   "source": [
    "# raise案例-2\n",
    "# 自己定义异常\n",
    "# 需要注意：自定义异常必须是系统异常的子类！！！\n",
    "class WriteError(NameError):\n",
    "    pass\n",
    "\n",
    "try:\n",
    "    print(\"我爱王老吉\")\n",
    "    print(3.1415926)\n",
    "    # 手动引发一个异常\n",
    "    # 注意语法：raise后面跟异常类\n",
    "    raise WriteError\n",
    "    print(\"还没完呐\")\n",
    "\n",
    "except ValueError as e:\n",
    "    print(\"ValueError\")\n",
    "except NameError as e:\n",
    "    print(\"NameError\")\n",
    "except Exception as e:\n",
    "    print(\"有异常\")\n",
    "finally:\n",
    "\n",
    "    print(\"我肯定会被执行的\")"
   ]
  },
  {
   "cell_type": "code",
   "execution_count": 11,
   "metadata": {},
   "outputs": [
    {
     "name": "stdout",
     "output_type": "stream",
     "text": [
      "请输入一个数字：sdfs\n",
      "exception\n",
      "哼哼，反正我会执行\n"
     ]
    }
   ],
   "source": [
    "# else语句案例\n",
    "try:\n",
    "    num = int(input(\"请输入一个数字：\"))\n",
    "    rst = 100/num\n",
    "    print(\"计算结果是：{}\".format(rst))\n",
    "except Exception as e:\n",
    "    print(\"exception\")\n",
    "    \n",
    "else:\n",
    "    print(\"No Exception\")\n",
    "finally:\n",
    "    print(\"哼哼，反正我会执行\")"
   ]
  },
  {
   "cell_type": "markdown",
   "metadata": {},
   "source": [
    "## 关于自定义异常\n",
    "- 只要是raise异常，则推荐自定义异常\n",
    "- 在自定义异常的时候，一般包含以下内容：\n",
    "    - 自定义发生异常的异常代码\n",
    "    - 自定义发生异常后的问题提示\n",
    "    - 自定义发生异常的行数\n",
    "- 最终的目的是，一旦发生异常，方便程序员快速定位错误现场"
   ]
  },
  {
   "cell_type": "code",
   "execution_count": 12,
   "metadata": {},
   "outputs": [
    {
     "ename": "NameError",
     "evalue": "name 'pritn' is not defined",
     "output_type": "error",
     "traceback": [
      "\u001b[0;31m---------------------------------------------------------------------------\u001b[0m",
      "\u001b[0;31mNameError\u001b[0m                                 Traceback (most recent call last)",
      "\u001b[0;32m<ipython-input-12-ba6014a29f03>\u001b[0m in \u001b[0;36m<module>\u001b[0;34m()\u001b[0m\n\u001b[0;32m----> 1\u001b[0;31m \u001b[0mpritn\u001b[0m\u001b[0;34m(\u001b[0m\u001b[0;34m\"hahahah\"\u001b[0m\u001b[0;34m)\u001b[0m\u001b[0;34m\u001b[0m\u001b[0m\n\u001b[0m",
      "\u001b[0;31mNameError\u001b[0m: name 'pritn' is not defined"
     ]
    }
   ],
   "source": [
    "pritn(\"hahahah\")"
   ]
  }
 ],
 "metadata": {
  "kernelspec": {
   "display_name": "Python 3",
   "language": "python",
   "name": "python3"
  },
  "language_info": {
   "codemirror_mode": {
    "name": "ipython",
    "version": 3
   },
   "file_extension": ".py",
   "mimetype": "text/x-python",
   "name": "python",
   "nbconvert_exporter": "python",
   "pygments_lexer": "ipython3",
   "version": "3.6.3"
  }
 },
 "nbformat": 4,
 "nbformat_minor": 2
}
