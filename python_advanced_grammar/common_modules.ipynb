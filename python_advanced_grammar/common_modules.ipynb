{
 "cells": [
  {
   "cell_type": "markdown",
   "metadata": {},
   "source": [
    "# 常用模块\n",
    "- calendar\n",
    "- time\n",
    "- datetime\n",
    "- timeit\n",
    "- os\n",
    "- shutil\n",
    "- zip\n",
    "- math\n",
    "- string\n",
    "- 上述模块理论上讲都应该先导入，string是特例\n",
    "- calendar，time， datetime的区别参考中文意思"
   ]
  },
  {
   "cell_type": "markdown",
   "metadata": {},
   "source": [
    "## calendar\n",
    "- 跟日历相关的模块"
   ]
  },
  {
   "cell_type": "code",
   "execution_count": 31,
   "metadata": {},
   "outputs": [
    {
     "name": "stdout",
     "output_type": "stream",
     "text": [
      "<class 'str'>\n",
      "                                            2019\n",
      "\n",
      "      January                 February                 March                   April\n",
      "Mo Tu We Th Fr Sa Su    Mo Tu We Th Fr Sa Su    Mo Tu We Th Fr Sa Su    Mo Tu We Th Fr Sa Su\n",
      "    1  2  3  4  5  6                 1  2  3                 1  2  3     1  2  3  4  5  6  7\n",
      " 7  8  9 10 11 12 13     4  5  6  7  8  9 10     4  5  6  7  8  9 10     8  9 10 11 12 13 14\n",
      "14 15 16 17 18 19 20    11 12 13 14 15 16 17    11 12 13 14 15 16 17    15 16 17 18 19 20 21\n",
      "21 22 23 24 25 26 27    18 19 20 21 22 23 24    18 19 20 21 22 23 24    22 23 24 25 26 27 28\n",
      "28 29 30 31             25 26 27 28             25 26 27 28 29 30 31    29 30\n",
      "\n",
      "        May                     June                    July                   August\n",
      "Mo Tu We Th Fr Sa Su    Mo Tu We Th Fr Sa Su    Mo Tu We Th Fr Sa Su    Mo Tu We Th Fr Sa Su\n",
      "       1  2  3  4  5                    1  2     1  2  3  4  5  6  7              1  2  3  4\n",
      " 6  7  8  9 10 11 12     3  4  5  6  7  8  9     8  9 10 11 12 13 14     5  6  7  8  9 10 11\n",
      "13 14 15 16 17 18 19    10 11 12 13 14 15 16    15 16 17 18 19 20 21    12 13 14 15 16 17 18\n",
      "20 21 22 23 24 25 26    17 18 19 20 21 22 23    22 23 24 25 26 27 28    19 20 21 22 23 24 25\n",
      "27 28 29 30 31          24 25 26 27 28 29 30    29 30 31                26 27 28 29 30 31\n",
      "\n",
      "     September                October                 November                December\n",
      "Mo Tu We Th Fr Sa Su    Mo Tu We Th Fr Sa Su    Mo Tu We Th Fr Sa Su    Mo Tu We Th Fr Sa Su\n",
      "                   1        1  2  3  4  5  6                 1  2  3                       1\n",
      " 2  3  4  5  6  7  8     7  8  9 10 11 12 13     4  5  6  7  8  9 10     2  3  4  5  6  7  8\n",
      " 9 10 11 12 13 14 15    14 15 16 17 18 19 20    11 12 13 14 15 16 17     9 10 11 12 13 14 15\n",
      "16 17 18 19 20 21 22    21 22 23 24 25 26 27    18 19 20 21 22 23 24    16 17 18 19 20 21 22\n",
      "23 24 25 26 27 28 29    28 29 30 31             25 26 27 28 29 30       23 24 25 26 27 28 29\n",
      "30                                                                      30 31\n",
      "\n"
     ]
    }
   ],
   "source": [
    "# 使用前先导入\n",
    "import calendar\n",
    "# calendar：获取一年的日历字符串\n",
    "# 参数\n",
    "    # w = 每个日期之间的间隔字符数\n",
    "    # l = 每周所占用的行数\n",
    "    # c = 每个月之间的间隔字符数\n",
    "    # m = 一行有几个月，默认为3\n",
    "cal = calendar.calendar(2019, w=0, l=0, c=4, m=4)\n",
    "print(type(cal))\n",
    "print(cal)"
   ]
  },
  {
   "cell_type": "code",
   "execution_count": 7,
   "metadata": {},
   "outputs": [
    {
     "name": "stdout",
     "output_type": "stream",
     "text": [
      "                                 2019\n",
      "\n",
      "      January                  February                  March\n",
      "Mo Tu We Th Fr Sa Su     Mo Tu We Th Fr Sa Su     Mo Tu We Th Fr Sa Su\n",
      "    1  2  3  4  5  6                  1  2  3                  1  2  3\n",
      " 7  8  9 10 11 12 13      4  5  6  7  8  9 10      4  5  6  7  8  9 10\n",
      "14 15 16 17 18 19 20     11 12 13 14 15 16 17     11 12 13 14 15 16 17\n",
      "21 22 23 24 25 26 27     18 19 20 21 22 23 24     18 19 20 21 22 23 24\n",
      "28 29 30 31              25 26 27 28              25 26 27 28 29 30 31\n",
      "\n",
      "       April                     May                      June\n",
      "Mo Tu We Th Fr Sa Su     Mo Tu We Th Fr Sa Su     Mo Tu We Th Fr Sa Su\n",
      " 1  2  3  4  5  6  7            1  2  3  4  5                     1  2\n",
      " 8  9 10 11 12 13 14      6  7  8  9 10 11 12      3  4  5  6  7  8  9\n",
      "15 16 17 18 19 20 21     13 14 15 16 17 18 19     10 11 12 13 14 15 16\n",
      "22 23 24 25 26 27 28     20 21 22 23 24 25 26     17 18 19 20 21 22 23\n",
      "29 30                    27 28 29 30 31           24 25 26 27 28 29 30\n",
      "\n",
      "        July                    August                 September\n",
      "Mo Tu We Th Fr Sa Su     Mo Tu We Th Fr Sa Su     Mo Tu We Th Fr Sa Su\n",
      " 1  2  3  4  5  6  7               1  2  3  4                        1\n",
      " 8  9 10 11 12 13 14      5  6  7  8  9 10 11      2  3  4  5  6  7  8\n",
      "15 16 17 18 19 20 21     12 13 14 15 16 17 18      9 10 11 12 13 14 15\n",
      "22 23 24 25 26 27 28     19 20 21 22 23 24 25     16 17 18 19 20 21 22\n",
      "29 30 31                 26 27 28 29 30 31        23 24 25 26 27 28 29\n",
      "                                                  30\n",
      "\n",
      "      October                  November                 December\n",
      "Mo Tu We Th Fr Sa Su     Mo Tu We Th Fr Sa Su     Mo Tu We Th Fr Sa Su\n",
      "    1  2  3  4  5  6                  1  2  3                        1\n",
      " 7  8  9 10 11 12 13      4  5  6  7  8  9 10      2  3  4  5  6  7  8\n",
      "14 15 16 17 18 19 20     11 12 13 14 15 16 17      9 10 11 12 13 14 15\n",
      "21 22 23 24 25 26 27     18 19 20 21 22 23 24     16 17 18 19 20 21 22\n",
      "28 29 30 31              25 26 27 28 29 30        23 24 25 26 27 28 29\n",
      "                                                  30 31\n",
      "\n"
     ]
    }
   ],
   "source": [
    "cal = calendar.calendar(2019, l=0, c=5)\n",
    "print(cal)"
   ]
  },
  {
   "cell_type": "code",
   "execution_count": 9,
   "metadata": {},
   "outputs": [
    {
     "data": {
      "text/plain": [
       "False"
      ]
     },
     "execution_count": 9,
     "metadata": {},
     "output_type": "execute_result"
    }
   ],
   "source": [
    "# isleap: 判断某一年是否是闰年\n",
    "calendar.isleap(2019)"
   ]
  },
  {
   "cell_type": "code",
   "execution_count": 12,
   "metadata": {},
   "outputs": [
    {
     "name": "stdout",
     "output_type": "stream",
     "text": [
      "5\n"
     ]
    }
   ],
   "source": [
    "# leapdays: 获取指定年份之间的闰年的个数\n",
    "cal = calendar.leapdays(2000, 2020)\n",
    "print(cal)"
   ]
  },
  {
   "cell_type": "code",
   "execution_count": 11,
   "metadata": {},
   "outputs": [
    {
     "name": "stdout",
     "output_type": "stream",
     "text": [
      "Help on function leapdays in module calendar:\n",
      "\n",
      "leapdays(y1, y2)\n",
      "    Return number of leap years in range [y1, y2).\n",
      "    Assume y1 <= y2.\n",
      "\n"
     ]
    }
   ],
   "source": [
    "help(calendar.leapdays)"
   ]
  },
  {
   "cell_type": "code",
   "execution_count": 15,
   "metadata": {},
   "outputs": [
    {
     "name": "stdout",
     "output_type": "stream",
     "text": [
      "    August 2019\n",
      "Mo Tu We Th Fr Sa Su\n",
      "          1  2  3  4\n",
      " 5  6  7  8  9 10 11\n",
      "12 13 14 15 16 17 18\n",
      "19 20 21 22 23 24 25\n",
      "26 27 28 29 30 31\n",
      "\n"
     ]
    }
   ],
   "source": [
    "# month(): 获取某个月的日历字符串\n",
    "# 格式：calendar.month(年，月)\n",
    "# 返回值：月日历的字符串\n",
    "m8 = calendar.month(2019, 8)\n",
    "print(m8)"
   ]
  },
  {
   "cell_type": "code",
   "execution_count": 21,
   "metadata": {},
   "outputs": [
    {
     "name": "stdout",
     "output_type": "stream",
     "text": [
      "Help on function monthrange in module calendar:\n",
      "\n",
      "monthrange(year, month)\n",
      "    Return weekday (0-6 ~ Mon-Sun) and number of days (28-31) for\n",
      "    year, month.\n",
      "\n",
      "3\n",
      "31\n"
     ]
    }
   ],
   "source": [
    "# monthrange(): 获取一个月的周几开始及天数\n",
    "# 格式：calendar.monthrange(年，月)\n",
    "# 返回值：元组(周几开始，这个月的总天数)\n",
    "# 注意: 周默认0-6表示周一到周日\n",
    "help(calendar.monthrange)\n",
    "w,t = calendar.monthrange(2019, 8)\n",
    "print(w)\n",
    "print(t)"
   ]
  },
  {
   "cell_type": "code",
   "execution_count": 26,
   "metadata": {},
   "outputs": [
    {
     "name": "stdout",
     "output_type": "stream",
     "text": [
      "<class 'list'>\n",
      "[[0, 0, 0, 1, 2, 3, 4], [5, 6, 7, 8, 9, 10, 11], [12, 13, 14, 15, 16, 17, 18], [19, 20, 21, 22, 23, 24, 25], [26, 27, 28, 29, 30, 31, 0]]\n"
     ]
    }
   ],
   "source": [
    "# monthcalendar(): 返回一个月每天的矩阵列表\n",
    "# 格式：calendar.monthcalendar(年，月)\n",
    "# 返回值：二级列表\n",
    "# 注意，矩阵中没有天数用0表示\n",
    "m = calendar.monthcalendar(2019, 8)\n",
    "print(type(m))\n",
    "print(m)"
   ]
  },
  {
   "cell_type": "code",
   "execution_count": 32,
   "metadata": {},
   "outputs": [
    {
     "name": "stdout",
     "output_type": "stream",
     "text": [
      "                                               2019\n",
      "\n",
      "      January                   February                   March                     April\n",
      "Mo Tu We Th Fr Sa Su      Mo Tu We Th Fr Sa Su      Mo Tu We Th Fr Sa Su      Mo Tu We Th Fr Sa Su\n",
      "    1  2  3  4  5  6                   1  2  3                   1  2  3       1  2  3  4  5  6  7\n",
      " 7  8  9 10 11 12 13       4  5  6  7  8  9 10       4  5  6  7  8  9 10       8  9 10 11 12 13 14\n",
      "14 15 16 17 18 19 20      11 12 13 14 15 16 17      11 12 13 14 15 16 17      15 16 17 18 19 20 21\n",
      "21 22 23 24 25 26 27      18 19 20 21 22 23 24      18 19 20 21 22 23 24      22 23 24 25 26 27 28\n",
      "28 29 30 31               25 26 27 28               25 26 27 28 29 30 31      29 30\n",
      "\n",
      "        May                       June                      July                     August\n",
      "Mo Tu We Th Fr Sa Su      Mo Tu We Th Fr Sa Su      Mo Tu We Th Fr Sa Su      Mo Tu We Th Fr Sa Su\n",
      "       1  2  3  4  5                      1  2       1  2  3  4  5  6  7                1  2  3  4\n",
      " 6  7  8  9 10 11 12       3  4  5  6  7  8  9       8  9 10 11 12 13 14       5  6  7  8  9 10 11\n",
      "13 14 15 16 17 18 19      10 11 12 13 14 15 16      15 16 17 18 19 20 21      12 13 14 15 16 17 18\n",
      "20 21 22 23 24 25 26      17 18 19 20 21 22 23      22 23 24 25 26 27 28      19 20 21 22 23 24 25\n",
      "27 28 29 30 31            24 25 26 27 28 29 30      29 30 31                  26 27 28 29 30 31\n",
      "\n",
      "     September                  October                   November                  December\n",
      "Mo Tu We Th Fr Sa Su      Mo Tu We Th Fr Sa Su      Mo Tu We Th Fr Sa Su      Mo Tu We Th Fr Sa Su\n",
      "                   1          1  2  3  4  5  6                   1  2  3                         1\n",
      " 2  3  4  5  6  7  8       7  8  9 10 11 12 13       4  5  6  7  8  9 10       2  3  4  5  6  7  8\n",
      " 9 10 11 12 13 14 15      14 15 16 17 18 19 20      11 12 13 14 15 16 17       9 10 11 12 13 14 15\n",
      "16 17 18 19 20 21 22      21 22 23 24 25 26 27      18 19 20 21 22 23 24      16 17 18 19 20 21 22\n",
      "23 24 25 26 27 28 29      28 29 30 31               25 26 27 28 29 30         23 24 25 26 27 28 29\n",
      "30                                                                            30 31\n",
      "\n",
      "Help on method pryear in module calendar:\n",
      "\n",
      "pryear(theyear, w=0, l=0, c=6, m=3) method of calendar.TextCalendar instance\n",
      "    Print a year's calendar.\n",
      "\n"
     ]
    }
   ],
   "source": [
    "# prcal: 直接打印日历\n",
    "calendar.prcal(2019, m=4)\n",
    "help(calendar.prcal)"
   ]
  },
  {
   "cell_type": "code",
   "execution_count": 33,
   "metadata": {
    "scrolled": true
   },
   "outputs": [
    {
     "name": "stdout",
     "output_type": "stream",
     "text": [
      "    August 2019\n",
      "Mo Tu We Th Fr Sa Su\n",
      "          1  2  3  4\n",
      " 5  6  7  8  9 10 11\n",
      "12 13 14 15 16 17 18\n",
      "19 20 21 22 23 24 25\n",
      "26 27 28 29 30 31\n"
     ]
    }
   ],
   "source": [
    "# prmonth(): 直接打印整个月的日历\n",
    "# 格式：calendar.prmonth(年，月)\n",
    "# 返回值：无\n",
    "calendar.prmonth(2019, 8)"
   ]
  },
  {
   "cell_type": "code",
   "execution_count": 35,
   "metadata": {},
   "outputs": [
    {
     "name": "stdout",
     "output_type": "stream",
     "text": [
      "0\n"
     ]
    }
   ],
   "source": [
    "# weekday(): 获取周几\n",
    "# 格式：calendar.weekday(年，月，日)\n",
    "# 返回值：周几对应的数字\n",
    "d = calendar.weekday(2019, 8, 26)\n",
    "print(d)"
   ]
  },
  {
   "cell_type": "markdown",
   "metadata": {},
   "source": [
    "## time模块\n",
    "### 时间戳\n",
    "    - 一个时间的表示单位，根据不同语言，可以是整数或者浮点数\n",
    "    - 是从1970年1月1日0时0分0秒到现在经历的秒数！！！\n",
    "    - 如果表示的时间是1970年以前或者太遥远的未来，可能会出现异常\n",
    "    - 32操作系统能够支持到2038年\n",
    "\n",
    "### UTC时间\n",
    "    - UTC时间又称为世界协调时间，以英国的格林尼治天文所在地区的时间作为参考的时间，也叫做世界标准时间\n",
    "    - 中国时间是 UTC+8 东八区\n",
    "  \n",
    "### 夏令时时间\n",
    "    - 夏令时就是在夏天的时候将时间调快一小时，本意是督促大家早睡早起节省蜡烛，每天变成25个小时，本质没变还是24小时\n",
    "    \n",
    "### 时间元组\n",
    "    - 一个包含时间内容的普通元组\n",
    "    \n",
    "    \n",
    "        索引        内容         属性                值\n",
    "        0           年         tm_year            2019\n",
    "        1           月         tm_mon             1~12\n",
    "        2           日         tm_mday            1~31\n",
    "        3           时         tm_hour            0~23 \n",
    "        4           分         tm_min             0~59 \n",
    "        5           秒         tm_sec             0~61 60表示闰秒，61保留值\n",
    "        6           周几       tm_wday             0~6\n",
    "        7          第几天       tm_yday            1~366\n",
    "        8          夏令时       tm_isdst           0, 1, -1 (表示夏令时)\n"
   ]
  },
  {
   "cell_type": "code",
   "execution_count": 40,
   "metadata": {
    "collapsed": true
   },
   "outputs": [],
   "source": [
    "# 需要单独导入\n",
    "import time"
   ]
  },
  {
   "cell_type": "code",
   "execution_count": 43,
   "metadata": {},
   "outputs": [
    {
     "name": "stdout",
     "output_type": "stream",
     "text": [
      "-28800\n",
      "-28800\n",
      "0\n"
     ]
    }
   ],
   "source": [
    "# 时间模块的属性\n",
    "# timezone：获取当前时区和UTC时间相差的秒数，在没有夏令时的情况下，东八区是-28800秒 \n",
    "# altzone：获取当前时区与UTC时间相差的秒数，在有夏令时的情况下\n",
    "# daylight：检测当前是否是夏令时时间状态，0表示是！！!\n",
    "# 中国已经没有夏令时啦，不用考虑这个\n",
    "print(time.timezone)\n",
    "print(time.altzone)\n",
    "print(time.daylight)"
   ]
  },
  {
   "cell_type": "code",
   "execution_count": 45,
   "metadata": {},
   "outputs": [
    {
     "name": "stdout",
     "output_type": "stream",
     "text": [
      "1566889212.117447\n"
     ]
    }
   ],
   "source": [
    "# 得到时间戳\n",
    "tt = time.time()\n",
    "print(tt)"
   ]
  },
  {
   "cell_type": "code",
   "execution_count": 50,
   "metadata": {},
   "outputs": [
    {
     "name": "stdout",
     "output_type": "stream",
     "text": [
      "<class 'time.struct_time'>\n",
      "time.struct_time(tm_year=2019, tm_mon=8, tm_mday=27, tm_hour=15, tm_min=5, tm_sec=57, tm_wday=1, tm_yday=239, tm_isdst=0)\n",
      "27\n"
     ]
    }
   ],
   "source": [
    "# localtime()：得到当前时间的时间结构(元组)\n",
    "t = time.localtime()\n",
    "print(type(t))\n",
    "print(t)\n",
    "# 可以通过点号操作符得到相应的属性元素的内容\n",
    "print(t.tm_mday)"
   ]
  },
  {
   "cell_type": "code",
   "execution_count": 52,
   "metadata": {},
   "outputs": [
    {
     "name": "stdout",
     "output_type": "stream",
     "text": [
      "<class 'str'>\n",
      "Tue Aug 27 15:11:23 2019\n"
     ]
    }
   ],
   "source": [
    "# asctime()：返回时间元组的正常字符串化之后的时间格式\n",
    "# 格式：time.asctime(时间元组)\n",
    "# 返回值：字符串 Tue Jun  6 11：11:00 2018\n",
    "t = time.localtime()\n",
    "\n",
    "tt = time.asctime(t)\n",
    "print(type(tt))\n",
    "print(tt)"
   ]
  },
  {
   "cell_type": "code",
   "execution_count": 53,
   "metadata": {},
   "outputs": [
    {
     "name": "stdout",
     "output_type": "stream",
     "text": [
      "<class 'str'>\n",
      "Tue Aug 27 15:13:14 2019\n"
     ]
    }
   ],
   "source": [
    "# ctime: 获取字符串化的当前时间\n",
    "t = time.ctime()\n",
    "print(type(t))\n",
    "print(t)"
   ]
  },
  {
   "cell_type": "code",
   "execution_count": 55,
   "metadata": {},
   "outputs": [
    {
     "name": "stdout",
     "output_type": "stream",
     "text": [
      "<class 'float'>\n",
      "1566890307.0\n"
     ]
    }
   ],
   "source": [
    "# mktime(): 使用时间元组获取对应的时间戳\n",
    "# 格式：time.mktime(时间元组)\n",
    "# 返回值：浮点数时间戳\n",
    "lt = time.localtime()\n",
    "ts = time.mktime(lt)\n",
    "print(type(ts))\n",
    "print(tt)"
   ]
  },
  {
   "cell_type": "code",
   "execution_count": 127,
   "metadata": {},
   "outputs": [
    {
     "name": "stdout",
     "output_type": "stream",
     "text": [
      "3.127757\n"
     ]
    }
   ],
   "source": [
    "# clock: 获取cpu时间，3.0~3.3版本直接使用， 3.6调用有问题\n",
    "t = time.clock()\n",
    "print(t)"
   ]
  },
  {
   "cell_type": "code",
   "execution_count": 58,
   "metadata": {},
   "outputs": [
    {
     "name": "stdout",
     "output_type": "stream",
     "text": [
      "0\n",
      "1\n",
      "2\n",
      "3\n",
      "4\n",
      "5\n",
      "6\n",
      "7\n",
      "8\n",
      "9\n"
     ]
    }
   ],
   "source": [
    "# sleep(n): 使程序进入睡眠，n秒后继续\n",
    "\n",
    "for i in range(10):\n",
    "    print(i)\n",
    "    time.sleep(1)"
   ]
  },
  {
   "cell_type": "code",
   "execution_count": 186,
   "metadata": {},
   "outputs": [
    {
     "name": "stdout",
     "output_type": "stream",
     "text": [
      "2019年08月27日 17:11\n"
     ]
    }
   ],
   "source": [
    "# strftime()：将时间元组转化为自定义的字符串格式\n",
    "'''\n",
    "格式                含义                          \n",
    "%a          本地(locale)简化星期名称 \n",
    "%A          本地完整星期名称\n",
    "%b          本地简化月份名称\n",
    "%B          本地完整月份名称\n",
    "%c          本地相应的日期和时间表示\n",
    "%d          一个月中的第几天(01~31)\n",
    "%H          一天中的第几个小时(24小时制，00~23)\n",
    "%I          一天中的第几个小时(12小时制，00~12)\n",
    "%j          一年中的第几天(001～366)\n",
    "%m          月份(01~12)\n",
    "%M          分钟数(00~59)\n",
    "%p          本地 am 或 pm 的相应符                  \n",
    "%S          秒数(01~61)                           \n",
    "%U          一年中的星期数(00~53 星期天是一个星期的开始) 第一个星期天之前的所有天数都放在第 0 周 \n",
    "%w          一个星期中的第几天(0~6 0是星期天)         \n",
    "%W          和 %U 基本相同，不同的是 %W 以星期一为一个星期的开始\n",
    "%x          本地相应日期\n",
    "%X          本地相应时间\n",
    "%y          去掉世纪的年份\n",
    "%Y          完整的年份\n",
    "%z          用 +HHMM 或 -HHMM 表示距离格林尼治的时区偏移(H 代表十进制的小时数，M 代表十进制的分钟数)\n",
    "%%          百分号本身\n",
    "'''\n",
    "# 把时间表示成 2019年8月27日 16:04\n",
    "t = time.localtime()\n",
    "ft = time.strftime(\"%Y年%m月%d日 %H:%M\", t)\n",
    "print(ft)"
   ]
  },
  {
   "cell_type": "code",
   "execution_count": 187,
   "metadata": {},
   "outputs": [
    {
     "name": "stdout",
     "output_type": "stream",
     "text": [
      "Help on built-in function strftime in module time:\n",
      "\n",
      "strftime(...)\n",
      "    strftime(format[, tuple]) -> string\n",
      "    \n",
      "    Convert a time tuple to a string according to a format specification.\n",
      "    See the library reference manual for formatting codes. When the time tuple\n",
      "    is not present, current time as returned by localtime() is used.\n",
      "    \n",
      "    Commonly used format codes:\n",
      "    \n",
      "    %Y  Year with century as a decimal number.\n",
      "    %m  Month as a decimal number [01,12].\n",
      "    %d  Day of the month as a decimal number [01,31].\n",
      "    %H  Hour (24-hour clock) as a decimal number [00,23].\n",
      "    %M  Minute as a decimal number [00,59].\n",
      "    %S  Second as a decimal number [00,61].\n",
      "    %z  Time zone offset from UTC.\n",
      "    %a  Locale's abbreviated weekday name.\n",
      "    %A  Locale's full weekday name.\n",
      "    %b  Locale's abbreviated month name.\n",
      "    %B  Locale's full month name.\n",
      "    %c  Locale's appropriate date and time representation.\n",
      "    %I  Hour (12-hour clock) as a decimal number [01,12].\n",
      "    %p  Locale's equivalent of either AM or PM.\n",
      "    \n",
      "    Other codes may be available on your platform.  See documentation for\n",
      "    the C library strftime function.\n",
      "\n"
     ]
    }
   ],
   "source": [
    "help(time.strftime)"
   ]
  },
  {
   "cell_type": "markdown",
   "metadata": {},
   "source": [
    "## datetime模块\n",
    "- datetime提供日期和时间的运算和表示\n"
   ]
  },
  {
   "cell_type": "code",
   "execution_count": 198,
   "metadata": {},
   "outputs": [
    {
     "name": "stdout",
     "output_type": "stream",
     "text": [
      "2019-08-27\n",
      "2019\n",
      "8\n",
      "27\n",
      "16:15:30\n"
     ]
    }
   ],
   "source": [
    "import datetime\n",
    "# datetime常见的属性\n",
    "# datetime.date: 一个理想和的日期，提供year，month，day属性\n",
    "dt = datetime.date(2019, 8, 27)\n",
    "print(dt)\n",
    "print(dt.year)\n",
    "print(dt.month)\n",
    "print(dt.day)\n",
    "#datetime.time: 一个理想和的时间，提供hour，minute，sec，microsec等属性内容\n",
    "print(datetime.time(16, 15, 30))\n",
    "# datetime.datetime: 提供日期和时间的组合\n",
    "# datetime.timedelta: 提供一个时间差，时间长度\n"
   ]
  },
  {
   "cell_type": "markdown",
   "metadata": {},
   "source": [
    "## datetime.datetime 模块\n",
    "- 提供比较好用的时间而已\n",
    "- 类定义\n",
    "        \n",
    "        class datetime.datetime(year, month, day[, hour\n",
    "                [, minute\n",
    "                [, second\n",
    "                [, microsecond\n",
    "                [, tzinfo]]]]])\n",
    "        # The year, month and day arguments are required.\n",
    "        MINYEAR <= year <= MAXYEAR\n",
    "        1 <= month <= 12\n",
    "        1 <= day <= n\n",
    "        0 <= hour < 24\n",
    "        0 <= minute < 60\n",
    "        0 <= second < 60\n",
    "        0 <= microsecond < 10**6\n",
    "        \n",
    "- 类方法\n",
    "    - datetime.today(): 返回当前本地datetime.随着tzinfo None. 这个等同于datetime.fromtimestamp(time.time())\n",
    "    - datetime.now([tz]): 返回当前本地日期和时间，如果可选参数tz为None或没有详细说明，这个方法会像today()\n",
    "    - datetime.utcnow(): 返回当前的UTC日期和时间，如果tzinfo None，那么与now()类似\n",
    "    - datetime.fromtimestamp(timestamp[, tz]): 根据时间戳返回本地的日期和时间.tz指定时区\n",
    "    - datetime.utcfromtimestamp(timestamp): 根据时间返回 UTC datetime\n",
    "    - datetime.fromordinal(ordinal): 根据Gregorian ordinal 返回datetime\n",
    "    - datetime.combine(date, time): 根据date和time返回一个新的datetime\n",
    "    - datetime.strptime(date-string, format): 根据date_string和format返回一个datetime\n",
    "\n",
    "- 实例方法\n",
    "    - datetime.date(): 返回相同年月日的date对象\n",
    "    - datetime.time(): 返回相同时分秒微秒的date对象\n",
    "    - datetime.replace(kw): kw in [year, month, day, hour, minute, second, microsecond, tzinfo], 与date类似\n",
    "\n",
    "- 类属性\n",
    "    - datetime.min: datetime(MINYEAR, 1, 1)\n",
    "    - datetime.max: datetime(MAXYEAR, 12, 31, 23, 59, 59, 999999)\n",
    "    \n",
    "- 实例属性(read-only)\n",
    "    - datetime.year: 1~999\n",
    "    - datetime.month: 1~12\n",
    "    - datetime.day: 1~n\n",
    "    - datetime.hour: In range(24) 0~23\n",
    "    - datetime.minute: In range(60)\n",
    "    - datetime.second: In range(60)\n",
    "    - datetime.microsecond: In range(1000000)"
   ]
  },
  {
   "cell_type": "code",
   "execution_count": 197,
   "metadata": {},
   "outputs": [
    {
     "name": "stdout",
     "output_type": "stream",
     "text": [
      "2019-08-27 18:01:49.072289\n"
     ]
    }
   ],
   "source": [
    "from datetime import datetime as dt\n",
    "print(dt.now())"
   ]
  },
  {
   "cell_type": "code",
   "execution_count": 199,
   "metadata": {},
   "outputs": [
    {
     "name": "stdout",
     "output_type": "stream",
     "text": [
      "2019-08-27 18:02:30.589655\n",
      "2019-08-27 18:02:30.590687\n",
      "2019-08-27 10:02:30.590858\n",
      "2019-08-27 18:02:30.591351\n"
     ]
    }
   ],
   "source": [
    "# datetime.datetime\n",
    "from datetime import datetime\n",
    "dt = datetime(2019, 8, 27)\n",
    "print(dt.today())\n",
    "print(dt.now())\n",
    "print(dt.utcnow())\n",
    "print(dt.fromtimestamp(time.time()))"
   ]
  },
  {
   "cell_type": "code",
   "execution_count": 200,
   "metadata": {},
   "outputs": [
    {
     "name": "stdout",
     "output_type": "stream",
     "text": [
      "2019-08-27 18:02:56.006257\n",
      "2019-08-27 18:02:56\n",
      "2019-08-27 19:02:56\n"
     ]
    }
   ],
   "source": [
    "# datetime.timedetla\n",
    "# 表示一个时间间隔\n",
    "from datetime import datetime, timedelta\n",
    "t1 = datetime.now()\n",
    "print(t1)\n",
    "print(t1.strftime(\"%Y-%m-%d %H:%M:%S\"))\n",
    "# td表示1小时的时间长度\n",
    "td = timedelta(hours=1)\n",
    "# 当前时间加上时间间隔后，把得到的一个小时后的时间格式化输出\n",
    "print((t1+td).strftime(\"%Y-%m-%d %H:%M:%S\"))"
   ]
  },
  {
   "cell_type": "markdown",
   "metadata": {},
   "source": [
    "## timeit-时间测量工具"
   ]
  },
  {
   "cell_type": "code",
   "execution_count": 202,
   "metadata": {},
   "outputs": [
    {
     "name": "stdout",
     "output_type": "stream",
     "text": [
      "5.604318618774414\n"
     ]
    }
   ],
   "source": [
    "import timeit\n",
    "# timeit 测量程序运行时间间隔实验\n",
    "def p():\n",
    "    time.sleep(5.6)\n",
    "    \n",
    "t1 = time.time()\n",
    "p()\n",
    "print(time.time() - t1)"
   ]
  },
  {
   "cell_type": "code",
   "execution_count": 2,
   "metadata": {},
   "outputs": [
    {
     "name": "stdout",
     "output_type": "stream",
     "text": [
      "17.594140067001717\n",
      "38.274733768997976\n"
     ]
    }
   ],
   "source": [
    "import timeit\n",
    "# 生成列表两种方法的比较\n",
    "# 如果单纯比较生成一个列表的时间，可能很难实现\n",
    "c = \"\"\"\n",
    "sum = []\n",
    "for i in range(1000):\n",
    "    sum.append(i)\n",
    "    \n",
    "\"\"\"\n",
    "\n",
    "# 利用timeit调用代码，执行100000次，查看运行时间\n",
    "t1 = timeit.timeit(stmt=\"[i for i in range(1000)]\", number=100000)\n",
    "# 测量代码c执行100000次运行结果\n",
    "t2 = timeit.timeit(stmt=c, number=100000)\n",
    "print(t1)\n",
    "print(t2)"
   ]
  },
  {
   "cell_type": "code",
   "execution_count": 204,
   "metadata": {
    "scrolled": true
   },
   "outputs": [
    {
     "name": "stdout",
     "output_type": "stream",
     "text": [
      "Help on function timeit in module timeit:\n",
      "\n",
      "timeit(stmt='pass', setup='pass', timer=<built-in function perf_counter>, number=1000000, globals=None)\n",
      "    Convenience function to create Timer object and call timeit method.\n",
      "\n",
      "Repeat for 0\n",
      "Repeat for 1\n",
      "Repeat for 2\n",
      "Repeat for 0\n",
      "Repeat for 1\n",
      "Repeat for 2\n",
      "Repeat for 0\n",
      "Repeat for 1\n",
      "Repeat for 2\n",
      "Repeat for 0\n",
      "Repeat for 1\n",
      "Repeat for 2\n",
      "Repeat for 0\n",
      "Repeat for 1\n",
      "Repeat for 2\n",
      "Repeat for 0\n",
      "Repeat for 1\n",
      "Repeat for 2\n",
      "Repeat for 0\n",
      "Repeat for 1\n",
      "Repeat for 2\n",
      "Repeat for 0\n",
      "Repeat for 1\n",
      "Repeat for 2\n",
      "Repeat for 0\n",
      "Repeat for 1\n",
      "Repeat for 2\n",
      "Repeat for 0\n",
      "Repeat for 1\n",
      "Repeat for 2\n",
      "0.015877022997301538\n"
     ]
    }
   ],
   "source": [
    "help(timeit.timeit)\n",
    "# timeit可以执行一个函数，来测量一个函数的执行时间\n",
    "import timeit\n",
    "def doIt():\n",
    "    num = 3\n",
    "    for i in range(num):\n",
    "        print(\"Repeat for {}\".format(i)) \n",
    "\n",
    "# 执行函数，重复10次\n",
    "t = timeit.timeit(stmt=doIt, number=10)\n",
    "print(t)"
   ]
  },
  {
   "cell_type": "code",
   "execution_count": 185,
   "metadata": {},
   "outputs": [
    {
     "name": "stdout",
     "output_type": "stream",
     "text": [
      "Repeat for 0\n",
      "Repeat for 1\n",
      "Repeat for 2\n",
      "Repeat for 0\n",
      "Repeat for 1\n",
      "Repeat for 2\n",
      "Repeat for 0\n",
      "Repeat for 1\n",
      "Repeat for 2\n",
      "Repeat for 0\n",
      "Repeat for 1\n",
      "Repeat for 2\n",
      "Repeat for 0\n",
      "Repeat for 1\n",
      "Repeat for 2\n",
      "Repeat for 0\n",
      "Repeat for 1\n",
      "Repeat for 2\n",
      "Repeat for 0\n",
      "Repeat for 1\n",
      "Repeat for 2\n",
      "Repeat for 0\n",
      "Repeat for 1\n",
      "Repeat for 2\n",
      "Repeat for 0\n",
      "Repeat for 1\n",
      "Repeat for 2\n",
      "Repeat for 0\n",
      "Repeat for 1\n",
      "Repeat for 2\n",
      "0.005099117999634473\n"
     ]
    }
   ],
   "source": [
    "s = '''\n",
    "def doIt(num):\n",
    "    for i in range(num):\n",
    "        print(\"Repeat for {}\".format(i)) \n",
    "\n",
    "'''\n",
    "# 执行doIt(num)\n",
    "# setup负责把环境变量准备好\n",
    "# 实际上相当于给timeit创造了一个小环境\n",
    "# 在创造的小环境中，代码执行的顺序大概是：\n",
    "'''\n",
    "def doIt(num):\n",
    "    ......\n",
    "num = 3\n",
    "doIt(num)\n",
    "\n",
    "'''\n",
    "import timeit\n",
    "t = timeit.timeit(\"doIt(num)\", setup=s+\"num=3\", number=10)\n",
    "print(t)"
   ]
  },
  {
   "cell_type": "markdown",
   "metadata": {},
   "source": [
    "## OS-操作系统相关\n",
    "- 跟操作系统相关，主要是文件操作\n",
    "- 与系统相关的操作，主要包含在三个模块\n",
    "    - os：操作系统目录相关\n",
    "    - os.path：系统路相径关操作\n",
    "    - shutil：高级文件操作，目录树的操作，文件赋值，删除，移动\n",
    "- 路径：\n",
    "    - 绝对路径：总是从根目录开始\n",
    "    - 相对路径：基本以当前环境为开始的一个相对的地方\n",
    "    "
   ]
  },
  {
   "cell_type": "markdown",
   "metadata": {},
   "source": [
    "## os 模块"
   ]
  },
  {
   "cell_type": "code",
   "execution_count": 24,
   "metadata": {},
   "outputs": [
    {
     "name": "stdout",
     "output_type": "stream",
     "text": [
      "/home/tlxy/tulingxueyuan/python_advanced_grammar\n"
     ]
    }
   ],
   "source": [
    "# getcwd() 获取当前工作目录\n",
    "# 格式：os.getcwd()\n",
    "# 返回值：当前工作目录的字符串\n",
    "# 当前工作目录就是程序在进行文件相关操作，默认查找文件的目录\n",
    "import os\n",
    "mydir = os.getcwd()\n",
    "print(mydir)"
   ]
  },
  {
   "cell_type": "code",
   "execution_count": 25,
   "metadata": {},
   "outputs": [
    {
     "name": "stdout",
     "output_type": "stream",
     "text": [
      "/home/tlxy/tulingxueyuan/python_advanced_grammar\n"
     ]
    }
   ],
   "source": [
    "# chdir 改变当前的工作目录\n",
    "# change directory\n",
    "# 格式：os.chdir(路径)\n",
    "# 返回值：无\n",
    "os.chdir('/home/tlxy/tulingxueyuan/python_advanced_grammar')\n",
    "mydir = os.getcwd()\n",
    "print(mydir)"
   ]
  },
  {
   "cell_type": "code",
   "execution_count": 26,
   "metadata": {},
   "outputs": [
    {
     "name": "stdout",
     "output_type": "stream",
     "text": [
      "['liuliu.haha', 'module and package', 'exception_handling.ipynb', 'liuliu', '.ipynb_checkpoints', '__pycache__', 'common_modules_1.ipynb']\n"
     ]
    }
   ],
   "source": [
    "# listdir() 获取一个目录中所有子目录和文件的名称列表\n",
    "# 格式：os.listdir(路径)\n",
    "# 返回值：所有子目录和文件名称的列表\n",
    "ld = os.listdir()\n",
    "print(ld)"
   ]
  },
  {
   "cell_type": "code",
   "execution_count": 22,
   "metadata": {},
   "outputs": [
    {
     "name": "stdout",
     "output_type": "stream",
     "text": [
      "Help on function makedirs in module os:\n",
      "\n",
      "makedirs(name, mode=511, exist_ok=False)\n",
      "    makedirs(name [, mode=0o777][, exist_ok=False])\n",
      "    \n",
      "    Super-mkdir; create a leaf directory and all intermediate ones.  Works like\n",
      "    mkdir, except that any intermediate path segment (not just the rightmost)\n",
      "    will be created if it does not exist. If the target directory already\n",
      "    exists, raise an OSError if exist_ok is False. Otherwise no exception is\n",
      "    raised.  This is recursive.\n",
      "\n",
      "None\n"
     ]
    }
   ],
   "source": [
    "# makedirs() 递归创建文件夹\n",
    "# 格式：os.makedirs(递归路径)\n",
    "# 返回值：无\n",
    "# 递归路径：多个文件层层包含的路径就是递归路径  例如：a/b/c...\n",
    "help(os.makedirs)\n",
    "rst = os.makedirs(\"liuliu\")\n",
    "print(rst)"
   ]
  },
  {
   "cell_type": "code",
   "execution_count": 27,
   "metadata": {
    "scrolled": true
   },
   "outputs": [
    {
     "name": "stdout",
     "output_type": "stream",
     "text": [
      "Help on built-in function system in module posix:\n",
      "\n",
      "system(command)\n",
      "    Execute the command in a subshell.\n",
      "\n",
      "0\n",
      "0\n"
     ]
    }
   ],
   "source": [
    "# system() 运行系统shell命令\n",
    "# 格式：os.system(系统命令)\n",
    "# 返回值：打开一个shell或者终端界面\n",
    "# 一般推荐使用subprocess代替\n",
    "# ls是列出当前文件和文件夹的系统命令  \n",
    "help(os.system)\n",
    "rst = os.system('ls')\n",
    "print(rst)\n",
    "# 在当前目录下创建一个liuliu.haha 的文集\n",
    "rst = os.system('touch liuliu.haha')\n",
    "print(rst)"
   ]
  },
  {
   "cell_type": "code",
   "execution_count": 29,
   "metadata": {},
   "outputs": [
    {
     "name": "stdout",
     "output_type": "stream",
     "text": [
      "/var/sw/anaconda3/bin:/home/tlxy/bin:/home/tlxy/.local/bin:/var/sw/anaconda3/bin:/usr/local/sbin:/usr/local/bin:/usr/sbin:/usr/bin:/sbin:/bin:/usr/games:/usr/local/games:/snap/bin\n"
     ]
    }
   ],
   "source": [
    "# getenv() 获取指定的系统环境变量\n",
    "# 相应的还有putenv() 添加一个环境变量\n",
    "# 格式：os.getenv('环境变量名')\n",
    "# 返回值：指定环境变量名对应的值\n",
    "rst = os.getenv(\"PATH\")\n",
    "print(rst)"
   ]
  },
  {
   "cell_type": "code",
   "execution_count": null,
   "metadata": {
    "collapsed": true
   },
   "outputs": [],
   "source": [
    "# exit() 退出当前程序\n",
    "# 格式：exit()\n",
    "# 返回值：无"
   ]
  },
  {
   "cell_type": "markdown",
   "metadata": {},
   "source": [
    "## 值部分\n",
    "- os.curdir: current dir, 当前目录\n",
    "- os.pardir: parent dir, 父亲目录\n",
    "- os.sep: 当前系统的路径分隔符\n",
    "    - windows: \"\\\"\n",
    "    - linux: \"/\"\n",
    "- os.linesep: 当前系统的换行符\n",
    "    - windows: \"\\r\\n\"\n",
    "    - unix, linux, macos: \"\\n\"\n",
    "- os.name: 当前系统名称\n",
    "    - winsows: nt\n",
    "    - mac, unix, linux: posix"
   ]
  },
  {
   "cell_type": "code",
   "execution_count": 30,
   "metadata": {},
   "outputs": [
    {
     "name": "stdout",
     "output_type": "stream",
     "text": [
      ".\n",
      "..\n"
     ]
    }
   ],
   "source": [
    "print(os.curdir)\n",
    "print(os.pardir)"
   ]
  },
  {
   "cell_type": "code",
   "execution_count": 32,
   "metadata": {},
   "outputs": [
    {
     "name": "stdout",
     "output_type": "stream",
     "text": [
      "/\n",
      "\n",
      "\n"
     ]
    }
   ],
   "source": [
    "print(os.sep)\n",
    "print(os.linesep)"
   ]
  },
  {
   "cell_type": "code",
   "execution_count": 33,
   "metadata": {},
   "outputs": [
    {
     "name": "stdout",
     "output_type": "stream",
     "text": [
      "/home/tlxy/liuliu\n"
     ]
    }
   ],
   "source": [
    "# 在相关路径操作中，不要手动拼写地址，因为手动拼写的路径可能不具有移植性\n",
    "path = \"/home/tlxy\" + \"/\" + \"liuliu\"\n",
    "print(path)"
   ]
  },
  {
   "cell_type": "code",
   "execution_count": 34,
   "metadata": {},
   "outputs": [
    {
     "name": "stdout",
     "output_type": "stream",
     "text": [
      "posix\n"
     ]
    }
   ],
   "source": [
    "# linux操作系统的名称是posix\n",
    "print(os.name)"
   ]
  },
  {
   "cell_type": "markdown",
   "metadata": {
    "collapsed": true
   },
   "source": [
    "## os.path 模块，跟路径相关的模块"
   ]
  },
  {
   "cell_type": "code",
   "execution_count": 38,
   "metadata": {},
   "outputs": [
    {
     "name": "stdout",
     "output_type": "stream",
     "text": [
      "Help on function abspath in module posixpath:\n",
      "\n",
      "abspath(path)\n",
      "    Return an absolute path.\n",
      "\n",
      "/home/tlxy/tulingxueyuan/python_advanced_grammar\n",
      "/home/tlxy/tulingxueyuan\n"
     ]
    }
   ],
   "source": [
    "# abspath() 将路径转化为绝对路径\n",
    "# absolute 绝对\n",
    "# 格式：os.path.abspath(\"路径\")\n",
    "# 返回值：路径的绝对路径形式\n",
    "help(os.path.abspath)\n",
    "import os.path as op\n",
    "absp = op.abspath(\".\")\n",
    "print(absp)\n",
    "absp = op.abspath(\"..\")\n",
    "print(absp)"
   ]
  },
  {
   "cell_type": "code",
   "execution_count": 44,
   "metadata": {},
   "outputs": [
    {
     "name": "stdout",
     "output_type": "stream",
     "text": [
      "tulingxueyuan\n"
     ]
    }
   ],
   "source": [
    "# basename() 获取路径中的文件名部分\n",
    "# 格式：os.path.basename(路径)\n",
    "# 返回值：文件名字符串\n",
    "bn = op.basename(\"/home/tlxy/tulingxueyuan\")\n",
    "print(bn)"
   ]
  },
  {
   "cell_type": "code",
   "execution_count": 47,
   "metadata": {},
   "outputs": [
    {
     "name": "stdout",
     "output_type": "stream",
     "text": [
      "Help on function join in module posixpath:\n",
      "\n",
      "join(a, *p)\n",
      "    Join two or more pathname components, inserting '/' as needed.\n",
      "    If any component is an absolute path, all previous path components\n",
      "    will be discarded.  An empty last part will result in a path that\n",
      "    ends with a separator.\n",
      "\n",
      "/home/tlxy/tulingxueyuan/python_advanced_grammar\n"
     ]
    }
   ],
   "source": [
    "# join() 将多个路径拼合成一个路径\n",
    "# 格式：os.path.join(路径1，路径2，路径3...)\n",
    "# 返回值：组合之后的新路径字符串\n",
    "help(os.path.join)\n",
    "bd = \"/home/tlxy/tulingxueyuan\"\n",
    "fn = \"python_advanced_grammar\"\n",
    "p = op.join(bd, fn)\n",
    "print(p)"
   ]
  },
  {
   "cell_type": "code",
   "execution_count": 50,
   "metadata": {},
   "outputs": [
    {
     "name": "stdout",
     "output_type": "stream",
     "text": [
      "('/home/tlxy/tulingxueyuan', 'python_advanced_grammar')\n",
      "/home/tlxy/tulingxueyuan python_advanced_grammar\n"
     ]
    }
   ],
   "source": [
    "# split() 将路径切割为文件夹部分和当前文件部分\n",
    "# 格式：os.path.split(路径)\n",
    "# 返回值：路径和文件名组成的元组\n",
    "t = op.split(\"/home/tlxy/tulingxueyuan/python_advanced_grammar\")\n",
    "print(t)\n",
    "d,p = op.split(\"/home/tlxy/tulingxueyuan/python_advanced_grammar\")\n",
    "print(d, p)\n"
   ]
  },
  {
   "cell_type": "code",
   "execution_count": 71,
   "metadata": {},
   "outputs": [
    {
     "name": "stdout",
     "output_type": "stream",
     "text": [
      "False\n"
     ]
    }
   ],
   "source": [
    "# isdir() 检查是否是目录\n",
    "# 格式：os.path.isdir(路径)\n",
    "#　返回值：布尔值\n",
    "rst = os.path.isdir(\"/home/tlxy/tulingxueyuan/python_advanced_grammar/liuliu.haha\")\n",
    "print(rst)"
   ]
  },
  {
   "cell_type": "code",
   "execution_count": 70,
   "metadata": {},
   "outputs": [
    {
     "name": "stdout",
     "output_type": "stream",
     "text": [
      "True\n",
      "True\n",
      "True\n"
     ]
    }
   ],
   "source": [
    "# exists() 检测文件或目录是否存在\n",
    "# 格式：os.path.exists(路径)\n",
    "# 返回值：布尔值\n",
    "e = os.path.exists(\"/home\")\n",
    "e1 = os.path.exists(\"/home/tlxy/tulingxueyuan\")\n",
    "e2 = os.path.exists(\"/home/tlxy/tulingxueyuan/python_advanced_grammar/liuliu.haha\")\n",
    "print(e)\n",
    "print(e1)\n",
    "print(e2)"
   ]
  },
  {
   "cell_type": "markdown",
   "metadata": {},
   "source": [
    "## shutil 模块"
   ]
  },
  {
   "cell_type": "code",
   "execution_count": 69,
   "metadata": {},
   "outputs": [
    {
     "name": "stdout",
     "output_type": "stream",
     "text": [
      "/home/tlxy/tulingxueyuan/python_advanced_grammar/yuanyuan.haha\n"
     ]
    }
   ],
   "source": [
    "# copy() 复制文件\n",
    "# 格式：shutil.copy(来源路径，目标路径) \n",
    "# 返回值：返回目标路径\n",
    "# 拷贝的同时可以给文件重命名\n",
    "import shutil\n",
    "rst = shutil.copy('/home/tlxy/tulingxueyuan/python_advanced_grammar/liuliu.haha', \n",
    "                  '/home/tlxy/tulingxueyuan/python_advanced_grammar/yuanyuan.haha')\n",
    "print(rst)"
   ]
  },
  {
   "cell_type": "code",
   "execution_count": null,
   "metadata": {
    "collapsed": true
   },
   "outputs": [],
   "source": [
    "# copy2() 复制文件，保留元数据（文件信息）\n",
    "# 格式：shutil.copy2(来源路径，目标路径)\n",
    "# 返回值：返回目标路径\n",
    "# 注意：copy()和cpoy2()的唯一区别是copy2()复制文件时尽量保留元数据"
   ]
  },
  {
   "cell_type": "code",
   "execution_count": 77,
   "metadata": {},
   "outputs": [
    {
     "name": "stdout",
     "output_type": "stream",
     "text": [
      "Help on function copyfile in module shutil:\n",
      "\n",
      "copyfile(src, dst, *, follow_symlinks=True)\n",
      "    Copy data from src to dst.\n",
      "    \n",
      "    If follow_symlinks is not set and src is a symbolic link, a new\n",
      "    symlink will be created instead of copying the file it points to.\n",
      "\n",
      "yuanyuan.haha\n"
     ]
    }
   ],
   "source": [
    "# copyfile() 讲一个文件中的内容拷贝到另一个文件中\n",
    "# 格式：shutil.coopyfile('源路径', '目标路径')\n",
    "# 返回值：无\n",
    "help(shutil.copyfile)\n",
    "rst = shutil.copyfile(\"liuliu.haha\", \"yuanyuan.haha\")\n",
    "print(rst)"
   ]
  },
  {
   "cell_type": "code",
   "execution_count": 83,
   "metadata": {},
   "outputs": [
    {
     "name": "stdout",
     "output_type": "stream",
     "text": [
      "/home/tlxy/tulingxueyuan/python_advanced_grammar/liuliu/liuliu.haha\n"
     ]
    }
   ],
   "source": [
    "# move() 移动文件/文件夹\n",
    "# 格式：shutil.move(源路径，目标路径)\n",
    "# 返回值：目标路径！！\n",
    "rst = shutil.move(\"/home/tlxy/liuliu.haha\", \"/home/tlxy/tulingxueyuan/python_advanced_grammar/liuliu\")\n",
    "print(rst)"
   ]
  },
  {
   "cell_type": "markdown",
   "metadata": {},
   "source": [
    "## 归档和压缩\n",
    "- 归档：把多个文件或者文件夹合并到一个文件当中\n",
    "- 压缩：用算法把多个文件或者文件夹无损或者有损合并到一个文件夹当中"
   ]
  },
  {
   "cell_type": "code",
   "execution_count": 88,
   "metadata": {},
   "outputs": [
    {
     "name": "stdout",
     "output_type": "stream",
     "text": [
      "Help on function make_archive in module shutil:\n",
      "\n",
      "make_archive(base_name, format, root_dir=None, base_dir=None, verbose=0, dry_run=0, owner=None, group=None, logger=None)\n",
      "    Create an archive file (eg. zip or tar).\n",
      "    \n",
      "    'base_name' is the name of the file to create, minus any format-specific\n",
      "    extension; 'format' is the archive format: one of \"zip\", \"tar\", \"gztar\",\n",
      "    \"bztar\", or \"xztar\".  Or any other registered format.\n",
      "    \n",
      "    'root_dir' is a directory that will be the root directory of the\n",
      "    archive; ie. we typically chdir into 'root_dir' before creating the\n",
      "    archive.  'base_dir' is the directory where we start archiving from;\n",
      "    ie. 'base_dir' will be the common prefix of all files and\n",
      "    directories in the archive.  'root_dir' and 'base_dir' both default\n",
      "    to the current directory.  Returns the name of the archive file.\n",
      "    \n",
      "    'owner' and 'group' are used when creating a tar archive. By default,\n",
      "    uses the current owner and group.\n",
      "\n",
      "/home/tlxy/tulingxueyuan/python_advanced_grammar/tuling.zip\n"
     ]
    }
   ],
   "source": [
    "# make_archive() 归档操作\n",
    "# 格式：shutil.make_active(\"归档之后的目录或者文件名\", \"后缀\", \"需要归档的文件夹\")\n",
    "# 返回值：归档之后的地址\n",
    "\n",
    "help(shutil.make_archive)\n",
    "# 是想得到一个叫做tuling.zip的归档文件\n",
    "rst = shutil.make_archive(\"/home/tlxy/tulingxueyuan/python_advanced_grammar/tuling\", \"zip\", \n",
    "                         \"/home/tlxy/tulingxueyuan/python_advanced_grammar/liuliu\")\n",
    "print(rst)"
   ]
  },
  {
   "cell_type": "code",
   "execution_count": 11,
   "metadata": {},
   "outputs": [
    {
     "name": "stdout",
     "output_type": "stream",
     "text": [
      "Help on function unpack_archive in module shutil:\n",
      "\n",
      "unpack_archive(filename, extract_dir=None, format=None)\n",
      "    Unpack an archive.\n",
      "    \n",
      "    `filename` is the name of the archive.\n",
      "    \n",
      "    `extract_dir` is the name of the target directory, where the archive\n",
      "    is unpacked. If not provided, the current working directory is used.\n",
      "    \n",
      "    `format` is the archive format: one of \"zip\", \"tar\", \"gztar\", \"bztar\",\n",
      "    or \"xztar\".  Or any other registered format.  If not provided,\n",
      "    unpack_archive will use the filename extension and see if an unpacker\n",
      "    was registered for that extension.\n",
      "    \n",
      "    In case none is found, a ValueError is raised.\n",
      "\n",
      "None\n"
     ]
    }
   ],
   "source": [
    "# unpack_archive() 解包操作\n",
    "# 格式：shutil.unpack_archive(\"归档文件地址\", \"解包后的地址\")\n",
    "# 返回值：None\n",
    "import shutil\n",
    "help(shutil.unpack_archive)\n",
    "rst = shutil.unpack_archive(\"/home/tlxy/tulingxueyuan/python_advanced_grammar/tuling.zip\", \n",
    "                          \"/home/tlxy/tulingxueyuan/python_advanced_grammar/jiebao\")\n",
    "print(rst)"
   ]
  },
  {
   "cell_type": "markdown",
   "metadata": {
    "collapsed": true
   },
   "source": [
    "## zip-压缩包\n",
    "- 模块名称叫zipfile"
   ]
  },
  {
   "cell_type": "code",
   "execution_count": 13,
   "metadata": {},
   "outputs": [
    {
     "name": "stdout",
     "output_type": "stream",
     "text": [
      "<zipfile.ZipFile filename='tuling.zip' mode='r'>\n"
     ]
    }
   ],
   "source": [
    "# zipfile.ZipFile(file[, mode[, compression[, allowZip64]]])\n",
    "# 创建一个ZipFile对象，表示一个zip文件。参数file表示文件的路径或类文件对象(file-like object)\n",
    "import zipfile\n",
    "zf = zipfile.ZipFile(\"tuling.zip\")\n",
    "print(zf)\n"
   ]
  },
  {
   "cell_type": "code",
   "execution_count": 15,
   "metadata": {},
   "outputs": [
    {
     "name": "stdout",
     "output_type": "stream",
     "text": [
      "<ZipInfo filename='liuliu.haha' compress_type=deflate filemode='-rw-rw-r--' file_size=75 compress_size=76>\n"
     ]
    }
   ],
   "source": [
    "# ZipFile.getinfo(name):\n",
    "# 获取zip文档内指定文件的信息。返回一个zipfile.ZipInfo对象，它包括文件的详细信息\n",
    "rst = zf.getinfo(\"liuliu.haha\")\n",
    "print(rst) "
   ]
  },
  {
   "cell_type": "code",
   "execution_count": 17,
   "metadata": {},
   "outputs": [
    {
     "name": "stdout",
     "output_type": "stream",
     "text": [
      "['yuanyuan.haha', 'liuliu.haha']\n"
     ]
    }
   ],
   "source": [
    "# ZipFile.namelist()\n",
    "# 获取zip文档内所有文件的名称列表\n",
    "\n",
    "nl = zf.namelist()\n",
    "print(nl)"
   ]
  },
  {
   "cell_type": "code",
   "execution_count": 20,
   "metadata": {},
   "outputs": [
    {
     "name": "stdout",
     "output_type": "stream",
     "text": [
      "None\n"
     ]
    }
   ],
   "source": [
    "# ZipFile.extractall([path[, members[, pwd]]])\n",
    "# 解压zip文档中的所有文件到当前目录。参数members的默认值为zip文档中的所有文件名称列表\n",
    "rst = zf.extractall(\"jiebao\")\n",
    "print(rst)"
   ]
  },
  {
   "cell_type": "markdown",
   "metadata": {},
   "source": [
    "## random 模块\n",
    "- 随机数\n",
    "- 所有的随机模块都是伪随机"
   ]
  },
  {
   "cell_type": "code",
   "execution_count": 146,
   "metadata": {},
   "outputs": [
    {
     "name": "stdout",
     "output_type": "stream",
     "text": [
      "0.43378315101151244\n",
      "43\n"
     ]
    }
   ],
   "source": [
    "# random() 获取0-1之间的随机小数\n",
    "# 格式：random.random()\n",
    "# 返回值：随机0-1之间的小数\n",
    "import random\n",
    "r = random.random()\n",
    "print(r)\n",
    "print(round(r*100))"
   ]
  },
  {
   "cell_type": "code",
   "execution_count": 177,
   "metadata": {},
   "outputs": [
    {
     "name": "stdout",
     "output_type": "stream",
     "text": [
      "['0haha', '1haha', '2haha', '3haha', '4haha', '5haha', '6haha', '7haha', '8haha', '9haha']\n",
      "8haha\n"
     ]
    }
   ],
   "source": [
    "# choice() 随机返回序列中的某个值\n",
    "# 格式：random.choice(序列)\n",
    "# 返回值：序列中的某个值\n",
    "l = [str(i) + \"haha\" for i in range(10)]\n",
    "print(l)\n",
    "rst = random.choice(l)\n",
    "print(rst)"
   ]
  },
  {
   "cell_type": "code",
   "execution_count": 185,
   "metadata": {},
   "outputs": [
    {
     "name": "stdout",
     "output_type": "stream",
     "text": [
      "[0, 1, 2, 3, 4, 5, 6, 7, 8, 9]\n",
      "None\n",
      "[8, 2, 6, 0, 4, 3, 5, 1, 7, 9]\n"
     ]
    }
   ],
   "source": [
    "# shuffle() 随机打乱列表\n",
    "# 格式：random.shuffle(列表)\n",
    "# 返回值：打乱顺序之后的列表\n",
    "l = [i for i in range(10)]\n",
    "print(l)\n",
    "l1 = random.shuffle(l)\n",
    "print(l1)\n",
    "print(l)"
   ]
  },
  {
   "cell_type": "code",
   "execution_count": 223,
   "metadata": {},
   "outputs": [
    {
     "name": "stdout",
     "output_type": "stream",
     "text": [
      "6\n"
     ]
    }
   ],
   "source": [
    "# randint(a, b) 随机生成一个指定范围[a, b]内的整数\n",
    "# 格式：random.randint(a, b)\n",
    "# 返回值：指定范围内的随机整数\n",
    "print(random.randint(1, 10))"
   ]
  }
 ],
 "metadata": {
  "kernelspec": {
   "display_name": "Python 3",
   "language": "python",
   "name": "python3"
  },
  "language_info": {
   "codemirror_mode": {
    "name": "ipython",
    "version": 3
   },
   "file_extension": ".py",
   "mimetype": "text/x-python",
   "name": "python",
   "nbconvert_exporter": "python",
   "pygments_lexer": "ipython3",
   "version": "3.6.3"
  }
 },
 "nbformat": 4,
 "nbformat_minor": 2
}
