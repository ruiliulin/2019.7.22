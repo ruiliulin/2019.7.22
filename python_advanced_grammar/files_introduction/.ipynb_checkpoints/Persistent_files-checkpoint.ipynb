{
 "cells": [
  {
   "cell_type": "markdown",
   "metadata": {},
   "source": [
    "# 文件\n",
    "- 长久保存信息的一种数据信息集合\n",
    "- 常用操作\n",
    "    - 打开关闭（文件一旦打开，需要关闭操作）\n",
    "    - 读写内容\n",
    "    - 查找\n",
    "# open函数\n",
    "- open函数负责打开文件，带有很多参数\n",
    "- 第一个参数：必须有，文件的路径和名称\n",
    "- mode: 表明文件用什么方式打开\n",
    "    - r: 以只读方式打开\n",
    "    - w: 以写入方式打开，会覆盖以前的内容\n",
    "    - x: 创建方式打开，如果文件已存在，报错\n",
    "    - a: append方式，以追加的方式对文件内容进行写入\n",
    "    - b: binary方式，以二进制方式写入\n",
    "    - t: 以文本方式打开\n",
    "    - +: 可读写"
   ]
  },
  {
   "cell_type": "code",
   "execution_count": 1,
   "metadata": {
    "collapsed": true
   },
   "outputs": [],
   "source": [
    "# 打开一个文件，用写的方式\n",
    "# r表示后面字符串内容不需要转义 \n",
    "# f称之为文件句柄\n",
    "f = open(r\"test01.txt\", 'w')\n",
    "# 文件打开后必须关闭\n",
    "f.close()\n",
    "\n",
    "# 此案例说明，以写方式打开文件，默认是如果没有文件，则创建"
   ]
  },
  {
   "cell_type": "markdown",
   "metadata": {},
   "source": [
    "# with语句\n",
    "- with语句使用的技术是一种称为上下文管理协议的技术(ContextManagementProtocol)\n",
    "- 自动判断文件的 作用域，自动关闭不在使用的打开的文件句柄\n"
   ]
  },
  {
   "cell_type": "code",
   "execution_count": 2,
   "metadata": {
    "collapsed": true
   },
   "outputs": [],
   "source": [
    "# with语句案例\n",
    "with open(r\"test01.txt\", 'r') as f:\n",
    "    pass\n",
    "    # 下面的语句块开始对文件f进行操作\n",
    "    # 在本模块中不需要使用close关闭文件f"
   ]
  },
  {
   "cell_type": "code",
   "execution_count": 5,
   "metadata": {},
   "outputs": [
    {
     "name": "stdout",
     "output_type": "stream",
     "text": [
      "鹅鹅鹅！\n",
      "曲项向天歌。\n",
      "白毛浮绿水，\n",
      "红掌拨清波。\n"
     ]
    }
   ],
   "source": [
    "# with案例2\n",
    "with open(r\"test01.txt\", 'r') as f:\n",
    "    # 按行读取内容\n",
    "    strline = f.readline().strip()\n",
    "    # 此结构保证能够完整读取文件直到结束\n",
    "    while strline:\n",
    "        print(strline)\n",
    "        strline = f.readline().strip()"
   ]
  },
  {
   "cell_type": "code",
   "execution_count": 7,
   "metadata": {},
   "outputs": [
    {
     "name": "stdout",
     "output_type": "stream",
     "text": [
      "鹅鹅鹅！\n",
      "曲项向天歌。\n",
      "白毛浮绿水，\n",
      "红掌拨清波。\n"
     ]
    }
   ],
   "source": [
    "# list能用打开的文件作为参数，把文件内每一行内容作为一个元素\n",
    "with open(r\"test01.txt\", 'r') as f:\n",
    "    # 以打开的f作为参数，创建列表l\n",
    "    l = list(f)\n",
    "    for i in l:\n",
    "        print(i.strip())"
   ]
  },
  {
   "cell_type": "code",
   "execution_count": 18,
   "metadata": {},
   "outputs": [
    {
     "name": "stdout",
     "output_type": "stream",
     "text": [
      "25\n",
      "鹅鹅鹅！\n",
      "曲项向天歌。\n",
      "白毛浮绿水，\n",
      "红掌拨清波。\n"
     ]
    }
   ],
   "source": [
    "# read是按字符读取文件内容\n",
    "# 允许输入参数决定读取几个字符，如果没有指定，从当前位置读取到结尾\n",
    "# 否则，从当前位置读取到指定的字符位置\n",
    "\n",
    "with open(r\"test01.txt\", 'r') as f:\n",
    "    strChar = f.read()\n",
    "    print(len(strChar))\n",
    "    print(strChar)"
   ]
  },
  {
   "cell_type": "code",
   "execution_count": 4,
   "metadata": {},
   "outputs": [
    {
     "name": "stdout",
     "output_type": "stream",
     "text": [
      "鹅鹅鹅！\n",
      "曲项向天歌。\n",
      "白毛浮绿水，\n",
      "红掌拨清波。"
     ]
    }
   ],
   "source": [
    "# 一个一个读\n",
    "with open(r\"test01.txt\", 'r') as f:\n",
    "    strChar = f.read(1)\n",
    "    while strChar:\n",
    "        print(strChar, end=\"\")\n",
    "        if strChar == \" \":\n",
    "            print()\n",
    "        strChar = f.read(1)    "
   ]
  },
  {
   "cell_type": "markdown",
   "metadata": {},
   "source": [
    "# seek (offset,  from)\n",
    "- 移动文件的读取位置，也叫读取指针\n",
    "- from的取值范围：\n",
    "    - 0：从文件头开始偏移\n",
    "    - 1：从文件当前位置开始偏移\n",
    "    - 2：从文件末尾开始偏移\n",
    "- 移动的单位是字节(byte)\n",
    "- 一个汉字由若干个字节构成（至于是几个就不一定啦） \n",
    "- 返回的文件只针对 当前位置"
   ]
  },
  {
   "cell_type": "code",
   "execution_count": 18,
   "metadata": {},
   "outputs": [
    {
     "name": "stdout",
     "output_type": "stream",
     "text": [
      "！\n",
      "曲项向天歌。\n",
      "白毛浮绿水，\n",
      "红掌拨清波。\n"
     ]
    }
   ],
   "source": [
    "## seek案例\n",
    "# 打开文件后，从第5个字节处开始读取\n",
    "\n",
    "# 打开读写指针在0处，即文件的开头\n",
    "with open(r\"test01.txt\", 'r') as f:\n",
    "    # seek的异动单位是字节\n",
    "    f.seek(9, 0)\n",
    "    strChar = f.read()\n",
    "    print(strChar)"
   ]
  },
  {
   "cell_type": "code",
   "execution_count": 22,
   "metadata": {},
   "outputs": [
    {
     "name": "stdout",
     "output_type": "stream",
     "text": [
      "鹅鹅鹅\n",
      "！\n",
      "曲\n",
      "项向天\n",
      "歌。\n",
      "白毛浮\n",
      "绿水，\n",
      "红掌\n",
      "拨清波\n",
      "。\n"
     ]
    }
   ],
   "source": [
    "# 关于读取文件的练习\n",
    "# 打开文件，三个字符一组读出内容，然后显示在屏幕上\n",
    "# 每读一次，休息1秒钟\n",
    "\n",
    "# 让程序暂停，可以使用time下的sleep函数\n",
    "from time import sleep\n",
    "with open(r\"test01.txt\", 'r') as f:\n",
    "    # read参数单位是字符，可以理解成一个汉字就是一个字符\n",
    "    strChar = f.read(3)\n",
    "    while strChar:\n",
    "        print(strChar)\n",
    "        # sleep参数单位是秒\n",
    "        sleep(1)\n",
    "        strChar = f.read(3)"
   ]
  },
  {
   "cell_type": "code",
   "execution_count": 23,
   "metadata": {},
   "outputs": [
    {
     "name": "stdout",
     "output_type": "stream",
     "text": [
      "9\n",
      "鹅鹅鹅\n",
      "16\n",
      "！\n",
      "曲\n",
      "25\n",
      "项向天\n",
      "32\n",
      "歌。\n",
      "\n",
      "41\n",
      "白毛浮\n",
      "50\n",
      "绿水，\n",
      "57\n",
      "\n",
      "红掌\n",
      "66\n",
      "拨清波\n",
      "69\n",
      "。\n"
     ]
    }
   ],
   "source": [
    "# tell函数：用来显示文件读写指针的当前位置\n",
    "with open(r\"test01.txt\", 'r') as f:\n",
    "    strChar = f.read(3)\n",
    "    pos = f.tell()\n",
    "    \n",
    "    while strChar:\n",
    "        print(pos)\n",
    "        print(strChar)\n",
    "        strChar = f.read(3)\n",
    "        pos = f.tell()\n",
    "# 以下结果说明：\n",
    "# tell的返回数字的单位是字节（byte）\n",
    "# read是以字符为单位"
   ]
  },
  {
   "cell_type": "markdown",
   "metadata": {},
   "source": [
    "# write 文件的写操作 \n",
    "- write(str): 把字符串写入文件\n",
    "- writeline(str): 把字符串按行写入文件\n",
    "- 区别：\n",
    "    - write函数参数只能是字符串\n",
    "    - writeline函数参数可以使字符串，也可以是字符序列"
   ]
  },
  {
   "cell_type": "code",
   "execution_count": 7,
   "metadata": {
    "collapsed": true
   },
   "outputs": [],
   "source": [
    "# write案例\n",
    "# 1. 向文件追加一句诗\n",
    "\n",
    "# a代表追加方式打开\n",
    "with open(r\"test01.txt\", 'a') as f:\n",
    "    # 注意字符串内含有换行符\n",
    "    f.write(\"\\n还有就是，\\n你是我的大白鹅!!!\")\n",
    "    "
   ]
  },
  {
   "cell_type": "code",
   "execution_count": 6,
   "metadata": {},
   "outputs": [],
   "source": [
    "# 可以直接写入行，用writelines\n",
    "# writelines表示可以写入很多行，参数可以是list格式\n",
    "\n",
    "with open(r\"test01.txt\", 'a') as f:\n",
    "    f.writelines(\"\\n还有就是，\")\n",
    "    f.writelines(\"\\n你是我的大白鹅！！！\")"
   ]
  },
  {
   "cell_type": "code",
   "execution_count": 8,
   "metadata": {
    "collapsed": true
   },
   "outputs": [],
   "source": [
    "l = [\"I\", \"love\", \"wangerqing\"]\n",
    "with open(r\"test01.txt\", 'w') as f:\n",
    "    f.writelines(l)\n"
   ]
  },
  {
   "cell_type": "markdown",
   "metadata": {
    "collapsed": true
   },
   "source": [
    "# 持久化 - pickle\n",
    "- 序列化(持久化，落地)：把程序运行中的信息保存在磁盘上\n",
    "- 反序列化：序列化的逆过程\n",
    "- pickle：python提供的序列化模块\n",
    "- pickle.dump：序列化\n",
    "- pickle.load：反序列化"
   ]
  },
  {
   "cell_type": "code",
   "execution_count": 9,
   "metadata": {
    "collapsed": true
   },
   "outputs": [],
   "source": [
    "# 序列化的案例\n",
    "import pickle\n",
    "\n",
    "age = 18\n",
    "\n",
    "with open(r\"test01.txt\", 'wb') as f:\n",
    "    pickle.dump(age, f)\n",
    "    "
   ]
  },
  {
   "cell_type": "code",
   "execution_count": 11,
   "metadata": {},
   "outputs": [
    {
     "name": "stdout",
     "output_type": "stream",
     "text": [
      "18\n"
     ]
    }
   ],
   "source": [
    "# 反序列化案例\n",
    "import pickle\n",
    "\n",
    "with open(r\"test01.txt\", 'rb') as f:\n",
    "    age = pickle.load(f)\n",
    "    print(age)"
   ]
  },
  {
   "cell_type": "code",
   "execution_count": 16,
   "metadata": {},
   "outputs": [],
   "source": [
    "# 序列化的案例-2\n",
    "import pickle\n",
    "\n",
    "a = [18, \"liuliu\", \"I love wangerqing\", [165, 55]]\n",
    "\n",
    "with open(r\"test01.txt\", 'wb') as f:\n",
    "    pickle.dump(a, f)"
   ]
  },
  {
   "cell_type": "code",
   "execution_count": 17,
   "metadata": {},
   "outputs": [
    {
     "name": "stdout",
     "output_type": "stream",
     "text": [
      "[18, 'liuliu', 'I love wangerqing', [165, 55]]\n"
     ]
    }
   ],
   "source": [
    "# 反序列化案例-2\n",
    "import pickle\n",
    "\n",
    "with open(r\"test01.txt\", 'rb') as f:\n",
    "    a = pickle.load(f)\n",
    "    print(a)"
   ]
  },
  {
   "cell_type": "code",
   "execution_count": null,
   "metadata": {
    "collapsed": true
   },
   "outputs": [],
   "source": []
  }
 ],
 "metadata": {
  "kernelspec": {
   "display_name": "Python 3",
   "language": "python",
   "name": "python3"
  },
  "language_info": {
   "codemirror_mode": {
    "name": "ipython",
    "version": 3
   },
   "file_extension": ".py",
   "mimetype": "text/x-python",
   "name": "python",
   "nbconvert_exporter": "python",
   "pygments_lexer": "ipython3",
   "version": "3.6.3"
  }
 },
 "nbformat": 4,
 "nbformat_minor": 2
}
