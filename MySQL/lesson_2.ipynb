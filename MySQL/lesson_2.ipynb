{
 "cells": [
  {
   "cell_type": "markdown",
   "metadata": {},
   "source": [
    "# MySQL数据库的数据类型\n",
    "- MySQL支持多种数据类型"
   ]
  },
  {
   "cell_type": "markdown",
   "metadata": {},
   "source": [
    "## 常用的数据类型\n",
    "- 整形\n",
    "    - int 整形\n",
    "    -  int(M) M表示预期值，与存储大小和数值范围无关（就是有zerofill零填充，会在左侧补零）\n",
    "- 浮点型\n",
    "    - float[(M, D)] 浮点型\n",
    "        - salary float(6,2) 表示最多有6位，小数占2位，最大存储数据为9999.99\n",
    "    - double 浮点型，小数\n",
    "- 字符型\n",
    "    - char(M) 固定长度的字符串类型\n",
    "    - varchar(M) 可变长度的字符串类型\n",
    "    - text 大的字符串类型，4G字符串\n",
    "    - blob 字节类型\n",
    "- 日期\n",
    "    - date 日期类型， 表示年月日      YYYY-MM-DD           日期格式\n",
    "    - time 时间类型， 时分秒          HH:mm:ss            时间格式\n",
    "    - year 年份，年                 YYYY                 年份值\n",
    "    - timestamp 年月日 时分秒，时间戳 YYYYMMDDhhmmss       2037年的某一时刻\n",
    "    - datetime 年月日 时分秒         YYYY-MM-DD hh:mm:ss  日期格式 \n",
    "- 注意：选择合适的数据类型是数据库优化的一部分， short it better !!!!!!"
   ]
  },
  {
   "cell_type": "markdown",
   "metadata": {},
   "source": [
    "# MySQL数据库中的数据的使用"
   ]
  },
  {
   "cell_type": "markdown",
   "metadata": {},
   "source": [
    "## SQL概述\n",
    "- SQL：结构化查询语言，可以用于查询或修改关系数据库的语言\n",
    "- SQL语言：数据库的核心语言，被ISO采纳为数据库语言的国际标准，几乎所有的数据库都支持SQL\n"
   ]
  },
  {
   "cell_type": "markdown",
   "metadata": {},
   "source": [
    "## SQL组成\n",
    "- DDL：数据定义语言\n",
    "    - 用于管理和定义数据的对象，包括数据库，数据表等\n",
    "    - create：创建数据库和表\n",
    "    - drop：删除表对象\n",
    "    - alter：修改表结果\n",
    "- DML：数据操作语言\n",
    "    - 用于操作数据库对象中所包含的数据\n",
    "    - insert：添加数据\n",
    "    - delete：删除数据\n",
    "    - update：修改数据\n",
    "- DQL：数据查询语言\n",
    "    - 用于查询数据库对象中所包含的数据\n",
    "    - select：查询数据\n",
    "- TCL：事务控制语言\n",
    "    - 管理数据库的语言，包括提交事务，事务回滚\n",
    "    - commit：提交事务\n",
    "    - rollback：事务回滚\n",
    "    - savepoint：事务节点\n",
    "- DCL：数据控制语言\n",
    "    - 用来管理数据库，包括管理权限，数据更改\n",
    "    - grant：授权\n",
    "    - revoke：收回权限"
   ]
  },
  {
   "cell_type": "markdown",
   "metadata": {},
   "source": [
    "### 数据定义语言 DDL\n",
    "- 用于管理和定义数据的对象，包括数据库，数据表等\n",
    "- 数据库的操作\n",
    "    - 创建\n",
    "        - 语法格式：\n",
    "            - create database [if not exists] 数据库的名称 [character set [=] 编码名称];\n",
    "    - 查询\n",
    "        - 查看所有的数据库 ：\n",
    "            - show databases;\n",
    "        - 查询某个已经创建的数据库： \n",
    "            - show create database 数据库名称; \n",
    "    - 修改\n",
    "        - 语法格式：\n",
    "            - alter database [if not exists] 数据库的名称 [character set [=] 新的编码名称]; \n",
    "    - 删除\n",
    "        - 语法格式：\n",
    "            - drop database [if not exists] 数据库的名称;\n",
    "- 数据表的操作\n",
    "    - 创建\n",
    "        - 使用一个数据库： use 数据库名称;\n",
    "        - 查看当前正在使用的数据库： select database();\n",
    "        - 创建数据表语法： create table 表名;（字段名 字段类型，约束，字段名 字段类型，约束，。。。。。。)\n",
    "    - 查询\n",
    "        - 显示当前数据库中所有的数据表： show tables;\n",
    "        - 查询指定的某张数据表的表结构： show columns from 表名;\n",
    "        - 查询指定的某张数据表的表结构： desc 表名;\n",
    "    - 修改\n",
    "        - 修改表名\n",
    "            - alter table 表名 rename [as|to] 新表名;\n",
    "            - rename table 旧表名 to 新表名 [，旧表名 to 新表名，........];\n",
    "        - 添加列\n",
    "            - alter table 表名 add [columns] 列名 列定义 [first/after 列名];(在[指定的列]后面添加新的列)\n",
    "        - 修改列定义\n",
    "            - alter table 表名 modify 列名 列定义 [first/after 列名];(直接修改列的定义）\n",
    "        - 修改列名\n",
    "            - alter table 表名 change 旧的列名 新的列名 新的列定义 [first/after 列名];（修改列名以及列定义）\n",
    "        - 删除列\n",
    "            - alter table 表名 drop [columns] 列名;\n",
    "    - 删除\n",
    "        - drop table 表名;"
   ]
  },
  {
   "cell_type": "markdown",
   "metadata": {},
   "source": [
    "## 数据操作语言 DML\n",
    "- 用于操作数据库对象中所包含的数据\n",
    "- 插入操作\n",
    "    - insert [into] 表名 [(列名1, 列名2, .......)] values|value (数值1|表达式1, 数值2|表达式2,.......);\n",
    "- 删除操作\n",
    "    - delete from 表名 where 条件; [指定条件]删除所有记录\n",
    "    - truncate table 表名;  会清空表中所有的数据\n",
    "    - <<面试题>> delete 与 truncate有和区别？\n",
    "        - delete： 一条一条删除，不会清空 auto_increment 记录数\n",
    "        - truncate： 直接将表中的数据清空， auto_increment自增将被重置\n",
    "- 修改操作\n",
    "    - update 表名 set 列名1=数值1, 列名2=数值2,......where 条件; (注意尽量都待条件修改，不容易出问题)"
   ]
  },
  {
   "cell_type": "markdown",
   "metadata": {},
   "source": [
    "- 基本查询数据的语句： select * from 表名;"
   ]
  },
  {
   "cell_type": "markdown",
   "metadata": {},
   "source": [
    "## 数据查询语言 DQL (重中之重)"
   ]
  },
  {
   "cell_type": "code",
   "execution_count": null,
   "metadata": {
    "collapsed": true
   },
   "outputs": [],
   "source": []
  }
 ],
 "metadata": {
  "kernelspec": {
   "display_name": "Python 3",
   "language": "python",
   "name": "python3"
  },
  "language_info": {
   "codemirror_mode": {
    "name": "ipython",
    "version": 3
   },
   "file_extension": ".py",
   "mimetype": "text/x-python",
   "name": "python",
   "nbconvert_exporter": "python",
   "pygments_lexer": "ipython3",
   "version": "3.6.3"
  }
 },
 "nbformat": 4,
 "nbformat_minor": 2
}
