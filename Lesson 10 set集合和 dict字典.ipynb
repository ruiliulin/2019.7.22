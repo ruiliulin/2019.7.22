{
 "cells": [
  {
   "cell_type": "markdown",
   "metadata": {},
   "source": [
    "# 集合-set\n",
    "- 集合是高中数学中的一个概念\n",
    "- 一堆确定的无序的唯一的数据，集合中每一个数据成为一个元素\n",
    "- "
   ]
  },
  {
   "cell_type": "code",
   "execution_count": 5,
   "metadata": {},
   "outputs": [
    {
     "name": "stdout",
     "output_type": "stream",
     "text": [
      "<class 'set'>\n",
      "set()\n",
      "<class 'set'>\n",
      "{1, 2, 3, 4, 5, 6, 7}\n"
     ]
    }
   ],
   "source": [
    "# 集合的定义\n",
    "s = set()\n",
    "print(type(s))\n",
    "print(s)\n",
    "\n",
    "# 此时，大括号里面一定要有值，否则定义出的就是一个dict\n",
    "s = {1,2,3,4,5,6,7}\n",
    "print(type(s))\n",
    "print(s)"
   ]
  },
  {
   "cell_type": "code",
   "execution_count": 6,
   "metadata": {},
   "outputs": [
    {
     "name": "stdout",
     "output_type": "stream",
     "text": [
      "<class 'dict'>\n",
      "{}\n"
     ]
    }
   ],
   "source": [
    "# 如果只用大括号定义，则定义的是一个dict类型\n",
    "d = {}\n",
    "print(type(d))\n",
    "print(d)"
   ]
  },
  {
   "cell_type": "markdown",
   "metadata": {},
   "source": [
    "# 集合的特征\n",
    "- 集合的数据无序，不存在索引和切片\n",
    "- 集合内部数据元素具有唯一性，可以用来排除重复数据\n",
    "- 集合的数据，str，int，float，tuple，冰冻集合等，即内部只能放置可哈希数据（hashable）\n"
   ]
  },
  {
   "cell_type": "markdown",
   "metadata": {},
   "source": [
    "## 集合序列操作"
   ]
  },
  {
   "cell_type": "code",
   "execution_count": 10,
   "metadata": {},
   "outputs": [
    {
     "name": "stdout",
     "output_type": "stream",
     "text": [
      "{65, 3, '王二轻', 'i', 'love'}\n",
      "哎呀\n",
      "挨个锤子\n"
     ]
    }
   ],
   "source": [
    "# 成员检测\n",
    "# in，not in\n",
    "s = {3, 65, \"i\", \"love\", \"王二轻\"}\n",
    "print(s)\n",
    "\n",
    "if \"love\" in s:\n",
    "    print(\"哎呀\")\n",
    "if \"haha\" not in s:\n",
    "    print(\"挨个锤子\")"
   ]
  },
  {
   "cell_type": "markdown",
   "metadata": {},
   "source": [
    "## 集合遍历操作"
   ]
  },
  {
   "cell_type": "code",
   "execution_count": 11,
   "metadata": {},
   "outputs": [
    {
     "name": "stdout",
     "output_type": "stream",
     "text": [
      "65 3 王二轻 i love "
     ]
    }
   ],
   "source": [
    "# for循环\n",
    "s = {3, 65, \"i\", \"love\", \"王二轻\"}\n",
    "\n",
    "for i in s:\n",
    "    print(i,end=\" \")"
   ]
  },
  {
   "cell_type": "code",
   "execution_count": 14,
   "metadata": {},
   "outputs": [
    {
     "name": "stdout",
     "output_type": "stream",
     "text": [
      "4 --- 5 --- 6\n",
      "i --- love --- wangerqing\n",
      "1 --- 2 --- 3\n",
      "(4, 5, 6)\n",
      "('i', 'love', 'wangerqing')\n",
      "(1, 2, 3)\n"
     ]
    }
   ],
   "source": [
    "# 带有元组的集合遍历\n",
    "s = {(1,2,3), (\"i\",\"love\",\"wangerqing\"), (4,5,6)}\n",
    "for k,m,n in s:\n",
    "    print(k,\"---\", m, \"---\", n)\n",
    "    \n",
    "for k in s:\n",
    "    print(k)"
   ]
  },
  {
   "cell_type": "markdown",
   "metadata": {},
   "source": [
    "## 集合的内涵"
   ]
  },
  {
   "cell_type": "code",
   "execution_count": 16,
   "metadata": {},
   "outputs": [
    {
     "name": "stdout",
     "output_type": "stream",
     "text": [
      "{1, 2, 3, 4, 5, 43, 333, 5454, 22, 23}\n",
      "{1, 2, 3, 4, 5, 43, 333, 5454, 22, 23}\n"
     ]
    }
   ],
   "source": [
    "# 普通集合内涵\n",
    "# 以下集合在初始化后自动过滤重复元素\n",
    "s = {23,22,333,43,5454,3,1,2,3,4,3,2,1,2,5,3,4,3}\n",
    "print(s)\n",
    "\n",
    "# 普通集合内涵\n",
    "ss = {i for i in s}\n",
    "print(ss)"
   ]
  },
  {
   "cell_type": "code",
   "execution_count": 17,
   "metadata": {},
   "outputs": [
    {
     "name": "stdout",
     "output_type": "stream",
     "text": [
      "{2, 4, 5454, 22}\n"
     ]
    }
   ],
   "source": [
    "# 带条件的集合内涵\n",
    "sss = {i for i in s if i % 2 == 0}\n",
    "print(sss)"
   ]
  },
  {
   "cell_type": "code",
   "execution_count": 22,
   "metadata": {},
   "outputs": [
    {
     "name": "stdout",
     "output_type": "stream",
     "text": [
      "{'wangerqingwangerqingwangerqing', 'iii', 'iiii', 'ii', 'lovelove', 'i', 'lovelovelove', 'wangerqing', 'wangerqingwangerqingwangerqingwangerqing', 'wangerqingwangerqing', 'lovelovelovelove', 'love'}\n",
      "{'wangerqingwangerqing', 'lovelove', 'ii'}\n"
     ]
    }
   ],
   "source": [
    "# 多循环的集合内涵\n",
    "s1 = {1,2,3,4}\n",
    "s2 = {\"i\", \"love\",\"wangerqing\"}\n",
    "\n",
    "s = {m*n for m in s2 for n in s1}\n",
    "print(s)\n",
    "\n",
    "s = {m*n for m in s2 for n in s1 if n == 2}\n",
    "print(s)"
   ]
  },
  {
   "cell_type": "markdown",
   "metadata": {},
   "source": [
    "## 集合函数/关于集合的函数"
   ]
  },
  {
   "cell_type": "code",
   "execution_count": 24,
   "metadata": {},
   "outputs": [
    {
     "name": "stdout",
     "output_type": "stream",
     "text": [
      "13\n",
      "788\n",
      "1\n"
     ]
    }
   ],
   "source": [
    "# len，max，min：跟其他基本函数一致\n",
    "s = {32,433,455,233,55,23,32,32,45,66,788,56,1,12,3}\n",
    "print(len(s))\n",
    "print(max(s))\n",
    "print(min(s))\n"
   ]
  },
  {
   "cell_type": "code",
   "execution_count": 26,
   "metadata": {},
   "outputs": [
    {
     "name": "stdout",
     "output_type": "stream",
     "text": [
      "{1, 2, 3, 4, 5, 6, 7, 8, 9, 43}\n"
     ]
    }
   ],
   "source": [
    "# set: 生成一个集合\n",
    "l = [1,2,3,4,5,6,7,8,9,9,8,7,6,5,43]\n",
    "s = set(l)\n",
    "print(s)"
   ]
  },
  {
   "cell_type": "code",
   "execution_count": 27,
   "metadata": {},
   "outputs": [
    {
     "name": "stdout",
     "output_type": "stream",
     "text": [
      "{1, 3334}\n"
     ]
    }
   ],
   "source": [
    "# add: 向集合内添加元素\n",
    "s = {1}\n",
    "s.add(3334)\n",
    "print(s)"
   ]
  },
  {
   "cell_type": "code",
   "execution_count": 30,
   "metadata": {},
   "outputs": [
    {
     "name": "stdout",
     "output_type": "stream",
     "text": [
      "139798441462472\n",
      "139798441462472\n",
      "set()\n"
     ]
    }
   ],
   "source": [
    "# clear:清空内容\n",
    "s = {1,2,3,4,5}\n",
    "print(id(s))\n",
    "s.clear()\n",
    "print(id(s))\n",
    "print(s)"
   ]
  },
  {
   "cell_type": "code",
   "execution_count": 35,
   "metadata": {},
   "outputs": [
    {
     "name": "stdout",
     "output_type": "stream",
     "text": [
      "{5, 8, 9, 76, 12, 23}\n",
      "{5, 8, 9, 76, 12}\n",
      "* * * * * * * * * * * * * * * * * * * * \n",
      "{5, 8, 9, 76, 12}\n",
      "* * * * * * * * * * * * * * * * * * * * \n"
     ]
    },
    {
     "ename": "KeyError",
     "evalue": "4445",
     "output_type": "error",
     "traceback": [
      "\u001b[0;31m---------------------------------------------------------------------------\u001b[0m",
      "\u001b[0;31mKeyError\u001b[0m                                  Traceback (most recent call last)",
      "\u001b[0;32m<ipython-input-35-7f5f78aeb84c>\u001b[0m in \u001b[0;36m<module>\u001b[0;34m()\u001b[0m\n\u001b[1;32m     13\u001b[0m \u001b[0;34m\u001b[0m\u001b[0m\n\u001b[1;32m     14\u001b[0m \u001b[0mprint\u001b[0m\u001b[0;34m(\u001b[0m\u001b[0;34m\"* \"\u001b[0m \u001b[0;34m*\u001b[0m \u001b[0;36m20\u001b[0m\u001b[0;34m)\u001b[0m\u001b[0;34m\u001b[0m\u001b[0m\n\u001b[0;32m---> 15\u001b[0;31m \u001b[0ms\u001b[0m\u001b[0;34m.\u001b[0m\u001b[0mremove\u001b[0m\u001b[0;34m(\u001b[0m\u001b[0;36m4445\u001b[0m\u001b[0;34m)\u001b[0m\u001b[0;34m\u001b[0m\u001b[0m\n\u001b[0m\u001b[1;32m     16\u001b[0m \u001b[0mprint\u001b[0m\u001b[0;34m(\u001b[0m\u001b[0ms\u001b[0m\u001b[0;34m)\u001b[0m\u001b[0;34m\u001b[0m\u001b[0m\n",
      "\u001b[0;31mKeyError\u001b[0m: 4445"
     ]
    }
   ],
   "source": [
    "# copy：拷贝\n",
    "# remove：移除指定的值，直接改变原有值，如果要删除的值不存在，报错\n",
    "# discard: 移除集合中指定的值，跟remove一样，但是要删除的话，不报错\n",
    "s = {23,4,5,76,8,9,12}\n",
    "s.remove(4)\n",
    "print(s)\n",
    "s.discard(23)\n",
    "print(s)\n",
    "\n",
    "print(\"* \" * 20)\n",
    "s.discard(1111)\n",
    "print(s)\n",
    "\n",
    "print(\"* \" * 20)\n",
    "s.remove(4445)\n",
    "print(s)\n",
    "\n",
    "# 为啥remove不存在的值会报错？？？"
   ]
  },
  {
   "cell_type": "code",
   "execution_count": 53,
   "metadata": {},
   "outputs": [
    {
     "name": "stdout",
     "output_type": "stream",
     "text": [
      "0\n",
      "{1, 2, 3, 4, 5, 6, 7, 45, 56, 31}\n"
     ]
    }
   ],
   "source": [
    "# pop 选择最小值移除\n",
    "s = {31,56,45,0,1,2,3,4,5,6,7}\n",
    "d = s.pop()\n",
    "print(d)\n",
    "print(s)"
   ]
  },
  {
   "cell_type": "code",
   "execution_count": 56,
   "metadata": {},
   "outputs": [
    {
     "name": "stdout",
     "output_type": "stream",
     "text": [
      "{8, 6, 7}\n",
      "{1, 2, 3, 4, 5}\n",
      "False\n",
      "{1, 2, 3, 4, 5, 6, 7, 8, 9, 10, 11, 12}\n",
      "True\n"
     ]
    }
   ],
   "source": [
    "# 集合函数\n",
    "# intersection：交集\n",
    "# difference：差集\n",
    "# union：并集\n",
    "# issubset：检查一个集合是否为另一个集合的子集\n",
    "# issuperset：检查一个集合是否为另一个集合的超集\n",
    "\n",
    "s1 = {1,2,3,4,5,6,7,8}\n",
    "s2 = {6,7,8,9,10,11,12}\n",
    "s3 = {4,5,6,7}\n",
    "\n",
    "s_1 = s1.intersection(s2)\n",
    "print(s_1)\n",
    "\n",
    "s_2 = s1.difference(s2)\n",
    "print(s_2)\n",
    "\n",
    "s_3 = s1.issubset(s2)\n",
    "print(s_3)\n",
    "\n",
    "s_4 = s1.union(s2)\n",
    "print(s_4)\n",
    "\n",
    "s_5 = s1.issuperset(s3)\n",
    "print(s_5)\n"
   ]
  },
  {
   "cell_type": "code",
   "execution_count": 59,
   "metadata": {},
   "outputs": [
    {
     "name": "stdout",
     "output_type": "stream",
     "text": [
      "{1, 2, 3, 4, 5}\n",
      "* * * * * * * * * * * * * * * * * * * * \n"
     ]
    },
    {
     "ename": "TypeError",
     "evalue": "unsupported operand type(s) for +: 'set' and 'set'",
     "output_type": "error",
     "traceback": [
      "\u001b[0;31m---------------------------------------------------------------------------\u001b[0m",
      "\u001b[0;31mTypeError\u001b[0m                                 Traceback (most recent call last)",
      "\u001b[0;32m<ipython-input-59-6c0250cd9315>\u001b[0m in \u001b[0;36m<module>\u001b[0;34m()\u001b[0m\n\u001b[1;32m      7\u001b[0m \u001b[0;34m\u001b[0m\u001b[0m\n\u001b[1;32m      8\u001b[0m \u001b[0mprint\u001b[0m\u001b[0;34m(\u001b[0m\u001b[0;34m\"* \"\u001b[0m \u001b[0;34m*\u001b[0m \u001b[0;36m20\u001b[0m\u001b[0;34m)\u001b[0m\u001b[0;34m\u001b[0m\u001b[0m\n\u001b[0;32m----> 9\u001b[0;31m \u001b[0ms_2\u001b[0m \u001b[0;34m=\u001b[0m \u001b[0ms1\u001b[0m \u001b[0;34m+\u001b[0m \u001b[0ms2\u001b[0m\u001b[0;34m\u001b[0m\u001b[0m\n\u001b[0m\u001b[1;32m     10\u001b[0m \u001b[0mprint\u001b[0m\u001b[0;34m(\u001b[0m\u001b[0ms_2\u001b[0m\u001b[0;34m)\u001b[0m\u001b[0;34m\u001b[0m\u001b[0m\n",
      "\u001b[0;31mTypeError\u001b[0m: unsupported operand type(s) for +: 'set' and 'set'"
     ]
    }
   ],
   "source": [
    "# 集合的数学操作\n",
    "s1 = {1,2,3,4,5,6,7,8}\n",
    "s2 = {6,7,8,9,10,11,12}\n",
    "\n",
    "s_1 = s1 - s2\n",
    "print(s_1)\n",
    "\n",
    "print(\"* \" * 20)\n",
    "s_2 = s1 + s2\n",
    "print(s_2)"
   ]
  },
  {
   "cell_type": "markdown",
   "metadata": {},
   "source": [
    "## frozen set：冰冻集合\n",
    "- 不可以进行任何修改的集合\n",
    "- frozenset是一种特殊集合"
   ]
  },
  {
   "cell_type": "code",
   "execution_count": 61,
   "metadata": {},
   "outputs": [
    {
     "name": "stdout",
     "output_type": "stream",
     "text": [
      "<class 'frozenset'>\n",
      "frozenset()\n"
     ]
    }
   ],
   "source": [
    "# 创建\n",
    "s = frozenset()\n",
    "print(type(s))\n",
    "print(s)"
   ]
  },
  {
   "cell_type": "markdown",
   "metadata": {},
   "source": [
    "# dict字典\n",
    "- 字典是一种组合数据，没有顺序的组合数据，数据以键值对形式出现"
   ]
  },
  {
   "cell_type": "code",
   "execution_count": 82,
   "metadata": {},
   "outputs": [
    {
     "name": "stdout",
     "output_type": "stream",
     "text": [
      "<class 'dict'>\n",
      "{}\n",
      "* * * * * * * * * * \n",
      "{}\n",
      "* * * * * * * * * * * * * * * * * * * * \n",
      "{'one': 1, 'two': 2, 'three': 3}\n",
      "* * * * * * * * * * * * * * * * * * * * * * * * * * * * * * \n",
      "{'one': 1, 'two': 2, 'three': 3}\n"
     ]
    }
   ],
   "source": [
    "# 字典的创建\n",
    "# 创建空字典1\n",
    "d = {}\n",
    "print(type(d))\n",
    "print(d)\n",
    "\n",
    "# 创建空字典2\n",
    "print(\"* \" * 10)\n",
    "d = dict()\n",
    "print(d)\n",
    "\n",
    "# 创建有值的字典，每一组数据用冒号隔开，每一对键值对用逗号隔开\n",
    "print(\"* \" * 20)\n",
    "d = {\"one\":1, \"two\":2, \"three\":3}\n",
    "print(d)\n",
    "\n",
    "# 用dict创建有内容字典1\n",
    "print(\"* \" * 30)\n",
    "d = dict({\"one\":1, \"two\":2, \"three\":3})\n",
    "print(d)"
   ]
  },
  {
   "cell_type": "code",
   "execution_count": 83,
   "metadata": {},
   "outputs": [
    {
     "name": "stdout",
     "output_type": "stream",
     "text": [
      "{'one': 1, 'two': 2, 'three': 3}\n"
     ]
    }
   ],
   "source": [
    "# 用dict创建有内容字典2\n",
    "# 利用关键字参数\n",
    "d = dict(one=1, two=2, three=3)\n",
    "print(d)"
   ]
  },
  {
   "cell_type": "code",
   "execution_count": 86,
   "metadata": {},
   "outputs": [
    {
     "name": "stdout",
     "output_type": "stream",
     "text": [
      "{'one': 1, 'two': 2, 'three': 3}\n"
     ]
    }
   ],
   "source": [
    "d = dict([(\"one\",1), (\"two\",2), (\"three\",3)])\n",
    "print(d)"
   ]
  },
  {
   "cell_type": "markdown",
   "metadata": {},
   "source": [
    "## 字典的特征\n",
    "- 字典是序列类型，但是是无序序列，所以没有切片和索引\n",
    "- 字典中的数据每个都有键值对组成，即kv对\n",
    "    - key：必须是可哈希的值，比如int，str，float，tutle，但是，list，set，dict不行\n",
    "    - value：任何值"
   ]
  },
  {
   "cell_type": "markdown",
   "metadata": {},
   "source": [
    "## 字典常见操作"
   ]
  },
  {
   "cell_type": "code",
   "execution_count": 94,
   "metadata": {},
   "outputs": [
    {
     "name": "stdout",
     "output_type": "stream",
     "text": [
      "1\n",
      "{'one': 'eins', 'two': 2, 'three': 3}\n"
     ]
    }
   ],
   "source": [
    "# 访问数据\n",
    "d = {\"one\":1, \"two\":2, \"three\":3}\n",
    "# 注意访问格式\n",
    "# 中括号内是键值\n",
    "print(d[\"one\"])\n",
    "\n",
    "d[\"one\"] = \"eins\"\n",
    "print(d)\n"
   ]
  },
  {
   "cell_type": "code",
   "execution_count": 97,
   "metadata": {},
   "outputs": [
    {
     "name": "stdout",
     "output_type": "stream",
     "text": [
      "{'two': 2, 'three': 3}\n"
     ]
    }
   ],
   "source": [
    "# 删除某个操作\n",
    "# 使用del操作\n",
    "d = {\"one\":1, \"two\":2, \"three\":3}\n",
    "del d[\"one\"]\n",
    "print(d)"
   ]
  },
  {
   "cell_type": "code",
   "execution_count": 98,
   "metadata": {},
   "outputs": [
    {
     "name": "stdout",
     "output_type": "stream",
     "text": [
      "key\n"
     ]
    }
   ],
   "source": [
    "# 成员检测：in，not in\n",
    "d = {\"one\":1, \"two\":2, \"three\":3}\n",
    "\n",
    "if 2 in d:\n",
    "    print(\"value\")\n",
    "\n",
    "if \"two\" in d: # 成员检测检测的是key内容！！！\n",
    "    print(\"key\")\n",
    "\n",
    "if (\"two\",2) in d:\n",
    "    print(\"kv\")"
   ]
  },
  {
   "cell_type": "code",
   "execution_count": 108,
   "metadata": {},
   "outputs": [
    {
     "name": "stdout",
     "output_type": "stream",
     "text": [
      "one 1\n",
      "two 2\n",
      "three 3\n",
      "one 1\n",
      "two 2\n",
      "three 3\n",
      "1\n",
      "2\n",
      "3\n",
      "* * * * * * * * * * * * * * * * * * * * * * * * * * * * * * \n",
      "one -- 1\n",
      "two -- 2\n",
      "three -- 3\n"
     ]
    }
   ],
   "source": [
    "# 遍历在Python2和3里区别比较大，代码不通用\n",
    "# 按key值来使用for循环\n",
    "d = {\"one\":1, \"two\":2, \"three\":3}\n",
    "# 使用for循环，直接key值访问\n",
    "for k in d:\n",
    "    print(k, d[k])\n",
    "    \n",
    "# 上述代码可以改写成如下\n",
    "for k in d.keys():\n",
    "    print(k, d[k])\n",
    "    \n",
    "# 只访问字典的值\n",
    "for v in d.values():\n",
    "    print(v)\n",
    "    \n",
    "print(\"* \" * 30)\n",
    "# 注意以下特殊用法\n",
    "for k,v in d.items():\n",
    "    print(k, \"--\", v)"
   ]
  },
  {
   "cell_type": "markdown",
   "metadata": {},
   "source": [
    "## 字典生成式"
   ]
  },
  {
   "cell_type": "code",
   "execution_count": 111,
   "metadata": {},
   "outputs": [
    {
     "name": "stdout",
     "output_type": "stream",
     "text": [
      "{'one': 1, 'two': 2, 'three': 3}\n",
      "{'two': 2}\n"
     ]
    }
   ],
   "source": [
    "d = {\"one\":1, \"two\":2, \"three\":3}\n",
    "\n",
    "# 创建字典生成式\n",
    "dd = {k:v for k,v in d.items()}\n",
    "print(dd)\n",
    "\n",
    "\n",
    "# 加限制条件创建字典生成式\n",
    "dd = {k:v for k,v in d.items() if v % 2 == 0}\n",
    "print(dd)"
   ]
  },
  {
   "cell_type": "markdown",
   "metadata": {},
   "source": [
    "## 字典相关函数"
   ]
  },
  {
   "cell_type": "code",
   "execution_count": 112,
   "metadata": {},
   "outputs": [
    {
     "name": "stdout",
     "output_type": "stream",
     "text": [
      "{'one': 1, 'two': 2, 'three': 3}\n"
     ]
    }
   ],
   "source": [
    "# 通用函数：len，max，min，dict\n",
    "# *str(字典)：返回字典的字符串格式\n",
    "d = {\"one\":1, \"two\":2, \"three\":3}\n",
    "print(str(d))"
   ]
  },
  {
   "cell_type": "code",
   "execution_count": 114,
   "metadata": {},
   "outputs": [
    {
     "name": "stdout",
     "output_type": "stream",
     "text": [
      "<class 'dict_items'>\n",
      "dict_items([('one', 1), ('two', 2), ('three', 3)])\n"
     ]
    }
   ],
   "source": [
    "# clear: 清空\n",
    "# items：返回字典的键值对组成的元组格式\n",
    "\n",
    "d = {\"one\":1, \"two\":2, \"three\":3}\n",
    "i = d.items()\n",
    "print(type(i))\n",
    "print(i)"
   ]
  },
  {
   "cell_type": "code",
   "execution_count": 115,
   "metadata": {},
   "outputs": [
    {
     "name": "stdout",
     "output_type": "stream",
     "text": [
      "<class 'dict_keys'>\n",
      "dict_keys(['one', 'two', 'three'])\n"
     ]
    }
   ],
   "source": [
    "# keys: 返回字典的键组成的一个结构\n",
    "k = d.keys()\n",
    "print(type(k))\n",
    "print(k)"
   ]
  },
  {
   "cell_type": "code",
   "execution_count": 117,
   "metadata": {},
   "outputs": [
    {
     "name": "stdout",
     "output_type": "stream",
     "text": [
      "<class 'dict_values'>\n",
      "dict_values([1, 2, 3])\n"
     ]
    }
   ],
   "source": [
    "# values: 同理，一个可迭代的结构\n",
    "v = d.values()\n",
    "print(type(v))\n",
    "print(v)"
   ]
  },
  {
   "cell_type": "code",
   "execution_count": 129,
   "metadata": {},
   "outputs": [
    {
     "name": "stdout",
     "output_type": "stream",
     "text": [
      "None\n"
     ]
    },
    {
     "ename": "KeyError",
     "evalue": "'on33'",
     "output_type": "error",
     "traceback": [
      "\u001b[0;31m---------------------------------------------------------------------------\u001b[0m",
      "\u001b[0;31mKeyError\u001b[0m                                  Traceback (most recent call last)",
      "\u001b[0;32m<ipython-input-129-af7ead199d28>\u001b[0m in \u001b[0;36m<module>\u001b[0;34m()\u001b[0m\n\u001b[1;32m      5\u001b[0m \u001b[0;34m\u001b[0m\u001b[0m\n\u001b[1;32m      6\u001b[0m \u001b[0;31m# 体会以下代码和上面代码的区别\u001b[0m\u001b[0;34m\u001b[0m\u001b[0;34m\u001b[0m\u001b[0m\n\u001b[0;32m----> 7\u001b[0;31m \u001b[0mprint\u001b[0m\u001b[0;34m(\u001b[0m\u001b[0md\u001b[0m\u001b[0;34m[\u001b[0m\u001b[0;34m\"on33\"\u001b[0m\u001b[0;34m]\u001b[0m\u001b[0;34m)\u001b[0m\u001b[0;34m\u001b[0m\u001b[0m\n\u001b[0m\u001b[1;32m      8\u001b[0m \u001b[0;34m\u001b[0m\u001b[0m\n",
      "\u001b[0;31mKeyError\u001b[0m: 'on33'"
     ]
    }
   ],
   "source": [
    "# get: 根据指定键返回相应的值，好处是，可以设置默认值\n",
    "\n",
    "d = {\"one\":1, \"two\":2, \"three\":3}\n",
    "print(d.get(\"on33\"))\n",
    "\n",
    "# 体会以下代码和上面代码的区别\n",
    "print(d[\"on33\"])\n",
    "\n"
   ]
  },
  {
   "cell_type": "code",
   "execution_count": 128,
   "metadata": {},
   "outputs": [
    {
     "name": "stdout",
     "output_type": "stream",
     "text": [
      "1\n",
      "100\n"
     ]
    }
   ],
   "source": [
    "# get默认值是None，可以设置\n",
    "d = {\"one\":1, \"two\":2, \"three\":3}\n",
    "print(d.get(\"one\",100))\n",
    "print(d.get(\"on33\",100))\n"
   ]
  },
  {
   "cell_type": "code",
   "execution_count": 125,
   "metadata": {},
   "outputs": [
    {
     "name": "stdout",
     "output_type": "stream",
     "text": [
      "{'eins': 'hahaha', 'zwei': 'hahaha', 'dree': 'hahaha'}\n"
     ]
    }
   ],
   "source": [
    "# fromkeys: 使用指定的序列作为键，使用一个值作为字典的所有的键的值\n",
    "l = [\"eins\", \"zwei\", \"dree\"]\n",
    "\n",
    "# 注意fromkeys两个参数的类型\n",
    "# 注意fromkeys的调用主体\n",
    "d = dict.fromkeys(l,\"hahaha\")\n",
    "print(d)"
   ]
  }
 ],
 "metadata": {
  "kernelspec": {
   "display_name": "Python 3",
   "language": "python",
   "name": "python3"
  },
  "language_info": {
   "codemirror_mode": {
    "name": "ipython",
    "version": 3
   },
   "file_extension": ".py",
   "mimetype": "text/x-python",
   "name": "python",
   "nbconvert_exporter": "python",
   "pygments_lexer": "ipython3",
   "version": "3.6.3"
  }
 },
 "nbformat": 4,
 "nbformat_minor": 2
}
