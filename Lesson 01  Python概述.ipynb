{
 "cells": [
  {
   "cell_type": "markdown",
   "metadata": {},
   "source": [
    "# Python基础\n",
    "## Python概述\n",
    "- 计算机语言概述\n",
    "    - 语言：交流的工具，交流的媒介\n",
    "    - 计算机语言：人跟计算机交流的工具，翻译官\n",
    "    - Python是计算机语言的一种\n",
    "    - Python编程语言\n",
    "        - 代码：人类语言，通过代码命令机器，跟机器交流\n",
    "        - Python解释器：担任翻译工作\n",
    "        - 流程：\n",
    "            - 写代码\n",
    "            - 执行：由翻译官（Python解释器）把命令翻译给机器，同时把机器结果翻译给我们\n",
    "    - Python读音问题\n",
    "    - Python简史\n",
    "        - 1989年：Guido van Rossum（为了科研而做，力求简单，好用）\n",
    "        - 2008年：Python3.0 诞生\n",
    "        - 2014年：宣布2.7支持到2020\n",
    "        - 2017年：AI元年，Python崛起\n",
    "    - Python特点\n",
    "        - 速度问题（运行比Java慢20倍，开发快！）\n",
    "        - Python跟其他语言的选择问题\n",
    "    - Python的应用领域\n",
    "        - 全能\n",
    "        - 设计哲学：平衡发展，样样通，简洁明了\n",
    "    - Python为什么这么火\n",
    "        - 会不会持续火（人工智能）\n",
    "    - 环境问题\n",
    "        - anaconda+pycharm\n",
    "        - Python3.6\n",
    "    - 环境\n",
    "        - 学习环境\n",
    "            - 直播课：网易云课堂\n",
    "            - 讲义+代码：github\n",
    "            - 教科书：gitbook\n",
    "        - 工作环境\n",
    "            - 环境安装：\n",
    "                - gitbook上有\n",
    "                - http://www.cnblogs.com/zhouzhishuai/p/8401103.html\n",
    "        - 操作系统\n",
    "            - windows\n",
    "            - linux\n",
    "            - Mac0X\n",
    "            - 我们的标准系统：windows下装虚拟机，虚拟机安装ubuntu\n",
    "        - 软件环境\n",
    "            - 不适用 Python编辑器\n",
    "            - 可使用anaconda3+pycharm代替\n",
    "            - 具体环境不做具体要求\n",
    "    - Python的执行方式\n",
    "        - 本质上Python是一堆命令的集合\n",
    "        - 执行过程是逐行执行，遇到问题即刻终\n",
    "        - 打印Hello world\n",
    "        \n",
    "        \n",
    "     \n",
    "        \n",
    "                \n",
    "   \n",
    "         \n",
    "        \n",
    "        "
   ]
  },
  {
   "cell_type": "code",
   "execution_count": 1,
   "metadata": {},
   "outputs": [
    {
     "name": "stdout",
     "output_type": "stream",
     "text": [
      "Hello world\n",
      "3456\"柳耀\"1278\n",
      "23351\n",
      "zhantian'胡龙'6666\n"
     ]
    }
   ],
   "source": [
    "print(\"Hello world\")\n",
    "print('3456\"柳耀\"1278')\n",
    "print(23351)\n",
    "print(\"zhantian'胡龙'6666\")\n"
   ]
  }
 ],
 "metadata": {
  "kernelspec": {
   "display_name": "Python 3",
   "language": "python",
   "name": "python3"
  },
  "language_info": {
   "codemirror_mode": {
    "name": "ipython",
    "version": 3
   },
   "file_extension": ".py",
   "mimetype": "text/x-python",
   "name": "python",
   "nbconvert_exporter": "python",
   "pygments_lexer": "ipython3",
   "version": "3.6.3"
  }
 },
 "nbformat": 4,
 "nbformat_minor": 2
}
