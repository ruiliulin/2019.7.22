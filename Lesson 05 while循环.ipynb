{
 "cells": [
  {
   "cell_type": "markdown",
   "metadata": {},
   "source": [
    "# while循环\n",
    "- 一个循环语句\n",
    "- 表示当某条件成立的时候，就循环，适应与不知道具体循环次数，但能确定在某个条件成立的情况下就循环\n",
    "- 不知道具体循环次数，但能确定循环的成立条件的时候用while循环\n",
    "- while循环\n",
    "\n",
    "        while 条件表达式：\n",
    "            语句块\n",
    "\n",
    "        #另外一种表达方法\n",
    "        while 条件表达式：\n",
    "            语句块1\n",
    "        else：\n",
    "            语句块2"
   ]
  },
  {
   "cell_type": "code",
   "execution_count": 3,
   "metadata": {},
   "outputs": [
    {
     "name": "stdout",
     "output_type": "stream",
     "text": [
      "第11年拿了71429.34340690835钱\n",
      "第11年拿了71429.34340690835钱\n"
     ]
    }
   ],
   "source": [
    "# 如果说年利率是6.7%，本利息是每年翻滚，则多少年后会本钱翻倍\n",
    "benqian = 35000\n",
    "year = 0 # 存放需要翻本的年数\n",
    "while benqian < 70000:\n",
    "    benqian = benqian * (1+0.067)\n",
    "    year += 1 # year =  year + 1\n",
    "print(\"第{0}年拿了{1}钱\".format(year,benqian))\n",
    "\n",
    "# 本案例中循环体没有被执行，why？如何改正\n",
    "while benqian < 70000:\n",
    "    benqian = benqian * (1+0.067)\n",
    "    year += 1 # year =  year + 1\n",
    "print(\"第{0}年拿了{1}钱\".format(year,benqian))"
   ]
  },
  {
   "cell_type": "code",
   "execution_count": 9,
   "metadata": {},
   "outputs": [
    {
     "name": "stdout",
     "output_type": "stream",
     "text": [
      "第1年拿了37345.0钱\n",
      "第2年拿了39847.115钱\n",
      "第3年拿了42516.871705钱\n",
      "第4年拿了45365.50210923499钱\n",
      "第5年拿了48404.990750553734钱\n",
      "第6年拿了51648.12513084083钱\n",
      "第7年拿了55108.54951460716钱\n",
      "第8年拿了58800.82233208584钱\n",
      "第9年拿了62740.47742833559钱\n",
      "第10年拿了66944.08941603407钱\n",
      "第11年拿了71429.34340690835钱\n",
      "第12年拿了76215.1094151712钱\n",
      "第13年拿了81321.52174598767钱\n",
      "第14年拿了86770.06370296884钱\n",
      "第15年拿了92583.65797106775钱\n",
      "第16年拿了98786.76305512928钱\n",
      "第17年拿了105405.47617982294钱\n",
      "可算翻倍了\n",
      "50万走起\n"
     ]
    }
   ],
   "source": [
    "# 如果说年利率是6.7%，本利息是每年翻滚，则多少年后会本钱翻倍\n",
    "# 如果说拿到的钱翻倍，则用print庆祝一下\n",
    "benqian = 35000\n",
    "year = 0\n",
    "while benqian < 100000:\n",
    "    benqian = benqian * (1+0.067)\n",
    "    year += 1 # year =  year + 1\n",
    "    print(\"第{0}年拿了{1}钱\".format(year,benqian))\n",
    "else:\n",
    "    print(\"可算翻倍了\")\n",
    "    print(\"50万走起\")"
   ]
  }
 ],
 "metadata": {
  "kernelspec": {
   "display_name": "Python 3",
   "language": "python",
   "name": "python3"
  },
  "language_info": {
   "codemirror_mode": {
    "name": "ipython",
    "version": 3
   },
   "file_extension": ".py",
   "mimetype": "text/x-python",
   "name": "python",
   "nbconvert_exporter": "python",
   "pygments_lexer": "ipython3",
   "version": "3.6.3"
  }
 },
 "nbformat": 4,
 "nbformat_minor": 2
}
