{
 "cells": [
  {
   "cell_type": "code",
   "execution_count": 8,
   "metadata": {},
   "outputs": [
    {
     "name": "stdout",
     "output_type": "stream",
     "text": [
      "Hai, my name is Liu Liu\n",
      "Hai, my name is Lin Lin\n"
     ]
    }
   ],
   "source": [
    "# 属性案例\n",
    "# 创建Student类，描述学生类\n",
    "# 学生具有Student.name属性\n",
    "# 但name格式并不统一\n",
    "# 可以用增加一个函数，然后自动调用的方式，但很蠢？\n",
    "class Student():\n",
    "    def __init__(self, name, age):\n",
    "        self.name = name\n",
    "        self.age = age\n",
    "        \n",
    "        #如果不想修改代码\n",
    "        self.setName(name)\n",
    "        \n",
    "    # 介绍下自己\n",
    "    def intro(self):\n",
    "        print(\"Hai, my name is {0}\".format(self.name))\n",
    "    \n",
    "    def setName(self,name):\n",
    "        self.name = name.title()\n",
    "\n",
    "s1 = Student('liu liu', 18)\n",
    "s2 = Student('Lin lin', 17)\n",
    "s1.intro()\n",
    "s2.intro()"
   ]
  },
  {
   "cell_type": "code",
   "execution_count": 13,
   "metadata": {},
   "outputs": [
    {
     "name": "stdout",
     "output_type": "stream",
     "text": [
      "LIULIULIULIU\n"
     ]
    }
   ],
   "source": [
    "# property 案例\n",
    "# 定义一个Person类，具有name，age属性\n",
    "# 对于任意输入的姓名，我们希望用大写方式保存\n",
    "# 年龄，我们希望内部统一用整数保存\n",
    "# x = property(fget, fset, fdel, doc)\n",
    "class Person():\n",
    "    # 函数名称可以任意\n",
    "    def fget(self):\n",
    "        return self._name * 2\n",
    "    \n",
    "    def fset(self, name):\n",
    "        # 所有输入的姓名以大写形式保存\n",
    "        self._name = name.upper()\n",
    "    \n",
    "    def fdel(self):\n",
    "        self._name = \"NoName\"\n",
    "    \n",
    "    name = property(fget, fset, fdel, \"对name进行以下操作啦\")\n",
    "\n",
    "\n",
    "p1 = Person()\n",
    "p1.name = 'liuliu'\n",
    "print(p1.name)\n",
    "\n",
    "# 作业\n",
    "# 1. 在用户输入年龄的时候，可以输入整数，小数，浮点数\n",
    "# 2. 但内部为了数据清洁，我们统一需要保存整数，直接舍去小数点"
   ]
  },
  {
   "cell_type": "code",
   "execution_count": 19,
   "metadata": {},
   "outputs": [
    {
     "name": "stdout",
     "output_type": "stream",
     "text": [
      "{'__module__': '__main__', '__doc__': '\\n    这是一个人，一个很普通的有属性的普通人\\n    ', 'fget': <function Person.fget at 0x7fd2b84f4c80>, 'fset': <function Person.fset at 0x7fd2b84f4d08>, 'fdel': <function Person.fdel at 0x7fd2b84f4d90>, 'name': <property object at 0x7fd2b84d20e8>, '__dict__': <attribute '__dict__' of 'Person' objects>, '__weakref__': <attribute '__weakref__' of 'Person' objects>}\n",
      "\n",
      "    这是一个人，一个很普通的有属性的普通人\n",
      "    \n",
      "Person\n",
      "(<class 'object'>,)\n"
     ]
    }
   ],
   "source": [
    "# 类的内置属性举例\n",
    "print(Person.__dict__)\n",
    "class Person():\n",
    "    '''\n",
    "    这是一个人，一个很普通的有属性的普通人\n",
    "    '''\n",
    "    # 函数名称可以任意\n",
    "    def fget(self):\n",
    "        return self._name * 2\n",
    "    \n",
    "    def fset(self, name):\n",
    "        # 所有输入的姓名以大写形式保存\n",
    "        self._name = name.upper()\n",
    "    \n",
    "    def fdel(self):\n",
    "        self._name = \"NoName\"\n",
    "    \n",
    "    name = property(fget, fset, fdel, \"对name进行以下操作啦\")\n",
    "\n",
    "print(Person.__doc__)\n",
    "print(Person.__name__)\n",
    "print(Person.__bases__)"
   ]
  },
  {
   "cell_type": "code",
   "execution_count": 4,
   "metadata": {
    "scrolled": false
   },
   "outputs": [
    {
     "name": "stdout",
     "output_type": "stream",
     "text": [
      "哈哈，我被调用啦！\n"
     ]
    }
   ],
   "source": [
    "# init 举例\n",
    "class A():\n",
    "    def __init__(self, name=0):\n",
    "        print(\"哈哈，我被调用啦！\")\n",
    "\n",
    "a = A()"
   ]
  },
  {
   "cell_type": "code",
   "execution_count": 6,
   "metadata": {},
   "outputs": [
    {
     "name": "stdout",
     "output_type": "stream",
     "text": [
      "哈哈，我被调用啦！\n",
      "我被调用了again\n"
     ]
    }
   ],
   "source": [
    "# call 举例\n",
    "class A():\n",
    "    def __init__(self, name=0):\n",
    "        print(\"哈哈，我被调用啦！\")\n",
    "    \n",
    "    def __call__(self):\n",
    "        print(\"我被调用了again\")\n",
    "a = A()\n",
    "a()"
   ]
  },
  {
   "cell_type": "code",
   "execution_count": 8,
   "metadata": {},
   "outputs": [
    {
     "name": "stdout",
     "output_type": "stream",
     "text": [
      "哈哈，我被调用啦！\n",
      "我是字符串\n"
     ]
    }
   ],
   "source": [
    "# str 举例\n",
    "class A():\n",
    "    def __init__(self, name=0):\n",
    "        print(\"哈哈，我被调用啦！\")\n",
    "    \n",
    "    def __call__(self):\n",
    "        print(\"我被调用了again\")\n",
    "        \n",
    "    def __str__(self):\n",
    "        return \"我是字符串\"\n",
    "    \n",
    "a = A()\n",
    "print(a)"
   ]
  },
  {
   "cell_type": "code",
   "execution_count": 12,
   "metadata": {},
   "outputs": [
    {
     "name": "stdout",
     "output_type": "stream",
     "text": [
      "NoName\n",
      "18\n",
      "********************\n",
      "没找到？？?\n",
      "work\n",
      "None\n"
     ]
    }
   ],
   "source": [
    "# __getattr__ 举例\n",
    "\n",
    "class A():\n",
    "    name = 'NoName'\n",
    "    age = 18\n",
    "    def __getattr__(self, name):\n",
    "        print(\"没找到？？?\")\n",
    "        print(name)\n",
    "        \n",
    "a = A()\n",
    "print(a.name)\n",
    "print(a.age)\n",
    "print(\"*\" * 20)\n",
    "print(a.work)\n",
    "# 最后返回None "
   ]
  },
  {
   "cell_type": "code",
   "execution_count": 37,
   "metadata": {},
   "outputs": [
    {
     "name": "stdout",
     "output_type": "stream",
     "text": [
      "{}\n",
      "设置属性：age\n"
     ]
    }
   ],
   "source": [
    "# __setattr___ 案例\n",
    "class Person():\n",
    "    def __init__(self):\n",
    "        pass\n",
    "\n",
    "    def __setattr__(self, name, v):\n",
    "        print(\"设置属性：{0}\".format(name))\n",
    "        # 下面语句会导致问题，死循环\n",
    "        #self.name = v\n",
    "        # 此情况下，为避免陷入死循环，规定统一调用父类魔法函数\n",
    "        super().__setattr__(name, v)\n",
    "            \n",
    "p = Person()\n",
    "print(p.__dict__)\n",
    "p.age = 18"
   ]
  },
  {
   "cell_type": "code",
   "execution_count": 73,
   "metadata": {},
   "outputs": [
    {
     "name": "stdout",
     "output_type": "stream",
     "text": [
      "！！！，one会比two大吗？\n",
      "False\n"
     ]
    }
   ],
   "source": [
    "# __gt__ 举例\n",
    "class Student():\n",
    "    def __init__(self, name):\n",
    "        self.name = name\n",
    "        \n",
    "    def __gt__(self, obj):\n",
    "        print(\"！！！，{0}会比{1}大吗？\".format(self.name, obj.name))\n",
    "        return self.name > obj.name\n",
    "\n",
    "# 字符串的比较是按照ASCII码的大小来进行比较的\n",
    "# 从字符串的第一个字符开始比较，谁的ASCII码大谁就大。如果第一个相同，则比较第二个。以此类推。\n",
    "# 汉字的比较则根据unicode码的大小进行比较\n",
    "s1 = Student('one')\n",
    "s2 = Student('two')\n",
    "\n",
    "print(s1 > s2)"
   ]
  },
  {
   "cell_type": "code",
   "execution_count": 83,
   "metadata": {},
   "outputs": [
    {
     "name": "stdout",
     "output_type": "stream",
     "text": [
      "<__main__.Person object at 0x7f2d6862b0f0>\n",
      "Eating......\n",
      "<class '__main__.Person'>\n",
      "Playing......\n",
      "<class '__main__.Person'>\n",
      "Playing......\n",
      "Saying......\n",
      "Saying......\n"
     ]
    }
   ],
   "source": [
    "# 三种方法的案例\n",
    "class Person():\n",
    "    # 实例方法\n",
    "    def eat(self):\n",
    "        print(self)\n",
    "        print('Eating......')\n",
    "        \n",
    "    # 类方法\n",
    "    # 类方法的第一个参数，一般命名为cls，区别于self\n",
    "    @classmethod\n",
    "    def play(cls):\n",
    "        print(cls)\n",
    "        print(\"Playing......\")\n",
    "    \n",
    "    # 静态方法\n",
    "    # 不需要第一个参数表示自身或者类\n",
    "    @staticmethod\n",
    "    def say():\n",
    "         print(\"Saying......\")\n",
    "\n",
    "\n",
    "mingming = Person()\n",
    "# 实例方法\n",
    "mingming.eat()\n",
    "# 类方法\n",
    "Person.play()\n",
    "mingming.play()\n",
    "# 静态方法\n",
    "Person.say()\n",
    "mingming.say()\n"
   ]
  },
  {
   "cell_type": "code",
   "execution_count": null,
   "metadata": {
    "collapsed": true
   },
   "outputs": [],
   "source": []
  }
 ],
 "metadata": {
  "kernelspec": {
   "display_name": "Python 3",
   "language": "python",
   "name": "python3"
  },
  "language_info": {
   "codemirror_mode": {
    "name": "ipython",
    "version": 3
   },
   "file_extension": ".py",
   "mimetype": "text/x-python",
   "name": "python",
   "nbconvert_exporter": "python",
   "pygments_lexer": "ipython3",
   "version": "3.6.3"
  }
 },
 "nbformat": 4,
 "nbformat_minor": 2
}
