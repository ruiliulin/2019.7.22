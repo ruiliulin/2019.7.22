{
 "cells": [
  {
   "cell_type": "code",
   "execution_count": 1,
   "metadata": {},
   "outputs": [
    {
     "name": "stdout",
     "output_type": "stream",
     "text": [
      "liuliu\n"
     ]
    }
   ],
   "source": [
    "class Student ():\n",
    "    name = \"liuliu\"\n",
    "    age = 18\n",
    "    \n",
    "Student.__dict__\n",
    "\n",
    "# 实例化\n",
    "ruirui = Student()\n",
    "ruirui.__dict__\n",
    "\n",
    "print(ruirui.name)"
   ]
  },
  {
   "cell_type": "code",
   "execution_count": 9,
   "metadata": {},
   "outputs": [
    {
     "name": "stdout",
     "output_type": "stream",
     "text": [
      "liuliu\n",
      "18\n",
      "* * * * * * * * * * * * * * * * * * * * \n",
      "139752197917528\n",
      "94207756844800\n",
      "* * * * * * * * * * * * * * * * * * * * \n",
      "liuliu\n",
      "18\n",
      "139752197917528\n",
      "94207756844800\n"
     ]
    }
   ],
   "source": [
    "class A ():\n",
    "    name = \"liuliu\"\n",
    "    age = 18\n",
    "    \n",
    "    # 注意say的写法，参数有一个self\n",
    "    def say(self):\n",
    "        self.name = \"linlin\"\n",
    "        self.age = 28\n",
    "\n",
    "# 此时，A称为类实例\n",
    "print(A.name)\n",
    "print(A.age)\n",
    "\n",
    "print(\"* \" * 20)\n",
    "\n",
    "# id判断两个变量是否是同一个变量\n",
    "print(id(A.name))\n",
    "print(id(A.age))\n",
    "\n",
    "print(\"* \" * 20)\n",
    "a = A()\n",
    "\n",
    "print(a.name)\n",
    "print(a.age)\n",
    "print(id(a.name))\n",
    "print(id(a.age))\n",
    "\n",
    "# 以上案例说明\n",
    "# 类实例的属性和其对象实例的属性在不对对象的实例属性赋值的前提下，指向同一个变量"
   ]
  },
  {
   "cell_type": "code",
   "execution_count": 13,
   "metadata": {},
   "outputs": [
    {
     "name": "stdout",
     "output_type": "stream",
     "text": [
      "liuliu\n",
      "18\n",
      "* * * * * * * * * * * * * * * * * * * * \n",
      "139752197917528\n",
      "94207756844800\n",
      "* * * * * * * * * * * * * * * * * * * * \n",
      "{'__module__': '__main__', 'name': 'liuliu', 'age': 18, 'say': <function A.say at 0x7f1a98152ae8>, '__dict__': <attribute '__dict__' of 'A' objects>, '__weakref__': <attribute '__weakref__' of 'A' objects>, '__doc__': None}\n",
      "{}\n",
      "{'name': 'linrui', 'age': 25}\n",
      "linrui\n",
      "25\n",
      "139752197177048\n",
      "94207756845024\n"
     ]
    }
   ],
   "source": [
    "# 此时，A称为类实例\n",
    "print(A.name)\n",
    "print(A.age)\n",
    "\n",
    "print(\"* \" * 20)\n",
    "\n",
    "# id判断两个变量是否是同一个变量\n",
    "print(id(A.name))\n",
    "print(id(A.age))\n",
    "\n",
    "print(\"* \" * 20)\n",
    "a = A()\n",
    "# 查看A和a内的所有属性\n",
    "print(A.__dict__)\n",
    "print(a.__dict__)\n",
    "\n",
    "a.name = \"linrui\"\n",
    "a.age = 25\n",
    "print(a.__dict__)\n",
    "\n",
    "print(a.name)\n",
    "print(a.age)\n",
    "print(id(a.name))\n",
    "print(id(a.age))"
   ]
  },
  {
   "cell_type": "code",
   "execution_count": 16,
   "metadata": {},
   "outputs": [
    {
     "name": "stdout",
     "output_type": "stream",
     "text": [
      "my name is linlin\n",
      "my age is 28\n",
      "my name is linlin\n",
      "my age is 28\n"
     ]
    }
   ],
   "source": [
    "class Student():\n",
    "    name = \"liuliu\"\n",
    "    age = 18\n",
    "    \n",
    "    # 注意say的写法，参数有一个self\n",
    "    def say(self):\n",
    "        self.name = \"linlin\"\n",
    "        self.age = 28\n",
    "        print(\"my name is {0}\".format(self.name))\n",
    "        print(\"my age is {0}\".format(self.age))\n",
    "        \n",
    "        \n",
    "    def sayAgain(s):\n",
    "        print(\"my name is {0}\".format(s.name))\n",
    "        print(\"my age is {0}\".format(s.age))\n",
    "        \n",
    "ruirui = Student()\n",
    "ruirui.say()\n",
    "ruirui.sayAgain()"
   ]
  },
  {
   "cell_type": "code",
   "execution_count": 20,
   "metadata": {},
   "outputs": [
    {
     "name": "stdout",
     "output_type": "stream",
     "text": [
      "my name is liuliu\n",
      "my age is 28\n",
      "你好啊，完事啦\n"
     ]
    }
   ],
   "source": [
    "class Teacher():\n",
    "    name = \"dana\"\n",
    "    age = 38\n",
    "    \n",
    "    def say(self):\n",
    "        self.name = \"liuliu\"\n",
    "        self.age = 28\n",
    "        print(\"my name is {0}\".format(self.name))\n",
    "        print(\"my age is {0}\".format(self.age))\n",
    "        \n",
    "    def sayAgain():\n",
    "        print(\"你好啊，完事啦\")\n",
    "\n",
    "t = Teacher()\n",
    "t.say()\n",
    "# 调用绑定类函数使用类名\n",
    "Teacher.sayAgain()\n",
    "        "
   ]
  },
  {
   "cell_type": "code",
   "execution_count": 24,
   "metadata": {},
   "outputs": [
    {
     "name": "stdout",
     "output_type": "stream",
     "text": [
      "my name is dana\n",
      "my age is 38\n",
      "dana\n",
      "38\n",
      "你好啊，完事啦\n"
     ]
    }
   ],
   "source": [
    "class Teacher():\n",
    "    name = \"dana\"\n",
    "    age = 38\n",
    "    \n",
    "    def say(self):\n",
    "        self.name = \"liuliu\"\n",
    "        self.age = 28\n",
    "        # 调用类的成员变量需要用__class__.\n",
    "        print(\"my name is {0}\".format(__class__.name))\n",
    "        print(\"my age is {0}\".format(__class__.age))\n",
    "        \n",
    "    def sayAgain():\n",
    "        print(__class__.name)\n",
    "        print(__class__.age)\n",
    "        print(\"你好啊，完事啦\")\n",
    "\n",
    "t = Teacher()\n",
    "t.say()\n",
    "# 调用绑定类函数使用类名\n",
    "Teacher.sayAgain()\n",
    "        \n"
   ]
  },
  {
   "cell_type": "code",
   "execution_count": 31,
   "metadata": {},
   "outputs": [
    {
     "name": "stdout",
     "output_type": "stream",
     "text": [
      "aaa\n",
      "28\n",
      "aaa\n",
      "28\n",
      "yuanyuan\n",
      "16\n",
      "bbb\n",
      "38\n"
     ]
    }
   ],
   "source": [
    "# 关于self的案例\n",
    "\n",
    "class A():\n",
    "    name = \"yuanyuan\"\n",
    "    age = 16\n",
    "    \n",
    "    def __init__(self):\n",
    "        self.name = \"aaa\"\n",
    "        self.age = 28\n",
    "        \n",
    "        \n",
    "    def say(self):\n",
    "        print(self.name)\n",
    "        print(self.age)\n",
    "\n",
    "class B():\n",
    "    name = \"bbb\"\n",
    "    age = 38\n",
    "    \n",
    "a = A()\n",
    "# 此时，系统会默认把a作为第一个参数传入函数\n",
    "a.say()\n",
    "# 此时，self被a替换\n",
    "A.say(a)\n",
    "# 同样可以把A作为参数传入\n",
    "A.say(A)\n",
    "# 此时，传入的是类实例B，因为B具有name和age属性，所以不会报错\n",
    "A.say(B)\n",
    "\n",
    "# 以上代码，利用了鸭子模型"
   ]
  },
  {
   "cell_type": "code",
   "execution_count": 40,
   "metadata": {},
   "outputs": [
    {
     "name": "stdout",
     "output_type": "stream",
     "text": [
      "liuliu\n"
     ]
    },
    {
     "ename": "AttributeError",
     "evalue": "'Person' object has no attribute '__age'",
     "output_type": "error",
     "traceback": [
      "\u001b[0;31m---------------------------------------------------------------------------\u001b[0m",
      "\u001b[0;31mAttributeError\u001b[0m                            Traceback (most recent call last)",
      "\u001b[0;32m<ipython-input-40-1c100d2e4be7>\u001b[0m in \u001b[0;36m<module>\u001b[0;34m()\u001b[0m\n\u001b[1;32m     12\u001b[0m \u001b[0;31m# __age是私有变量\u001b[0m\u001b[0;34m\u001b[0m\u001b[0;34m\u001b[0m\u001b[0m\n\u001b[1;32m     13\u001b[0m \u001b[0;31m# 注意报错信息\u001b[0m\u001b[0;34m\u001b[0m\u001b[0;34m\u001b[0m\u001b[0m\n\u001b[0;32m---> 14\u001b[0;31m \u001b[0mprint\u001b[0m\u001b[0;34m(\u001b[0m\u001b[0mp\u001b[0m\u001b[0;34m.\u001b[0m\u001b[0m__age\u001b[0m\u001b[0;34m)\u001b[0m\u001b[0;34m\u001b[0m\u001b[0m\n\u001b[0m",
      "\u001b[0;31mAttributeError\u001b[0m: 'Person' object has no attribute '__age'"
     ]
    }
   ],
   "source": [
    "# 私有变量案例\n",
    "\n",
    "class Person():\n",
    "                # name是共有的成员\n",
    "                name = \"liuliu\"\n",
    "                # __age就是私有成员\n",
    "                __age = 18 \n",
    "                \n",
    "p = Person()\n",
    "# name是公有变量\n",
    "print(p.name)\n",
    "# __age是私有变量\n",
    "# 注意报错信息\n",
    "print(p.__age)\n"
   ]
  },
  {
   "cell_type": "code",
   "execution_count": 39,
   "metadata": {},
   "outputs": [
    {
     "name": "stdout",
     "output_type": "stream",
     "text": [
      "{'__module__': '__main__', 'name': 'liuliu', '_Person__age': 18, '__dict__': <attribute '__dict__' of 'Person' objects>, '__weakref__': <attribute '__weakref__' of 'Person' objects>, '__doc__': None}\n",
      "19\n"
     ]
    }
   ],
   "source": [
    "# name mangling技术\n",
    "print(Person.__dict__)\n",
    "p._Person__age = 19\n",
    "print(p._Person__age)"
   ]
  }
 ],
 "metadata": {
  "kernelspec": {
   "display_name": "Python 3",
   "language": "python",
   "name": "python3"
  },
  "language_info": {
   "codemirror_mode": {
    "name": "ipython",
    "version": 3
   },
   "file_extension": ".py",
   "mimetype": "text/x-python",
   "name": "python",
   "nbconvert_exporter": "python",
   "pygments_lexer": "ipython3",
   "version": "3.6.3"
  }
 },
 "nbformat": 4,
 "nbformat_minor": 2
}
