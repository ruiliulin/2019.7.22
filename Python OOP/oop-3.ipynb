{
 "cells": [
  {
   "cell_type": "code",
   "execution_count": 5,
   "metadata": {},
   "outputs": [
    {
     "name": "stdout",
     "output_type": "stream",
     "text": [
      "(<class '__main__.A'>, <class 'object'>)\n",
      "(<class '__main__.B'>, <class '__main__.A'>, <class 'object'>)\n"
     ]
    }
   ],
   "source": [
    "class A():\n",
    "    pass\n",
    "\n",
    "class B(A):\n",
    "    pass\n",
    "\n",
    "print(A.__mro__)\n",
    "print(B.__mro__)"
   ]
  },
  {
   "cell_type": "code",
   "execution_count": 27,
   "metadata": {},
   "outputs": [
    {
     "name": "stdout",
     "output_type": "stream",
     "text": [
      "Working......\n",
      "============================================================\n",
      "Flying......\n",
      "Swimming......\n",
      "Working......\n"
     ]
    }
   ],
   "source": [
    "# 子类可以直接拥有父类的属性和方法，私有属性和方法除外\n",
    "class Fish():\n",
    "    def __init__(self,name):\n",
    "        self.name = name\n",
    "    \n",
    "    def swim(self):\n",
    "        print(\"Swimming......\")\n",
    "\n",
    "class Bird():\n",
    "    def __init__(self,name):\n",
    "        self.name = name\n",
    "        \n",
    "    def fly(self):\n",
    "        print(\"Flying......\")\n",
    "        \n",
    "class Person():\n",
    "    def __init__(self,name):\n",
    "        self.name = name \n",
    "        \n",
    "    def work(self):\n",
    "        print(\"Working......\")\n",
    "\n",
    "# 单继承的例子\n",
    "class Student(Person):\n",
    "    def __init__(self,name):\n",
    "        self.name = name \n",
    "        \n",
    "stu = Student('xuexue')\n",
    "stu.work()\n",
    "print(\"=\" * 60)\n",
    "\n",
    "# 多继承的例子\n",
    "class SuperMan(Person, Bird, Fish):\n",
    "    def __init__(self,name):\n",
    "        self.name = name \n",
    "\n",
    "s = SuperMan(\"ruirui\")\n",
    "s.fly()\n",
    "s.swim()\n",
    "s.work()"
   ]
  },
  {
   "cell_type": "code",
   "execution_count": null,
   "metadata": {
    "collapsed": true
   },
   "outputs": [],
   "source": [
    "# 菱形继承问题\n",
    "class A():\n",
    "    pass\n",
    "\n",
    "class B(A):\n",
    "    pass\n",
    "\n",
    "class C(A):\n",
    "    pass\n",
    "\n",
    "class D(B,C):\n",
    "    pass\n"
   ]
  },
  {
   "cell_type": "code",
   "execution_count": null,
   "metadata": {
    "collapsed": true
   },
   "outputs": [],
   "source": []
  },
  {
   "cell_type": "code",
   "execution_count": null,
   "metadata": {
    "collapsed": true
   },
   "outputs": [],
   "source": []
  },
  {
   "cell_type": "code",
   "execution_count": null,
   "metadata": {
    "collapsed": true
   },
   "outputs": [],
   "source": []
  }
 ],
 "metadata": {
  "kernelspec": {
   "display_name": "Python 3",
   "language": "python",
   "name": "python3"
  },
  "language_info": {
   "codemirror_mode": {
    "name": "ipython",
    "version": 3
   },
   "file_extension": ".py",
   "mimetype": "text/x-python",
   "name": "python",
   "nbconvert_exporter": "python",
   "pygments_lexer": "ipython3",
   "version": "3.6.3"
  }
 },
 "nbformat": 4,
 "nbformat_minor": 2
}
