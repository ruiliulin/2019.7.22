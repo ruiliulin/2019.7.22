{
 "cells": [
  {
   "cell_type": "code",
   "execution_count": 9,
   "metadata": {},
   "outputs": [
    {
     "name": "stdout",
     "output_type": "stream",
     "text": [
      "<__main__.Teacher object at 0x7fcd627390b8>\n",
      "NoName\n",
      "NoName\n"
     ]
    }
   ],
   "source": [
    "# 继承的语法\n",
    "# 在Python中，任何类都有一个共同的父类，叫object\n",
    "\n",
    "class Person():\n",
    "    name = \"NoName\"\n",
    "    age = 18\n",
    "    def sleeping(self):\n",
    "        print(\"睡觉......\")\n",
    "        \n",
    "        \n",
    "class Teacher(Person):\n",
    "    \n",
    "    pass\n",
    "\n",
    "t = Teacher()\n",
    "print(t)\n",
    "print(t.name)\n",
    "print(Teacher.name)"
   ]
  },
  {
   "cell_type": "code",
   "execution_count": 15,
   "metadata": {},
   "outputs": [
    {
     "name": "stdout",
     "output_type": "stream",
     "text": [
      "<__main__.Teacher object at 0x7fcd6272c588>\n",
      "NoName\n",
      "NoName\n"
     ]
    }
   ],
   "source": [
    "class Person():\n",
    "    name = \"NoName\"\n",
    "    age = 18\n",
    "    def sleeping(self):\n",
    "        print(\"睡觉......\")\n",
    "        \n",
    "        \n",
    "class Teacher(Person):\n",
    "    def make_test(self):# 老师比普通人多了个改作业\n",
    "        pass\n",
    "\n",
    "t = Teacher()\n",
    "print(t)\n",
    "print(t.name)\n",
    "print(Teacher.name)"
   ]
  },
  {
   "cell_type": "code",
   "execution_count": 20,
   "metadata": {},
   "outputs": [
    {
     "name": "stdout",
     "output_type": "stream",
     "text": [
      "NoName\n",
      "liuliu\n",
      "睡觉......\n",
      "9527\n",
      "attention\n"
     ]
    }
   ],
   "source": [
    "class Person():\n",
    "    name = \"NoName\"\n",
    "    age = 18\n",
    "    __score = 0  # 考试成绩是秘密，只能自己知道\n",
    "    _petname = \"liuliu\"  # 小名，是保护的，子类可以用，但不能公用\n",
    "    def sleeping(self):\n",
    "        print(\"睡觉......\")\n",
    "        \n",
    "        \n",
    "class Teacher(Person):\n",
    "    teacher_id = 9527\n",
    "    def make_test(self):\n",
    "        print(\"attention\")\n",
    "\n",
    "t = Teacher()\n",
    "print(t.name)\n",
    "# 受保护不能外部访问，为啥这里可以？以为他是子类啊！！！！\n",
    "print(t._petname)\n",
    "\n",
    "# 私有访问问题\n",
    "# 公开访问私有变量，报错！！！\n",
    "#print(t.__score)\n",
    "\n",
    "t.sleeping()\n",
    "print(t.teacher_id)\n",
    "t.make_test()"
   ]
  },
  {
   "cell_type": "code",
   "execution_count": 22,
   "metadata": {},
   "outputs": [
    {
     "name": "stdout",
     "output_type": "stream",
     "text": [
      "DaNa\n"
     ]
    }
   ],
   "source": [
    "# 子类和父类同时定义同一个名称变量，则优先使用子类本身\n",
    "class Person():\n",
    "    name = \"NoName\"\n",
    "    age = 18\n",
    "    __score = 0  \n",
    "    _petname = \"liuliu\" \n",
    "    def sleeping(self):\n",
    "        print(\"睡觉......\")\n",
    "        \n",
    "        \n",
    "class Teacher(Person):\n",
    "    teacher_id = 9527\n",
    "    name = \"DaNa\"# 这里name和父类重复了\n",
    "    def make_test(self):\n",
    "        print(\"attention\")\n",
    "\n",
    "t = Teacher()\n",
    "print(t.name)# 显示的是子类的值"
   ]
  },
  {
   "cell_type": "code",
   "execution_count": 28,
   "metadata": {},
   "outputs": [
    {
     "name": "stdout",
     "output_type": "stream",
     "text": [
      "赚钱养家糊口\n",
      "attention\n"
     ]
    }
   ],
   "source": [
    "# 子类扩充父类功能的案例\n",
    "# 人有工作的函数，老师也有工作的函数，但老师的工作是需要讲课\n",
    "class Person():\n",
    "    name = \"NoName\"\n",
    "    age = 18\n",
    "    __score = 0  \n",
    "    _petname = \"liuliu\" \n",
    "    \n",
    "    def sleeping(self):\n",
    "        print(\"睡觉......\")\n",
    "        \n",
    "    def work(self):\n",
    "        print(\"赚钱养家糊口\")\n",
    "        \n",
    "class Teacher(Person):\n",
    "    teacher_id = 9527\n",
    "    name = \"DaNa\"\n",
    "    \n",
    "    def make_test(self):\n",
    "        print(\"attention\")\n",
    "    \n",
    "    def work(self):\n",
    "        # 扩充父类的功能只需要调用父类相应的函数就可以，父类名.父类成员\n",
    "        #Person.work(self)\n",
    "        # 另一种方法，super().父类成员\n",
    "        # super代表得到父类\n",
    "        super().work() \n",
    "        self.make_test()\n",
    "        \n",
    "t = Teacher()\n",
    "t.work()"
   ]
  },
  {
   "cell_type": "code",
   "execution_count": 29,
   "metadata": {},
   "outputs": [
    {
     "name": "stdout",
     "output_type": "stream",
     "text": [
      "I am init in Dog\n"
     ]
    }
   ],
   "source": [
    "# 构造函数的概念\n",
    "\n",
    "class Dog():\n",
    "    # __init__就是构造函数\n",
    "    # 每次实例化的时候，第一个被自动的调用\n",
    "    # 因为主要工作室进行初始化，所以得名\n",
    "    def __init__(self):\n",
    "        print(\"I am init in Dog\")\n",
    "\n",
    "# 实例化的时候，括号内的参数需要跟构造参数相匹配\n",
    "kaka = Dog()"
   ]
  },
  {
   "cell_type": "code",
   "execution_count": 31,
   "metadata": {},
   "outputs": [
    {
     "name": "stdout",
     "output_type": "stream",
     "text": [
      "I am init in Dog\n"
     ]
    }
   ],
   "source": [
    "# 继承中的构造函数 - 1\n",
    "class Animal():\n",
    "    pass\n",
    "\n",
    "class PaxingAni(Animal):\n",
    "    pass\n",
    "\n",
    "class Dog(PaxingAni):\n",
    "    \n",
    "    def __init__(self):\n",
    "        print(\"I am init in Dog\")\n",
    "\n",
    "# 实例化的时候，自动调用了Dog的构造函数\n",
    "kaka = Dog()"
   ]
  },
  {
   "cell_type": "code",
   "execution_count": 36,
   "metadata": {},
   "outputs": [
    {
     "name": "stdout",
     "output_type": "stream",
     "text": [
      "I am init in Dog\n",
      "I am init in PaxingAnimal\n"
     ]
    }
   ],
   "source": [
    "# 继承中的构造函数 - 2\n",
    "class Animal():\n",
    "    def __init__(self):\n",
    "        print(\"I am init in Animal\")\n",
    "\n",
    "class PaxingAni(Animal):\n",
    "    # 这里加了一个构造函数\n",
    "    def __init__(self):\n",
    "        print(\"I am init in PaxingAnimal\")\n",
    "\n",
    "class Dog(PaxingAni):\n",
    "    \n",
    "    def __init__(self):\n",
    "        print(\"I am init in Dog\")\n",
    "\n",
    "# 实例化的时候，还是调用了Dog的构造函数\n",
    "# 因为已经在子类找到了构造函数，所以不再查找父类的构造函数\n",
    "kaka = Dog()\n",
    "\n",
    "# 猫没写构造函数\n",
    "class Cat(PaxingAni):\n",
    "    pass\n",
    "\n",
    "# 此时应该自动调用父类函数，因为Cat没有构造函数，所以自动就查找父类的构造函数\n",
    "# 在PaxingAni中查找到了构造函数，则停止向上查找\n",
    "haha = Cat()"
   ]
  },
  {
   "cell_type": "code",
   "execution_count": 39,
   "metadata": {},
   "outputs": [
    {
     "name": "stdout",
     "output_type": "stream",
     "text": [
      "I am init in Dog\n"
     ]
    },
    {
     "ename": "TypeError",
     "evalue": "__init__() missing 1 required positional argument: 'name'",
     "output_type": "error",
     "traceback": [
      "\u001b[0;31m---------------------------------------------------------------------------\u001b[0m",
      "\u001b[0;31mTypeError\u001b[0m                                 Traceback (most recent call last)",
      "\u001b[0;32m<ipython-input-39-c0d32793e93e>\u001b[0m in \u001b[0;36m<module>\u001b[0;34m()\u001b[0m\n\u001b[1;32m     23\u001b[0m \u001b[0;31m# 此时，由于Cat没有构造函数，则向上查找\u001b[0m\u001b[0;34m\u001b[0m\u001b[0;34m\u001b[0m\u001b[0m\n\u001b[1;32m     24\u001b[0m \u001b[0;31m# 因为PaxingAni的构造函数需要两个参数，实例化的时候只给了一个，所以会报错\u001b[0m\u001b[0;34m\u001b[0m\u001b[0;34m\u001b[0m\u001b[0m\n\u001b[0;32m---> 25\u001b[0;31m \u001b[0mhaha\u001b[0m \u001b[0;34m=\u001b[0m \u001b[0mCat\u001b[0m\u001b[0;34m(\u001b[0m\u001b[0;34m)\u001b[0m\u001b[0;34m\u001b[0m\u001b[0m\n\u001b[0m",
      "\u001b[0;31mTypeError\u001b[0m: __init__() missing 1 required positional argument: 'name'"
     ]
    }
   ],
   "source": [
    "# 继承中的构造函数 - 3\n",
    "class Animal():\n",
    "    def __init__(self):\n",
    "        print(\"I am init in Animal\")\n",
    "\n",
    "class PaxingAni(Animal):\n",
    "    # 这里加了一个构造函数\n",
    "    def __init__(self, name):\n",
    "        print(\"I am init in PaxingAnimal {0}\".format(name))\n",
    "\n",
    "class Dog(PaxingAni):\n",
    "    \n",
    "    def __init__(self):\n",
    "        print(\"I am init in Dog\")\n",
    "\n",
    "# 实例化Dog时，查找到Dog的构造函数，参数匹配，不报错\n",
    "kaka = Dog()\n",
    "\n",
    "\n",
    "class Cat(PaxingAni):\n",
    "    pass\n",
    "\n",
    "# 此时，由于Cat没有构造函数，则向上查找\n",
    "# 因为PaxingAni的构造函数需要两个参数，实例化的时候只给了一个，所以会报错\n",
    "haha = Cat()"
   ]
  },
  {
   "cell_type": "code",
   "execution_count": 41,
   "metadata": {},
   "outputs": [
    {
     "name": "stdout",
     "output_type": "stream",
     "text": [
      "I am init in Animal\n",
      "I am init in Animal\n"
     ]
    }
   ],
   "source": [
    "# 继承中的构造函数 - 4\n",
    "class Animal():\n",
    "    def __init__(self):\n",
    "        print(\"I am init in Animal\")\n",
    "\n",
    "class PaxingAni(Animal):\n",
    "        pass\n",
    "\n",
    "class Dog(PaxingAni):\n",
    "    pass\n",
    "\n",
    "kaka = Dog()\n",
    "\n",
    "class Cat(PaxingAni):\n",
    "    pass\n",
    "\n",
    "# 此时Dog和Cat都不会报错，并且直接找到了Animal\n",
    "haha = Cat()"
   ]
  },
  {
   "cell_type": "code",
   "execution_count": 44,
   "metadata": {},
   "outputs": [
    {
     "name": "stdout",
     "output_type": "stream",
     "text": [
      "<class 'type'>\n",
      "Help on class super in module builtins:\n",
      "\n",
      "class super(object)\n",
      " |  super() -> same as super(__class__, <first argument>)\n",
      " |  super(type) -> unbound super object\n",
      " |  super(type, obj) -> bound super object; requires isinstance(obj, type)\n",
      " |  super(type, type2) -> bound super object; requires issubclass(type2, type)\n",
      " |  Typical use to call a cooperative superclass method:\n",
      " |  class C(B):\n",
      " |      def meth(self, arg):\n",
      " |          super().meth(arg)\n",
      " |  This works for class methods too:\n",
      " |  class C(B):\n",
      " |      @classmethod\n",
      " |      def cmeth(cls, arg):\n",
      " |          super().cmeth(arg)\n",
      " |  \n",
      " |  Methods defined here:\n",
      " |  \n",
      " |  __get__(self, instance, owner, /)\n",
      " |      Return an attribute of instance, which is of type owner.\n",
      " |  \n",
      " |  __getattribute__(self, name, /)\n",
      " |      Return getattr(self, name).\n",
      " |  \n",
      " |  __init__(self, /, *args, **kwargs)\n",
      " |      Initialize self.  See help(type(self)) for accurate signature.\n",
      " |  \n",
      " |  __new__(*args, **kwargs) from builtins.type\n",
      " |      Create and return a new object.  See help(type) for accurate signature.\n",
      " |  \n",
      " |  __repr__(self, /)\n",
      " |      Return repr(self).\n",
      " |  \n",
      " |  ----------------------------------------------------------------------\n",
      " |  Data descriptors defined here:\n",
      " |  \n",
      " |  __self__\n",
      " |      the instance invoking super(); may be None\n",
      " |  \n",
      " |  __self_class__\n",
      " |      the type of the instance invoking super(); may be None\n",
      " |  \n",
      " |  __thisclass__\n",
      " |      the class invoking super()\n",
      "\n"
     ]
    }
   ],
   "source": [
    "print(type(super))\n",
    "help(super)"
   ]
  },
  {
   "cell_type": "code",
   "execution_count": null,
   "metadata": {
    "collapsed": true
   },
   "outputs": [],
   "source": []
  }
 ],
 "metadata": {
  "kernelspec": {
   "display_name": "Python 3",
   "language": "python",
   "name": "python3"
  },
  "language_info": {
   "codemirror_mode": {
    "name": "ipython",
    "version": 3
   },
   "file_extension": ".py",
   "mimetype": "text/x-python",
   "name": "python",
   "nbconvert_exporter": "python",
   "pygments_lexer": "ipython3",
   "version": "3.6.3"
  }
 },
 "nbformat": 4,
 "nbformat_minor": 2
}
