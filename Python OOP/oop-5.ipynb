{
 "cells": [
  {
   "cell_type": "code",
   "execution_count": 11,
   "metadata": {},
   "outputs": [
    {
     "name": "stdout",
     "output_type": "stream",
     "text": [
      "luliu\n",
      "liuyao\n"
     ]
    }
   ],
   "source": [
    "# 变量的三种用法\n",
    "\n",
    "class A():\n",
    "    def __init__(self):\n",
    "        self.name = 'luliu'\n",
    "        self.age = 18\n",
    "      \n",
    "a = A()\n",
    "# 属性的三种用法\n",
    "# 1. 赋值\n",
    "# 2. 读取\n",
    "# 3. 删除\n",
    "print(a.name)# 读取\n",
    "a.name = 'liuyao'# 赋值\n",
    "print(a.name)# 读取重新赋值后的结果\n",
    "del a.name # 删除\n",
    "#print(a.name) #　因为删除读取不到了"
   ]
  },
  {
   "cell_type": "code",
   "execution_count": 14,
   "metadata": {},
   "outputs": [
    {
     "name": "stdout",
     "output_type": "stream",
     "text": [
      "luliu\n",
      "我被读取啦\n",
      "luliu\n"
     ]
    }
   ],
   "source": [
    "# 类属性 property\n",
    "# 应用场景：\n",
    "# 对变量除了进行三种普通的三种操作外，还想增加一些附加的操作，这些操作可以通过property完成\n",
    "\n",
    "class A():\n",
    "    def __init__(self):\n",
    "        self.name = 'luliu'\n",
    "        self.age = 18\n",
    "        \n",
    "    # 此功能，是对类变量进行读取操作的时候应该执行的函数功能\n",
    "    def fget(self):\n",
    "        print(\"我被读取啦\")\n",
    "        return self.name\n",
    "    # 模拟的是对类变量进行写操作的时候应该执行的功能\n",
    "    def fset(self):\n",
    "        print(\"我被写入了，我还可以做别的事情\")\n",
    "        self.name = \"图灵学院\" + name\n",
    "    # 模拟对类变量进行删除的时候执行的操作\n",
    "    def fdel(self):\n",
    "        pass\n",
    "    \n",
    "    # property的四个参数顺序是固定的\n",
    "    # 第一个参数代表读取时需要调用的参数\n",
    "    # 第二个参数代表写入时需要调用的参数\n",
    "    # 第三个参数是删除\n",
    "    name2 = property(fget, fset, fdel, '这是一个property的例子')\n",
    "\n",
    "a = A()\n",
    "print(a.name)\n",
    "print(a.name2)"
   ]
  },
  {
   "cell_type": "code",
   "execution_count": 23,
   "metadata": {},
   "outputs": [
    {
     "name": "stdout",
     "output_type": "stream",
     "text": [
      "闻闻对方的味道\n",
      "握握手\n"
     ]
    }
   ],
   "source": [
    "# 抽象\n",
    "class Animal():\n",
    "    pass\n",
    "    '''\n",
    "    \n",
    "    def sayHello(self):\n",
    "        pass\n",
    "    '''\n",
    "class Person(Animal):\n",
    "    \n",
    "    def sayHello(self):\n",
    "        print(\"握握手\")\n",
    "    \n",
    "\n",
    "class Dog(Animal):\n",
    "    \n",
    "    def sayHello(self):\n",
    "        print(\"闻闻对方的味道\")\n",
    "\n",
    "\n",
    "d = Dog()\n",
    "d.sayHello()\n",
    "\n",
    "p = Person()\n",
    "p.sayHello()"
   ]
  },
  {
   "cell_type": "code",
   "execution_count": 26,
   "metadata": {},
   "outputs": [],
   "source": [
    "# 抽象类的实现\n",
    "\n",
    "import abc\n",
    "\n",
    "# 声明一个类并且指定当前类的元类\n",
    "class Human(metaclass=abc.ABCMeta):# 必须这么写\n",
    "    \n",
    "    # 定义一个抽象的方法\n",
    "    @abc.abstractmethod\n",
    "    def smoking(self):\n",
    "        pass\n",
    "    \n",
    "    # 定义类抽象方法\n",
    "    @abc.abstractclassmethod\n",
    "    def drink():\n",
    "        pass\n",
    "    \n",
    "    # 定义静态抽象方法\n",
    "    @abc.abstractstaticmethod\n",
    "    def play():\n",
    "        pass\n",
    "    \n",
    "    # 同样也可以定义普通方法\n",
    "    def sleep(self):\n",
    "        print('sleeping......')\n",
    "    \n",
    "    "
   ]
  },
  {
   "cell_type": "code",
   "execution_count": 33,
   "metadata": {},
   "outputs": [
    {
     "name": "stdout",
     "output_type": "stream",
     "text": [
      "liuliu, 你好啊！！！\n",
      "liuliu, 你好啊！！！\n"
     ]
    }
   ],
   "source": [
    "# 函数名可以当变量直接使用\n",
    "def sayHello(name):\n",
    "    print(\"{0}, 你好啊！！！\".format(name))\n",
    "    \n",
    "    \n",
    "sayHello('liuliu')\n",
    "\n",
    "dazhaohu = sayHello\n",
    "\n",
    "dazhaohu('liuliu')"
   ]
  },
  {
   "cell_type": "code",
   "execution_count": 30,
   "metadata": {},
   "outputs": [
    {
     "name": "stdout",
     "output_type": "stream",
     "text": [
      "Saying......\n",
      "Saying......\n"
     ]
    }
   ],
   "source": [
    "# 自己组装一个类\n",
    " \n",
    "class A():\n",
    "    pass\n",
    "\n",
    "def say(self):\n",
    "    print('Saying......')\n",
    "    \n",
    "say(9)\n",
    "\n",
    "A.say = say\n",
    "a = A()\n",
    "a.say()"
   ]
  },
  {
   "cell_type": "code",
   "execution_count": 35,
   "metadata": {},
   "outputs": [
    {
     "name": "stdout",
     "output_type": "stream",
     "text": [
      "Saying......\n"
     ]
    }
   ],
   "source": [
    "# 组装类例子 2\n",
    "# 自己组装一个类\n",
    "# 利用导入方法类型来组装类\n",
    "from types import MethodType\n",
    "class A():\n",
    "    pass\n",
    "\n",
    "def say(self):\n",
    "    print('Saying......')\n",
    "    \n",
    "\n",
    "a.say = MethodType(say, A)\n",
    "a.say()"
   ]
  },
  {
   "cell_type": "code",
   "execution_count": 36,
   "metadata": {},
   "outputs": [
    {
     "name": "stdout",
     "output_type": "stream",
     "text": [
      "Help on class method in module builtins:\n",
      "\n",
      "class method(object)\n",
      " |  method(function, instance)\n",
      " |  \n",
      " |  Create a bound instance method object.\n",
      " |  \n",
      " |  Methods defined here:\n",
      " |  \n",
      " |  __call__(self, /, *args, **kwargs)\n",
      " |      Call self as a function.\n",
      " |  \n",
      " |  __delattr__(self, name, /)\n",
      " |      Implement delattr(self, name).\n",
      " |  \n",
      " |  __eq__(self, value, /)\n",
      " |      Return self==value.\n",
      " |  \n",
      " |  __ge__(self, value, /)\n",
      " |      Return self>=value.\n",
      " |  \n",
      " |  __get__(self, instance, owner, /)\n",
      " |      Return an attribute of instance, which is of type owner.\n",
      " |  \n",
      " |  __getattribute__(self, name, /)\n",
      " |      Return getattr(self, name).\n",
      " |  \n",
      " |  __gt__(self, value, /)\n",
      " |      Return self>value.\n",
      " |  \n",
      " |  __hash__(self, /)\n",
      " |      Return hash(self).\n",
      " |  \n",
      " |  __le__(self, value, /)\n",
      " |      Return self<=value.\n",
      " |  \n",
      " |  __lt__(self, value, /)\n",
      " |      Return self<value.\n",
      " |  \n",
      " |  __ne__(self, value, /)\n",
      " |      Return self!=value.\n",
      " |  \n",
      " |  __new__(*args, **kwargs) from builtins.type\n",
      " |      Create and return a new object.  See help(type) for accurate signature.\n",
      " |  \n",
      " |  __reduce__(...)\n",
      " |      helper for pickle\n",
      " |  \n",
      " |  __repr__(self, /)\n",
      " |      Return repr(self).\n",
      " |  \n",
      " |  __setattr__(self, name, value, /)\n",
      " |      Implement setattr(self, name, value).\n",
      " |  \n",
      " |  ----------------------------------------------------------------------\n",
      " |  Data descriptors defined here:\n",
      " |  \n",
      " |  __func__\n",
      " |      the function (or other callable) implementing a method\n",
      " |  \n",
      " |  __self__\n",
      " |      the instance to which a method is bound\n",
      "\n"
     ]
    }
   ],
   "source": [
    "help(MethodType)"
   ]
  },
  {
   "cell_type": "code",
   "execution_count": 37,
   "metadata": {},
   "outputs": [
    {
     "name": "stdout",
     "output_type": "stream",
     "text": [
      "Help on class type in module builtins:\n",
      "\n",
      "class type(object)\n",
      " |  type(object_or_name, bases, dict)\n",
      " |  type(object) -> the object's type\n",
      " |  type(name, bases, dict) -> a new type\n",
      " |  \n",
      " |  Methods defined here:\n",
      " |  \n",
      " |  __call__(self, /, *args, **kwargs)\n",
      " |      Call self as a function.\n",
      " |  \n",
      " |  __delattr__(self, name, /)\n",
      " |      Implement delattr(self, name).\n",
      " |  \n",
      " |  __dir__(...)\n",
      " |      __dir__() -> list\n",
      " |      specialized __dir__ implementation for types\n",
      " |  \n",
      " |  __getattribute__(self, name, /)\n",
      " |      Return getattr(self, name).\n",
      " |  \n",
      " |  __init__(self, /, *args, **kwargs)\n",
      " |      Initialize self.  See help(type(self)) for accurate signature.\n",
      " |  \n",
      " |  __instancecheck__(...)\n",
      " |      __instancecheck__() -> bool\n",
      " |      check if an object is an instance\n",
      " |  \n",
      " |  __new__(*args, **kwargs)\n",
      " |      Create and return a new object.  See help(type) for accurate signature.\n",
      " |  \n",
      " |  __prepare__(...)\n",
      " |      __prepare__() -> dict\n",
      " |      used to create the namespace for the class statement\n",
      " |  \n",
      " |  __repr__(self, /)\n",
      " |      Return repr(self).\n",
      " |  \n",
      " |  __setattr__(self, name, value, /)\n",
      " |      Implement setattr(self, name, value).\n",
      " |  \n",
      " |  __sizeof__(...)\n",
      " |      __sizeof__() -> int\n",
      " |      return memory consumption of the type object\n",
      " |  \n",
      " |  __subclasscheck__(...)\n",
      " |      __subclasscheck__() -> bool\n",
      " |      check if a class is a subclass\n",
      " |  \n",
      " |  __subclasses__(...)\n",
      " |      __subclasses__() -> list of immediate subclasses\n",
      " |  \n",
      " |  mro(...)\n",
      " |      mro() -> list\n",
      " |      return a type's method resolution order\n",
      " |  \n",
      " |  ----------------------------------------------------------------------\n",
      " |  Data descriptors defined here:\n",
      " |  \n",
      " |  __abstractmethods__\n",
      " |  \n",
      " |  __dict__\n",
      " |  \n",
      " |  __text_signature__\n",
      " |  \n",
      " |  ----------------------------------------------------------------------\n",
      " |  Data and other attributes defined here:\n",
      " |  \n",
      " |  __base__ = <class 'object'>\n",
      " |      The most base type\n",
      " |  \n",
      " |  __bases__ = (<class 'object'>,)\n",
      " |  \n",
      " |  __basicsize__ = 864\n",
      " |  \n",
      " |  __dictoffset__ = 264\n",
      " |  \n",
      " |  __flags__ = 2148291584\n",
      " |  \n",
      " |  __itemsize__ = 40\n",
      " |  \n",
      " |  __mro__ = (<class 'type'>, <class 'object'>)\n",
      " |  \n",
      " |  __weakrefoffset__ = 368\n",
      "\n"
     ]
    }
   ],
   "source": [
    "help(type)"
   ]
  },
  {
   "cell_type": "code",
   "execution_count": 40,
   "metadata": {},
   "outputs": [
    {
     "name": "stdout",
     "output_type": "stream",
     "text": [
      "Saying.......\n",
      "Talking......\n"
     ]
    }
   ],
   "source": [
    "# 利用type造一个类\n",
    "\n",
    "# 先定义类应该具有的成员函数\n",
    "def say(self):\n",
    "    print(\"Saying.......\")\n",
    "\n",
    "def talk(self):\n",
    "    print(\"Talking......\")\n",
    "    \n",
    "# 利用type创建一个类\n",
    "A = type(\"A\", (object,), {\"class_say\":say, \"class_talk\":talk})\n",
    "\n",
    "a = A()\n",
    "a.class_say()\n",
    "a.class_talk()\n"
   ]
  },
  {
   "cell_type": "code",
   "execution_count": 48,
   "metadata": {},
   "outputs": [
    {
     "name": "stdout",
     "output_type": "stream",
     "text": [
      "哈哈，我是元类啊\n",
      "{}\n",
      "000000\n",
      "beijing\n"
     ]
    }
   ],
   "source": [
    "# 元类演示\n",
    "\n",
    "# 元类写法是固定的，他必须继承自type\n",
    "# 元类命名一般是以MetaClass结尾\n",
    "class TulingMetaClass(type):\n",
    "    # 注意一下写法\n",
    "    def __new__(cls, name, bases, attrs):\n",
    "        # 自己的业务处理\n",
    "        print(\"哈哈，我是元类啊\")\n",
    "        attrs['id'] = '000000'\n",
    "        attrs['addr'] = 'beijing'\n",
    "        \n",
    "        return type.__new__(cls, name, bases, attrs)\n",
    "    \n",
    "# 元类定义完就可以使用，注意使用写法\n",
    "class Teacher(object, metaclass=TulingMetaClass):\n",
    "    pass\n",
    "\n",
    "t = Teacher()\n",
    "print(t.__dict__)\n",
    "print(t.id)\n",
    "print(t.addr)"
   ]
  },
  {
   "cell_type": "code",
   "execution_count": null,
   "metadata": {
    "collapsed": true
   },
   "outputs": [],
   "source": []
  }
 ],
 "metadata": {
  "kernelspec": {
   "display_name": "Python 3",
   "language": "python",
   "name": "python3"
  },
  "language_info": {
   "codemirror_mode": {
    "name": "ipython",
    "version": 3
   },
   "file_extension": ".py",
   "mimetype": "text/x-python",
   "name": "python",
   "nbconvert_exporter": "python",
   "pygments_lexer": "ipython3",
   "version": "3.6.3"
  }
 },
 "nbformat": 4,
 "nbformat_minor": 2
}
