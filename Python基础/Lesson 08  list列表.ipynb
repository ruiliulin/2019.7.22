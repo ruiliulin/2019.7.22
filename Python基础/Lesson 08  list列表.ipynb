{
 "cells": [
  {
   "cell_type": "markdown",
   "metadata": {},
   "source": [
    "# 内置函数结构（变量类型）\n",
    "- list\n",
    "- set\n",
    "- dict\n",
    "- tuple\n",
    "## list（列表）\n",
    "- 一组有顺序的数据的组合\n",
    "- 创建列表\n",
    "    - 空列表"
   ]
  },
  {
   "cell_type": "code",
   "execution_count": 8,
   "metadata": {},
   "outputs": [
    {
     "name": "stdout",
     "output_type": "stream",
     "text": [
      "<class 'list'>\n",
      "<class 'list'>\n",
      "[100]\n",
      "<class 'list'>\n",
      "[2, 3, 4, 5, 6, 7, 8]\n",
      "<class 'list'>\n",
      "[]\n"
     ]
    }
   ],
   "source": [
    "# 1.创建空列表\n",
    "l1 = []\n",
    "# type是内置函数，负责打印出变量的类型\n",
    "print(type(l1))\n",
    "\n",
    "# 2.创建带值的列表\n",
    "l2 = [100]\n",
    "print(type(l2))\n",
    "print(l2)\n",
    "# 3.创建列表，带多个值\n",
    "l3 = [2,3,4,5,6,7,8]\n",
    "print(type(l3))\n",
    "print(l3)\n",
    "# 4.使用list()\n",
    "l4 = list()\n",
    "print(type(l4))\n",
    "print(l4)"
   ]
  },
  {
   "cell_type": "markdown",
   "metadata": {},
   "source": [
    "# list列表\n",
    "- 一组有序数据做成的序列\n",
    "    - 数据具有先后顺序\n",
    "    - 数据可以不是一类数据\n",
    "- list的创建\n",
    "    - 直接创建，用中括号创建，内容直接用英文逗号隔开\n",
    "    - 使用list创建\n",
    "    - 列表包含大哥字符串是一个特例"
   ]
  },
  {
   "cell_type": "code",
   "execution_count": 4,
   "metadata": {},
   "outputs": [
    {
     "name": "stdout",
     "output_type": "stream",
     "text": [
      "[1, 2, 3, 4, 5]\n",
      "[1, 2, 3, 'liulin']\n"
     ]
    }
   ],
   "source": [
    "#直接赋值创建列表\n",
    "L1 = [1,2,3,4,5]\n",
    "# list的数据可以不是一个类型\n",
    "L2 = [1,2,3,\"liulin\"]\n",
    "\n",
    "print(L1)\n",
    "print(L2)"
   ]
  },
  {
   "cell_type": "markdown",
   "metadata": {},
   "source": [
    "# Pthon中的内置类型\n",
    "- str\n",
    "- list\n",
    "- tuple\n",
    "- set\n",
    "- dict\n"
   ]
  },
  {
   "cell_type": "code",
   "execution_count": 7,
   "metadata": {},
   "outputs": [
    {
     "name": "stdout",
     "output_type": "stream",
     "text": [
      "[]\n",
      "<class 'list'>\n"
     ]
    }
   ],
   "source": [
    "# 创建列表的第二种形式\n",
    "L3 = list()\n",
    "print(L3)\n",
    "print(type(L3))"
   ]
  },
  {
   "cell_type": "markdown",
   "metadata": {},
   "source": [
    "# 内置函数的概念\n",
    "- help：帮助函数\n",
    "- type：显示变量的类型\n",
    "- id：显示变量的id\n",
    "- print：打印出来"
   ]
  },
  {
   "cell_type": "code",
   "execution_count": 14,
   "metadata": {},
   "outputs": [
    {
     "name": "stdout",
     "output_type": "stream",
     "text": [
      "<class 'list'>\n",
      "['L', 'i', 'u', ' ', 'D', 'a', 'n', 'a']\n",
      "['Liu Dana']\n"
     ]
    }
   ],
   "source": [
    "# list创建的特例演示\n",
    "\n",
    "s = \"Liu Dana\"\n",
    "\n",
    "# 想创建以个值包含s一个字符串的列表\n",
    "L1 = list(s)\n",
    "# 此种情况用L1 = [s]\n",
    "print(type(L1))\n",
    "print(L1)\n",
    "\n",
    "L2 = [s]\n",
    "print(L2)"
   ]
  },
  {
   "cell_type": "markdown",
   "metadata": {},
   "source": [
    "# 列表的常见操作\n",
    "- 访问\n",
    "    - 使用下标操作，也叫索引\n",
    "    - 列表的元素索引是从0开始\n",
    "- 切片操作\n",
    "    - 对列表进行任意一段的截取\n",
    "    - 截取完之后，创建一段新的列表"
   ]
  },
  {
   "cell_type": "code",
   "execution_count": 17,
   "metadata": {},
   "outputs": [
    {
     "name": "stdout",
     "output_type": "stream",
     "text": [
      "32\n",
      "356\n"
     ]
    }
   ],
   "source": [
    "L1 = [32,33,34,35,356]\n",
    "# 使用下标访问,从0开始！！！！\n",
    "# 记住IndexError引发的原因（超标！）\n",
    "print(L1[0])\n",
    "print(L1[4])"
   ]
  },
  {
   "cell_type": "code",
   "execution_count": 30,
   "metadata": {},
   "outputs": [
    {
     "name": "stdout",
     "output_type": "stream",
     "text": [
      "[20, 30, 40, 50, 60]\n",
      "140255186196744\n",
      "140255186197064\n"
     ]
    },
    {
     "data": {
      "text/plain": [
       "False"
      ]
     },
     "execution_count": 30,
     "metadata": {},
     "output_type": "execute_result"
    }
   ],
   "source": [
    "# 切片操作需要注意取值范围，左包括右不包括\n",
    "L1 = [10,20,30,40,50,60,70,80,90,100]\n",
    "# 对比打印结果跟下标的值\n",
    "print(L1[1:6])\n",
    "\n",
    "# 下面结果说明切片后生成的是一个全新的列表\n",
    "# 通过内置函数id可以判断除切片是否生成了全新的列表\n",
    "# id用来判断两个变量是不是同一个变量(内存结果是否一模一样)\n",
    "L2 = L1[0:10]\n",
    "print(id(L1))\n",
    "print(id(L2))\n",
    "id(L1) == id(L2)\n"
   ]
  },
  {
   "cell_type": "code",
   "execution_count": 29,
   "metadata": {},
   "outputs": [
    {
     "name": "stdout",
     "output_type": "stream",
     "text": [
      "[10, 20, 30, 40]\n",
      "[30, 40, 50, 60, 70, 80, 90, 100]\n",
      "[10, 20, 30, 40, 50, 60, 70, 80, 90, 100]\n"
     ]
    }
   ],
   "source": [
    "\n",
    "# 切片的下标可以为空\n",
    "print(L1[:4])\n",
    "print(L1[2:])\n",
    "print(L1[:])"
   ]
  },
  {
   "cell_type": "code",
   "execution_count": 33,
   "metadata": {},
   "outputs": [
    {
     "name": "stdout",
     "output_type": "stream",
     "text": [
      "[10, 20, 30, 40, 50, 60, 70, 80, 90, 100]\n",
      "[10, 30, 50, 70, 90]\n"
     ]
    }
   ],
   "source": [
    "# 分片可以控制增长的幅度，默认幅度是1\n",
    "print(L1[::1])# 等于print(L1[:])\n",
    "print(L1[::2])"
   ]
  },
  {
   "cell_type": "code",
   "execution_count": 34,
   "metadata": {},
   "outputs": [
    {
     "name": "stdout",
     "output_type": "stream",
     "text": [
      "[10, 20, 30, 40, 50, 60, 70, 80, 90, 100]\n"
     ]
    }
   ],
   "source": [
    "# 下标可以超出范围，超出后不在考虑多余的下标内容\n",
    "print(L1[:100])"
   ]
  },
  {
   "cell_type": "code",
   "execution_count": 39,
   "metadata": {},
   "outputs": [
    {
     "name": "stdout",
     "output_type": "stream",
     "text": [
      "[]\n",
      "[90, 80, 70]\n",
      "[70, 80, 90]\n"
     ]
    }
   ],
   "source": [
    "# 下标值，增长幅度可以为负数\n",
    "# 下标为负数，表明顺序是从右往左\n",
    "# 规定：数组最后一个数字的下标是-1\n",
    "\n",
    "# 下面例子为空，因为默认是从左向右移动\n",
    "print(L1[-2:-5])\n",
    "\n",
    "# 如果想利用负数下标打印90,80,70,则\n",
    "print(L1[-2:-5:-1])\n",
    "# 如果想利用负数下标打印70,80,90,则\n",
    "print(L1[-4:-1])"
   ]
  },
  {
   "cell_type": "code",
   "execution_count": 20,
   "metadata": {},
   "outputs": [
    {
     "data": {
      "text/plain": [
       "True"
      ]
     },
     "execution_count": 20,
     "metadata": {},
     "output_type": "execute_result"
    }
   ],
   "source": [
    "a = 5\n",
    "b = a\n",
    "id(a) == id(b)"
   ]
  },
  {
   "cell_type": "code",
   "execution_count": 21,
   "metadata": {},
   "outputs": [
    {
     "name": "stdout",
     "output_type": "stream",
     "text": [
      "[1200, 2232, 1222, 23255, 43435, 34433, 6567]\n",
      "[1200, 2232, 1222, 23255, 43435, 34433, 6567]\n",
      "[1200, 2232, 1222, 23255, 43435, 34433, 6567]\n",
      "140403962512520\n",
      "140403962845128\n",
      "140403962845128\n"
     ]
    }
   ],
   "source": [
    "# 分片后是从新生成的数据，验证如下\n",
    "l = [1200, 2232, 1222, 23255, 43435, 34433, 6567]\n",
    "l1 = l[:]\n",
    "l2 = l1\n",
    "\n",
    "print(l)\n",
    "print(l1)\n",
    "print(l2)\n",
    "\n",
    "print(id(l))\n",
    "print(id(l1))\n",
    "print(id(l2))"
   ]
  },
  {
   "cell_type": "code",
   "execution_count": 22,
   "metadata": {},
   "outputs": [
    {
     "name": "stdout",
     "output_type": "stream",
     "text": [
      "[1200, 508, 1222, 23255, 43435, 34433, 6567]\n",
      "[1200, 2232, 1222, 23255, 43435, 34433, 6567]\n",
      "[1200, 2232, 1222, 23255, 43435, 34433, 6567]\n",
      "140404099963912\n",
      "140403962515272\n",
      "140403962515272\n"
     ]
    }
   ],
   "source": [
    "# 改变l中的数据，l1和l2都不发生变化\n",
    "l = [1200, 2232, 1222, 23255, 43435, 34433, 6567]\n",
    "l1 = l[:]\n",
    "l2 = l1\n",
    "\n",
    "l[1] = 508\n",
    "print(l)\n",
    "print(l1)\n",
    "print(l2)\n",
    "\n",
    "print(id(l))\n",
    "print(id(l1))\n",
    "print(id(l2))"
   ]
  },
  {
   "cell_type": "code",
   "execution_count": 23,
   "metadata": {},
   "outputs": [
    {
     "name": "stdout",
     "output_type": "stream",
     "text": [
      "[1200, 508, 1222, 23255, 43435, 34433, 6567]\n",
      "[1200, 2232, 1222, 23255, 43435, 34433, 6567]\n",
      "[1200, 2232, 1222, 23255, 43435, 34433, 6567]\n",
      "140403962914120\n",
      "140403962513992\n",
      "140403962513992\n"
     ]
    }
   ],
   "source": [
    "# 改变l1中的数据，l2随之变化，id也相同\n",
    "l = [1200, 2232, 1222, 23255, 43435, 34433, 6567]\n",
    "l1 = l[:]\n",
    "l2 = l1\n",
    "\n",
    "l[1] = 508\n",
    "print(l)\n",
    "print(l1)\n",
    "print(l2)\n",
    "\n",
    "print(id(l))\n",
    "print(id(l1))\n",
    "print(id(l2))"
   ]
  },
  {
   "cell_type": "code",
   "execution_count": 44,
   "metadata": {},
   "outputs": [
    {
     "name": "stdout",
     "output_type": "stream",
     "text": [
      "[0, 1, 2, 3, 4, 5, 6, 7, 8, 9, 10]\n"
     ]
    }
   ],
   "source": [
    "a = [i for i in range(11)]\n",
    "print(a)"
   ]
  },
  {
   "cell_type": "code",
   "execution_count": 19,
   "metadata": {},
   "outputs": [
    {
     "name": "stdout",
     "output_type": "stream",
     "text": [
      "[0, 0, 0, 0, 0, 0, 0, 0, 0, 0, 0, 1, 2, 3, 4, 5, 6, 7, 8, 9, 0, 2, 4, 6, 8, 10, 12, 14, 16, 18, 0, 3, 6, 9, 12, 15, 18, 21, 24, 27, 0, 4, 8, 12, 16, 20, 24, 28, 32, 36, 0, 5, 10, 15, 20, 25, 30, 35, 40, 45, 0, 6, 12, 18, 24, 30, 36, 42, 48, 54, 0, 7, 14, 21, 28, 35, 42, 49, 56, 63, 0, 8, 16, 24, 32, 40, 48, 56, 64, 72, 0, 9, 18, 27, 36, 45, 54, 63, 72, 81]\n"
     ]
    }
   ],
   "source": [
    "a = [i for i in range(10)]\n",
    "b = [ i for i in range(10)]\n",
    "c = []\n",
    "for i in a:\n",
    "    for j in b:\n",
    "        #print(len(a))\n",
    "        c.append(i*j)\n",
    "print(c)"
   ]
  },
  {
   "cell_type": "code",
   "execution_count": 8,
   "metadata": {},
   "outputs": [
    {
     "name": "stdout",
     "output_type": "stream",
     "text": [
      "139927961431752\n",
      "[1, 2, 45, 6]\n",
      "139927961431752\n"
     ]
    }
   ],
   "source": [
    "# del：删除命令\n",
    "a = [1,2,23,45,6]\n",
    "print(id(a))\n",
    "del a[2]\n",
    "print(a)\n",
    "print(id(a))# 原地删除！！！！ "
   ]
  },
  {
   "cell_type": "code",
   "execution_count": 6,
   "metadata": {},
   "outputs": [
    {
     "ename": "NameError",
     "evalue": "name 'a' is not defined",
     "output_type": "error",
     "traceback": [
      "\u001b[0;31m---------------------------------------------------------------------------\u001b[0m",
      "\u001b[0;31mNameError\u001b[0m                                 Traceback (most recent call last)",
      "\u001b[0;32m<ipython-input-6-29a34d62998c>\u001b[0m in \u001b[0;36m<module>\u001b[0;34m()\u001b[0m\n\u001b[1;32m      1\u001b[0m \u001b[0;32mdel\u001b[0m \u001b[0ma\u001b[0m\u001b[0;34m\u001b[0m\u001b[0m\n\u001b[0;32m----> 2\u001b[0;31m \u001b[0mprint\u001b[0m\u001b[0;34m(\u001b[0m\u001b[0ma\u001b[0m\u001b[0;34m)\u001b[0m\u001b[0;34m\u001b[0m\u001b[0m\n\u001b[0m",
      "\u001b[0;31mNameError\u001b[0m: name 'a' is not defined"
     ]
    }
   ],
   "source": [
    "# del一个变量后不能再继续使用此变量\n",
    "del a\n",
    "print(a)"
   ]
  },
  {
   "cell_type": "code",
   "execution_count": 9,
   "metadata": {},
   "outputs": [
    {
     "name": "stdout",
     "output_type": "stream",
     "text": [
      "[1, 2, 3, 4, 5, 5, 6, 7, 8, 9, 'a', 'b', 'c']\n"
     ]
    }
   ],
   "source": [
    "# 列表相加\n",
    "\n",
    "a = [1, 2, 3, 4, 5]\n",
    "b = [5, 6, 7, 8, 9]\n",
    "c = ['a', 'b', 'c']\n",
    "d = a + b + c\n",
    "print(d)"
   ]
  },
  {
   "cell_type": "code",
   "execution_count": 11,
   "metadata": {},
   "outputs": [
    {
     "name": "stdout",
     "output_type": "stream",
     "text": [
      "[1, 3, 2, 4, 5, 1, 3, 2, 4, 5, 1, 3, 2, 4, 5, 1, 3, 2, 4, 5, 1, 3, 2, 4, 5]\n"
     ]
    }
   ],
   "source": [
    "# 列表直接跟一个整数相乘\n",
    "a = [1, 3, 2, 4, 5]\n",
    "b = a * 5\n",
    "print(b)"
   ]
  },
  {
   "cell_type": "code",
   "execution_count": 16,
   "metadata": {},
   "outputs": [
    {
     "name": "stdout",
     "output_type": "stream",
     "text": [
      "False\n",
      "True\n",
      "True\n"
     ]
    }
   ],
   "source": [
    "# 成员资格运算\n",
    "# 判断一个元素是否在list里边\n",
    "a = [1, 2, 3, 4, 5]\n",
    "b = 8\n",
    "# c的值是一个布尔值\n",
    "c = b in a\n",
    "print(c)\n",
    "c = b not in a\n",
    "print(c)\n",
    "b = 4\n",
    "print(b in a)"
   ]
  },
  {
   "cell_type": "markdown",
   "metadata": {},
   "source": [
    "## list的遍历\n",
    "- for\n",
    "- while\n"
   ]
  },
  {
   "cell_type": "code",
   "execution_count": 19,
   "metadata": {},
   "outputs": [
    {
     "name": "stdout",
     "output_type": "stream",
     "text": [
      "1\n",
      "2\n",
      "3\n",
      "4\n",
      "5\n"
     ]
    }
   ],
   "source": [
    "# for in list\n",
    "a = [1, 2, 3, 4, 5]\n",
    "# 挨个打印里边的元素\n",
    "for i in a:\n",
    "    print(i)"
   ]
  },
  {
   "cell_type": "code",
   "execution_count": 2,
   "metadata": {},
   "outputs": [
    {
     "name": "stdout",
     "output_type": "stream",
     "text": [
      "1\n",
      "2\n",
      "3\n",
      "4\n",
      "5\n"
     ]
    }
   ],
   "source": [
    "a = [1, 2, 3, 4, 5]\n",
    "# 挨个打印里边的元素\n",
    "for i in a:\n",
    "    print(i)"
   ]
  },
  {
   "cell_type": "code",
   "execution_count": 5,
   "metadata": {},
   "outputs": [
    {
     "name": "stdout",
     "output_type": "stream",
     "text": [
      "1\n",
      "2\n",
      "3\n",
      "4\n",
      "5\n",
      "6\n",
      "7\n",
      "8\n",
      "9\n",
      "<class 'range'>\n"
     ]
    }
   ],
   "source": [
    "# range\n",
    "for i in range(1,10):\n",
    "    print(i)\n",
    "\n",
    "print(type(range(1,10)))"
   ]
  },
  {
   "cell_type": "code",
   "execution_count": 7,
   "metadata": {},
   "outputs": [
    {
     "name": "stdout",
     "output_type": "stream",
     "text": [
      "1\n",
      "2\n",
      "3\n",
      "4\n",
      "5\n",
      "6\n"
     ]
    }
   ],
   "source": [
    "# while循环访问list\n",
    "# 一般不用while遍历list\n",
    "a = [1, 2, 3, 4, 5, 6]\n",
    "length = len(a)\n",
    "# indx表示的是list的下标\n",
    "indx = 0\n",
    "while indx < length:\n",
    "    print(a[indx])\n",
    "    indx += 1\n",
    "    "
   ]
  },
  {
   "cell_type": "code",
   "execution_count": 10,
   "metadata": {},
   "outputs": [
    {
     "name": "stdout",
     "output_type": "stream",
     "text": [
      "one --- 1\n",
      "two --- 2\n",
      "three --- 3\n"
     ]
    }
   ],
   "source": [
    "# 双层列表循环\n",
    "# a 为嵌套列表，或者叫双层列表\n",
    "\n",
    "a = [[\"one\", 1], [\"two\", 2], [\"three\", 3]]\n",
    "\n",
    "for k,v in a:\n",
    "    print(k, \"---\", v)"
   ]
  },
  {
   "cell_type": "code",
   "execution_count": 13,
   "metadata": {},
   "outputs": [
    {
     "name": "stdout",
     "output_type": "stream",
     "text": [
      "one --- 1 -- 一\n",
      "two --- 2 -- 二\n",
      "three --- 3 -- 三\n"
     ]
    }
   ],
   "source": [
    "# 双层列表循环变异\n",
    "# a 为嵌套列表，或者叫双层列表\n",
    "\n",
    "a = [[\"one\", 1, \"一\"], [\"two\", 2,\"二\"], [\"three\", 3, \"三\"]]\n",
    "\n",
    "for k,v,w in a:\n",
    "    print(k, \"---\", v, \"--\", w)"
   ]
  },
  {
   "cell_type": "markdown",
   "metadata": {
    "collapsed": true
   },
   "source": [
    "# list内涵： list content\n",
    "- 通过简单方法创建列表"
   ]
  },
  {
   "cell_type": "code",
   "execution_count": 17,
   "metadata": {},
   "outputs": [
    {
     "name": "stdout",
     "output_type": "stream",
     "text": [
      "['a', 'b', 'c']\n"
     ]
    }
   ],
   "source": [
    "#　for 创建\n",
    "a = ['a', 'b', 'c']\n",
    "# 用list a创建一个list b\n",
    "# 用下面代码的含义是，对于所有a中的元素，逐个放入新列表中\n",
    "b = [i for i in a]\n",
    "print(b)"
   ]
  },
  {
   "cell_type": "code",
   "execution_count": 18,
   "metadata": {},
   "outputs": [
    {
     "name": "stdout",
     "output_type": "stream",
     "text": [
      "['aaaaaaaaaa', 'bbbbbbbbbb', 'cccccccccc']\n"
     ]
    }
   ],
   "source": [
    "# 对于a中的元素乘以10，生成一个新的list\n",
    "a = ['a', 'b', 'c']\n",
    "# 用list a创建一个list b\n",
    "# 用下面代码的含义是，对于所有a中的元素，逐个放入新列表中\n",
    "b = [i * 10 for i in a]\n",
    "print(b)"
   ]
  },
  {
   "cell_type": "code",
   "execution_count": 22,
   "metadata": {},
   "outputs": [
    {
     "name": "stdout",
     "output_type": "stream",
     "text": [
      "[2, 4, 6, 8, 10, 12, 14, 16, 18, 20, 22, 24, 26, 28, 30, 32, 34]\n"
     ]
    }
   ],
   "source": [
    "# 还可以过滤原来list中的内容并放入新列表\n",
    "# 比如原有列表a，需要把所有a中的偶数生成一个新的列表b\n",
    "\n",
    "a = [x for x in range(1,35)]\n",
    "b = [m for m in a if m % 2 == 0]\n",
    "print(b)"
   ]
  },
  {
   "cell_type": "code",
   "execution_count": 42,
   "metadata": {},
   "outputs": [
    {
     "name": "stdout",
     "output_type": "stream",
     "text": [
      "[1, 2, 3]\n",
      "[100, 200, 300]\n",
      "[101, 201, 301, 102, 202, 302, 103, 203, 303]\n",
      "101  201  301  102  202  302  103  203  303  \n",
      "[101, 201, 102, 202, 103, 203]\n"
     ]
    }
   ],
   "source": [
    "# list生成式也可以嵌套\n",
    "a = [i for i in range(1,4)]\n",
    "print(a)\n",
    "\n",
    "b = [i for i in range(100,400)if i % 100 == 0]\n",
    "print(b)\n",
    "\n",
    "# 列表生成式可以嵌套，此时等于两个for循环嵌套\n",
    "c = [m+n for m in a for n in b]\n",
    "print(c)\n",
    "\n",
    "#上下代码等价\n",
    "\n",
    "for m in a:\n",
    "    for n in b:\n",
    "        print(m+n,end=\"  \")\n",
    "print()\n",
    "\n",
    "# 嵌套的列表生成式也可以用条件表达式\n",
    "c = [m+n for m in a for n in b if m+n < 204]\n",
    "print(c)"
   ]
  },
  {
   "cell_type": "markdown",
   "metadata": {},
   "source": [
    "# 关于列表的常见函数"
   ]
  },
  {
   "cell_type": "code",
   "execution_count": 52,
   "metadata": {},
   "outputs": [
    {
     "name": "stdout",
     "output_type": "stream",
     "text": [
      "99\n",
      "99\n",
      "3\n",
      "python\n",
      "film\n"
     ]
    }
   ],
   "source": [
    "# len 练习，求长度\n",
    "a = [x for x in range(1,100)]\n",
    "print(len(a))\n",
    "\n",
    "# max: 求列表中的最大值\n",
    "print(max(a))\n",
    "\n",
    "b = ['man', 'film', 'python']\n",
    "print(len(b))\n",
    "print(max(b))\n",
    "# min: 求列表中的最小值\n",
    "print(min(b))"
   ]
  },
  {
   "cell_type": "code",
   "execution_count": 55,
   "metadata": {},
   "outputs": [
    {
     "name": "stdout",
     "output_type": "stream",
     "text": [
      "[1, 2, 3, 4]\n",
      "['I', ' ', 'l', 'o', 'v', 'e', ' ', 'w', 'a', 'n', 'g', 'e', 'r', 'q', 'i', 'n', 'g']\n"
     ]
    }
   ],
   "source": [
    "# list:将其他格式的数据转换成list\n",
    "a = [1,2,3,4]\n",
    "print(list(a))\n",
    "\n",
    "s = \"I love wangerqing\"\n",
    "print(list(s))"
   ]
  },
  {
   "cell_type": "code",
   "execution_count": 57,
   "metadata": {},
   "outputs": [
    {
     "name": "stdout",
     "output_type": "stream",
     "text": [
      "[12, 13, 14, 15, 16, 17, 18, 19, 20, 21]\n"
     ]
    }
   ],
   "source": [
    "# 把range产生的内容转换为list\n",
    "print(list(range(12,22)))"
   ]
  },
  {
   "cell_type": "code",
   "execution_count": 59,
   "metadata": {},
   "outputs": [
    {
     "data": {
      "text/plain": [
       "['a', 'i love wangerqing', 45, 545, (4+5j)]"
      ]
     },
     "execution_count": 59,
     "metadata": {},
     "output_type": "execute_result"
    }
   ],
   "source": [
    "l = [\"a\", \"i love wangerqing\", 45, 545, 4+5j]\n",
    "l"
   ]
  },
  {
   "cell_type": "code",
   "execution_count": 81,
   "metadata": {},
   "outputs": [
    {
     "name": "stdout",
     "output_type": "stream",
     "text": [
      "[1, 2, 3, 4]\n",
      "[1, 2, 3, 4, 100]\n"
     ]
    }
   ],
   "source": [
    "# append 插入一个内容，在末尾追加\n",
    "a = [i for i in range(1,5)]\n",
    "print(a)\n",
    "a.append(100)\n",
    "print(a)"
   ]
  },
  {
   "cell_type": "code",
   "execution_count": 82,
   "metadata": {},
   "outputs": [
    {
     "name": "stdout",
     "output_type": "stream",
     "text": [
      "[1, 2, 3, 4, 100]\n",
      "[1, 2, 3, 666, 4, 100]\n"
     ]
    }
   ],
   "source": [
    "# insert: 指定位置插入\n",
    "# insert(index, data),插入位置是index前面\n",
    "\n",
    "print(a)\n",
    "a.insert(3, 666)\n",
    "print(a)"
   ]
  },
  {
   "cell_type": "code",
   "execution_count": 83,
   "metadata": {},
   "outputs": [
    {
     "name": "stdout",
     "output_type": "stream",
     "text": [
      "[1, 2, 3, 666, 4, 100]\n",
      "100\n",
      "[1, 2, 3, 666, 4]\n"
     ]
    }
   ],
   "source": [
    "# 删除\n",
    "# del 删除\n",
    "# pop，从末尾拿出一个元素，即把最后一个元素取出来\n",
    "print(a)\n",
    "last_ele = a.pop()\n",
    "print(last_ele)\n",
    "print(a)"
   ]
  },
  {
   "cell_type": "code",
   "execution_count": 84,
   "metadata": {},
   "outputs": [
    {
     "name": "stdout",
     "output_type": "stream",
     "text": [
      "[1, 2, 3, 666, 4]\n",
      "139747969131336\n",
      "[1, 2, 3, 4]\n",
      "139747969131336\n"
     ]
    }
   ],
   "source": [
    "# remove: 在列表中删除指定的值的元素\n",
    "print(a)\n",
    "print(id(a))\n",
    "a.remove(666)\n",
    "print(a)\n",
    "print(id(a))\n",
    "# 输出两个id值一样，说明remove操作是在原list直接操作"
   ]
  },
  {
   "cell_type": "code",
   "execution_count": 85,
   "metadata": {},
   "outputs": [
    {
     "name": "stdout",
     "output_type": "stream",
     "text": [
      "[1, 2, 3, 4]\n",
      "139747969131336\n",
      "[]\n",
      "139747969131336\n"
     ]
    }
   ],
   "source": [
    "# clear：清空\n",
    "print(a)\n",
    "print(id(a))\n",
    "a.clear()\n",
    "print(a)\n",
    "print(id(a))\n",
    "\n",
    "# 如果不需要列表地址不表，则清空列表 可用使用以下方式\n",
    "# a = list(）\n",
    "# a = []"
   ]
  },
  {
   "cell_type": "code",
   "execution_count": 87,
   "metadata": {},
   "outputs": [
    {
     "name": "stdout",
     "output_type": "stream",
     "text": [
      "[1, 2, 3, 4, 5]\n",
      "139747969437512\n",
      "[5, 4, 3, 2, 1]\n",
      "139747969437512\n"
     ]
    }
   ],
   "source": [
    "# reverse: 翻转列表内容，原地翻转\n",
    "a = [1, 2, 3, 4, 5]\n",
    "print(a)\n",
    "print(id(a))\n",
    "\n",
    "a.reverse()\n",
    "\n",
    "print(a)\n",
    "print(id(a))"
   ]
  },
  {
   "cell_type": "code",
   "execution_count": 90,
   "metadata": {},
   "outputs": [
    {
     "name": "stdout",
     "output_type": "stream",
     "text": [
      "[1, 2, 3, 4, 5]\n",
      "139747979072840\n",
      "[1, 2, 3, 4, 5, 6, 7, 8, 9, 10]\n",
      "139747979072840\n",
      "[6, 7, 8, 9, 10]\n"
     ]
    }
   ],
   "source": [
    "# extend：扩展列表，两个列表，把一个直接拼到后一个上\n",
    "\n",
    "a = [1, 2, 3, 4, 5]\n",
    "b = [6, 7, 8, 9, 10]\n",
    "print(a)\n",
    "print(id(a))\n",
    "\n",
    "a.extend(b)\n",
    "\n",
    "print(a)\n",
    "print(id(a))\n",
    "print(b)"
   ]
  },
  {
   "cell_type": "code",
   "execution_count": 97,
   "metadata": {},
   "outputs": [
    {
     "name": "stdout",
     "output_type": "stream",
     "text": [
      "[1, 2, 3, 4, 5, 6, 7, 8, 9, 10]\n",
      "[1, 2, 3, 4, 8, 5, 6, 7, 8, 9, 10, 8]\n",
      "3\n"
     ]
    }
   ],
   "source": [
    "# count: 查找列表中指定值或元素的个数\n",
    "a = [1, 2, 3, 4, 5, 6, 7, 8, 9, 10]\n",
    "print(a)\n",
    "a.append(8)\n",
    "a.insert(4,8)\n",
    "print(a)\n",
    "a_len = a.count(8)\n",
    "print(a_len)"
   ]
  },
  {
   "cell_type": "code",
   "execution_count": 115,
   "metadata": {},
   "outputs": [
    {
     "name": "stdout",
     "output_type": "stream",
     "text": [
      "[1, 2, 3, 4, 5, 6, 777]\n",
      "[1, 2, 3, 88, 5, 6, 777]\n",
      "139747969536648\n",
      "[1, 2, 3, 88, 5, 6, 777]\n",
      "139747969536648\n",
      "* * * * * * * * * * * * * * * * * * * * \n",
      "[1, 2, 3, 88, 5, 6, 777]\n",
      "139747969536648\n",
      "[1, 2, 3, 88, 5, 6, 777]\n",
      "139748077571016\n",
      "* * * * * * * * * * * * * * * * * * * * * * * * * * * * * * \n",
      "[1, 2, 3, 88, 5, 6, 777]\n",
      "[1, 2, 3, 99, 5, 6, 777]\n"
     ]
    }
   ],
   "source": [
    "# copy: 拷贝，浅拷贝\n",
    "# 列表类型变量赋值示例\n",
    "a = [1,2,3,4,5,6,777]\n",
    "print(a)\n",
    "# list类型，简单赋值操作，是传地址\n",
    "b = a\n",
    "b[3] = 88\n",
    "print(a)\n",
    "print(id(a))\n",
    "print(b)\n",
    "print(id(b))\n",
    "\n",
    "print(\"* \" * 20)\n",
    "# 为了解决以上问题，list赋值需要采用copy函数\n",
    "b = a.copy()\n",
    "print(a)\n",
    "print(id(a))\n",
    "print(b)\n",
    "print(id(b))\n",
    "\n",
    "print(\"* \" * 30)\n",
    "b[3] = 99\n",
    "print(a)\n",
    "print(b)\n"
   ]
  },
  {
   "cell_type": "code",
   "execution_count": 121,
   "metadata": {},
   "outputs": [
    {
     "name": "stdout",
     "output_type": "stream",
     "text": [
      "139748038033096\n",
      "139747969388104\n",
      "139747969204488\n",
      "139747969204488\n",
      "[1, 2, 3, [10, 20, 666]]\n",
      "[1, 2, 3, [10, 20, 666]]\n",
      "139748038033096\n",
      "139747969388104\n"
     ]
    }
   ],
   "source": [
    "# 深拷贝跟浅拷贝的区别\n",
    "# 出现下列问题的原因是，copy函数是个浅拷贝函数，即只拷贝一层内容\n",
    "# 深拷贝需要使用特定工具\n",
    "a = [1, 2, 3, [10, 20, 30]]\n",
    "b = a.copy()\n",
    "print(id(a))\n",
    "print(id(b))\n",
    "print(id(a[3]))\n",
    "print(id(b[3]))\n",
    "a[3][2] = 666\n",
    "print(a)\n",
    "print(b)\n",
    "print(id(a))\n",
    "print(id(b))"
   ]
  }
 ],
 "metadata": {
  "kernelspec": {
   "display_name": "Python 3",
   "language": "python",
   "name": "python3"
  },
  "language_info": {
   "codemirror_mode": {
    "name": "ipython",
    "version": 3
   },
   "file_extension": ".py",
   "mimetype": "text/x-python",
   "name": "python",
   "nbconvert_exporter": "python",
   "pygments_lexer": "ipython3",
   "version": "3.6.3"
  }
 },
 "nbformat": 4,
 "nbformat_minor": 2
}
