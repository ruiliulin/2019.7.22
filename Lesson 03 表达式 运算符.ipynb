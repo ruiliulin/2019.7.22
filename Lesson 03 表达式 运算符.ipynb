{
 "cells": [
  {
   "cell_type": "markdown",
   "metadata": {},
   "source": [
    "# 表达式\n",
    "- 由一个或者几个数字或者变量跟运算符组合成的一行代码\n",
    "- 通常会返回一个结果\n",
    "## 运算符\n",
    "- 由一个以上的值经过一系列的运算得到新值的过程叫运算\n",
    "- 用来操作运算的符号叫运算符\n",
    "- 运算符分类：\n",
    "    - 算数运算符\n",
    "    - 比较或关系运算符\n",
    "    - 赋值运算符\n",
    "    - 逻辑运算符\n",
    "    - 位运算\n",
    "    - 成员运算符\n",
    "    - 身份运算符\n",
    "\n",
    "    "
   ]
  },
  {
   "cell_type": "markdown",
   "metadata": {},
   "source": [
    "## 算术运算符\n",
    "- 进行算术运算的符号（通常就是+ - * /）\n",
    "- python没有自增自减运算符"
   ]
  },
  {
   "cell_type": "code",
   "execution_count": 4,
   "metadata": {},
   "outputs": [
    {
     "name": "stdout",
     "output_type": "stream",
     "text": [
      "14\n",
      "64\n"
     ]
    }
   ],
   "source": [
    "# +，-跟正常运算一样\n",
    "a = 9 - 3 + 8\n",
    "print(a)\n",
    "# 乘号用星号（*）代替\n",
    "b = 8 * 8\n",
    "print(b)\n"
   ]
  },
  {
   "cell_type": "code",
   "execution_count": 9,
   "metadata": {},
   "outputs": [
    {
     "name": "stdout",
     "output_type": "stream",
     "text": [
      "2.25\n",
      "1\n",
      "-3\n",
      "2\n"
     ]
    }
   ],
   "source": [
    "# 除号用斜杠（/）代替\n",
    "# 在python2 和Python3 中，除号结果可能不一致，以3 为准\n",
    "c = 9 / 4\n",
    "print(c)\n",
    "\n",
    "# % 取余运算 只会得到余数\n",
    "a = 9 % 4\n",
    "print(a)\n",
    "\n",
    "# 除以负数的结果\n",
    "# 理解这个结果参考取余的定义\n",
    "a = 9 % -4\n",
    "print(a)\n",
    "\n",
    "\n",
    "# // 取整运算 只会得到商数（也叫地板除）\n",
    "\n",
    "a = 9 // 4\n",
    "print(a)"
   ]
  },
  {
   "cell_type": "code",
   "execution_count": 5,
   "metadata": {},
   "outputs": [
    {
     "name": "stdout",
     "output_type": "stream",
     "text": [
      "4096\n",
      "256\n"
     ]
    }
   ],
   "source": [
    "# ** 幂运算\n",
    "a = 8 ** 4\n",
    "print(a)\n",
    "\n",
    "a = 4 ** 4\n",
    "print(a)"
   ]
  },
  {
   "cell_type": "markdown",
   "metadata": {},
   "source": [
    "## 比较运算符\n",
    "- 对两个变量或者值进行比较的运算符\n",
    "- 比较的结果一定是布尔值，即True/False\n"
   ]
  },
  {
   "cell_type": "code",
   "execution_count": 11,
   "metadata": {},
   "outputs": [
    {
     "name": "stdout",
     "output_type": "stream",
     "text": [
      "True\n",
      "True\n"
     ]
    }
   ],
   "source": [
    "# == 等于号\n",
    "a = 4 ** 4\n",
    "# 下面的语句执行顺序：\n",
    "#1. 计算 a == 256\n",
    "#2. 把结果放入 b 中\n",
    "b = a == 256\n",
    "print(b)\n",
    "\n",
    "# != 不等于\n",
    "a = 9\n",
    "b = 8\n",
    "print(a != b)\n",
    "\n",
    "# > 大于\n",
    "# < 小于\n",
    "# >= 大于等于\n",
    "# <= 小于等于\n"
   ]
  },
  {
   "cell_type": "code",
   "execution_count": 13,
   "metadata": {},
   "outputs": [
    {
     "name": "stdout",
     "output_type": "stream",
     "text": [
      "False\n",
      "True\n"
     ]
    }
   ],
   "source": [
    "a = 3 == 4\n",
    "print(a)\n",
    "\n",
    "a = 3 != 4\n",
    "print(a)"
   ]
  },
  {
   "cell_type": "markdown",
   "metadata": {},
   "source": [
    "## 赋值运算符\n",
    "- 把一个值放到变量里面去"
   ]
  },
  {
   "cell_type": "code",
   "execution_count": 14,
   "metadata": {},
   "outputs": [
    {
     "name": "stdout",
     "output_type": "stream",
     "text": [
      "18\n",
      "100\n"
     ]
    }
   ],
   "source": [
    "# = 赋值\n",
    "a = 9\n",
    "c = a = 5\n",
    "\n",
    "# += 是缩写\n",
    "a = 9\n",
    "a += 9 # a = a + 9 的缩写\n",
    "print(a)\n",
    "\n",
    "a = 50\n",
    "a *= 2\n",
    "print(a)\n",
    "# 所有数学运算符都有缩写形式\n",
    "# -=， /=， *=， //=， **=， %=都是缩写形式\n",
    "# python没有++，--"
   ]
  },
  {
   "cell_type": "code",
   "execution_count": 16,
   "metadata": {},
   "outputs": [
    {
     "name": "stdout",
     "output_type": "stream",
     "text": [
      "13\n"
     ]
    }
   ],
   "source": [
    "cc = 10\n",
    "cc = cc + 3\n",
    "print(cc)"
   ]
  },
  {
   "cell_type": "markdown",
   "metadata": {},
   "source": [
    "## 逻辑运算符\n",
    "- 对布尔值类型变量或者值进行运算的符号\n",
    "- and 逻辑与\n",
    "- or 逻辑或\n",
    "- not 逻辑非\n",
    "- python 中逻辑运算没有异或运算！！！\n",
    "- 运算规则：\n",
    "    - and 看做乘法\n",
    "    - or 看做加法\n",
    "    - True看做1，False看做0\n",
    "    - 则逻辑运算就能转换成整数数学运算\n",
    "    - 最后结果若果是0则为False，否则为True\n",
    "- 逻辑运算的短路问题\n",
    "    - 逻辑运算时，按照运算顺序计算，一旦能够确定整个表达式未来的值，则不再进行运算，直接返回   "
   ]
  },
  {
   "cell_type": "code",
   "execution_count": 19,
   "metadata": {},
   "outputs": [
    {
     "name": "stdout",
     "output_type": "stream",
     "text": [
      "True\n",
      "True\n",
      "True\n",
      "False\n"
     ]
    }
   ],
   "source": [
    "# 逻辑运算符案例\n",
    "a = True\n",
    "b = False\n",
    "c = True\n",
    "\n",
    "d = a and b or c\n",
    "print(d)\n",
    "\n",
    "d = a or b or c\n",
    "print(d)\n",
    "\n",
    "d = a and b or a\n",
    "print(d)\n",
    "\n",
    "d = b and (b or a)\n",
    "print(d)"
   ]
  },
  {
   "cell_type": "code",
   "execution_count": 20,
   "metadata": {},
   "outputs": [
    {
     "name": "stdout",
     "output_type": "stream",
     "text": [
      "True\n"
     ]
    }
   ],
   "source": [
    "# 逻辑运算的短路案例1\n",
    "\n",
    "# 下面的逻辑表达式，a的值一定是True，则进行到or的时候，整个表达式不在向下计算\n",
    "a = True \n",
    "b = True\n",
    "c = False\n",
    "\n",
    "aa = a or b and (c and a)\n",
    "print(aa)\n"
   ]
  },
  {
   "cell_type": "code",
   "execution_count": 21,
   "metadata": {},
   "outputs": [
    {
     "name": "stdout",
     "output_type": "stream",
     "text": [
      "a\n",
      "b\n",
      "True\n",
      "********************\n",
      "a\n",
      "True\n"
     ]
    }
   ],
   "source": [
    "# 逻辑运算的短路案例2\n",
    "\n",
    "def a():\n",
    "    print(\"a\")\n",
    "    return True\n",
    "\n",
    "def b():\n",
    "    print(\"b\")\n",
    "    return True\n",
    "\n",
    "aaa = a() and b()\n",
    "print(aaa)\n",
    "\n",
    "# 字符串乘以数字，表示对这个字符串重复多少遍\n",
    "print(\"*\" * 20)\n",
    "\n",
    "bbb = a() or b() # 短路发生！！！\n",
    "print(bbb)\n"
   ]
  },
  {
   "cell_type": "markdown",
   "metadata": {},
   "source": [
    "## 成员运算符\n",
    "- 用来检测某一个值或者变量是否是另一个变量的成员\n",
    "- in\n",
    "- not in\n"
   ]
  },
  {
   "cell_type": "code",
   "execution_count": 22,
   "metadata": {},
   "outputs": [
    {
     "name": "stdout",
     "output_type": "stream",
     "text": [
      "False\n",
      "True\n",
      "False\n"
     ]
    }
   ],
   "source": [
    "# 案例\n",
    "l = {1,2,3,4}\n",
    "a = 7\n",
    "b = a in l\n",
    "print(b)\n",
    "\n",
    "a = 4\n",
    "b = a in l\n",
    "print(b)\n",
    "\n",
    "a = 3\n",
    "print(a not in l)\n"
   ]
  },
  {
   "cell_type": "markdown",
   "metadata": {},
   "source": [
    "## 身份运算符\n",
    "- is： 用来检测两个变量是否是同一个变量（值不一定相等）\n",
    "    - 语法就是 var1 is var2\n",
    "- is not：两个变量不是同一个变量\n",
    "- Python对整数N\\in[-5,256],解释器对它们进行了单独的处理，放进了固定的内存中，不会因你每次运行而变化。"
   ]
  },
  {
   "cell_type": "code",
   "execution_count": 28,
   "metadata": {},
   "outputs": [
    {
     "name": "stdout",
     "output_type": "stream",
     "text": [
      "False\n",
      "False\n",
      "True\n",
      "False\n"
     ]
    }
   ],
   "source": [
    "a = 10\n",
    "b = 50000\n",
    "bb = a is b\n",
    "print(bb)\n",
    "\n",
    "# a,b仅仅是值一样，并不代表a，b是一个变量\n",
    "a = 100099989\n",
    "b = 100099989\n",
    "aa = a is b\n",
    "print(aa)\n",
    "\n",
    "# 正确理解下面案例跟上面案例的不同\n",
    "# a,b仅仅是值一样，并不代表a，b是一个变量\n",
    "a = 5\n",
    "b = 5\n",
    "aa = a is b\n",
    "print(aa)\n",
    "\n",
    "a = \"I am liulinrui\"\n",
    "b = \"I am liulinrui\"\n",
    "print(a is b)"
   ]
  },
  {
   "cell_type": "markdown",
   "metadata": {},
   "source": [
    "## 运算符的优先级问题\n",
    "- 永远记住，小括号具有最高优先级！！！\n",
    "- 优先级顺序：\n",
    "    -  **指数（除括号外的最高优先级）\n",
    "    -  ～ + - 按位翻转，一元加号和减号（最后两个的方法名为 +@ 和 -@）\n",
    "    -  * / % // 乘 除 取余和取整除\n",
    "    -  + - 加减法\n",
    "    -  >>    <<  右移左移运算符\n",
    "    -  &   位 ‘AND’\n",
    "    -  ^        位运算符\n",
    "    -  <= >=    比较运算符\n",
    "    -  < > == != 等于运算符\n",
    "    -  = %= += -= *= /= //= **= 赋值运算符\n",
    "    -  is  is not 身份运算符\n",
    "    -  in  not in 成员运算符\n",
    "    -  and or not 逻辑运算符\n",
    "    "
   ]
  },
  {
   "cell_type": "markdown",
   "metadata": {},
   "source": [
    "# 三大程序结构\n",
    "- 顺序（就是字面意思）\n",
    "- 分支\n",
    "- 循环"
   ]
  }
 ],
 "metadata": {
  "kernelspec": {
   "display_name": "Python 3",
   "language": "python",
   "name": "python3"
  },
  "language_info": {
   "codemirror_mode": {
    "name": "ipython",
    "version": 3
   },
   "file_extension": ".py",
   "mimetype": "text/x-python",
   "name": "python",
   "nbconvert_exporter": "python",
   "pygments_lexer": "ipython3",
   "version": "3.6.3"
  }
 },
 "nbformat": 4,
 "nbformat_minor": 2
}
