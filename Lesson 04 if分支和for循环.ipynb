{
 "cells": [
  {
   "cell_type": "markdown",
   "metadata": {},
   "source": [
    "# 三大程序结构\n",
    "    - 顺序\n",
    "    - 分支\n",
    "    - 循环"
   ]
  },
  {
   "cell_type": "markdown",
   "metadata": {},
   "source": [
    "## 分支结构\n",
    "- 分支的基本语法（符号加规则表达式）\n",
    "\n",
    "\n",
    "        if 条件表达式：（if后面空格，最后要有冒号！！！）\n",
    "            语句1\n",
    "            语句2\n",
    "            语句3\n",
    "            ......\n",
    "- 条件表达式就是计算结果必须是布尔值的表达式\n",
    "- 表达式后面的冒号不能少！！！\n",
    "- 注意if后面出现的语句，如果属于if语句块，则必须同一个缩进等级！！\n",
    "- 条件表达式结果为True执行if后面的缩进的语句块\n"
   ]
  },
  {
   "cell_type": "code",
   "execution_count": 3,
   "metadata": {},
   "outputs": [
    {
     "name": "stdout",
     "output_type": "stream",
     "text": [
      "大拿发财了\n",
      "迎娶白富美\n",
      "日子还得过呀\n",
      "日子还得过呀\n"
     ]
    }
   ],
   "source": [
    "a = \"都买习题课\"\n",
    "if a:\n",
    "    print(\"大拿发财了\")\n",
    "    print(\"迎娶白富美\")\n",
    "\n",
    "print(\"日子还得过呀\")\n"
   ]
  },
  {
   "cell_type": "code",
   "execution_count": 4,
   "metadata": {},
   "outputs": [
    {
     "name": "stdout",
     "output_type": "stream",
     "text": [
      "日子还得过呀\n"
     ]
    }
   ],
   "source": [
    "a = \"\"# 字符串为空是假，否则为真！！！\n",
    "if a:\n",
    "    print(\"大拿发财了\")\n",
    "    print(\"迎娶白富美\")\n",
    "\n",
    "print(\"日子还得过呀\")"
   ]
  },
  {
   "cell_type": "code",
   "execution_count": 6,
   "metadata": {},
   "outputs": [
    {
     "name": "stdout",
     "output_type": "stream",
     "text": [
      "大拿发财了\n",
      "迎娶白富美\n",
      "日子还得过呀\n"
     ]
    }
   ],
   "source": [
    "a = \"  \"\n",
    "if a:\n",
    "    print(\"大拿发财了\")\n",
    "    print(\"迎娶白富美\")\n",
    "\n",
    "print(\"日子还得过呀\")"
   ]
  },
  {
   "cell_type": "code",
   "execution_count": 7,
   "metadata": {},
   "outputs": [
    {
     "name": "stdout",
     "output_type": "stream",
     "text": [
      "小孩出去\n",
      "不带你玩\n",
      "嘿嘿嘿\n"
     ]
    }
   ],
   "source": [
    "# if 语句关系\n",
    "# 如果age小于18岁，则打印信息“小孩出去”\n",
    "\n",
    "age = 17\n",
    "if age < 18:\n",
    "    print(\"小孩出去\")\n",
    "    print(\"不带你玩\")\n",
    "    print(\"嘿嘿嘿\")"
   ]
  },
  {
   "cell_type": "code",
   "execution_count": 3,
   "metadata": {},
   "outputs": [
    {
     "name": "stdout",
     "output_type": "stream",
     "text": [
      "不带你玩\n",
      "嘿嘿嘿\n",
      "一起玩\n"
     ]
    }
   ],
   "source": [
    "# if 语句关系\n",
    "# 如果age小于18岁，则打印信息“小孩出去”\n",
    "# 如果条件不满足，则进行下一行与if语句平齐的代码\n",
    "age = 20\n",
    "if age < 18:\n",
    "    print(\"小孩出去\")\n",
    "print(\"不带你玩\")\n",
    "print(\"嘿嘿嘿\")\n",
    "\n",
    "print(\"一起玩\")"
   ]
  },
  {
   "cell_type": "code",
   "execution_count": 4,
   "metadata": {},
   "outputs": [
    {
     "name": "stdout",
     "output_type": "stream",
     "text": [
      "一起玩\n"
     ]
    }
   ],
   "source": [
    "age = 20\n",
    "if age < 18:\n",
    "    print(\"小孩出去\")\n",
    "    print(\"不带你玩\")\n",
    "    print(\"嘿嘿嘿\")\n",
    "print(\"一起玩\")"
   ]
  },
  {
   "cell_type": "code",
   "execution_count": 5,
   "metadata": {},
   "outputs": [
    {
     "name": "stdout",
     "output_type": "stream",
     "text": [
      "学习学习\n",
      "来，叔叔给你糖吃\n",
      "开始学for循环\n"
     ]
    }
   ],
   "source": [
    "print(\"学习学习\")\n",
    "gender = \"女\"\n",
    "if gender == \"女\":\n",
    "    print(\"来，叔叔给你糖吃\")\n",
    "\n",
    "print(\"开始学for循环\")"
   ]
  },
  {
   "cell_type": "markdown",
   "metadata": {},
   "source": [
    "## 双向分支\n",
    "- if...else...语句\n",
    "\n",
    "        if 条件表达式：\n",
    "            语句1\n",
    "            语句2\n",
    "            语句3\n",
    "            ...\n",
    "        else:\n",
    "            语句1\n",
    "            语句2\n",
    "            语句3\n",
    "            ...\n",
    "- 双向分支有两个分支，当程序执行到if...else...语句的时候，一定会且只能执行其中的一个\n",
    "- 缩进问题，if和else是一个层级，其余语句是一个层级         "
   ]
  },
  {
   "cell_type": "code",
   "execution_count": 2,
   "metadata": {},
   "outputs": [
    {
     "name": "stdout",
     "output_type": "stream",
     "text": [
      "请输入您的性别：男\n",
      "你输入的性别是：男\n",
      "准备好键盘，代码敲十遍\n",
      "马上下课啦\n"
     ]
    }
   ],
   "source": [
    "# input用法\n",
    "    \n",
    "#  xxx = input(\"字符串\")\n",
    "#  print(\"想要的内容:{0}.format(xxx)\")\n",
    "# input的作用是：\n",
    "# 1.在屏幕上输入括号内的字符串\n",
    "# 2.接受用户输入的内容并返回程序\n",
    "# 3.input返回的内容一定是字符串类型！！！\n",
    "\n",
    "\n",
    "# input负责接受用户输入并把内容返回给变量\n",
    "gender = input(\"请输入您的性别：\")\n",
    "# 打印输入的内容\n",
    "print(\"你输入的性别是：{0}\".format(gender))\n",
    "\n",
    "if gender == \"男\":\n",
    "    print(\"准备好键盘，代码敲十遍\")\n",
    "else:\n",
    "    print(\"出去玩吧\")\n",
    "    print(\"女生特殊照顾\")\n",
    "print(\"马上下课啦\") "
   ]
  },
  {
   "cell_type": "code",
   "execution_count": null,
   "metadata": {
    "collapsed": true
   },
   "outputs": [],
   "source": [
    "# 考试成绩判断\n",
    "# 90以上，    优\n",
    "# 80-90，   良\n",
    "# 70-80，  中\n",
    "# 60-70， 平\n",
    "# 60以下，差"
   ]
  },
  {
   "cell_type": "code",
   "execution_count": 10,
   "metadata": {},
   "outputs": [
    {
     "name": "stdout",
     "output_type": "stream",
     "text": [
      "请输入学生成绩，必须是数字：89\n",
      "良\n"
     ]
    }
   ],
   "source": [
    "# score 存放学生成绩\n",
    "# 注意input返回值类型一定是字符串\n",
    "score = input(\"请输入学生成绩，必须是数字：\")\n",
    "# 需要把str转换成int\n",
    "score = int(score)\n",
    "if score >= 90:\n",
    "    print(\"优\")\n",
    "if score >= 80 and score < 90:\n",
    "    print(\"良\")\n",
    "if score >= 70 and score < 80:\n",
    "    print(\"中\")\n",
    "if score >= 60 and score < 70:\n",
    "    print(\"平\")\n",
    "if score < 60:\n",
    "    print(\"差\")\n"
   ]
  },
  {
   "cell_type": "code",
   "execution_count": 9,
   "metadata": {},
   "outputs": [
    {
     "name": "stdout",
     "output_type": "stream",
     "text": [
      "请输入学生成绩,必须是数字：89\n",
      "良\n",
      "X\n"
     ]
    }
   ],
   "source": [
    "# score 存放学生成绩\n",
    "# 注意input返回值类型一定是字符串\n",
    "score = input(\"请输入学生成绩,必须是数字：\")\n",
    "# 需要把str转换成int\n",
    "score = int(score)\n",
    "if score >= 90:\n",
    "    print(\"优\")\n",
    "if score >= 80 and score < 90:\n",
    "    print(\"良\")\n",
    "if score >= 70 and score < 80:\n",
    "    print(\"中\")\n",
    "if score >= 60 and score < 70:\n",
    "    print(\"平\")\n",
    "else:# 从第一个if开始算起！！！\n",
    "    print(\"X\")\n"
   ]
  },
  {
   "cell_type": "markdown",
   "metadata": {},
   "source": [
    "## 多路分支\n",
    "- 很多分支的情况，简称多路分支\n",
    "\n",
    "        if 条件表达式：\n",
    "            语句1\n",
    "            ...\n",
    "        elif 条件表达式：\n",
    "            语句1\n",
    "            ...\n",
    "        elif 条件表达式：\n",
    "            语句1\n",
    "            ...\n",
    "        ......\n",
    "        else：\n",
    "            语句1\n",
    "            ...\n",
    "- elif可以有很多个\n",
    "- else可有可无\n",
    "- 多路分支只会选一个执行！！！\n"
   ]
  },
  {
   "cell_type": "code",
   "execution_count": 3,
   "metadata": {},
   "outputs": [
    {
     "name": "stdout",
     "output_type": "stream",
     "text": [
      "请输入学生成绩，必须是数字：89\n",
      "B\n"
     ]
    }
   ],
   "source": [
    "score = input(\"请输入学生成绩，必须是数字：\")\n",
    "# 需要把str转换成int\n",
    "score = int(score)\n",
    "\n",
    "if score >= 90:\n",
    "    print(\"A\")\n",
    "elif score >= 80:\n",
    "    print(\"B\")\n",
    "elif score >= 70:\n",
    "    print(\"C\")\n",
    "elif score >= 60:\n",
    "    print(\"D\")\n",
    "else: \n",
    "    print(\"X\")\n"
   ]
  },
  {
   "cell_type": "markdown",
   "metadata": {},
   "source": [
    "## if语句其他：\n",
    "- if语句可以嵌套使用，但不推荐。\n",
    "- python没有switch-case语句！！！"
   ]
  },
  {
   "cell_type": "markdown",
   "metadata": {},
   "source": [
    "# 循环语句\n",
    "- 重复执行某一些固定动作或者任务\n",
    "- 分类：\n",
    "    - for循环\n",
    "    - while循环\n",
    "## for循环\n",
    "- for循环\n",
    "\n",
    "        for 变量 in 序列：\n",
    "            语句1\n",
    "            语句2\n",
    "            语句3\n",
    "            ...\n"
   ]
  },
  {
   "cell_type": "code",
   "execution_count": 13,
   "metadata": {},
   "outputs": [
    {
     "name": "stdout",
     "output_type": "stream",
     "text": [
      "1\n",
      "101\n",
      "1001\n",
      "2\n",
      "102\n",
      "1002\n",
      "3\n",
      "103\n",
      "1003\n",
      "4\n",
      "104\n",
      "1004\n",
      "5\n",
      "105\n",
      "1005\n",
      "6\n",
      "106\n",
      "1006\n",
      "7\n",
      "107\n",
      "1007\n",
      "8\n",
      "108\n",
      "1008\n",
      "9\n",
      "109\n",
      "1009\n",
      "10\n",
      "110\n",
      "1010\n"
     ]
    }
   ],
   "source": [
    "# 列表就是一列数字或者其他的值，一般用中括号[]表示\n",
    "# 比如 [1,2,3,4,5,6,7,8]\n",
    "\n",
    "list_one = [1,2,3,4,5,6,7,8,9,10]\n",
    "\n",
    "for shuzi in list_one:\n",
    "    print(shuzi)\n",
    "    print(shuzi + 100)\n",
    "    print(shuzi + 1000)"
   ]
  },
  {
   "cell_type": "code",
   "execution_count": 37,
   "metadata": {},
   "outputs": [
    {
     "name": "stdout",
     "output_type": "stream",
     "text": [
      "zhangsan\n",
      "lisi\n",
      "wangwu\n",
      "zhaoliu\n"
     ]
    }
   ],
   "source": [
    "# 例如    ['zhangsan','lisi','wangwu']\n",
    "\n",
    "# 打印学生列表姓名\n",
    "for name in ['zhangsan','lisi',\"wangwu\",'zhaoliu']:\n",
    "    print(name)"
   ]
  },
  {
   "cell_type": "code",
   "execution_count": 41,
   "metadata": {},
   "outputs": [
    {
     "name": "stdout",
     "output_type": "stream",
     "text": [
      "zhangsan\n",
      "不好意思再见来不及握手\n",
      "lisi\n",
      "不好意思再见来不及握手\n",
      "wangwu\n",
      "不好意思再见来不及握手\n",
      "zhaoliu\n",
      "zhaoliu是我的菜\n"
     ]
    }
   ],
   "source": [
    "# 打印学生列表姓名\n",
    "# 如果是zhaoliu，那肯定是我的菜\n",
    "# 如果是其他的，不好意思再见来不及握手\n",
    "for name in ['zhangsan','lisi','wangwu','zhaoliu']:\n",
    "    print(name)\n",
    "    if name == \"zhaoliu\":\n",
    "        print(\"{0}是我的菜\".format(name))\n",
    "    else:\n",
    "        print(\"不好意思再见来不及握手\")"
   ]
  },
  {
   "cell_type": "markdown",
   "metadata": {},
   "source": [
    "## range函数介绍\n",
    "- 生成一个有序数列\n",
    "- 具体范围可以设定\n",
    "- range的范围是包含左边数字单不包含右边数字（Python中表示范围的数字一般都是如此）\n",
    "- randint是特例，他左右两边都包含"
   ]
  },
  {
   "cell_type": "code",
   "execution_count": 2,
   "metadata": {},
   "outputs": [
    {
     "name": "stdout",
     "output_type": "stream",
     "text": [
      "1\n",
      "2\n",
      "3\n",
      "4\n",
      "5\n",
      "6\n",
      "7\n",
      "8\n",
      "9\n",
      "10\n"
     ]
    }
   ],
   "source": [
    "# 例如\n",
    "# 打印从1-10的数字\n",
    "# range的范围是包含左边数字单不包含右边数字\n",
    "# randint是特例，他左右两边都包含\n",
    "# range函数在python2 和python3 中严重区别（只考虑3）\n",
    "for I in range(1,11):# 注意右边数字要加一\n",
    "    print(I)"
   ]
  },
  {
   "cell_type": "markdown",
   "metadata": {},
   "source": [
    "## for-else语句\n",
    "- 当for循环结束的时候，会执行else语句\n",
    "- else语句可选择执行或不执行\n"
   ]
  },
  {
   "cell_type": "code",
   "execution_count": 50,
   "metadata": {},
   "outputs": [
    {
     "name": "stdout",
     "output_type": "stream",
     "text": [
      "zhangsan\n",
      "不好意思再见来不及握手\n",
      "lisi\n",
      "不好意思再见来不及握手\n",
      "wangwu\n",
      "不好意思再见来不及握手\n",
      "zhaoliu\n",
      "zhaoliu是我的菜\n",
      "别的我都不管啦\n"
     ]
    }
   ],
   "source": [
    "# for-else语句\n",
    "# 打印列表中的数字\n",
    "# 如果没有在列表中，或者列表结束了，我们需要打印提示语句，表示不再爱了\n",
    "\n",
    "# 打印学生列表姓名\n",
    "# 如果是zhaoliu，那肯定是我的菜\n",
    "# 如果是其他的，不好意思再见来不及握手\n",
    "for name in ['zhangsan','lisi','wangwu','zhaoliu']:\n",
    "    print(name)\n",
    "    if name == \"zhaoliu\":\n",
    "        print(\"{0}是我的菜\".format(name))\n",
    "    else:\n",
    "        print(\"不好意思再见来不及握手\")\n",
    "else:\n",
    "    print(\"别的我都不管啦\")"
   ]
  },
  {
   "cell_type": "markdown",
   "metadata": {},
   "source": [
    "## for循环之break，continue，pass\n",
    "- break：无条件结束整个循环，简称循环猝死\n",
    "- continue：无条件结束本次循环，从新进入下一轮循环\n",
    "- pass：表示略过,占个位置"
   ]
  },
  {
   "cell_type": "code",
   "execution_count": 15,
   "metadata": {},
   "outputs": [
    {
     "name": "stdout",
     "output_type": "stream",
     "text": [
      "34\n",
      "54\n",
      "67\n",
      "我找到7了\n"
     ]
    }
   ],
   "source": [
    "# 在一个数字队列中，寻找数字7，一旦找到一个，立刻打印出来，后面不管了\n",
    "\n",
    "dig_list = [34,54,67,7,69,449,88,12,31,35,7,28]\n",
    "\n",
    "for dig in dig_list:\n",
    "    if dig == 7:\n",
    "        print(\"我找到7了\")\n",
    "        break\n",
    "    else:\n",
    "        print(dig)\n"
   ]
  },
  {
   "cell_type": "code",
   "execution_count": 4,
   "metadata": {},
   "outputs": [
    {
     "name": "stdout",
     "output_type": "stream",
     "text": [
      "7\n"
     ]
    }
   ],
   "source": [
    "# 在数字1-10中，寻找数字7，一旦找到一个，立刻打印出来，后面不管了\n",
    "# for 循环中的变量表示，一般用i,k,m,n 或者indx，idx， item 之类\n",
    "# 在python中，如果循环变量名称不重要，可以用下划线（_）代替\n",
    "\n",
    "for i in range(1,11):\n",
    "    if i == 7:\n",
    "        print(i)\n",
    "        break"
   ]
  },
  {
   "cell_type": "code",
   "execution_count": 20,
   "metadata": {},
   "outputs": [
    {
     "name": "stdout",
     "output_type": "stream",
     "text": [
      "2你是偶数\n",
      "4你是偶数\n",
      "6你是偶数\n",
      "8你是偶数\n",
      "10你是偶数\n"
     ]
    }
   ],
   "source": [
    "# continue 语句联系 例子1\n",
    "# 在数字1-10中，寻找所有偶数，并打印偶数，其余什么都不做\n",
    "# 以下是2b青年写法\n",
    "\n",
    "for i in range(1,11):\n",
    "    if i % 2 == 0:\n",
    "        print(\"{0} 你是偶数\".format(i))\n",
    "        \n",
    "    else:\n",
    "        continue\n",
    "        "
   ]
  },
  {
   "cell_type": "code",
   "execution_count": 22,
   "metadata": {},
   "outputs": [
    {
     "name": "stdout",
     "output_type": "stream",
     "text": [
      "2 是偶数\n",
      "4 是偶数\n",
      "6 是偶数\n",
      "8 是偶数\n",
      "10 是偶数\n"
     ]
    }
   ],
   "source": [
    "# continue 语句 例子2\n",
    "# 在数字1-10中，寻找所有偶数，找到后打印偶数\n",
    "# 以下是正常人写法\n",
    "\n",
    "for i in range(1,11):\n",
    "    if i % 2 == 0:\n",
    "        print(\"{0} 是偶数\".format(i))"
   ]
  },
  {
   "cell_type": "code",
   "execution_count": 62,
   "metadata": {},
   "outputs": [
    {
     "name": "stdout",
     "output_type": "stream",
     "text": [
      "2 是偶数\n",
      "4 是偶数\n",
      "6 是偶数\n",
      "8 是偶数\n",
      "10 是偶数\n"
     ]
    }
   ],
   "source": [
    "# continue 语句 例子3\n",
    "# 在数字1-10中，寻找所有偶数，找到后打印偶数\n",
    "# 本案例完整显示continue的用法和作用\n",
    "# 以下是刘大拿的写法 !-_-!\n",
    "\n",
    "for i in range(1,11):\n",
    "    if i % 2 == 1:\n",
    "        continue\n",
    "        \n",
    "    print(\"{0} 是偶数\".format(i))"
   ]
  },
  {
   "cell_type": "code",
   "execution_count": 23,
   "metadata": {},
   "outputs": [
    {
     "name": "stdout",
     "output_type": "stream",
     "text": [
      "wudi\n",
      "wudi\n",
      "wudi\n",
      "wudi\n",
      "wudi\n",
      "wudi\n",
      "wudi\n",
      "wudi\n",
      "wudi\n",
      "wudi\n"
     ]
    }
   ],
   "source": [
    "# pass例子，一般用于占位\n",
    "# pass没有跳过功能\n",
    "\n",
    "for i in range(1,11):\n",
    "    pass\n",
    "    print(\"wudi\")"
   ]
  },
  {
   "cell_type": "code",
   "execution_count": 29,
   "metadata": {},
   "outputs": [
    {
     "name": "stdout",
     "output_type": "stream",
     "text": [
      "你还是不够稳\n"
     ]
    }
   ],
   "source": [
    "age = 17\n",
    "if age > 18:\n",
    "    pass\n",
    "else:\n",
    "    print(\"你还是不够稳\")"
   ]
  },
  {
   "cell_type": "code",
   "execution_count": 1,
   "metadata": {},
   "outputs": [
    {
     "ename": "IndentationError",
     "evalue": "expected an indented block (<ipython-input-1-126051222537>, line 4)",
     "output_type": "error",
     "traceback": [
      "\u001b[0;36m  File \u001b[0;32m\"<ipython-input-1-126051222537>\"\u001b[0;36m, line \u001b[0;32m4\u001b[0m\n\u001b[0;31m    else:\u001b[0m\n\u001b[0m       ^\u001b[0m\n\u001b[0;31mIndentationError\u001b[0m\u001b[0;31m:\u001b[0m expected an indented block\n"
     ]
    }
   ],
   "source": [
    "age = 17\n",
    "if age > 18:\n",
    "\n",
    "else:\n",
    "    print(\"你还是不够稳\")"
   ]
  }
 ],
 "metadata": {
  "kernelspec": {
   "display_name": "Python 3",
   "language": "python",
   "name": "python3"
  },
  "language_info": {
   "codemirror_mode": {
    "name": "ipython",
    "version": 3
   },
   "file_extension": ".py",
   "mimetype": "text/x-python",
   "name": "python",
   "nbconvert_exporter": "python",
   "pygments_lexer": "ipython3",
   "version": "3.6.3"
  }
 },
 "nbformat": 4,
 "nbformat_minor": 2
}
