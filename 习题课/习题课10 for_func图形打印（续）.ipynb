{
 "cells": [
  {
   "cell_type": "code",
   "execution_count": 64,
   "metadata": {},
   "outputs": [
    {
     "name": "stdout",
     "output_type": "stream",
     "text": [
      "     * \n",
      "    * * \n",
      "   *   * \n",
      "  *     * \n",
      " * * * * * \n",
      "\n",
      "\n",
      "# # # # # # # # # # # # # # # # # # # # # # # # # # # # # # # # # # # # # # # # \n",
      "\n",
      "\n",
      "    * \n",
      "   * * \n",
      "  * * * \n",
      " *     * \n",
      "*       * \n"
     ]
    }
   ],
   "source": []
  },
  {
   "cell_type": "code",
   "execution_count": 50,
   "metadata": {},
   "outputs": [
    {
     "name": "stdout",
     "output_type": "stream",
     "text": [
      "     * \n",
      "    * * \n",
      "   *   * \n",
      "  *     * \n",
      " *       * \n",
      " *       * \n",
      "  *     * \n",
      "   *   * \n",
      "    * * \n",
      "     * \n"
     ]
    }
   ],
   "source": [
    "# 空心菱形打印（实心更简单，这里就不重复啦）\n",
    "for i in range(0,5):\n",
    "    for k in range(0,5-i):\n",
    "        print(\" \", end=\"\")\n",
    "    for j in range(0,i+1):\n",
    "        if i == 0  or j == 0 or j == i:# 注意第五行不需要打印*，其余与上面完全一致 \n",
    "            print(\"*\", end=\" \")\n",
    "        else:\n",
    "            print(\" \", end=\" \")\n",
    "    print()\n",
    "\n",
    "for i in range(0,5):\n",
    "    for k in range(0,i+1):# 这里实际就是把上面的k和j相对于i的取值范围换了一下而已\n",
    "        print(\" \", end=\"\")\n",
    "    for j in range(0,5-i):\n",
    "        if i == 4 or j == 0 or j == 4-i:# 注意第一行不需要打印*,还有上面是j==i，这里是j==4-i，实际上就是j的右边取值范围（左包括右不包括，所以j的右边取值是+1的，实际运算的时候可没有加的，j还是0-4，所以你原来加上的给他减掉就好啦）-1就行了 \n",
    "            print(\"*\", end=\" \")\n",
    "        else:\n",
    "            print(\" \", end=\" \")\n",
    "    print()# 注意此时打印完后看着不顺眼，可以看到其实多了一行，去掉一行就行，去上面的行或下面的行都行"
   ]
  },
  {
   "cell_type": "code",
   "execution_count": 51,
   "metadata": {},
   "outputs": [
    {
     "name": "stdout",
     "output_type": "stream",
     "text": [
      "     * \n",
      "    * * \n",
      "   *   * \n",
      "  *     * \n",
      " *       * \n",
      "  *     * \n",
      "   *   * \n",
      "    * * \n",
      "     * \n"
     ]
    }
   ],
   "source": [
    "# 菱形1（正常人都用这个，下面那个2号方法尽量少用吧）\n",
    "for i in range(0,4):# 注意这里i的取值少了一行，只有四行。\n",
    "    for k in range(0,5-i):\n",
    "        print(\" \", end=\"\")\n",
    "    for j in range(0,i+1):\n",
    "        if i == 0  or j == 0 or j == i:\n",
    "            print(\"*\", end=\" \")\n",
    "        else:\n",
    "            print(\" \", end=\" \")\n",
    "    print()\n",
    "\n",
    "for i in range(0,5):\n",
    "    for k in range(0,i+1):\n",
    "        print(\" \", end=\"\")\n",
    "    for j in range(0,5-i):\n",
    "        if i == 4 or j == 0 or j == 4-i:\n",
    "            print(\"*\", end=\" \")\n",
    "        else:\n",
    "            print(\" \", end=\" \")\n",
    "    print()"
   ]
  },
  {
   "cell_type": "code",
   "execution_count": 69,
   "metadata": {},
   "outputs": [
    {
     "name": "stdout",
     "output_type": "stream",
     "text": [
      "     * \n",
      "    * * \n",
      "   *   * \n",
      "  *     * \n",
      " *       * \n",
      "  *     * \n",
      "   *   * \n",
      "    * * \n",
      "     * \n"
     ]
    }
   ],
   "source": [
    "# 菱形2\n",
    "for i in range(0,5):# 这回咱们上头行不变，变下头的（推荐平常还是用上面的把，好理解） \n",
    "    for k in range(0,5-i):\n",
    "        print(\" \", end=\"\")\n",
    "    for j in range(0,i+1):\n",
    "        if i == 0  or j == 0 or j == i:\n",
    "            print(\"*\", end=\" \")\n",
    "        else:\n",
    "            print(\" \", end=\" \")\n",
    "    print()\n",
    "\n",
    "for i in range(1,5):# 注意这里i的取值少了一行，i从1-5取值(至于为啥不是0-4，自己研究研究吧)，只有四行，与上面的菱形形状没啥区别。\n",
    "    for k in range(0,i+1):\n",
    "        print(\" \", end=\"\")\n",
    "    for j in range(0,5-i):\n",
    "        if i == 4 or j == 0 or j == 4-i:\n",
    "            print(\"*\", end=\" \")\n",
    "        else:\n",
    "            print(\" \", end=\" \")\n",
    "    print()"
   ]
  },
  {
   "cell_type": "code",
   "execution_count": 73,
   "metadata": {},
   "outputs": [
    {
     "name": "stdout",
     "output_type": "stream",
     "text": [
      "     * * * * \n",
      "    *       * \n",
      "   *         * \n",
      "  *           * \n",
      " * * * * * * * * \n"
     ]
    }
   ],
   "source": [
    "# 打印梯形(行数不变)（实心的略）\n",
    "for i in range(0,5):\n",
    "    for k in range(0,5-i):\n",
    "        print(end=\" \")\n",
    "    for j in range(0,i+4):# 就这里j的取值范围多加3个数，下面j的取值也还是-1就行，其他完全没变，梯形就出来啦\n",
    "        if i == 0 or i == 4 or j == 0 or j == i+3:\n",
    "            print(\"*\", end=\" \")\n",
    "        else:\n",
    "            print(\" \", end=\" \")\n",
    "    print()"
   ]
  },
  {
   "cell_type": "code",
   "execution_count": 86,
   "metadata": {},
   "outputs": [
    {
     "name": "stdout",
     "output_type": "stream",
     "text": [
      "        * \n",
      "       * * \n",
      "      *   * \n",
      "     *     * \n",
      "    * * * * * \n",
      "   *         * \n",
      "  *           * \n",
      " *             * \n"
     ]
    }
   ],
   "source": [
    "# 打印梯形(改变行，由于列会随着行的改变而改变，所以没有上面直接改列数的好改)（实心的略）\n",
    "for i in range(0,8): # 加了3行\n",
    "    for k in range(0,8-i): # 空格也要加，不然对不准(嘻嘻)\n",
    "        print(end=\" \")\n",
    "    for j in range(0,i+1):\n",
    "        if i == 0 or i == 4 or j == 0 or j == i:\n",
    "            print(\"*\", end=\" \")\n",
    "        else:\n",
    "            print(\" \", end=\" \")\n",
    "    print() # 可以看到下面先打出一个A，我们需要先补住最底下的"
   ]
  },
  {
   "cell_type": "code",
   "execution_count": 87,
   "metadata": {},
   "outputs": [
    {
     "name": "stdout",
     "output_type": "stream",
     "text": [
      "        * \n",
      "       * * \n",
      "      *   * \n",
      "     *     * \n",
      "    * * * * * \n",
      "   *         * \n",
      "  *           * \n",
      " * * * * * * * * \n"
     ]
    }
   ],
   "source": [
    "# 打印梯形(改变行，由于列会随着行的改变而改变，所以没有上面直接改列数的好改)（实心的略）\n",
    "for i in range(0,8): \n",
    "    for k in range(0,8-i): \n",
    "        print(end=\" \")\n",
    "    for j in range(0,i+1):\n",
    "        if i == 7 or i == 4 or j == 0 or j == i:# 这里把i==0换成了i==7\n",
    "            print(\"*\", end=\" \")\n",
    "        else:\n",
    "            print(\" \", end=\" \")\n",
    "    print() # 如下图，接下来要给上面的几行星号去掉"
   ]
  },
  {
   "cell_type": "code",
   "execution_count": 89,
   "metadata": {},
   "outputs": [
    {
     "name": "stdout",
     "output_type": "stream",
     "text": [
      "          \n",
      "           \n",
      "            \n",
      "             \n",
      "    * * * * * \n",
      "   *         * \n",
      "  *           * \n",
      " * * * * * * * * \n"
     ]
    }
   ],
   "source": [
    "# 打印梯形(改变行，由于列会随着行的改变而改变，所以没有上面直接改列数的好改)（实心的略）\n",
    "for i in range(0,8): \n",
    "    for k in range(0,8-i): \n",
    "        print(end=\" \")\n",
    "    for j in range(0,i+1):\n",
    "        if i == 0 or i == 1 or i == 2 or i == 3:# 这里首先对最上面的四行进行了空白打印\n",
    "            print(\" \", end=\" \")\n",
    "        elif i == 7 or i == 4 or j == 0 or j == i:# 最上面的四行先解决之后，再打印下面的就完全没的问题啦，这里取值的方法有许多种，不在一一赘述啦\n",
    "            print(\"*\", end=\" \")\n",
    "        else:\n",
    "            print(\" \", end=\" \")\n",
    "    print() # 如下图，接下来要给上面的几行去掉"
   ]
  },
  {
   "cell_type": "code",
   "execution_count": 102,
   "metadata": {},
   "outputs": [
    {
     "name": "stdout",
     "output_type": "stream",
     "text": [
      "* * * * * \n",
      "* * * * * \n",
      "* * * * * \n",
      "* * * * * \n",
      "* * * * * \n",
      "* * * * * \n",
      "*       * \n",
      "*       * \n",
      "*       * \n",
      "* * * * * \n",
      "* \n",
      "* * \n",
      "* * * \n",
      "* * * * \n",
      "* * * * * \n",
      "* \n",
      "* * \n",
      "*   * \n",
      "*     * \n",
      "* * * * * \n"
     ]
    }
   ],
   "source": [
    "# 函数分割\n",
    "# 实心正方形\n",
    "def s_zfx():\n",
    "    for i in range(5):\n",
    "        for j in range(5):\n",
    "            print(\"*\",end=\" \")\n",
    "        print()\n",
    "        \n",
    "s_zfx()\n",
    "\n",
    "# 空心正方形\n",
    "def k_zfx():\n",
    "    for i in range(5):\n",
    "        for j in range(5):\n",
    "            if i == 0 or i == 4 or j == 0 or j == 4: \n",
    "                print(\"*\",end=\" \")\n",
    "            else:\n",
    "                print(\" \",end=\" \")\n",
    "        print()\n",
    "        \n",
    "k_zfx()\n",
    "# 正直角三角形\n",
    "def s_sjx():\n",
    "    for i in range(5):\n",
    "        for j in range(i+1):\n",
    "            print(\"*\", end=\" \")\n",
    "        print()\n",
    "        \n",
    "s_sjx()\n",
    "# 正空心直角三角形        \n",
    "def k_sjx():\n",
    "    for i in range(5):\n",
    "        for j in range(i+1):\n",
    "            if i == 0 or i == 4 or j == 0 or j == i: \n",
    "                print(\"*\",end=\" \")\n",
    "            else:\n",
    "                print(\" \",end=\" \")\n",
    "        print()\n",
    "        \n",
    "k_sjx()"
   ]
  },
  {
   "cell_type": "code",
   "execution_count": 108,
   "metadata": {},
   "outputs": [
    {
     "name": "stdout",
     "output_type": "stream",
     "text": [
      "请输入实心正方形或空心正方形或实心直角三角形或空心直角三角形:fdsa\n",
      "输入错误\n",
      "请输入实心正方形或空心正方形或实心直角三角形或空心直角三角形:ds\n",
      "输入错误\n",
      "请输入实心正方形或空心正方形或实心直角三角形或空心直角三角形:dsds\n",
      "输入错误\n",
      "次数用尽啦\n"
     ]
    }
   ],
   "source": [
    "# 封装\n",
    "for i in range(3):\n",
    "    shape = input(\"请输入实心正方形或空心正方形或实心直角三角形或空心直角三角形:\")\n",
    "    if shape == \"实心正方形\":\n",
    "        s_zfx()\n",
    "    elif shape == \"空心正方形\":\n",
    "        k_zfx()\n",
    "    elif shape == \"实行直角三角形\":\n",
    "        s_sjx()\n",
    "    elif shape == \"空心直角三角形\":\n",
    "        k_sjx()\n",
    "    else:\n",
    "        print(\"输入错误\")\n",
    "print(\"次数用尽啦\")\n"
   ]
  },
  {
   "cell_type": "code",
   "execution_count": 109,
   "metadata": {},
   "outputs": [
    {
     "name": "stdout",
     "output_type": "stream",
     "text": [
      "     * \n",
      "    * * \n",
      "   *   * \n",
      "  *     * \n",
      " * * * * * \n",
      "\n",
      "\n",
      "# # # # # # # # # # # # # # # # # # # # # # # # # # # # # # # # # # # # # # # # \n",
      "\n",
      "\n",
      "    * \n",
      "   * * \n",
      "  * * * \n",
      " *     * \n",
      "*       * \n"
     ]
    }
   ],
   "source": [
    "# 打印字母A\n",
    "# 首先复习一下前两天的学的空三角的打法，代码如下：(老实说还是有点忘了，还是学的不扎实，再过一遍没坏处)\n",
    "for i in range(0,5):\n",
    "    for k in range(0,5-i):# 其实这里4-i也是可以的，+1是为了把图形整体往右挪挪，+的越多，挪的越多，太多了会死机\n",
    "        print(\" \", end=\"\")\n",
    "    for j in range(0,i+1):\n",
    "        if i == 0 or i == 4 or j == 0 or j == i:\n",
    "            print(\"*\", end=\" \")\n",
    "        else:\n",
    "            print(\" \", end=\" \")\n",
    "    print()\n",
    "    \n",
    "# 然后考虑A是不是只需要把最后一行中间的星号去掉，再在第三行打满星号，竖向(列)两边保持不变就可以啦，所以第五行即i==4咱不要啦，换成第三行i==2是不是就行啦\n",
    "print()\n",
    "print()\n",
    "print(\"# \" * 40)\n",
    "print()\n",
    "print()\n",
    "for i in range(0,5):\n",
    "    for k in range(0,4-i):# 4-i也可以，但最多到4-i还能保证图形不崩坏，只是最后一行完全顶住左边框了，这里就不多逼逼啦\n",
    "        print(\" \", end=\"\")\n",
    "    for j in range(0,i+1):\n",
    "        if i == 0 or i == 2 or j == 0 or j == i:# 就是把i==4换成了i==2，别的都不带变的\n",
    "            print(\"*\", end=\" \")\n",
    "        else:\n",
    "            print(\" \", end=\" \")\n",
    "    print()                     # 实际上也没有什么难度大"
   ]
  },
  {
   "cell_type": "code",
   "execution_count": 119,
   "metadata": {},
   "outputs": [
    {
     "name": "stdout",
     "output_type": "stream",
     "text": [
      "* *   \n",
      "*   * \n",
      "*   * \n",
      "* *   \n"
     ]
    }
   ],
   "source": [
    "# 打印字母D \n",
    "for i in range(4):\n",
    "    for j in range(3):\n",
    "        if j == 0 or (j == 1 and (i == 0 or i == 3)) or (j == 2 and (i == 1 or i == 2)):# 理解万岁(and且 or或 注意括号位置)\n",
    "            print(\"*\", end=\" \")\n",
    "        else:\n",
    "            print(\" \", end=\" \")\n",
    "    print()"
   ]
  },
  {
   "cell_type": "code",
   "execution_count": 154,
   "metadata": {
    "scrolled": true
   },
   "outputs": [
    {
     "name": "stdout",
     "output_type": "stream",
     "text": [
      "* *   \n",
      "*   * \n",
      "*   * \n",
      "* *   \n",
      "*   * \n",
      "*   * \n",
      "* *   \n"
     ]
    }
   ],
   "source": [
    "# 打印字母B\n",
    "for i in range(3):# 这里改成3啦，就是只打三行\n",
    "    for j in range(3):\n",
    "        if j == 0 or j == 1 and (i == 0 or i == 3) or j == 2 and (i == 1 or i == 2):# 理解万岁\n",
    "            print(\"*\", end=\" \")\n",
    "        else:\n",
    "            print(\" \", end=\" \")\n",
    "    print()\n",
    "for i in range(4):\n",
    "    for j in range(3):\n",
    "        if j == 0 or j == 1 and (i == 0 or i == 3) or j == 2 and (i == 1 or i == 2):# 理解万岁\n",
    "            print(\"*\", end=\" \")\n",
    "        else:\n",
    "            print(\" \", end=\" \")\n",
    "    print()"
   ]
  },
  {
   "cell_type": "code",
   "execution_count": 173,
   "metadata": {},
   "outputs": [
    {
     "name": "stdout",
     "output_type": "stream",
     "text": [
      "  * *   \n",
      "*     * \n",
      "*       \n",
      "*       \n",
      "*     * \n",
      "  * *   \n"
     ]
    }
   ],
   "source": [
    "# 打印字母C\n",
    "for i in range(6):\n",
    "    for j in range(4):\n",
    "        if j == 0 and (i != 0 and i != 5) or j == 1 and (i == 0 or i == 5) or j == 2 and (i == 0 or i == 5) or \\\n",
    "        j == 3 and (i == 4 or i == 1):\n",
    "            print(\"*\", end=\" \")\n",
    "        else:\n",
    "            print(\" \", end=\" \")\n",
    "            \n",
    "    print()"
   ]
  },
  {
   "cell_type": "code",
   "execution_count": 176,
   "metadata": {},
   "outputs": [
    {
     "name": "stdout",
     "output_type": "stream",
     "text": [
      "* * * \n",
      "*     \n",
      "* * * \n",
      "*     \n",
      "* * * \n"
     ]
    }
   ],
   "source": [
    "# 打印字母E\n",
    "for i in range(5):\n",
    "    for j in range(3):\n",
    "        if j == 0 or i == 0 or i == 2 or i == 4:\n",
    "            print(\"*\", end=\" \")\n",
    "        else:\n",
    "            print(\" \", end=\" \")\n",
    "            \n",
    "    print()"
   ]
  },
  {
   "cell_type": "code",
   "execution_count": 181,
   "metadata": {},
   "outputs": [
    {
     "name": "stdout",
     "output_type": "stream",
     "text": [
      "* * * * \n",
      "*       \n",
      "* * *   \n",
      "*       \n",
      "*       \n"
     ]
    }
   ],
   "source": [
    "# 打印字母F\n",
    "for i in range(5):\n",
    "    for j in range(4):\n",
    "        if j == 0 or i == 0 or i == 2 and j != 3:\n",
    "            print(\"*\", end=\" \")\n",
    "        else:\n",
    "            print(\" \", end=\" \")\n",
    "            \n",
    "    print()"
   ]
  },
  {
   "cell_type": "code",
   "execution_count": 184,
   "metadata": {},
   "outputs": [
    {
     "name": "stdout",
     "output_type": "stream",
     "text": [
      "  * *   \n",
      "*     * \n",
      "*       \n",
      "*   * * \n",
      "*     * \n",
      "  * *   \n"
     ]
    }
   ],
   "source": [
    "# 打印字母G\n",
    "for i in range(6):\n",
    "    for j in range(4):\n",
    "        if j == 0 and (i != 0 and i != 5) or j == 1 and (i == 0 or i == 5) or j == 2 and \\\n",
    "        (i == 0 or i == 5 or i == 3) or j == 3 and (i == 4 or i == 1 or i == 3):\n",
    "            print(\"*\", end=\" \")\n",
    "        else:\n",
    "            print(\" \", end=\" \")\n",
    "            \n",
    "    print()"
   ]
  },
  {
   "cell_type": "code",
   "execution_count": 187,
   "metadata": {},
   "outputs": [
    {
     "name": "stdout",
     "output_type": "stream",
     "text": [
      "*     * \n",
      "*     * \n",
      "* * * * \n",
      "*     * \n",
      "*     * \n"
     ]
    }
   ],
   "source": [
    "# 打印字母H\n",
    "for i in range(5):\n",
    "    for j in range(4):\n",
    "        if j == 0 or j == 3 or i == 2: \n",
    "            print(\"*\", end=\" \")\n",
    "        else:\n",
    "            print(\" \", end=\" \")\n",
    "            \n",
    "    print()"
   ]
  },
  {
   "cell_type": "code",
   "execution_count": 192,
   "metadata": {},
   "outputs": [
    {
     "name": "stdout",
     "output_type": "stream",
     "text": [
      "  * * *   \n",
      "    *     \n",
      "    *     \n",
      "    *     \n",
      "    *     \n",
      "    *     \n",
      "    *     \n",
      "  * * *   \n"
     ]
    }
   ],
   "source": [
    "# 打印字母I\n",
    "for i in range(8):\n",
    "    for j in range(5):\n",
    "        if j == 2 or j == 1 and (i == 0 or i == 7) or j == 3 and (i == 0 or i == 7): \n",
    "            print(\"*\", end=\" \")\n",
    "        else:\n",
    "            print(\" \", end=\" \")\n",
    "            \n",
    "    print()"
   ]
  },
  {
   "cell_type": "code",
   "execution_count": 199,
   "metadata": {},
   "outputs": [
    {
     "name": "stdout",
     "output_type": "stream",
     "text": [
      "      * \n",
      "      * \n",
      "      * \n",
      "      * \n",
      "*     * \n",
      "  * *   \n"
     ]
    }
   ],
   "source": [
    "# 打印字母J\n",
    "for i in range(6):\n",
    "    for j in range(4):\n",
    "        if j == 0 and (i == 4) or j == 1 and i == 5 or j == 2 and i == 5 or j == 3 and i != 5:\n",
    "            print(\"*\", end=\" \")\n",
    "        else:\n",
    "            print(\" \", end=\" \")\n",
    "            \n",
    "    print()"
   ]
  },
  {
   "cell_type": "code",
   "execution_count": 207,
   "metadata": {},
   "outputs": [
    {
     "name": "stdout",
     "output_type": "stream",
     "text": [
      "*     * \n",
      "*   *   \n",
      "* *     \n",
      "*       \n",
      "* *     \n",
      "*   *   \n",
      "*     * \n"
     ]
    }
   ],
   "source": [
    "# 打印字母K\n",
    "for i in range(7):\n",
    "    for j in range(4):\n",
    "        if j == 0 or j == 1 and (i == 2 or i == 4) or j == 2 and (i == 1 or i == 5) or \\\n",
    "        j == 3 and (i == 0 or i == 6) : \n",
    "            print(\"*\", end=\" \")\n",
    "        else:\n",
    "            print(\" \", end=\" \")\n",
    "            \n",
    "    print()"
   ]
  },
  {
   "cell_type": "code",
   "execution_count": 209,
   "metadata": {},
   "outputs": [
    {
     "name": "stdout",
     "output_type": "stream",
     "text": [
      "*       \n",
      "*       \n",
      "*       \n",
      "*       \n",
      "*       \n",
      "*       \n",
      "* * * * \n"
     ]
    }
   ],
   "source": [
    "# 打印字母L\n",
    "for i in range(7):\n",
    "    for j in range(4):\n",
    "        if j == 0 or i == 6: \n",
    "            print(\"*\", end=\" \")\n",
    "        else:\n",
    "            print(\" \", end=\" \")\n",
    "            \n",
    "    print()"
   ]
  },
  {
   "cell_type": "code",
   "execution_count": 222,
   "metadata": {},
   "outputs": [
    {
     "name": "stdout",
     "output_type": "stream",
     "text": [
      "*           * \n",
      "              \n",
      "* *       * * \n",
      "              \n",
      "*   *   *   * \n",
      "              \n",
      "*     *     * \n"
     ]
    }
   ],
   "source": [
    "# 打印字母M\n",
    "for i in range(7):\n",
    "    for j in range(7):\n",
    "        if j == 0 and (i != 1 and i != 3 and i != 5) or j == 1 and i == 2 or j == 2 and i == 4 or j == 3 and i == 6 \\\n",
    "        or j == 4 and i == 4 or j == 5 and i == 2 or j == 6 and (i != 1 and i != 3 and i != 5): \n",
    "            print(\"*\", end=\" \")\n",
    "        else:\n",
    "            print(\" \", end=\" \")\n",
    "            \n",
    "    print()"
   ]
  },
  {
   "cell_type": "code",
   "execution_count": 224,
   "metadata": {},
   "outputs": [
    {
     "name": "stdout",
     "output_type": "stream",
     "text": [
      "*     * \n",
      "* *   * \n",
      "*   * * \n",
      "*     * \n"
     ]
    }
   ],
   "source": [
    "# 打印字母N\n",
    "for i in range(4):\n",
    "    for j in range(4):\n",
    "        if j == 0 or j == 1 and i == 1 or j == 2 and i == 2 or j == 3:\n",
    "            print(\"*\", end=\" \")\n",
    "        else:\n",
    "            print(\" \", end=\" \")\n",
    "            \n",
    "    print()"
   ]
  },
  {
   "cell_type": "code",
   "execution_count": 226,
   "metadata": {},
   "outputs": [
    {
     "name": "stdout",
     "output_type": "stream",
     "text": [
      "  * *   \n",
      "*     * \n",
      "*     * \n",
      "*     * \n",
      "*     * \n",
      "  * *   \n"
     ]
    }
   ],
   "source": [
    "# 打印字母O\n",
    "for i in range(6):\n",
    "    for j in range(4):\n",
    "        if j == 0 and (i != 0 and i != 5) or j == 1 and (i == 0 or i == 5) or j == 2 and \\\n",
    "        (i == 0 or i == 5) or j == 3 and (i != 0 and i != 5):\n",
    "            print(\"*\", end=\" \")\n",
    "        else:\n",
    "            print(\" \", end=\" \")\n",
    "            \n",
    "    print()"
   ]
  },
  {
   "cell_type": "code",
   "execution_count": 231,
   "metadata": {},
   "outputs": [
    {
     "name": "stdout",
     "output_type": "stream",
     "text": [
      "* *     \n",
      "*   *   \n",
      "*   *   \n",
      "* *     \n",
      "*       \n",
      "*       \n",
      "*       \n"
     ]
    }
   ],
   "source": [
    "# 打印字母p\n",
    "for i in range(7):\n",
    "    for j in range(4):\n",
    "        if j == 0 or j == 1 and (i == 0 or i == 3) or j == 2 and (i == 1 or i == 2):\n",
    "            print(\"*\", end=\" \")\n",
    "        else:\n",
    "            print(\" \", end=\" \")\n",
    "            \n",
    "    print()"
   ]
  },
  {
   "cell_type": "code",
   "execution_count": 240,
   "metadata": {},
   "outputs": [
    {
     "name": "stdout",
     "output_type": "stream",
     "text": [
      "  * *     \n",
      "*     *   \n",
      "*     *   \n",
      "*   * *   \n",
      "*     *   \n",
      "  * *   * \n"
     ]
    }
   ],
   "source": [
    "# 打印字母Q\n",
    "for i in range(6):\n",
    "    for j in range(5):\n",
    "        if j == 0 and (i != 0 and i != 5) or j == 1 and (i == 0 or i == 5) or j == 2 and \\\n",
    "        (i == 0 or i == 5 or i == 3) or j == 3 and (i != 0 and i != 5) or j == 4 and i == 5:\n",
    "            print(\"*\", end=\" \")\n",
    "        else:\n",
    "            print(\" \", end=\" \")\n",
    "            \n",
    "    print()"
   ]
  },
  {
   "cell_type": "code",
   "execution_count": 245,
   "metadata": {},
   "outputs": [
    {
     "name": "stdout",
     "output_type": "stream",
     "text": [
      "* *     \n",
      "*   *   \n",
      "*   *   \n",
      "* *     \n",
      "*   *   \n",
      "*     * \n"
     ]
    }
   ],
   "source": [
    "# 打印字母R\n",
    "for i in range(6):\n",
    "    for j in range(4):\n",
    "        if j == 0 or j == 1 and (i == 0 or i == 3) or j == 2 and (i == 1 or i == 2 or i == 4) or \\\n",
    "        j == 3 and  i == 5:\n",
    "            print(\"*\", end=\" \")\n",
    "        else:\n",
    "            print(\" \", end=\" \")\n",
    "            \n",
    "    print()"
   ]
  },
  {
   "cell_type": "code",
   "execution_count": 251,
   "metadata": {},
   "outputs": [
    {
     "name": "stdout",
     "output_type": "stream",
     "text": [
      "  * *     \n",
      "*     *   \n",
      "  *       \n",
      "    *     \n",
      "*     *   \n",
      "  * *     \n"
     ]
    }
   ],
   "source": [
    "# 打印字母S\n",
    "for i in range(6):\n",
    "    for j in range(5):\n",
    "        if j == 0 and (i == 1 or i == 4) or j == 1 and (i == 0 or i == 2 or i == 5) or j == 2 and \\\n",
    "        (i == 0 or i == 5 or i == 3) or j == 3 and (i == 1 or i == 4):\n",
    "            print(\"*\", end=\" \")\n",
    "        else:\n",
    "            print(\" \", end=\" \")\n",
    "            \n",
    "    print()"
   ]
  },
  {
   "cell_type": "code",
   "execution_count": 244,
   "metadata": {},
   "outputs": [
    {
     "name": "stdout",
     "output_type": "stream",
     "text": [
      "* * * * * \n",
      "    *     \n",
      "    *     \n",
      "    *     \n",
      "    *     \n",
      "    *     \n"
     ]
    }
   ],
   "source": [
    "# 打印字母T\n",
    "for i in range(6):\n",
    "    for j in range(5):\n",
    "        if j == 2 or i == 0: \n",
    "            print(\"*\", end=\" \")\n",
    "        else:\n",
    "            print(\" \", end=\" \")\n",
    "            \n",
    "    print()"
   ]
  },
  {
   "cell_type": "code",
   "execution_count": 254,
   "metadata": {},
   "outputs": [
    {
     "name": "stdout",
     "output_type": "stream",
     "text": [
      "*       * \n",
      "*       * \n",
      "*       * \n",
      "*       * \n",
      "*       * \n",
      "  * * *   \n"
     ]
    }
   ],
   "source": [
    "# 打印字母U\n",
    "for i in range(6):\n",
    "    for j in range(5):\n",
    "        if j == 0 and i != 5 or j == 1 and i == 5 or j == 2 and i == 5 or j == 3 and i == 5 or j == 4 and i != 5: \n",
    "            print(\"*\", end=\" \")\n",
    "        else:\n",
    "            print(\" \", end=\" \")\n",
    "            \n",
    "    print()"
   ]
  },
  {
   "cell_type": "code",
   "execution_count": 259,
   "metadata": {},
   "outputs": [
    {
     "name": "stdout",
     "output_type": "stream",
     "text": [
      "*       * \n",
      "          \n",
      "  *   *   \n",
      "          \n",
      "    *     \n"
     ]
    }
   ],
   "source": [
    "# 打印字母V\n",
    "for i in range(5):\n",
    "    for j in range(5):\n",
    "        if j == 0 and i == 0 or j == 1 and i == 2 or j == 2 and i == 4 or j == 3 and i == 2 or j == 4 and i == 0: \n",
    "            print(\"*\", end=\" \")\n",
    "        else:\n",
    "            print(\" \", end=\" \")\n",
    "            \n",
    "    print()"
   ]
  },
  {
   "cell_type": "code",
   "execution_count": 262,
   "metadata": {},
   "outputs": [
    {
     "name": "stdout",
     "output_type": "stream",
     "text": [
      "*       *       * \n",
      "                  \n",
      "  *   *   *   *   \n",
      "                  \n",
      "    *       *     \n"
     ]
    }
   ],
   "source": [
    "# 打印字母W\n",
    "for i in range(5):\n",
    "    for j in range(9):\n",
    "        if j == 0 and i == 0 or j == 1 and i == 2 or j == 2 and i == 4 or j == 3 and i == 2 or j == 4 and i == 0 \\\n",
    "        or j == 5 and i == 2 or j == 6 and i == 4 or j == 7 and i == 2 or j == 8 and i == 0: \n",
    "            print(\"*\", end=\" \")\n",
    "        else:\n",
    "            print(\" \", end=\" \")\n",
    "            \n",
    "    print()"
   ]
  },
  {
   "cell_type": "code",
   "execution_count": 272,
   "metadata": {},
   "outputs": [
    {
     "name": "stdout",
     "output_type": "stream",
     "text": [
      "*           * \n",
      "  *       *   \n",
      "    *   *     \n",
      "      *       \n",
      "    *   *     \n",
      "  *       *   \n",
      "*           * \n"
     ]
    }
   ],
   "source": [
    "# 打印字母X\n",
    "for i in range(7):\n",
    "    for j in range(7):\n",
    "        if j == 0 and (i == 0 or i == 6) or j == 1 and (i == 1 or i == 5) or j == 2 and (i == 2 or i == 4) or \\\n",
    "        j == 3 and i == 3 or j == 4 and (i == 2 or i == 4) or j == 5 and (i == 1 or i == 5) \\\n",
    "        or j == 6 and (i == 0 or i == 6): \n",
    "            print(\"*\", end=\" \")\n",
    "        else:\n",
    "            print(\" \", end=\" \")\n",
    "            \n",
    "    print()"
   ]
  },
  {
   "cell_type": "code",
   "execution_count": 276,
   "metadata": {},
   "outputs": [
    {
     "name": "stdout",
     "output_type": "stream",
     "text": [
      "*           * \n",
      "  *       *   \n",
      "    *   *     \n",
      "      *       \n",
      "      *       \n",
      "      *       \n",
      "      *       \n"
     ]
    }
   ],
   "source": [
    "# 打印字母Y\n",
    "for i in range(7):\n",
    "    for j in range(7):\n",
    "        if j == 0 and i == 0 or j == 1 and i == 1 or j == 2 and i == 2 or j == 3 and (i != 0 and i != 1 and i != 2) \\\n",
    "        or j == 4 and i == 2 or j == 5 and i == 1 or j == 6 and i == 0: \n",
    "            print(\"*\", end=\" \")\n",
    "        else:\n",
    "            print(\" \", end=\" \")\n",
    "            \n",
    "    print()"
   ]
  },
  {
   "cell_type": "code",
   "execution_count": 281,
   "metadata": {},
   "outputs": [
    {
     "name": "stdout",
     "output_type": "stream",
     "text": [
      "* * * * * * * \n",
      "          *   \n",
      "        *     \n",
      "      *       \n",
      "    *         \n",
      "  *           \n",
      "* * * * * * * \n"
     ]
    }
   ],
   "source": [
    "# 打印字母Z\n",
    "for i in range(7):\n",
    "    for j in range(7):\n",
    "        if i == 0 or i == 6 and (i == 0 or i == 6) or j == 1 and i == 5 or j == 2 and i == 4 or \\\n",
    "        j == 3 and i == 3 or j == 4 and i == 2 or j == 5 and i == 1 or j == 6 and (i == 0 or i == 6): \n",
    "            print(\"*\", end=\" \")\n",
    "        else:\n",
    "            print(\" \", end=\" \")\n",
    "            \n",
    "    print()"
   ]
  }
 ],
 "metadata": {
  "kernelspec": {
   "display_name": "Python 3",
   "language": "python",
   "name": "python3"
  },
  "language_info": {
   "codemirror_mode": {
    "name": "ipython",
    "version": 3
   },
   "file_extension": ".py",
   "mimetype": "text/x-python",
   "name": "python",
   "nbconvert_exporter": "python",
   "pygments_lexer": "ipython3",
   "version": "3.6.3"
  }
 },
 "nbformat": 4,
 "nbformat_minor": 2
}
