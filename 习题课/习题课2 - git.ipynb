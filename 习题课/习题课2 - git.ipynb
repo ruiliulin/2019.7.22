{
 "cells": [
  {
   "cell_type": "markdown",
   "metadata": {},
   "source": [
    "# GIT 安装\n",
    "- 官网：https://git-scm.com/downloads\n",
    "- windows：下载后双击安装\n",
    "- Linux：原则上可以从官网直接下载安装\n",
    "- MacOS：官网下载dmg安装文件，双击\n"
   ]
  },
  {
   "cell_type": "markdown",
   "metadata": {},
   "source": [
    "# GIT 基本使用\n",
    "- 创建用户（github用户）：git config --global user.name\"github用户名\"；；；git config --global user.email\"github邮件\"\n",
    "- 创建仓库命令 ： git init\n",
    "- git add：向暂存区添加内容\n",
    "- git commit -m \"message for desc\"：向仓库提交内容，一般注释信息要求强制添加\n",
    "- git status：显示git当前状态\n",
    "- git rm：删除信息\n",
    "- git log：查看日志\n",
    "- git rset --hard (仓库编号)\n",
    "\n"
   ]
  },
  {
   "cell_type": "markdown",
   "metadata": {},
   "source": [
    "# Github and Bitbuckets\n",
    "- github:注册，创建项目/仓库，推送\n",
    "- bitbucket：私有, 用法类似\n",
    "    - clone习题课git仓库到本地：git clone https://Augsnano@bitbucket.org/Augsnano/e_tulingxueyuan.git\n",
    "    "
   ]
  }
 ],
 "metadata": {
  "kernelspec": {
   "display_name": "Python 3",
   "language": "python",
   "name": "python3"
  },
  "language_info": {
   "codemirror_mode": {
    "name": "ipython",
    "version": 3
   },
   "file_extension": ".py",
   "mimetype": "text/x-python",
   "name": "python",
   "nbconvert_exporter": "python",
   "pygments_lexer": "ipython3",
   "version": "3.6.3"
  }
 },
 "nbformat": 4,
 "nbformat_minor": 2
}
