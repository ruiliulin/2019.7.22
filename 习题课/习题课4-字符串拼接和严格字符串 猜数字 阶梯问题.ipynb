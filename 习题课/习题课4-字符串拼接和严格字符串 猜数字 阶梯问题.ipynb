{
 "cells": [
  {
   "cell_type": "markdown",
   "metadata": {},
   "source": [
    "# BIF内建函数\n",
    "- 68个\n",
    "- \"TUling\"和\"tuling\"不一样"
   ]
  },
  {
   "cell_type": "code",
   "execution_count": 1,
   "metadata": {},
   "outputs": [
    {
     "data": {
      "text/plain": [
       "False"
      ]
     },
     "execution_count": 1,
     "metadata": {},
     "output_type": "execute_result"
    }
   ],
   "source": [
    "\"C\" == \"c\"\n"
   ]
  },
  {
   "cell_type": "code",
   "execution_count": 2,
   "metadata": {},
   "outputs": [
    {
     "data": {
      "text/plain": [
       "False"
      ]
     },
     "execution_count": 2,
     "metadata": {},
     "output_type": "execute_result"
    }
   ],
   "source": [
    "\"李四\" == \"李4\""
   ]
  },
  {
   "cell_type": "markdown",
   "metadata": {},
   "source": [
    "# '='和‘==’的运用与区别\n",
    "- '='是用来赋值的\n",
    "- '=='是用来判断两个对象是否相等的"
   ]
  },
  {
   "cell_type": "code",
   "execution_count": 5,
   "metadata": {},
   "outputs": [
    {
     "name": "stdout",
     "output_type": "stream",
     "text": [
      "1\n"
     ]
    }
   ],
   "source": [
    "a = 1\n",
    "print(a)"
   ]
  },
  {
   "cell_type": "markdown",
   "metadata": {},
   "source": [
    "# 字符串拼接\n",
    "- 采用加号 “+” 拼接"
   ]
  },
  {
   "cell_type": "code",
   "execution_count": 4,
   "metadata": {},
   "outputs": [
    {
     "data": {
      "text/plain": [
       "'我喜欢王二小姐姐王二小姐姐也喜欢我'"
      ]
     },
     "execution_count": 4,
     "metadata": {},
     "output_type": "execute_result"
    }
   ],
   "source": [
    "\"我喜欢\" + \"王二小姐姐\" + \"王二小姐姐也喜欢我\""
   ]
  },
  {
   "cell_type": "markdown",
   "metadata": {},
   "source": [
    "#### 编写程序，要求用户输入姓名并且打印“你好，姓名”"
   ]
  },
  {
   "cell_type": "code",
   "execution_count": 1,
   "metadata": {},
   "outputs": [
    {
     "name": "stdout",
     "output_type": "stream",
     "text": [
      "请输入你的姓名dsa\n",
      "你好，dsa\n"
     ]
    }
   ],
   "source": [
    "name = input(\"请输入你的姓名\")\n",
    "print(\"你好，\" + name)\n"
   ]
  },
  {
   "cell_type": "code",
   "execution_count": 47,
   "metadata": {},
   "outputs": [
    {
     "name": "stdout",
     "output_type": "stream",
     "text": [
      "['I', ' ', 'l', 'o', 'v', 'e', ' ', 'w', 'a', 'n', 'g', 'e', 'r', 'q', 'i', 'n', 'g']\n",
      "['I', ' ', 'l', 'o', 'v', 'e', ' ', 'w', 'a', 'n', 'g', 'e', 'r', 'q', 'i', 'n', 'g']\n",
      "139622386955080\n",
      "139622343516296\n",
      "['A', ' ', 'l', 'o', 'v', 'e', ' ', 'w', 'a', 'n', 'g', 'e', 'r', 'q', 'i', 'n', 'g']\n",
      "['I', ' ', 'l', 'o', 'v', 'e', ' ', 'w', 'a', 'n', 'g', 'e', 'r', 'q', 'i', 'n', 'g']\n",
      "139622386955080\n",
      "139622343516296\n"
     ]
    }
   ],
   "source": [
    "\n"
   ]
  },
  {
   "cell_type": "markdown",
   "metadata": {},
   "source": [
    "#### 编写程序，要求用户输入1-100之间的整数并且判断，输入符合要求的打印“你好看”，否则打印“丑八怪，别开灯”    "
   ]
  },
  {
   "cell_type": "code",
   "execution_count": 26,
   "metadata": {},
   "outputs": [
    {
     "name": "stdout",
     "output_type": "stream",
     "text": [
      "请输入一个1-100的整数:100\n",
      "你好看\n"
     ]
    }
   ],
   "source": [
    "temp = input('请输入一个1-100的整数:')\n",
    "\n",
    "if temp.isdigit():\n",
    "    temp = int(temp)\n",
    "    if 1 <= temp <= 100:\n",
    "        print(\"你好看\")\n",
    "    else:\n",
    "        print(\"丑八怪，别开灯\")\n",
    "else:\n",
    "    print(\"丑八怪，别开灯\")"
   ]
  },
  {
   "cell_type": "code",
   "execution_count": 14,
   "metadata": {},
   "outputs": [
    {
     "name": "stdout",
     "output_type": "stream",
     "text": [
      "请输入ewqe13\n"
     ]
    },
    {
     "data": {
      "text/plain": [
       "False"
      ]
     },
     "execution_count": 14,
     "metadata": {},
     "output_type": "execute_result"
    }
   ],
   "source": [
    "temp = input('请输入')\n",
    "\n",
    "# print(type(temp))\n",
    "temp.isdigit()    #isdigit是判断用户输入字符串里面的字符是不是都是数字！！!"
   ]
  },
  {
   "cell_type": "code",
   "execution_count": 19,
   "metadata": {},
   "outputs": [
    {
     "name": "stdout",
     "output_type": "stream",
     "text": [
      "请输入123\n"
     ]
    },
    {
     "data": {
      "text/plain": [
       "True"
      ]
     },
     "execution_count": 19,
     "metadata": {},
     "output_type": "execute_result"
    }
   ],
   "source": [
    "temp = input('请输入')\n",
    "\n",
    "# print(type(temp))\n",
    "temp.isdigit() \n"
   ]
  },
  {
   "cell_type": "markdown",
   "metadata": {},
   "source": [
    "#### 10 < cost < 50 的等价表达式\n"
   ]
  },
  {
   "cell_type": "code",
   "execution_count": 28,
   "metadata": {},
   "outputs": [
    {
     "data": {
      "text/plain": [
       "True"
      ]
     },
     "execution_count": 28,
     "metadata": {},
     "output_type": "execute_result"
    }
   ],
   "source": [
    "cost = 40\n",
    "10 < cost and cost < 50"
   ]
  },
  {
   "cell_type": "code",
   "execution_count": 30,
   "metadata": {},
   "outputs": [
    {
     "data": {
      "text/plain": [
       "True"
      ]
     },
     "execution_count": 30,
     "metadata": {},
     "output_type": "execute_result"
    }
   ],
   "source": [
    "cost = 40\n",
    "10 < cost < 50"
   ]
  },
  {
   "cell_type": "code",
   "execution_count": 32,
   "metadata": {},
   "outputs": [
    {
     "data": {
      "text/plain": [
       "True"
      ]
     },
     "execution_count": 32,
     "metadata": {},
     "output_type": "execute_result"
    }
   ],
   "source": [
    "cost = 40\n",
    "# 10 < cost and cost < 50\n",
    "10 < cost < 50"
   ]
  },
  {
   "cell_type": "code",
   "execution_count": 33,
   "metadata": {},
   "outputs": [
    {
     "data": {
      "text/plain": [
       "False"
      ]
     },
     "execution_count": 33,
     "metadata": {},
     "output_type": "execute_result"
    }
   ],
   "source": [
    "cost = 60\n",
    "10 < cost < 50"
   ]
  },
  {
   "cell_type": "markdown",
   "metadata": {},
   "source": [
    "#### 使用int()将小数转化成整数，结果是向上取整还是向下取整\n",
    "- 结果为向0取整"
   ]
  },
  {
   "cell_type": "code",
   "execution_count": 39,
   "metadata": {},
   "outputs": [
    {
     "name": "stdout",
     "output_type": "stream",
     "text": [
      "3\n"
     ]
    }
   ],
   "source": [
    "print(int(3.6))"
   ]
  },
  {
   "cell_type": "markdown",
   "metadata": {},
   "source": [
    "#### 写一个程序，判断给定年份是否是闰年\n",
    "- 闰年的定义：能够被4整除的年份\n",
    "- % 取余\n",
    "- isdigit：判断输入是否是数字"
   ]
  },
  {
   "cell_type": "code",
   "execution_count": 36,
   "metadata": {},
   "outputs": [
    {
     "data": {
      "text/plain": [
       "2"
      ]
     },
     "execution_count": 36,
     "metadata": {},
     "output_type": "execute_result"
    }
   ],
   "source": [
    "6 % 4\n"
   ]
  },
  {
   "cell_type": "code",
   "execution_count": 38,
   "metadata": {},
   "outputs": [
    {
     "name": "stdout",
     "output_type": "stream",
     "text": [
      "请输入年份2009\n",
      "2009不是闰年\n"
     ]
    }
   ],
   "source": [
    "year = input(\"请输入年份\")\n",
    "# 首先判断用户输入的是不是数字？\n",
    "\n",
    "if year.isdigit():\n",
    "    year = int(year)\n",
    "    \n",
    "    if year % 4 == 0:\n",
    "        print(str(year) + \"是闰年\")\n",
    "    else:\n",
    "        print(str(year) + \"不是闰年\")\n",
    "else:\n",
    "    print(\"让你输入年份\")"
   ]
  },
  {
   "cell_type": "code",
   "execution_count": 10,
   "metadata": {},
   "outputs": [
    {
     "name": "stdout",
     "output_type": "stream",
     "text": [
      "请输入年份2008\n",
      "2008是闰年\n"
     ]
    }
   ],
   "source": [
    "year = input(\"请输入年份\")\n",
    "if year.isdigit():\n",
    "    year = int(year)\n",
    "    \n",
    "    if year % 4 != 0:\n",
    "        print(str(year) + \"不是闰年\")\n",
    "    else:\n",
    "        print(str(year) + '是闰年')\n",
    "else:\n",
    "    print(\"叫你输入年份\")"
   ]
  },
  {
   "cell_type": "code",
   "execution_count": 12,
   "metadata": {},
   "outputs": [
    {
     "name": "stdout",
     "output_type": "stream",
     "text": [
      "请输入年份：2014\n",
      "2014年不是闰年\n"
     ]
    }
   ],
   "source": [
    "# 本人后续练习做法，还是不够简洁\n",
    "year = input(\"请输入年份：\")\n",
    "if year.isdigit():\n",
    "    year = int(year)\n",
    "    \n",
    "    if year % 4 == 0:\n",
    "        print(\"{}年是闰年\".format(year))\n",
    "    else:\n",
    "        print(\"{}年不是闰年\".format(year))\n",
    "else:\n",
    "    print(\"别瞎了，输入年份\")"
   ]
  },
  {
   "cell_type": "markdown",
   "metadata": {},
   "source": [
    "#### 给用户三次机会，猜想我们程序生成的一个数字A，每次用户猜想过后会提示用户是否正确以及用户输入数字是大于还是小于A，当机会用尽后提示用户已经输掉了游戏\n"
   ]
  },
  {
   "cell_type": "code",
   "execution_count": 1,
   "metadata": {
    "scrolled": true
   },
   "outputs": [
    {
     "name": "stdout",
     "output_type": "stream",
     "text": [
      "请猜一个数：28\n",
      "不好意思，答案错误\n",
      "提示：数字太大了\n",
      "请猜一个数：56\n",
      "不好意思，答案错误\n",
      "提示：数字太大了\n",
      "请猜一个数：56\n",
      "不好意思，答案错误\n",
      "提示：数字太大了\n",
      "对不起，次数用光了\n"
     ]
    }
   ],
   "source": [
    "import random\n",
    "\n",
    "secret = random.randint(1,101) # 计算机生成一个随机数\n",
    "\n",
    "times = 3 # 初始化用户的次数是3次\n",
    "\n",
    "while times:\n",
    "    num = input(\"请猜一个数：\")\n",
    "    if num.isdigit():\n",
    "        num = int(num)\n",
    "        if num != secret:\n",
    "            print(\"不好意思，答案错误\")\n",
    "            if num < secret:\n",
    "                print(\"提示：数字太小了\")\n",
    "                times = times - 1 # 次数需要减去！！\n",
    "            else:\n",
    "                print(\"提示：数字太大了\")\n",
    "                times = times - 1\n",
    "        else:\n",
    "            print(\"你真棒！！！\")\n",
    "            break\n",
    "    else:\n",
    "        print(\"说了多少次了，让你猜一个数字！！！只有3次机会，你又浪费了一次 —_—\")\n",
    "        times = times - 1\n",
    "else:\n",
    "    print(\"对不起，次数用光了\")"
   ]
  },
  {
   "cell_type": "code",
   "execution_count": 49,
   "metadata": {},
   "outputs": [
    {
     "name": "stdout",
     "output_type": "stream",
     "text": [
      "请输入一个数字：465\n",
      "数字大啦\n",
      "请输入一个数字：41\n",
      "数字小啦\n",
      "请输入一个数字：1\n",
      "数字小啦\n",
      "机会用尽啦\n"
     ]
    }
   ],
   "source": [
    "import random\n",
    "shuzi = random.randint(1,100)\n",
    "\n",
    "for i in range(3):\n",
    "    num = input(\"请输入一个数字：\")\n",
    "    if num.isdigit():\n",
    "        num = int(num)\n",
    "        if num == shuzi:\n",
    "            print(\"答案正确\")\n",
    "            break\n",
    "        elif num < shuzi:\n",
    "            print(\"数字小啦\")\n",
    "            \n",
    "        else:\n",
    "            print(\"数字大啦\")\n",
    "            \n",
    "        \n",
    "    else:\n",
    "        print(\"输入数字！！！\")\n",
    "print(\"机会用尽啦\")\n",
    "        "
   ]
  },
  {
   "cell_type": "markdown",
   "metadata": {},
   "source": [
    "#### 写一个程序，打印0-100以内的所有奇数"
   ]
  },
  {
   "cell_type": "code",
   "execution_count": 38,
   "metadata": {
    "scrolled": true
   },
   "outputs": [
    {
     "name": "stdout",
     "output_type": "stream",
     "text": [
      "1  3  5  7  9  11  13  15  17  19  21  23  25  27  29  31  33  35  37  39  41  43  45  47  49  51  53  55  57  59  61  63  65  67  69  71  73  75  77  79  81  83  85  87  89  91  93  95  97  99  "
     ]
    }
   ],
   "source": [
    "\n",
    "for num in range(0,101):\n",
    "    if num % 2 != 0: # if num % 2 == 1:\n",
    "        print(num, end=\"  \")\n"
   ]
  },
  {
   "cell_type": "code",
   "execution_count": 31,
   "metadata": {
    "scrolled": true
   },
   "outputs": [
    {
     "name": "stdout",
     "output_type": "stream",
     "text": [
      "[1, 3, 5, 7, 9, 11, 13, 15, 17, 19, 21, 23, 25, 27, 29, 31, 33, 35, 37, 39, 41, 43, 45, 47, 49, 51, 53, 55, 57, 59, 61, 63, 65, 67, 69, 71, 73, 75, 77, 79, 81, 83, 85, 87, 89, 91, 93, 95, 97, 99]\n"
     ]
    }
   ],
   "source": [
    "num = [i for i in range(0,101) if i % 2 == 1]\n",
    "print(num)"
   ]
  },
  {
   "cell_type": "code",
   "execution_count": 32,
   "metadata": {},
   "outputs": [
    {
     "name": "stdout",
     "output_type": "stream",
     "text": [
      "[1, 3, 5, 7, 9, 11, 13, 15, 17, 19, 21, 23, 25, 27, 29, 31, 33, 35, 37, 39, 41, 43, 45, 47, 49, 51, 53, 55, 57, 59, 61, 63, 65, 67, 69, 71, 73, 75, 77, 79, 81, 83, 85, 87, 89, 91, 93, 95, 97, 99]\n"
     ]
    }
   ],
   "source": [
    "num = [i for i in range(1,101,2)]\n",
    "print(num)"
   ]
  },
  {
   "cell_type": "markdown",
   "metadata": {},
   "source": [
    "#### 爱因斯坦曾出过这样一道有趣的数学题：有一个长阶梯，若每步上2阶，最后剩余1阶；如果每步上3阶，最后剩余2阶梯；若每步上5阶，最后剩4阶；每步上6阶，最后剩5阶；只有每步上7阶，最后刚好一阶不剩。\n",
    "- 编写程序求该阶梯至少有多少阶？？？"
   ]
  },
  {
   "cell_type": "code",
   "execution_count": 42,
   "metadata": {
    "scrolled": false
   },
   "outputs": [
    {
     "name": "stdout",
     "output_type": "stream",
     "text": [
      "119\n"
     ]
    }
   ],
   "source": [
    "# 习题周老师思路\n",
    "x = 0\n",
    "while x < 1001:\n",
    "    if (x % 2 == 1) and \\\n",
    "    (x % 3 == 2) and \\\n",
    "    (x % 5 == 4) and \\\n",
    "    (x % 6 == 5) and \\\n",
    "    (x % 7 == 0):\n",
    "        print(x)\n",
    "        break # 此处 x += 1可以打印1000以内所有的数\n",
    "    else:\n",
    "        x += 1\n",
    "        \n"
   ]
  },
  {
   "cell_type": "code",
   "execution_count": 39,
   "metadata": {
    "scrolled": true
   },
   "outputs": [
    {
     "name": "stdout",
     "output_type": "stream",
     "text": [
      "119是最小结果\n"
     ]
    }
   ],
   "source": [
    "# 本人第一次做的思路，通过对比上面可看出python确实是向往简洁美观易懂的方法！\n",
    "num = range(1,1000)\n",
    "for i in num:\n",
    "    if i % 7 == 0:\n",
    "        i1 = i\n",
    "        if i1 % 6 == 5:\n",
    "            i2 = i1\n",
    "            if i2 % 5 == 4:\n",
    "                i3 = i2\n",
    "                if i3 % 3 == 2:\n",
    "                    i4 = i3\n",
    "                    if i4 % 2 == 1:\n",
    "                        print(str(i4) + \"是最小结果\")\n",
    "                        break # 注！！！以下代码内容全部删除不会对结果有影响 \n",
    "                else:   \n",
    "                    continue   \n",
    "            else:\n",
    "                continue\n",
    "        else:\n",
    "            continue\n",
    "    else:\n",
    "        continue\n",
    "    "
   ]
  },
  {
   "cell_type": "code",
   "execution_count": 46,
   "metadata": {},
   "outputs": [
    {
     "name": "stdout",
     "output_type": "stream",
     "text": [
      "119\n"
     ]
    }
   ],
   "source": [
    "# 嘿嘿\n",
    "number = [i for i in range(0,10001) \\\n",
    "          if i % 7 == 0 \\\n",
    "          if i % 6 == 5 \\\n",
    "          if i % 5 == 4 \\\n",
    "          if i % 3 == 2 \\\n",
    "          if i % 2 == 1]\n",
    "print(min(number))"
   ]
  }
 ],
 "metadata": {
  "kernelspec": {
   "display_name": "Python 3",
   "language": "python",
   "name": "python3"
  },
  "language_info": {
   "codemirror_mode": {
    "name": "ipython",
    "version": 3
   },
   "file_extension": ".py",
   "mimetype": "text/x-python",
   "name": "python",
   "nbconvert_exporter": "python",
   "pygments_lexer": "ipython3",
   "version": "3.6.3"
  }
 },
 "nbformat": 4,
 "nbformat_minor": 2
}
