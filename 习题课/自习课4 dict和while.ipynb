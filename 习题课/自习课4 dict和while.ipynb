{
 "cells": [
  {
   "cell_type": "markdown",
   "metadata": {},
   "source": [
    "# Python编程\n",
    "### 从入门到实践（6，7章）"
   ]
  },
  {
   "cell_type": "code",
   "execution_count": 8,
   "metadata": {},
   "outputs": [
    {
     "name": "stdout",
     "output_type": "stream",
     "text": [
      "{'color': 'green', 'points': 5}\n",
      "green\n",
      "\n",
      "{'color': 'green', 'points': 5, 'x_position': 0, 'y_position': 25}\n"
     ]
    }
   ],
   "source": [
    "alien_0 = {\"color\":\"green\",\"points\":5}\n",
    "print(alien_0)\n",
    "print(alien_0[\"color\"])\n",
    "print()\n",
    "\n",
    "alien_0[\"x_position\"] = 0\n",
    "alien_0[\"y_position\"] = 25\n",
    "print(alien_0)"
   ]
  },
  {
   "cell_type": "code",
   "execution_count": 10,
   "metadata": {},
   "outputs": [
    {
     "name": "stdout",
     "output_type": "stream",
     "text": [
      "{'color': 'green', 'points': 5}\n"
     ]
    }
   ],
   "source": [
    "alien_0 = {}\n",
    "alien_0['color'] = \"green\"\n",
    "alien_0['points'] = 5\n",
    "print(alien_0)"
   ]
  },
  {
   "cell_type": "code",
   "execution_count": 14,
   "metadata": {},
   "outputs": [
    {
     "name": "stdout",
     "output_type": "stream",
     "text": [
      "0\n",
      "2\n"
     ]
    }
   ],
   "source": [
    "alien_0 = {'x_position': 0, 'y_position': 25,\"speed\":\"medium\"}\n",
    "print(alien_0['x_position'])\n",
    "if alien_0['speed'] == 'slow':\n",
    "    x_increment = 1\n",
    "elif alien_0['speed'] == \"medium\":\n",
    "    x_increment = 2\n",
    "else:\n",
    "    x_increment = 3\n",
    "    \n",
    "alien_0[\"x_position\"] = alien_0['x_position'] + x_increment\n",
    "print(alien_0[\"x_position\"])"
   ]
  },
  {
   "cell_type": "code",
   "execution_count": 15,
   "metadata": {},
   "outputs": [
    {
     "name": "stdout",
     "output_type": "stream",
     "text": [
      "0\n",
      "3\n"
     ]
    }
   ],
   "source": [
    "alien_0 = {'x_position': 0, 'y_position': 25,\"speed\":\"medium\"}\n",
    "print(alien_0['x_position'])\n",
    "\n",
    "alien_0[\"speed\"] = \"fast\"\n",
    "if alien_0['speed'] == 'slow':\n",
    "    x_increment = 1\n",
    "elif alien_0['speed'] == \"medium\":\n",
    "    x_increment = 2\n",
    "else:\n",
    "    x_increment = 3\n",
    "    \n",
    "alien_0[\"x_position\"] = alien_0['x_position'] + x_increment\n",
    "print(alien_0[\"x_position\"])"
   ]
  },
  {
   "cell_type": "code",
   "execution_count": 19,
   "metadata": {},
   "outputs": [
    {
     "name": "stdout",
     "output_type": "stream",
     "text": [
      "{'color': 'green', 'points': 5}\n",
      "{'points': 5}\n"
     ]
    }
   ],
   "source": [
    "alien_0 = {\"color\":\"green\",\"points\":5}\n",
    "print(alien_0)\n",
    "del alien_0['color'] # 删除指定的键和其对应的值，删除的键-值对永久消失\n",
    "print(alien_0)"
   ]
  },
  {
   "cell_type": "code",
   "execution_count": 41,
   "metadata": {},
   "outputs": [
    {
     "name": "stdout",
     "output_type": "stream",
     "text": [
      "{'jen': 'python', 'liuliu': 'c', 'yangming': 'ruby', 'wudi': 'python'}\n",
      "wudi's favourite language is Python.\n"
     ]
    }
   ],
   "source": [
    "favourite_languages = {\n",
    "    'jen':\"python\",\n",
    "    'liuliu':\"c\",\n",
    "    'yangming':'ruby',\n",
    "    'wudi':'python', # 注意多行字典的格式（最后是可以加逗号的）！！！ \n",
    "    }    \n",
    "print(favourite_languages)\n",
    "print(\"wudi's favourite language is \" +\n",
    "     favourite_languages['wudi'].title() + # 行末尾加一个拼接运算符（+）\n",
    "     \".\")"
   ]
  },
  {
   "cell_type": "code",
   "execution_count": 23,
   "metadata": {},
   "outputs": [
    {
     "name": "stdout",
     "output_type": "stream",
     "text": [
      "('first_name', 'xiao')\n",
      "('last_name', 'ming')\n",
      "('age', 17)\n",
      "('city', 'beijing')\n"
     ]
    }
   ],
   "source": [
    "xiaoming = {\n",
    "    'first_name':\"xiao\",\n",
    "    'last_name':\"ming\",\n",
    "    'age':17,\n",
    "    'city':\"beijing\",\n",
    "    }\n",
    "for i in xiaoming.items():\n",
    "    print(i)"
   ]
  },
  {
   "cell_type": "code",
   "execution_count": 31,
   "metadata": {},
   "outputs": [
    {
     "name": "stdout",
     "output_type": "stream",
     "text": [
      "{'wudi': 88888888, 'liuliu': 999999999, 'xiaopeng': 666, 'dandan': 666, 'zhangsan': 666}\n"
     ]
    }
   ],
   "source": [
    "list1 = [\"wudi\",\"liuliu\",\"xiaopeng\",\"dandan\",\"zhangsan\"]\n",
    "names = {}.fromkeys(list1,666)\n",
    "names[\"wudi\"] = 88888888\n",
    "names[\"liuliu\"] = 999999999\n",
    "print(names)"
   ]
  },
  {
   "cell_type": "code",
   "execution_count": 65,
   "metadata": {},
   "outputs": [
    {
     "name": "stdout",
     "output_type": "stream",
     "text": [
      "布尔值 --- 结果只能为True或者False\n",
      "lsit --- 列表，可以进行数值操作\n",
      "dict --- 字典，存储可变的键-值对\n",
      "tuple --- 元组，一般用于不可更改的数组\n",
      "set --- 集合，不可重复的无序数组\n"
     ]
    }
   ],
   "source": [
    "zidian = {\n",
    "    \"布尔值\":\"结果只能为True或者False\",\n",
    "    \"lsit\":\"列表，可以进行数值操作\", \n",
    "    \"dict\":\"字典，存储可变的键-值对\", \n",
    "    \"tuple\":\"元组，一般用于不可更改的数组\", \n",
    "    \"set\":\"集合，不可重复的无序数组\",\n",
    "    }\n",
    "for k,v in zidian.items():\n",
    "    print(k,\"---\",v)"
   ]
  },
  {
   "cell_type": "code",
   "execution_count": 50,
   "metadata": {},
   "outputs": [
    {
     "name": "stdout",
     "output_type": "stream",
     "text": [
      "Jen's favouerite language is Python.\n",
      "Liuliu's favouerite language is C.\n",
      "Yangming's favouerite language is Ruby.\n",
      "Wudi's favouerite language is Python.\n"
     ]
    }
   ],
   "source": [
    "favourite_languages = {\n",
    "    'jen':\"python\",\n",
    "    'liuliu':\"c\",\n",
    "    'yangming':'ruby',\n",
    "    'wudi':'python', \n",
    "    }   \n",
    "for k,v in favourite_languages.items():\n",
    "    print(k.title() + \"'s favouerite language is \" + v.title() + \".\")"
   ]
  },
  {
   "cell_type": "code",
   "execution_count": 61,
   "metadata": {},
   "outputs": [
    {
     "name": "stdout",
     "output_type": "stream",
     "text": [
      "Jen\n",
      "Liuliu\n",
      "Yangming\n",
      "Wudi\n",
      "\n",
      "Python\n",
      "C\n",
      "Ruby\n",
      "Python\n"
     ]
    }
   ],
   "source": [
    "favourite_languages = {\n",
    "    'jen':\"python\",\n",
    "    'liuliu':\"c\",\n",
    "    'yangming':'ruby',\n",
    "    'wudi':'python', \n",
    "    }  \n",
    "for name in favourite_languages.keys():\n",
    "    print(name.title())\n",
    "print()\n",
    "for language in favourite_languages.values():\n",
    "    print(language.title())# 注意这里是方法是没有考虑是否会有重复的，想要不重复就用set()"
   ]
  },
  {
   "cell_type": "code",
   "execution_count": 63,
   "metadata": {},
   "outputs": [
    {
     "name": "stdout",
     "output_type": "stream",
     "text": [
      "C\n",
      "Python\n",
      "Ruby\n"
     ]
    }
   ],
   "source": [
    "favourite_languages = {\n",
    "    'jen':\"python\",\n",
    "    'liuliu':\"c\",\n",
    "    'yangming':'ruby',\n",
    "    'wudi':'python', \n",
    "    }  \n",
    "\n",
    "for language in set(favourite_languages.values()):\n",
    "    print(language.title())"
   ]
  },
  {
   "cell_type": "code",
   "execution_count": 182,
   "metadata": {},
   "outputs": [
    {
     "name": "stdout",
     "output_type": "stream",
     "text": [
      "Jen\n",
      "Liuliu\n",
      " Hi Liuliu, I see your favourite language is C!\n",
      "Yangming\n",
      "Wudi\n"
     ]
    }
   ],
   "source": [
    "favourite_languages = {\n",
    "    'jen':\"python\",\n",
    "    'liuliu':\"c\",\n",
    "    'yangming':'ruby',\n",
    "    'wudi':'python', \n",
    "    }  \n",
    "\n",
    "friends = [\"liuliu\",\"lili\"]\n",
    "for name in favourite_languages.keys():\n",
    "    print(name.title())\n",
    "    \n",
    "    if name in friends:# 这里的if判断原字典的名字是否在friend列表中，在的话输出以下内容\n",
    "        print(\" Hi \" + name.title() + \", I see your favourite language is \" +\n",
    "             favourite_languages[name].title() + \"!\")"
   ]
  },
  {
   "cell_type": "code",
   "execution_count": 60,
   "metadata": {},
   "outputs": [
    {
     "name": "stdout",
     "output_type": "stream",
     "text": [
      "Jen\n",
      "Liuliu\n",
      "Wudi\n",
      "Yangming\n",
      "{'liuliu': 'c', 'yangming': 'ruby', 'wudi': 'python', 'jen': 'python'}\n"
     ]
    }
   ],
   "source": [
    "favourite_languages = {\n",
    "    'liuliu':\"c\",\n",
    "    'yangming':'ruby',\n",
    "    'wudi':'python', \n",
    "    'jen':\"python\",\n",
    "    }  \n",
    "for name in sorted(favourite_languages.keys()):# 给字典里的键进行临时排序,字典原有键-值对的顺序不变\n",
    "    print(name.title())\n",
    "print(favourite_languages)"
   ]
  },
  {
   "cell_type": "code",
   "execution_count": 71,
   "metadata": {},
   "outputs": [
    {
     "name": "stdout",
     "output_type": "stream",
     "text": [
      "布尔值 --- 结果只能为True或者False\n",
      "lsit --- 列表，可以进行数值操作的有序集合\n",
      "dict --- 字典，存储可变的键-值对\n",
      "tuple --- 元组，一般用于不可更改的数组\n",
      "set --- 集合，不可重复的无序数组\n",
      "str --- 字符类型，一般用括号引起来\n",
      "一个'=' --- 赋值，将等号右边的值赋予等号左边\n",
      "遍历 --- 对数组中的每个元素都执行相同的操作\n",
      "嵌套 --- 一系列的字典或列表互相存储，互相循环等的操作\n",
      "and --- 逻辑与，且，和\n"
     ]
    }
   ],
   "source": [
    "zidian = {\n",
    "    \"布尔值\":\"结果只能为True或者False\",\n",
    "    \"lsit\":\"列表，可以进行数值操作的有序集合\", \n",
    "    \"dict\":\"字典，存储可变的键-值对\", \n",
    "    \"tuple\":\"元组，一般用于不可更改的数组\", \n",
    "    \"set\":\"集合，不可重复的无序数组\",\n",
    "    \"str\":\"字符类型，一般用括号引起来\",\n",
    "    \"一个'='\":\"赋值，将等号右边的值赋予等号左边\",\n",
    "    \"遍历\":\"对数组中的每个元素都执行相同的操作\",\n",
    "    \"嵌套\":\"一系列的字典或列表互相存储，互相循环等的操作\",\n",
    "    \"and\":\"逻辑与，且，和\"\n",
    "    }\n",
    "for k,v in zidian.items():\n",
    "    print(k,\"---\",v)"
   ]
  },
  {
   "cell_type": "code",
   "execution_count": 72,
   "metadata": {},
   "outputs": [
    {
     "name": "stdout",
     "output_type": "stream",
     "text": [
      "{'color': 'green', 'point': 5}\n",
      "{'color': 'yellow', 'point': 10}\n",
      "{'color': 'red', 'point': 15}\n"
     ]
    }
   ],
   "source": [
    "alien_0 = {'color':'green','point':5}\n",
    "alien_1 = {'color':'yellow','point':10}\n",
    "alien_2 = {'color':'red','point':15}\n",
    "\n",
    "aliens = [alien_0, alien_1, alien_2]\n",
    "\n",
    "for alien in aliens:\n",
    "    print(alien)"
   ]
  },
  {
   "cell_type": "code",
   "execution_count": 73,
   "metadata": {},
   "outputs": [
    {
     "name": "stdout",
     "output_type": "stream",
     "text": [
      "{'color': 'green', 'point': 5, 'speed': 'slow'}\n",
      "{'color': 'green', 'point': 5, 'speed': 'slow'}\n",
      "{'color': 'green', 'point': 5, 'speed': 'slow'}\n",
      "{'color': 'green', 'point': 5, 'speed': 'slow'}\n",
      "{'color': 'green', 'point': 5, 'speed': 'slow'}\n",
      "...\n",
      "Total number of aliens: 30\n"
     ]
    }
   ],
   "source": [
    "aliens = []# 创建一个空列表\n",
    "\n",
    "for alien_number in range(30):# 创建30个机器人\n",
    "    new_alien = {'color':'green', 'point':5, 'speed':'slow'} # 每一个都一样\n",
    "    aliens.append(new_alien) # 将机器人附加到列表末尾 \n",
    "    \n",
    "for alien in aliens[:5]: # 显示前5个机器人\n",
    "    print(alien)\n",
    "print(\"...\")\n",
    "\n",
    "print(\"Total number of aliens: \" + str(len(aliens)))"
   ]
  },
  {
   "cell_type": "code",
   "execution_count": 76,
   "metadata": {},
   "outputs": [
    {
     "name": "stdout",
     "output_type": "stream",
     "text": [
      "{'color': 'yellow', 'point': 10, 'speed': 'medium'}\n",
      "{'color': 'yellow', 'point': 10, 'speed': 'medium'}\n",
      "{'color': 'yellow', 'point': 10, 'speed': 'medium'}\n",
      "{'color': 'green', 'point': 5, 'speed': 'slow'}\n",
      "{'color': 'green', 'point': 5, 'speed': 'slow'}\n",
      "...\n"
     ]
    }
   ],
   "source": [
    "# 字典列表\n",
    "aliens = []# 创建一个空列表\n",
    "\n",
    "for alien_number in range(30):# 创建30个机器人\n",
    "    new_alien = {'color':'green', 'point':5, 'speed':'slow'} # 每一个都一样\n",
    "    aliens.append(new_alien) # 将机器人附加到列表末尾 \n",
    "    \n",
    "for alien in aliens[:3]: # 修改前3个机器人\n",
    "    if alien['color'] =='green':\n",
    "        alien['color'] = \"yellow\"\n",
    "        alien['speed'] = 'medium'\n",
    "        alien['point'] = 10\n",
    "\n",
    "for alien in aliens[:5]: # 显示前5个机器人\n",
    "    print(alien)\n",
    "print(\"...\")\n",
    "\n"
   ]
  },
  {
   "cell_type": "code",
   "execution_count": 97,
   "metadata": {},
   "outputs": [
    {
     "name": "stdout",
     "output_type": "stream",
     "text": [
      "Jen  =====  Python C \n",
      "Liuliu  =====  C \n",
      "Yangming  =====  Ruby \n",
      "Wudi  =====  Python Ruby \n"
     ]
    }
   ],
   "source": [
    "# 在字典中存储列表\n",
    "favourite_languages = { \n",
    "    'jen':[\"python\", \"c\"],# 注意键所对应的值是列表形式\n",
    "    'liuliu':[\"c\"],\n",
    "    'yangming':['ruby'],\n",
    "    'wudi':['python', \"ruby\"],\n",
    "    }  \n",
    "for k, v in favourite_languages.items():\n",
    "    if len(str(v)) > 1: #　判断值列表里的字符串数量是否大于１\n",
    "        print(k.title() + \"  =====\", end=\"  \")\n",
    "        for i in v:# 遍历值列表\n",
    "            print(i.title(), end=\" \")\n",
    "    else:\n",
    "        print(k.title() + \"  =====\", v.title())\n",
    "    print()"
   ]
  },
  {
   "cell_type": "code",
   "execution_count": 101,
   "metadata": {},
   "outputs": [
    {
     "name": "stdout",
     "output_type": "stream",
     "text": [
      "\n",
      "名字是：Xiao Ming\n",
      "\t姓:Xiao,名:ming\n",
      "\t年龄是：17\n",
      "\t家住：Beijing\n",
      "\n",
      "名字是：Zhang Long\n",
      "\t姓:Zhang,名:long\n",
      "\t年龄是：19\n",
      "\t家住：Shanghai\n",
      "\n",
      "名字是：Wu Di\n",
      "\t姓:Wu,名:di\n",
      "\t年龄是：18\n",
      "\t家住：Tianjin\n"
     ]
    }
   ],
   "source": [
    "# 在字典中存储字典（注意缩进！！！）\n",
    "people = {\n",
    "    'xiao ming':{\n",
    "        'first_name':\"xiao\",\n",
    "        'last_name':\"ming\",\n",
    "        'age':17,\n",
    "        'city':\"beijing\",\n",
    "        },\n",
    "    \n",
    "    'zhang long':{\n",
    "        'first_name':\"zhang\",\n",
    "        'last_name':\"long\",\n",
    "        'age':19,\n",
    "        'city':\"shanghai\"\n",
    "        },\n",
    "    \n",
    "    'wu di':{\n",
    "        'first_name':\"wu\",\n",
    "        'last_name':\"di\",\n",
    "        'age':18,\n",
    "        'city':\"tianjin\"\n",
    "        },\n",
    "    }\n",
    "for k,v in people.items():\n",
    "    print(\"\\n名字是：\" + k.title())\n",
    "    print(\"\\t姓:\" + v['first_name'].title() + \",名:\" + v['last_name'] )\n",
    "    print(\"\\t年龄是：\" + str(v[\"age\"]))\n",
    "    print(\"\\t家住：\" + v['city'].title())"
   ]
  },
  {
   "cell_type": "code",
   "execution_count": 106,
   "metadata": {},
   "outputs": [
    {
     "name": "stdout",
     "output_type": "stream",
     "text": [
      "{'类型': '宠物猫', '主人': '张龙'}\n",
      "{'类型': '宠物狗', '主人': '赵虎'}\n",
      "{'类型': '宠物猪', '主人': '王超'}\n"
     ]
    }
   ],
   "source": [
    "pets = []\n",
    "cat = {\"类型\":\"宠物猫\", \"主人\":\"张龙\"}\n",
    "dog = {\"类型\":\"宠物狗\", \"主人\":\"赵虎\"}\n",
    "pig = {\"类型\":\"宠物猪\", \"主人\":\"王超\"}\n",
    "pets.append(cat)\n",
    "pets.append(dog)\n",
    "pets.append(pig)\n",
    "#print(pets)\n",
    "for i in pets:\n",
    "    print(i)"
   ]
  },
  {
   "cell_type": "code",
   "execution_count": 114,
   "metadata": {},
   "outputs": [
    {
     "name": "stdout",
     "output_type": "stream",
     "text": [
      "\n",
      "张龙喜欢的城市是：\n",
      "\t北京\n",
      "\t武汉\n",
      "\t南京\n",
      "\n",
      "赵虎喜欢的城市是：\n",
      "\t上海\n",
      "\t天津\n",
      "\t拉萨\n",
      "\n",
      "马汉喜欢的城市是：\n",
      "\t兰州\n",
      "\t青岛\n"
     ]
    }
   ],
   "source": [
    "favourite_places = {\n",
    "    \"张龙\":[\"北京\", \"武汉\", \"南京\"],\n",
    "    \"赵虎\":[\"上海\", \"天津\", \"拉萨\"],\n",
    "    \"马汉\":[\"兰州\", \"青岛\"],\n",
    "    }\n",
    "for k,v in favourite_places.items():\n",
    "    print(\"\\n\" + k + \"喜欢的城市是：\")\n",
    "    for i in v:\n",
    "        print(\"\\t\" + i)"
   ]
  },
  {
   "cell_type": "code",
   "execution_count": 118,
   "metadata": {},
   "outputs": [
    {
     "name": "stdout",
     "output_type": "stream",
     "text": [
      "\n",
      "Wudi最喜欢的数字是：\n",
      "\t88888888\n",
      "\t7777777\n",
      "\t2333\n",
      "\n",
      "Liuliu最喜欢的数字是：\n",
      "\t999999999\n",
      "\t555\n",
      "\t1111\n",
      "\t7\n",
      "\n",
      "Xiaopeng最喜欢的数字是：\n",
      "\t666\n",
      "\t8888\n",
      "\t2333333\n",
      "\n",
      "Dandan最喜欢的数字是：\n",
      "\t666\n",
      "\t8888\n",
      "\t2333333\n",
      "\n",
      "Zhangsan最喜欢的数字是：\n",
      "\t666\n",
      "\t8888\n",
      "\t2333333\n"
     ]
    }
   ],
   "source": [
    "list1 = [\"wudi\",\"liuliu\",\"xiaopeng\",\"dandan\",\"zhangsan\"]\n",
    "names = {}.fromkeys(list1,[666,8888,2333333])\n",
    "names[\"wudi\"] = [88888888,7777777,2333]\n",
    "names[\"liuliu\"] = [999999999,555,1111,7]\n",
    "#print(names)\n",
    "for k,v in names.items():\n",
    "    print(\"\\n\" + k.title() + \"最喜欢的数字是：\")\n",
    "    for i in v:\n",
    "        print(\"\\t\" + str(i))"
   ]
  },
  {
   "cell_type": "code",
   "execution_count": 122,
   "metadata": {},
   "outputs": [
    {
     "name": "stdout",
     "output_type": "stream",
     "text": [
      "\n",
      "Beijing\n",
      "所属国家：China\n",
      "人口数:100000000\n",
      "事实:China's capital\n",
      "\n",
      "Washington D.C.\n",
      "所属国家：America\n",
      "人口数:50000000\n",
      "事实:America's capital\n",
      "\n",
      "London\n",
      "所属国家：England\n",
      "人口数:10000000\n",
      "事实:England's capital\n"
     ]
    }
   ],
   "source": [
    "cities = {\n",
    "    'beijing':{\n",
    "        'country':\"china\",\n",
    "        'population':100000000,\n",
    "        'fact':\"china's capital\",\n",
    "        },\n",
    "    'washington D.C.':{\n",
    "        'country':\"america\",\n",
    "        'population':50000000,\n",
    "        'fact':\"america's capital\",\n",
    "        },\n",
    "    'london':{\n",
    "        'country':\"england\",\n",
    "        'population':10000000,\n",
    "        'fact':\"england's capital\",\n",
    "        },\n",
    "    \n",
    "    }\n",
    "\n",
    "for k, v in cities.items():\n",
    "    print(\"\\n\" + k.title() )\n",
    "    print(\"所属国家：\" + v['country'].title())\n",
    "    print(\"人口数:\" + str(v['population']))\n",
    "    print(\"事实:\" + v['fact'].capitalize())"
   ]
  },
  {
   "cell_type": "code",
   "execution_count": 125,
   "metadata": {},
   "outputs": [
    {
     "name": "stdout",
     "output_type": "stream",
     "text": [
      "如果你告诉我你的名字，我会？？？\n",
      "请输入你的名字：wudi\n",
      "向wudi开炮！！！\n"
     ]
    }
   ],
   "source": [
    "# 当提示过长的时候，可以将提示存储在一个变量中，再将变量传递给函数input()\n",
    "name = \"如果你告诉我你的名字，我会？？？\"\n",
    "name += \"\\n请输入你的名字：\" # name = \"如果你告诉我你的名字，我会？？？\" + \"\\n请输入你的名字：\"\n",
    "n = input(name)\n",
    "print(\"向\" + n +\"开炮！！！\")"
   ]
  },
  {
   "cell_type": "code",
   "execution_count": 127,
   "metadata": {},
   "outputs": [
    {
     "name": "stdout",
     "output_type": "stream",
     "text": [
      "请输入一个数:fd\n",
      "请输入数字\n"
     ]
    }
   ],
   "source": [
    "number = input(\"请输入一个数:\")\n",
    "if number.isdigit():\n",
    "    number = int(number)\n",
    "    if number % 2 != 0:\n",
    "        print(str(number) + \"是奇数\")\n",
    "    else:\n",
    "        print(str(number) + \"是偶数\")\n",
    "else:\n",
    "    print(\"请输入数字\")"
   ]
  },
  {
   "cell_type": "code",
   "execution_count": 131,
   "metadata": {},
   "outputs": [
    {
     "name": "stdout",
     "output_type": "stream",
     "text": [
      "你想要什么样的汽车？坦克\n",
      "坦克非常适合你？？？\n"
     ]
    }
   ],
   "source": [
    "car = input(\"你想要什么样的汽车？\")\n",
    "print(car + \"非常适合你？？？\")"
   ]
  },
  {
   "cell_type": "code",
   "execution_count": 134,
   "metadata": {},
   "outputs": [
    {
     "name": "stdout",
     "output_type": "stream",
     "text": [
      "打扰一下请问你们一共有多少人需要用餐？9\n",
      "不好意思，没有空桌了\n"
     ]
    }
   ],
   "source": [
    "num = \"打扰一下\"\n",
    "num += \"请问你们一共有多少人需要用餐？\"\n",
    "people = input(num)\n",
    "if people.isdigit():\n",
    "    people = int(people)\n",
    "    if people > 8:\n",
    "        print(\"不好意思，没有空桌了\")\n",
    "    else:\n",
    "        print(\"还有空位，祝您用餐愉快\")\n",
    "else:\n",
    "    print(\"请用数字写出具体的人数\")"
   ]
  },
  {
   "cell_type": "code",
   "execution_count": 140,
   "metadata": {},
   "outputs": [
    {
     "name": "stdout",
     "output_type": "stream",
     "text": [
      "请输入一个数字：20\n",
      "20 是10的整数倍\n"
     ]
    }
   ],
   "source": [
    "num = input(\"请输入一个数字：\")\n",
    "if num.isdigit():\n",
    "    num = int(num)\n",
    "    if num % 10 == 0: \n",
    "        print(str(num) + \" 是10的整数倍\")\n",
    "    else:\n",
    "        print(str(num) + \" 不是10的整数倍\")\n",
    "else:\n",
    "    print(\"请输入一个数字！！！\")"
   ]
  },
  {
   "cell_type": "code",
   "execution_count": 145,
   "metadata": {},
   "outputs": [
    {
     "name": "stdout",
     "output_type": "stream",
     "text": [
      "请输入一条消息或者退出键'quit'dsa\n",
      "dsa\n",
      "请输入一条消息或者退出键'quit'ds\n",
      "ds\n",
      "请输入一条消息或者退出键'quit'ds\n",
      "ds\n",
      "请输入一条消息或者退出键'quit'dsf\n",
      "dsf\n",
      "请输入一条消息或者退出键'quit'quit\n"
     ]
    }
   ],
   "source": [
    "message = ''\n",
    "while message != 'quit':\n",
    "    message = input(\"请输入一条消息或者退出键'quit'\")\n",
    "    if message != 'quit':\n",
    "        print(message)"
   ]
  },
  {
   "cell_type": "code",
   "execution_count": 158,
   "metadata": {},
   "outputs": [
    {
     "name": "stdout",
     "output_type": "stream",
     "text": [
      "请输入一条消息或者退出键'quit'ds\n",
      "ds\n",
      "请输入一条消息或者退出键'quit'quit\n"
     ]
    }
   ],
   "source": [
    "active = True # 将变量active设置为真，让程序处于活跃状态\n",
    "while active:# 当active为真时才会执行！\n",
    "    message = input(\"请输入一条消息或者退出键'quit'\")\n",
    "    if message == 'quit':\n",
    "        active = False # 注意循环要有条件限制，不然会一直循环下去\n",
    "    else:\n",
    "        print(message)"
   ]
  },
  {
   "cell_type": "code",
   "execution_count": 154,
   "metadata": {},
   "outputs": [
    {
     "name": "stdout",
     "output_type": "stream",
     "text": [
      "1\n",
      "3\n",
      "5\n",
      "7\n",
      "9\n",
      "11\n",
      "13\n",
      "15\n",
      "17\n",
      "19\n"
     ]
    }
   ],
   "source": [
    "# continue 跳出本次循环，进入下一次的循环，注意如果是break就直接打断了，不会进入下一次的循环\n",
    "num = 0\n",
    "while num < 20:\n",
    "    num += 1\n",
    "    if num % 2 == 0:\n",
    "        continue\n",
    "    print(num)"
   ]
  },
  {
   "cell_type": "code",
   "execution_count": 170,
   "metadata": {},
   "outputs": [
    {
     "name": "stdout",
     "output_type": "stream",
     "text": [
      "请输入你爱吃的pizza类型，当输入'quit'时系统停止运行！ice\n",
      "我们会加入ice这种类型的pizza\n",
      "请输入你爱吃的pizza类型，当输入'quit'时系统停止运行！flame\n",
      "我们会加入flame这种类型的pizza\n",
      "请输入你爱吃的pizza类型，当输入'quit'时系统停止运行！quit\n"
     ]
    }
   ],
   "source": [
    "sign = True\n",
    "while sign:\n",
    "    pizza = input(\"请输入你爱吃的pizza类型，当输入'quit'时系统停止运行！\")\n",
    "    if pizza == \"quit\":\n",
    "        sign = False\n",
    "    else:\n",
    "        print(\"我们会加入\" + pizza + \"这种类型的pizza\")"
   ]
  },
  {
   "cell_type": "code",
   "execution_count": 173,
   "metadata": {},
   "outputs": [
    {
     "name": "stdout",
     "output_type": "stream",
     "text": [
      "请输入您的年龄：25\n",
      "您需要支付15美元\n"
     ]
    }
   ],
   "source": [
    "sign = True\n",
    "while sign:\n",
    "    age = input(\"请输入您的年龄：\")\n",
    "    if age.isdigit():\n",
    "        age = int(age)\n",
    "        if age < 3:\n",
    "             print(\"您可以免费游玩\")       \n",
    "        elif 3 <= age <= 12:\n",
    "            print(\"您需要支付10美元\")\n",
    "        else:\n",
    "            print(\"您需要支付15美元\")\n",
    "    else:\n",
    "        print(\"请使用数字输入你的年龄\")\n",
    "    sign = False # 去掉的话会进入无线循环！   "
   ]
  },
  {
   "cell_type": "code",
   "execution_count": 171,
   "metadata": {},
   "outputs": [
    {
     "name": "stdout",
     "output_type": "stream",
     "text": [
      "请输入你爱吃的pizza类型，当输入'quit'时系统停止运行！ice\n",
      "我们会加入ice这种类型的pizza\n",
      "请输入你爱吃的pizza类型，当输入'quit'时系统停止运行！flame\n",
      "我们会加入flame这种类型的pizza\n",
      "请输入你爱吃的pizza类型，当输入'quit'时系统停止运行！quit\n"
     ]
    }
   ],
   "source": [
    "pizza = ''\n",
    "while pizza != \"quit\":\n",
    "    pizza = input(\"请输入你爱吃的pizza类型，当输入'quit'时系统停止运行！\")\n",
    "    if pizza == \"quit\":\n",
    "        break\n",
    "    print(\"我们会加入\" + pizza + \"这种类型的pizza\")"
   ]
  },
  {
   "cell_type": "code",
   "execution_count": 172,
   "metadata": {},
   "outputs": [
    {
     "name": "stdout",
     "output_type": "stream",
     "text": [
      "请输入您的年龄：12\n",
      "您需要支付10美元\n"
     ]
    }
   ],
   "source": [
    "sign = True\n",
    "while sign:\n",
    "    age = input(\"请输入您的年龄：\")\n",
    "    if age.isdigit():\n",
    "        age = int(age)\n",
    "        if age < 3:\n",
    "             print(\"您可以免费游玩\")       \n",
    "        elif 3 <= age <= 12:\n",
    "            print(\"您需要支付10美元\")\n",
    "        else:\n",
    "            print(\"您需要支付15美元\")\n",
    "    else:\n",
    "        print(\"请使用数字输入你的年龄\")\n",
    "    break"
   ]
  },
  {
   "cell_type": "code",
   "execution_count": 179,
   "metadata": {},
   "outputs": [
    {
     "name": "stdout",
     "output_type": "stream",
     "text": [
      "Yunyun\n",
      "Lili\n",
      "Liuliu\n",
      "\n",
      "[]\n"
     ]
    }
   ],
   "source": [
    "# 在列表与列表之间移动元素\n",
    "unc_users = [\"liuliu\", \"lili\", \"yunyun\"]# 未验证的用户列表\n",
    "c_users = [] #　已验证的用户列表(初始为空)\n",
    "while unc_users:\n",
    "    i = unc_users.pop()# 弹出未验证列表末尾的元素进行验证并添加到已验证的列表中\n",
    "    c_users.append(i)\n",
    "    \n",
    "for j in c_users:\n",
    "    print(j.title())\n",
    "print()\n",
    "\n",
    "print(unc_users)"
   ]
  },
  {
   "cell_type": "code",
   "execution_count": 181,
   "metadata": {},
   "outputs": [
    {
     "name": "stdout",
     "output_type": "stream",
     "text": [
      "['cat', 'dog', 'pig', 'dog', 'cat', 'rabbit', 'cat']\n",
      "\n",
      "['dog', 'pig', 'dog', 'rabbit']\n"
     ]
    }
   ],
   "source": [
    "# 删除包含特定值的所有列表元素\n",
    "pets = ['cat','dog','pig','dog','cat','rabbit','cat']\n",
    "print(pets)\n",
    "while 'cat' in pets:\n",
    "    pets.remove('cat')　# 删除列表中的元素(值)\n",
    "print()\n",
    "print(pets)"
   ]
  },
  {
   "cell_type": "code",
   "execution_count": 185,
   "metadata": {},
   "outputs": [
    {
     "name": "stdout",
     "output_type": "stream",
     "text": [
      "请输入你的名字：liuliu\n",
      "你喜欢哪一种食物？jiaozi\n",
      "还有人要参与吗？en\n",
      "请输入你的名字：yangyang\n",
      "你喜欢哪一种食物？baozi\n",
      "还有人要参与吗？o\n",
      "请输入你的名字：lili\n",
      "你喜欢哪一种食物？pizza\n",
      "还有人要参与吗？no\n",
      "--------------------------------------------------\n",
      "Liuliu ----- jiaozi\n",
      "Yangyang ----- baozi\n",
      "Lili ----- pizza\n"
     ]
    }
   ],
   "source": [
    "# 使用用户输入来填充字典\n",
    "responses = {}\n",
    "# 设置一个标志，指出调查是否继续\n",
    "sign = True\n",
    "while sign:\n",
    "    # 提示输入被调查者的姓名和答案\n",
    "    name = input(\"请输入你的名字：\")\n",
    "    response = input(\"你喜欢哪一种食物？\")\n",
    "    # 将姓名和答案以键值对的形式存储到字典response中\n",
    "    responses[name] = response# name是字典中的键，response是字典中的值\n",
    "    # 判断是否还有人要参与调查\n",
    "    repeat = input(\"还有人要参与吗？\")\n",
    "    if repeat == \"no\":\n",
    "        break\n",
    "print(\"-\" * 50)\n",
    "for k,v in responses.items():\n",
    "    print(k.title(),\"-----\",v)"
   ]
  },
  {
   "cell_type": "code",
   "execution_count": 193,
   "metadata": {},
   "outputs": [
    {
     "name": "stdout",
     "output_type": "stream",
     "text": [
      "I made your yellow sandwich\n",
      "I made your green sandwich\n",
      "I made your red sandwich\n",
      "\n",
      "yellow sandwich\n",
      "green sandwich\n",
      "red sandwich\n"
     ]
    }
   ],
   "source": [
    "# 做三明治\n",
    "sandwich_orders = [\"red sandwich\",'green sandwich','yellow sandwich']\n",
    "finished_sandwiches = []\n",
    "while sandwich_orders:\n",
    "    i = sandwich_orders.pop()\n",
    "    print(\"I made your \" + i)\n",
    "    finished_sandwiches.append(i)\n",
    "print()\n",
    "\n",
    "for j in finished_sandwiches:\n",
    "    print(j)"
   ]
  },
  {
   "cell_type": "code",
   "execution_count": 194,
   "metadata": {},
   "outputs": [
    {
     "name": "stdout",
     "output_type": "stream",
     "text": [
      "['red sandwich', 'green sandwich', 'yellow sandwich']\n",
      "I made your yellow sandwich\n",
      "I made your green sandwich\n",
      "I made your red sandwich\n",
      "\n",
      "yellow sandwich\n",
      "green sandwich\n",
      "red sandwich\n"
     ]
    }
   ],
   "source": [
    "# pastrami 卖完啦\n",
    "sandwich_orders = [\"pastrami\",\"red sandwich\",\"pastrami\",'green sandwich','yellow sandwich',\"pastrami\"]\n",
    "finished_sandwiches = []\n",
    "while 'pastrami' in sandwich_orders:\n",
    "    sandwich_orders.remove('pastrami')\n",
    "#print(sandwich_orders)\n",
    "while sandwich_orders:\n",
    "    i = sandwich_orders.pop()\n",
    "    print(\"I made your \" + i)\n",
    "    finished_sandwiches.append(i)\n",
    "print()\n",
    "\n",
    "for j in finished_sandwiches:\n",
    "    print(j)"
   ]
  },
  {
   "cell_type": "code",
   "execution_count": 199,
   "metadata": {},
   "outputs": [
    {
     "name": "stdout",
     "output_type": "stream",
     "text": [
      "请输入你的姓名：liuliu\n",
      "如果你可以去世界的某个地方游览度假，你希望去哪里？beijing\n",
      "还有人参与嘛？不参与请回答'no':o\n",
      "请输入你的姓名：lili\n",
      "如果你可以去世界的某个地方游览度假，你希望去哪里？nanjing\n",
      "还有人参与嘛？不参与请回答'no':o\n",
      "请输入你的姓名：ruirui\n",
      "如果你可以去世界的某个地方游览度假，你希望去哪里？tianjin\n",
      "还有人参与嘛？不参与请回答'no':no\n",
      "==================================================\n",
      "Liuliu --- Beijing\n",
      "Lili --- Nanjing\n",
      "Ruirui --- Tianjin\n"
     ]
    }
   ],
   "source": [
    "# 对用户梦想的度假胜地的调查\n",
    "dujia_ren = {}\n",
    "sign = True\n",
    "while sign:\n",
    "    name = input(\"请输入你的姓名：\")\n",
    "    place = input(\"如果你可以去世界的某个地方游览度假，你希望去哪里？\")\n",
    "    dujia_ren[name] = place\n",
    "    repeat = input(\"还有人参与嘛？不参与请回答'no':\")\n",
    "    if repeat == 'no':\n",
    "        break\n",
    "\n",
    "print('=' * 50)\n",
    "\n",
    "for k,v in dujia_ren.items():\n",
    "    print(k.title(),\"---\",v.title())"
   ]
  }
 ],
 "metadata": {
  "kernelspec": {
   "display_name": "Python 3",
   "language": "python",
   "name": "python3"
  },
  "language_info": {
   "codemirror_mode": {
    "name": "ipython",
    "version": 3
   },
   "file_extension": ".py",
   "mimetype": "text/x-python",
   "name": "python",
   "nbconvert_exporter": "python",
   "pygments_lexer": "ipython3",
   "version": "3.6.3"
  }
 },
 "nbformat": 4,
 "nbformat_minor": 2
}
