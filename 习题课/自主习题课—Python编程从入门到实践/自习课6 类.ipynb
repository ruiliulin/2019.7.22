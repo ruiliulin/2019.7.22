{
 "cells": [
  {
   "cell_type": "markdown",
   "metadata": {},
   "source": [
    "# Python编程\n",
    "### 从入门到实践（9章）"
   ]
  },
  {
   "cell_type": "code",
   "execution_count": 10,
   "metadata": {},
   "outputs": [
    {
     "name": "stdout",
     "output_type": "stream",
     "text": [
      "My dog name is Hoho\n",
      "Hohois 8 years old\n",
      "\n",
      "Hoho is now sitting.\n",
      "Hoho rolled over!\n",
      "Lvlv is now sitting.\n",
      "Lvlv rolled over!\n",
      "Jiejie is now sitting.\n",
      "Jiejie rolled over!\n"
     ]
    }
   ],
   "source": [
    "# 创建和使用类\n",
    "# 创建类\n",
    "class Dog():\n",
    "    '''模拟一只小狗'''\n",
    "    def __init__(self, name, age):\n",
    "        self.name = name\n",
    "        self.age = age\n",
    "        \n",
    "    # 小狗蹲下\n",
    "    def sit(self):# 上面定义了初始化的函数，那么后面所有的函数(方法属性)必须要有(self)\n",
    "        print(self.name.title() + ' is now sitting.')\n",
    "    \n",
    "    # 小狗打滚\n",
    "    def roll_over(self):\n",
    "        print(self.name.title() + ' rolled over!')\n",
    "\n",
    "# 根据类创建实例\n",
    "my_dog = Dog('hoho', 8)\n",
    "print(\"My dog name is \" + my_dog.name.title())\n",
    "print(my_dog.name.title() + 'is {} years old'.format(my_dog.age))\n",
    "# 多个实例\n",
    "ni_dog = Dog('lvlv', 4)\n",
    "ta_dog = Dog('jiejie', 6)\n",
    "print()\n",
    "\n",
    "# 调用方法\n",
    "my_dog.sit()\n",
    "my_dog.roll_over()\n",
    "ni_dog.sit()\n",
    "ni_dog.roll_over()\n",
    "ta_dog.sit()\n",
    "ta_dog.roll_over()"
   ]
  },
  {
   "cell_type": "code",
   "execution_count": 34,
   "metadata": {},
   "outputs": [
    {
     "name": "stdout",
     "output_type": "stream",
     "text": [
      "tianshangrenjian\n",
      "douyou\n",
      "\n",
      "餐馆的名字是：Tianshangrenjian\n",
      "Tianshangrenjian的类型是：douyou\n",
      "tianshangrenjian正在营业中。。。。。。\n",
      "\n",
      "餐馆的名字是：大饼城\n",
      "大饼城的类型是：面食\n",
      "餐馆的名字是：喜利来蛋糕店\n",
      "喜利来蛋糕店的类型是：蛋糕\n",
      "餐馆的名字是：河北饺子王\n",
      "河北饺子王的类型是：主食\n"
     ]
    }
   ],
   "source": [
    "# 餐馆\n",
    "class Restaurant():\n",
    "    def __init__(self, r_name, r_type):\n",
    "        self.name = r_name\n",
    "        self.type = r_type\n",
    "        \n",
    "    def describe_r(self):\n",
    "        print('餐馆的名字是：' + self.name.title())\n",
    "        print(self.name.title() + '的类型是：' + self.type)\n",
    "    \n",
    "    def open_r(self):\n",
    "        print(self.name + \"正在营业中。。。。。。\")\n",
    "\n",
    "restaurant = Restaurant('tianshangrenjian', 'douyou')\n",
    "print(restaurant.name)\n",
    "print(restaurant.type)\n",
    "print()\n",
    "restaurant.describe_r()\n",
    "restaurant.open_r()\n",
    "print()\n",
    "\n",
    "# 三家餐馆\n",
    "r1 = Restaurant('大饼城', '面食')\n",
    "r2 = Restaurant('喜利来蛋糕店', '蛋糕')\n",
    "r3 = Restaurant('河北饺子王', '主食')\n",
    "r1.describe_r()\n",
    "r2.describe_r()\n",
    "r3.describe_r()"
   ]
  },
  {
   "cell_type": "code",
   "execution_count": 54,
   "metadata": {},
   "outputs": [
    {
     "name": "stdout",
     "output_type": "stream",
     "text": [
      "用户的姓名是Liu yang\n",
      "用户年龄：28\n",
      "用户性别：男\n",
      "用户地址：北京\n",
      "来自北京的Liu yang男士，见到你很高兴\n",
      "\n",
      "用户的姓名是Xiao liu\n",
      "用户年龄：18\n",
      "用户性别：女\n",
      "用户地址：武汉\n",
      "来自武汉的Xiao liu女士，见到你很高兴\n",
      "\n",
      "用户的姓名是Li longji\n",
      "用户年龄：26\n",
      "用户性别：男\n",
      "用户地址：上海\n",
      "来自上海的Li longji男士，见到你很高兴\n"
     ]
    }
   ],
   "source": [
    "# 用户\n",
    "class User():\n",
    "    def __init__(self, first_name, last_name, age, sex, addr):\n",
    "        self.fname = first_name\n",
    "        self.lname = last_name\n",
    "        self.age = age\n",
    "        self.sex = sex\n",
    "        self.addr = addr\n",
    "        \n",
    "    def describe_u(self):\n",
    "        print('用户的姓名是{} {}'.format(self.fname.title(), self.lname))\n",
    "        print('用户年龄：' + str(self.age))\n",
    "        print('用户性别：' + self.sex)\n",
    "        print('用户地址：' + self.addr)\n",
    "   \n",
    "    def greet_u(self):\n",
    "        print('来自{}的{} {}{}士，见到你很高兴'.format(self.addr,self.fname.title(), self.lname, self.sex))\n",
    "        \n",
    "ly = User('liu', 'yang', 28, '男', '北京')\n",
    "ly.describe_u()\n",
    "ly.greet_u()\n",
    "print()\n",
    "xl = User('xiao', 'liu', 18, '女','武汉')\n",
    "xl.describe_u()\n",
    "xl.greet_u()\n",
    "print()\n",
    "ll = User('li', 'longji', 26, '男','上海')\n",
    "ll.describe_u()\n",
    "ll.greet_u()"
   ]
  },
  {
   "cell_type": "code",
   "execution_count": 68,
   "metadata": {},
   "outputs": [
    {
     "name": "stdout",
     "output_type": "stream",
     "text": [
      "用户的姓名是：Liuyang\n",
      "用户年龄：28\n",
      "用户性别：男\n",
      "用户地址：北京\n",
      "欢迎来自北京的Liuyang男士，见到你很高兴\n"
     ]
    }
   ],
   "source": [
    "# 用户-1\n",
    "class User():\n",
    "    def __init__(self, first_name, last_name, age, sex, addr):\n",
    "        self.name = first_name.title() + last_name\n",
    "        self.age = age\n",
    "        self.sex = sex\n",
    "        self.addr = addr\n",
    "        \n",
    "    def describe_u(self):\n",
    "        print('用户的姓名是：{}'.format(self.name))\n",
    "        print('用户年龄：' + str(self.age))\n",
    "        print('用户性别：' + self.sex)\n",
    "        print('用户地址：' + self.addr)\n",
    "   \n",
    "    def greet_u(self):\n",
    "        print('欢迎来自{}的{}{}士，见到你很高兴'.format(self.addr,self.name, self.sex))\n",
    "        \n",
    "ly = User('liu', 'yang', 28, '男', '北京')\n",
    "ly.describe_u()\n",
    "ly.greet_u()"
   ]
  },
  {
   "cell_type": "code",
   "execution_count": null,
   "metadata": {
    "collapsed": true
   },
   "outputs": [],
   "source": [
    "# 使用类和实例\n",
    "# Car类\n",
    "class Car():\n",
    "    "
   ]
  },
  {
   "cell_type": "code",
   "execution_count": null,
   "metadata": {
    "collapsed": true
   },
   "outputs": [],
   "source": []
  }
 ],
 "metadata": {
  "kernelspec": {
   "display_name": "Python 3",
   "language": "python",
   "name": "python3"
  },
  "language_info": {
   "codemirror_mode": {
    "name": "ipython",
    "version": 3
   },
   "file_extension": ".py",
   "mimetype": "text/x-python",
   "name": "python",
   "nbconvert_exporter": "python",
   "pygments_lexer": "ipython3",
   "version": "3.6.3"
  }
 },
 "nbformat": 4,
 "nbformat_minor": 2
}
