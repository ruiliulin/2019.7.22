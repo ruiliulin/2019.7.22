{
 "cells": [
  {
   "cell_type": "markdown",
   "metadata": {},
   "source": [
    "# Python编程\n",
    "### 从入门到实践（8章）"
   ]
  },
  {
   "cell_type": "code",
   "execution_count": 3,
   "metadata": {},
   "outputs": [
    {
     "name": "stdout",
     "output_type": "stream",
     "text": [
      "liuliu is very good!\n"
     ]
    }
   ],
   "source": [
    "# 向函数传递信息\n",
    "def green_user(username):\n",
    "    print(username + \" is very good!\")\n",
    "\n",
    "green_user('liuliu')"
   ]
  },
  {
   "cell_type": "code",
   "execution_count": 6,
   "metadata": {},
   "outputs": [
    {
     "name": "stdout",
     "output_type": "stream",
     "text": [
      "本章我们学习函数\n"
     ]
    }
   ],
   "source": [
    "def display_message():\n",
    "    print(\"本章我们学习函数\")\n",
    "    \n",
    "display_message()"
   ]
  },
  {
   "cell_type": "code",
   "execution_count": 7,
   "metadata": {},
   "outputs": [
    {
     "name": "stdout",
     "output_type": "stream",
     "text": [
      "One of my favourite book is Alice In Wonderland\n"
     ]
    }
   ],
   "source": [
    "def favourite_book(title):\n",
    "    print(\"One of my favourite book is \" + title.title())\n",
    "\n",
    "favourite_book('alice in wonderland')"
   ]
  },
  {
   "cell_type": "code",
   "execution_count": 13,
   "metadata": {},
   "outputs": [
    {
     "name": "stdout",
     "output_type": "stream",
     "text": [
      "我有一只小仓鼠， 它的名字叫杰瑞\n",
      "我有一只杰瑞， 它的名字叫小仓鼠\n"
     ]
    }
   ],
   "source": [
    "# 位置实参（位置顺序不能出错）\n",
    "def describe_pet(pet_type, pet_name):\n",
    "    '''动物的类型和宠物名字'''\n",
    "    print(\"我有一只\" + pet_type + \"， 它的名字叫\" + pet_name)\n",
    "\n",
    "describe_pet('小仓鼠', \"杰瑞\")\n",
    "describe_pet('杰瑞', \"小仓鼠\")# 虽然函数没有报错，但逻辑不通"
   ]
  },
  {
   "cell_type": "code",
   "execution_count": 14,
   "metadata": {},
   "outputs": [
    {
     "name": "stdout",
     "output_type": "stream",
     "text": [
      "我有一只小仓鼠， 它的名字叫杰瑞\n"
     ]
    }
   ],
   "source": [
    "#　关键字实参（不需要管位置，因为关键字直接告诉系统谁对应谁了）\n",
    "def describe_pet(pet_type, pet_name):\n",
    "    '''动物的类型和宠物名字'''\n",
    "    print(\"我有一只\" + pet_type + \"， 它的名字叫\" + pet_name)\n",
    "\n",
    "\n",
    "describe_pet(pet_name ='杰瑞', pet_type =\"小仓鼠\")# 直接一一对应了，先后顺序无所谓 !-_-!"
   ]
  },
  {
   "cell_type": "code",
   "execution_count": 20,
   "metadata": {},
   "outputs": [
    {
     "name": "stdout",
     "output_type": "stream",
     "text": [
      "我有一只杰瑞， 它的名字叫小仓鼠\n",
      "我有一只小仓鼠， 它的名字叫杰瑞\n",
      "我有一只小仓鼠， 它的名字叫杰瑞\n",
      "我有一只小狗， 它的名字叫杰瑞\n"
     ]
    }
   ],
   "source": [
    "# 默认值，给形参用的，可有可没有，有的话可以在调用时不传入实参(不传入实参就使用默认值，传入的话肯定使用传入的值，别犟！！！)\n",
    "def describe_pet(pet_name, pet_type=\"小狗\"):# 注意这里一定要先列出没有默认值的形参，在列出有默认值的形参（不然报错！）\n",
    "    '''动物的类型和宠物名字'''\n",
    "    print(\"我有一只\" + pet_type + \"， 它的名字叫\" + pet_name)\n",
    "\n",
    "describe_pet('小仓鼠', \"杰瑞\")\n",
    "describe_pet('杰瑞', \"小仓鼠\")\n",
    "describe_pet(pet_name ='杰瑞', pet_type =\"小仓鼠\")# 可以用位置实参，也可以直接关键字实参\n",
    "describe_pet('杰瑞') # 方法不重要，使用你自己最明白的的就行"
   ]
  },
  {
   "cell_type": "code",
   "execution_count": 29,
   "metadata": {},
   "outputs": [
    {
     "name": "stdout",
     "output_type": "stream",
     "text": [
      "您的T恤尺码大小是M号，您想在上面印的字是China\n",
      "您的T恤尺码大小是M号，您想在上面印的字是China\n"
     ]
    }
   ],
   "source": [
    "# T恤\n",
    "def make_shirt(word, size):\n",
    "    '''尺码大小和字样'''\n",
    "    print(\"您的T恤尺码大小是\"+ size.upper() +'号，您想在上面印的字是' + word.title())\n",
    "\n",
    "make_shirt('china', 'm')\n",
    "make_shirt(size='m', word='china')"
   ]
  },
  {
   "cell_type": "code",
   "execution_count": 34,
   "metadata": {},
   "outputs": [
    {
     "name": "stdout",
     "output_type": "stream",
     "text": [
      "您的T恤尺码大小是L号，您想在上面印的字是I Love Python\n",
      "您的T恤尺码大小是M号，您想在上面印的字是I Love Python\n",
      "您的T恤尺码大小是L号，您想在上面印的字是Made In China\n"
     ]
    }
   ],
   "source": [
    "# 大号T恤\n",
    "def make_shirt(word='i love python', size='l'):\n",
    "    '''尺码大小和字样'''\n",
    "    print(\"您的T恤尺码大小是\"+ size.upper() +'号，您想在上面印的字是' + word.title())\n",
    "\n",
    "make_shirt()\n",
    "make_shirt(size='m')\n",
    "make_shirt('made in china')"
   ]
  },
  {
   "cell_type": "code",
   "execution_count": 38,
   "metadata": {},
   "outputs": [
    {
     "name": "stdout",
     "output_type": "stream",
     "text": [
      "Beijing is in China\n",
      "Shanghai is in China\n",
      "New York is in America\n"
     ]
    }
   ],
   "source": [
    "# city属于country\n",
    "def describe_city(city_name, country_name=\"china\"):\n",
    "    '''城市的名字和所属的国家'''\n",
    "    print(city_name.title() + \" is in \" + country_name.title())\n",
    "    \n",
    "describe_city('beijing')\n",
    "describe_city('shanghai')\n",
    "describe_city('new york', 'america')"
   ]
  },
  {
   "cell_type": "code",
   "execution_count": 45,
   "metadata": {
    "scrolled": false
   },
   "outputs": [
    {
     "name": "stdout",
     "output_type": "stream",
     "text": [
      "Liu Yao\n",
      "Liu Lin Rui\n"
     ]
    }
   ],
   "source": [
    "# 返回简单的值（函数不一定非得自己打印输出，也可以返回一个或一组值）\n",
    "def get_formatted_name(first_name, last_name, middle_name=''):# 注意有默认值的形参在最后面\n",
    "    '''返回整洁的姓名'''\n",
    "    if middle_name:# 如果调用中间名，就怎么怎么样；否则，怎么怎么样\n",
    "        full_name = first_name + ' ' + middle_name + ' ' + last_name\n",
    "    else:\n",
    "        full_name = first_name + ' ' + last_name\n",
    "    return full_name.title()# 将结果返回到函数调用行\n",
    "\n",
    "#get_formatted_name('liu', 'yao')\n",
    "name = get_formatted_name('liu', 'yao')# 提供一个变量用来储存函数返回的值\n",
    "print(name)\n",
    "name = get_formatted_name('liu', 'rui', 'lin')\n",
    "print(name)"
   ]
  },
  {
   "cell_type": "code",
   "execution_count": 55,
   "metadata": {},
   "outputs": [
    {
     "name": "stdout",
     "output_type": "stream",
     "text": [
      "{'first': 'hao', 'last': 'ming', 'age': 48}\n",
      "{'first': 'xiao', 'last': 'ming', 'age': 28}\n",
      "{'first': 'xiao', 'last': 'ming'}\n"
     ]
    }
   ],
   "source": [
    "# 返回字典\n",
    "def build_person(first_name, last_name, age=''):\n",
    "    \"\"\"返回一个字典，其中包含有关一个人的信息\"\"\"\n",
    "    person = {'first':first_name, 'last':last_name}# 将参数封装到字典中\n",
    "    if age:\n",
    "        person['age'] = age# 将年龄这一参数对应的值存入字典中\n",
    "    return person# 返回字典\n",
    "\n",
    "name = build_person('hao', 'ming', 48)\n",
    "print(name)\n",
    "name = build_person('xiao', 'ming', 28)\n",
    "print(name)\n",
    "name = build_person('xiao', 'ming')\n",
    "print(name)"
   ]
  },
  {
   "cell_type": "code",
   "execution_count": 56,
   "metadata": {},
   "outputs": [
    {
     "name": "stdout",
     "output_type": "stream",
     "text": [
      "\n",
      "Please tell me your name：\n",
      "(enter 'q' at any time to quit)\n",
      "First name：liu\n",
      "Last name：linrui\n",
      "Liu Linrui\n",
      "\n",
      "Please tell me your name：\n",
      "(enter 'q' at any time to quit)\n",
      "First name：yang\n",
      "Last name：ming\n",
      "Yang Ming\n",
      "\n",
      "Please tell me your name：\n",
      "(enter 'q' at any time to quit)\n",
      "First name：q\n"
     ]
    }
   ],
   "source": [
    "# 结合使用函数和while循环\n",
    "def get_formatted_name(first_name, last_name):\n",
    "    '''返回整洁的姓名'''\n",
    "    full_name = first_name + ' ' + last_name\n",
    "    return full_name.title()\n",
    "\n",
    "while True:\n",
    "    print(\"\\nPlease tell me your name：\")\n",
    "    print(\"(enter 'q' at any time to quit)\")\n",
    "    \n",
    "    f_name = input(\"First name：\")\n",
    "    if f_name == 'q':\n",
    "        break       # 不设置终止条件会无限循环\n",
    "        \n",
    "    l_name = input(\"Last name：\")\n",
    "    if l_name == 'q':\n",
    "        break\n",
    "    \n",
    "    name = get_formatted_name(f_name, l_name)\n",
    "    print(name)"
   ]
  },
  {
   "cell_type": "code",
   "execution_count": 60,
   "metadata": {},
   "outputs": [
    {
     "name": "stdout",
     "output_type": "stream",
     "text": [
      "Nanjing, China\n",
      "Tokyo, Japan\n",
      "New York, America\n"
     ]
    }
   ],
   "source": [
    "# 城市名\n",
    "def city_country(city_name, country_name):\n",
    "    return city_name.title() + ', ' + country_name.title()\n",
    "\n",
    "city = city_country('nanjing', 'china')\n",
    "print(city)\n",
    "city = city_country('tokyo', 'japan')\n",
    "print(city)\n",
    "city = city_country('new york', 'america')\n",
    "print(city)"
   ]
  },
  {
   "cell_type": "code",
   "execution_count": 81,
   "metadata": {},
   "outputs": [
    {
     "name": "stdout",
     "output_type": "stream",
     "text": [
      "{'singer': 'xiaolong', 'album': 'wangwang'}\n",
      "{'singer': 'yaogun', 'album': 'jiejie', 'sing_num': 16}\n",
      "{'singer': 'liuxing', 'album': 'lvlv', 'sing_num': 15}\n"
     ]
    }
   ],
   "source": [
    "# 专辑\n",
    "def make_album(singer_name, album_name, sing_num=''):\n",
    "    d = {'singer':singer_name, 'album':album_name,}\n",
    "    if sing_num:\n",
    "        d['sing_num'] = sing_num\n",
    "    return d\n",
    "\n",
    "i = make_album('xiaolong', 'wangwang')\n",
    "print(i)\n",
    "i = make_album('yaogun', 'jiejie', 16)\n",
    "print(i)\n",
    "i = make_album('liuxing', 'lvlv', 15)\n",
    "print(i)"
   ]
  },
  {
   "cell_type": "code",
   "execution_count": 85,
   "metadata": {},
   "outputs": [
    {
     "name": "stdout",
     "output_type": "stream",
     "text": [
      "\n",
      "请依次输入歌手名字和专辑名称，输入为'q'时退出！\n",
      "请输入歌手名字：longlong\n",
      "请输入专辑名称：wudi\n",
      "{'singer': 'longlong', 'album': 'wudi'}\n",
      "\n",
      "请依次输入歌手名字和专辑名称，输入为'q'时退出！\n",
      "请输入歌手名字：xiaoming\n",
      "请输入专辑名称：sidi\n",
      "{'singer': 'xiaoming', 'album': 'sidi'}\n",
      "\n",
      "请依次输入歌手名字和专辑名称，输入为'q'时退出！\n",
      "请输入歌手名字：dabemg\n",
      "请输入专辑名称：sadi\n",
      "{'singer': 'dabemg', 'album': 'sadi'}\n",
      "\n",
      "请依次输入歌手名字和专辑名称，输入为'q'时退出！\n",
      "请输入歌手名字：q\n"
     ]
    }
   ],
   "source": [
    "def make_album(singer_name, album_name, sing_num=''):\n",
    "    d = {'singer':singer_name, 'album':album_name,}\n",
    "    return d\n",
    "\n",
    "while True:\n",
    "    print(\"\\n请依次输入歌手名字和专辑名称，输入为'q'时退出！\")\n",
    "    s_name = input('请输入歌手名字：')\n",
    "    if s_name == 'q':\n",
    "        break\n",
    "    a_name = input('请输入专辑名称：')\n",
    "    if a_name == 'q':\n",
    "        break\n",
    "    \n",
    "    i = make_album(s_name, a_name)\n",
    "    print(i)"
   ]
  },
  {
   "cell_type": "code",
   "execution_count": 86,
   "metadata": {},
   "outputs": [
    {
     "name": "stdout",
     "output_type": "stream",
     "text": [
      "Hanhan 你好！\n",
      "Erlog 你好！\n",
      "Sanwang 你好！\n"
     ]
    }
   ],
   "source": [
    "# 传递列表\n",
    "def greet_users(names):\n",
    "    \"\"\"向列表中的每位用户都发出简单的问候\"\"\"\n",
    "    for name in names:    # 遍历收到的列表\n",
    "        i = name.title() + \" 你好！\"\n",
    "        print(i)\n",
    "\n",
    "l = ['hanhan', 'erlog','sanwang']\n",
    "greet_users(l)"
   ]
  },
  {
   "cell_type": "code",
   "execution_count": 101,
   "metadata": {
    "scrolled": false
   },
   "outputs": [
    {
     "name": "stdout",
     "output_type": "stream",
     "text": [
      "fish\n",
      "saomai\n",
      "baozi\n",
      "jiaozi\n",
      "****************************************\n",
      "fish\n",
      "saomai\n",
      "baozi\n",
      "jiaozi\n",
      "\n",
      "[]\n",
      "\n",
      "\n",
      "================================================================================\n",
      "\n",
      "\n",
      "fish\n",
      "saomai\n",
      "baozi\n",
      "jiaozi\n",
      "****************************************\n",
      "fish\n",
      "saomai\n",
      "baozi\n",
      "jiaozi\n"
     ]
    }
   ],
   "source": [
    "# 修改列表（和while的修改大同小异，先复习一下while的例子）\n",
    "# 首先创建一个列表，包含一些食物\n",
    "food = ['jiaozi', 'baozi', 'saomai','fish']\n",
    "# 再来一个空列表（代表我啥都没吃过）\n",
    "eating = []\n",
    "# 将foods中的食物一一品尝后放到eating中\n",
    "while food:\n",
    "    i = food.pop()\n",
    "    print(i)\n",
    "    eating.append(i)\n",
    "print(\"*\" * 40)\n",
    "\n",
    "# 遍历eating并打印内容\n",
    "for j in eating:\n",
    "    print(j)\n",
    "print()\n",
    "# 打印food检验\n",
    "print(food)\n",
    "\n",
    "print()\n",
    "print()\n",
    "print(\"==\" * 40)\n",
    "print()\n",
    "print()\n",
    "# 接下来我们将使用两个！！！函数来进行修改\n",
    "food = ['jiaozi', 'baozi', 'saomai','fish']\n",
    "eating = []\n",
    "# 第一个函数用来品尝food并添加到eating中\n",
    "def add_eating(food, eating):\n",
    "    while food:\n",
    "        i = food.pop()\n",
    "        print(i)\n",
    "        eating.append(i)\n",
    "\n",
    "# 第二个函数用来显示改变的列表\n",
    "def show_eating(eating):\n",
    "    for j in eating:\n",
    "        print(j)\n",
    "\n",
    "# 最后调用他俩\n",
    "add_eating(food,eating)\n",
    "print(\"*\" * 40)\n",
    "show_eating(eating) # 虽然两个函数结果一致，但第一个是从food弹出的内容依次打印，第二个是从eating遍历的内容依次打印"
   ]
  },
  {
   "cell_type": "code",
   "execution_count": 106,
   "metadata": {},
   "outputs": [
    {
     "name": "stdout",
     "output_type": "stream",
     "text": [
      "Dawei\n",
      "Kebofeier\n",
      "Erwei\n",
      "Xiaokebofeier\n",
      "['dawei', 'kebofeier', 'erwei', 'xiaokebofeier']\n"
     ]
    }
   ],
   "source": [
    "# 魔术师\n",
    "magic = ['dawei', 'kebofeier', 'erwei', 'xiaokebofeier']\n",
    "\n",
    "def show_magicians(m):\n",
    "    for i in m:\n",
    "        print(i.title())\n",
    "show_magicians(magic)\n",
    "print(magic)\n"
   ]
  },
  {
   "cell_type": "code",
   "execution_count": 153,
   "metadata": {},
   "outputs": [
    {
     "name": "stdout",
     "output_type": "stream",
     "text": [
      "****************************************\n",
      "The Great Xiaokebofeier\n",
      "The Great Erwei\n",
      "The Great Kebofeier\n",
      "The Great Dawei\n"
     ]
    }
   ],
   "source": [
    "# 加强版魔术师\n",
    "magic = ['dawei', 'kebofeier', 'erwei', 'xiaokebofeier']\n",
    "make_magic = []\n",
    "\n",
    "def show_magicians(m):\n",
    "    for i in m:\n",
    "        print(i.title())\n",
    "        \n",
    "        \n",
    "def make_great(m, m_magic):\n",
    "    while m:\n",
    "        i = m.pop()\n",
    "        i = \"the Great \" + str(i.title())\n",
    "        m_magic.append(i)\n",
    "\n",
    "        \n",
    "make_great(magic, make_magic)\n",
    "print(\"*\" * 40)\n",
    "show_magicians(magic)\n",
    "show_magicians(make_magic)"
   ]
  },
  {
   "cell_type": "code",
   "execution_count": 140,
   "metadata": {},
   "outputs": [
    {
     "name": "stdout",
     "output_type": "stream",
     "text": [
      "****************************************\n",
      "Dawei\n",
      "Kebofeier\n",
      "Erwei\n",
      "Xiaokebofeier\n",
      "The Great Xiaokebofeier\n",
      "The Great Erwei\n",
      "The Great Kebofeier\n",
      "The Great Dawei\n"
     ]
    }
   ],
   "source": [
    "# 加强版魔术师2\n",
    "magic = ['dawei', 'kebofeier', 'erwei', 'xiaokebofeier']\n",
    "make_magic = []\n",
    "def show_magicians(m):\n",
    "    for i in m:\n",
    "        print(i.title())\n",
    "        \n",
    "        \n",
    "def make_great(m, m_magic):\n",
    "    while m:\n",
    "        i = m.pop()\n",
    "        i = \"the Great \" + str(i.title())\n",
    "        m_magic.append(i)\n",
    "\n",
    "        \n",
    "make_great(magic[:], make_magic)\n",
    "print(\"*\" * 40)\n",
    "show_magicians(magic)\n",
    "show_magicians(make_magic)"
   ]
  },
  {
   "cell_type": "code",
   "execution_count": 151,
   "metadata": {},
   "outputs": [
    {
     "name": "stdout",
     "output_type": "stream",
     "text": [
      "\n",
      "Make a 15-inch pizza with folowing types:\n",
      "- red\n",
      "\n",
      "Make a 20-inch pizza with folowing types:\n",
      "- ice\n",
      "- green\n",
      "- flame\n"
     ]
    }
   ],
   "source": [
    "# 结合使用位置实参和任意数量实参\n",
    "# 又是pizza案例，这回有两个参数，一个是pizza尺寸，一个是种类，种类可以有多个\n",
    "# *types可创建一个名为types的空元组，想加多少实参都可以\n",
    "def make_pizza(size, *types):# 注意这种形参和有默认参数的形参都要放后面！！！\n",
    "    print(\"\\nMake a \" + str(size) + \"-inch pizza with folowing types:\")\n",
    "    for t in types:\n",
    "        print(\"- \" + t)# 这里有多少形参就打印多少\n",
    "\n",
    "\n",
    "make_pizza(15, \"red\")\n",
    "make_pizza(20, \"ice\", \"green\", \"flame\")"
   ]
  },
  {
   "cell_type": "code",
   "execution_count": 161,
   "metadata": {},
   "outputs": [
    {
     "name": "stdout",
     "output_type": "stream",
     "text": [
      "{'first_name': 'liu', 'last_name': 'yu', 'age': 18, 'home': 'shanghai'}\n",
      "{'first_name': 'lin', 'last_name': 'yang', 'age': 28, 'hobby': 'football'}\n"
     ]
    }
   ],
   "source": [
    "# 使用任意数量的关键字实参\n",
    "# 将函数编写成可以接受任意数量的键-值对\n",
    "def build_dict(first, last, **user_info):# 两个星号代表创建了一个空字典（接受所有的关键字参数！！！）\n",
    "    \"\"\"创建一个字典，其中包含我们知道的有关用户的一切\"\"\"\n",
    "    dict = {}\n",
    "    dict['first_name'] = first\n",
    "    dict['last_name'] = last\n",
    "    for k, v in user_info.items():\n",
    "        dict[k] = v\n",
    "    return dict\n",
    "\n",
    "i = build_dict('liu', 'yu', age=18, home=\"shanghai\")\n",
    "print(i)\n",
    "i = build_dict('lin', 'yang', age=28, hobby=\"football\")\n",
    "print(i)"
   ]
  },
  {
   "cell_type": "code",
   "execution_count": 167,
   "metadata": {},
   "outputs": [
    {
     "name": "stdout",
     "output_type": "stream",
     "text": [
      "\n",
      "你想要的三明治颜色有：\n",
      "- red\n",
      "\n",
      "你想要的三明治颜色有：\n",
      "- red\n",
      "- blue\n",
      "\n",
      "你想要的三明治颜色有：\n",
      "- red\n",
      "- blue\n",
      "- green\n"
     ]
    }
   ],
   "source": [
    "# 多种颜色的三明治\n",
    "def sandwich_color(*colors):\n",
    "    print(\"\\n你想要的三明治颜色有：\")\n",
    "    for i in colors:\n",
    "        print('- ' + i)\n",
    "\n",
    "sandwich_color('red')\n",
    "sandwich_color('red', 'blue')\n",
    "sandwich_color('red', 'blue', 'green')"
   ]
  },
  {
   "cell_type": "code",
   "execution_count": 168,
   "metadata": {},
   "outputs": [
    {
     "name": "stdout",
     "output_type": "stream",
     "text": [
      "{'first_name': 'liu', 'last_name': 'linrui', 'age': 27, 'home': 'neimenggu', 'hobby': 'python'}\n"
     ]
    }
   ],
   "source": [
    "# 用户简介\n",
    "def build_dict(first, last, **user_info):\n",
    "    \"\"\"创建一个字典，其中包含我们知道的有关用户的一切\"\"\"\n",
    "    dict = {}\n",
    "    dict['first_name'] = first\n",
    "    dict['last_name'] = last\n",
    "    for k, v in user_info.items():\n",
    "        dict[k] = v\n",
    "    return dict\n",
    "\n",
    "i = build_dict('liu', 'linrui', age=27, home=\"neimenggu\", hobby='python')\n",
    "print(i)"
   ]
  },
  {
   "cell_type": "code",
   "execution_count": 170,
   "metadata": {},
   "outputs": [
    {
     "name": "stdout",
     "output_type": "stream",
     "text": [
      "{'c_made': 'subaru', 'c_model': 'outback', 'color': 'blue', 'tow_package': True}\n"
     ]
    }
   ],
   "source": [
    "# 汽车\n",
    "def make_car(made, model, **car_info):\n",
    "    dict = {}\n",
    "    dict['c_made'] = made\n",
    "    dict['c_model'] = model\n",
    "    for k, v in car_info.items():\n",
    "        dict[k] = v\n",
    "    return dict\n",
    "\n",
    "car = make_car('subaru', 'outback', color='blue', tow_package=True)\n",
    "print(car)"
   ]
  }
 ],
 "metadata": {
  "kernelspec": {
   "display_name": "Python 3",
   "language": "python",
   "name": "python3"
  },
  "language_info": {
   "codemirror_mode": {
    "name": "ipython",
    "version": 3
   },
   "file_extension": ".py",
   "mimetype": "text/x-python",
   "name": "python",
   "nbconvert_exporter": "python",
   "pygments_lexer": "ipython3",
   "version": "3.6.3"
  }
 },
 "nbformat": 4,
 "nbformat_minor": 2
}
