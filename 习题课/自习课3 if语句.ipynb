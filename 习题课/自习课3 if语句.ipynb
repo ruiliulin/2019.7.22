{
 "cells": [
  {
   "cell_type": "markdown",
   "metadata": {},
   "source": [
    "# Python编程\n",
    "### 从入门到实践（5章）"
   ]
  },
  {
   "cell_type": "code",
   "execution_count": 6,
   "metadata": {},
   "outputs": [
    {
     "name": "stdout",
     "output_type": "stream",
     "text": [
      "True\n",
      "Audi\n"
     ]
    }
   ],
   "source": [
    "car = \"Audi\"\n",
    "print(car.lower() == \"audi\")\n",
    "print(car)"
   ]
  },
  {
   "cell_type": "code",
   "execution_count": 7,
   "metadata": {},
   "outputs": [
    {
     "name": "stdout",
     "output_type": "stream",
     "text": [
      "Is cai == 'subaru'? I predict True\n",
      "True\n",
      "\n",
      "Is cai == 'audi'? I predict False\n",
      "False\n"
     ]
    }
   ],
   "source": [
    "car = 'suvaru'\n",
    "print(\"Is cai == 'subaru'? I predict True\")\n",
    "print(car == 'suvaru')\n",
    "\n",
    "print(\"\\nIs cai == 'audi'? I predict False\")\n",
    "print(car == 'audi')`"
   ]
  },
  {
   "cell_type": "code",
   "execution_count": 9,
   "metadata": {},
   "outputs": [
    {
     "name": "stdout",
     "output_type": "stream",
     "text": [
      "False\n",
      "False\n",
      "False\n",
      "False\n",
      "True\n",
      "True\n",
      "True\n",
      "True\n",
      "False\n",
      "True\n"
     ]
    }
   ],
   "source": [
    "a = 5\n",
    "b = 8\n",
    "c = 10\n",
    "print(a > b)\n",
    "print(a > c)\n",
    "print(a == b)\n",
    "print(a == c)\n",
    "print(a != b)\n",
    "print(a != c)\n",
    "print(a < b)\n",
    "print(a < c)\n",
    "print(b == c)\n",
    "print(b != c)"
   ]
  },
  {
   "cell_type": "code",
   "execution_count": 28,
   "metadata": {},
   "outputs": [
    {
     "name": "stdout",
     "output_type": "stream",
     "text": [
      "False\n",
      "True\n",
      "False\n",
      "True\n",
      "\n",
      "False\n",
      "True\n",
      "False\n",
      "True\n",
      "\n",
      "False\n",
      "True\n",
      "True\n"
     ]
    }
   ],
   "source": [
    "l = [2,2,3,4,3,666,\"love\",\"LOVE\",\"like\",\"love\"]\n",
    "print(l[6] == l[7])\n",
    "print(l[6] == l[9])\n",
    "print(l[7].lower() == \"Love\")\n",
    "print(l[7].lower() == \"love\")\n",
    "print()\n",
    "print(l[1] > l[0])\n",
    "print(l[3] > l[2])\n",
    "print(l[1] > l[2] and l[2] <l[3])\n",
    "print(l[1] > l[2] or l[2] <l[3])\n",
    "print()\n",
    "print(5 in l)\n",
    "print(4 in l)\n",
    "print(\"love\" in l)"
   ]
  },
  {
   "cell_type": "code",
   "execution_count": 31,
   "metadata": {},
   "outputs": [
    {
     "name": "stdout",
     "output_type": "stream",
     "text": [
      "player get 5 point\n",
      "\n"
     ]
    }
   ],
   "source": [
    "alien_color = 'green'\n",
    "if alien_color == 'green':\n",
    "    print(\"player get 5 point\")\n",
    "alien_color = 'red'\n",
    "print()\n",
    "\n",
    "if alien_color == 'green':\n",
    "    print(\"player get 5 point\")   "
   ]
  },
  {
   "cell_type": "code",
   "execution_count": 32,
   "metadata": {},
   "outputs": [
    {
     "name": "stdout",
     "output_type": "stream",
     "text": [
      "player get 5 point\n",
      "\n",
      "player get 10 point\n"
     ]
    }
   ],
   "source": [
    "alien_color = 'green'\n",
    "if alien_color == 'green':\n",
    "    print(\"player get 5 point\")\n",
    "else:\n",
    "    print(\"player get 10 point\")\n",
    "print()\n",
    "\n",
    "alien_color = 'red'\n",
    "if alien_color == 'green':\n",
    "    print(\"player get 5 point\")\n",
    "else:\n",
    "    print(\"player get 10 point\")"
   ]
  },
  {
   "cell_type": "code",
   "execution_count": 36,
   "metadata": {},
   "outputs": [
    {
     "name": "stdout",
     "output_type": "stream",
     "text": [
      "player get 5 point\n",
      "\n",
      "player get 10 point\n",
      "\n",
      "player get 15 point\n"
     ]
    }
   ],
   "source": [
    "alien_color = 'green'\n",
    "if alien_color == 'green':\n",
    "    print(\"player get 5 point\")\n",
    "elif alien_color == \"yellow\":\n",
    "    print(\"player get 10 point\")\n",
    "else:\n",
    "    print(\"player get 15 point\")\n",
    "print()\n",
    "\n",
    "alien_color = 'yellow'\n",
    "if alien_color == 'green':\n",
    "    print(\"player get 5 point\")\n",
    "elif alien_color == \"yellow\":\n",
    "    print(\"player get 10 point\")\n",
    "else:\n",
    "    print(\"player get 15 point\")\n",
    "print()\n",
    "\n",
    "alien_color = 'red'\n",
    "if alien_color == 'green':\n",
    "    print(\"player get 5 point\")\n",
    "elif alien_color == \"yellow\":\n",
    "    print(\"player get 10 point\")\n",
    "else:\n",
    "    print(\"player get 15 point\")"
   ]
  },
  {
   "cell_type": "code",
   "execution_count": 39,
   "metadata": {},
   "outputs": [
    {
     "name": "stdout",
     "output_type": "stream",
     "text": [
      "成熟稳重的大叔真棒\n"
     ]
    }
   ],
   "source": [
    "age = 50\n",
    "if age < 2:\n",
    "    print(\"小婴儿，你好啊\")\n",
    "elif 2 <= age < 4:\n",
    "    print(\"小不点儿，都快会学走路啦\")\n",
    "elif 4 <= age < 13:\n",
    "    print(\"这是谁家的小弟弟啊，JJ都漏在外头啦\")\n",
    "elif 13 <= age < 20:\n",
    "    print(\"少年好功夫，这床上功夫首屈一指\")\n",
    "elif 20 <= age < 65:\n",
    "    print(\"成熟稳重的大叔真棒\")\n",
    "else:\n",
    "    print(\"唉，老啦，不中用啦\")"
   ]
  },
  {
   "cell_type": "code",
   "execution_count": 40,
   "metadata": {},
   "outputs": [
    {
     "name": "stdout",
     "output_type": "stream",
     "text": [
      "You really like apple\n",
      "You really like banana\n",
      "You really like orange\n"
     ]
    }
   ],
   "source": [
    "favourite_fruits = [\"apple\",\"banana\",\"orange\"]\n",
    "if \"apple\" in favourite_fruits:\n",
    "    print(\"You really like apple\")\n",
    "if \"banana\" in favourite_fruits:\n",
    "    print(\"You really like banana\")\n",
    "if \"orange\" in favourite_fruits:\n",
    "    print(\"You really like orange\")\n",
    "if \"peach\" in favourite_fruits:\n",
    "    print(\"You really like peach\")\n",
    "if \"watermelon\" in favourite_fruits:\n",
    "    print(\"You really like watermelon\")"
   ]
  },
  {
   "cell_type": "code",
   "execution_count": 46,
   "metadata": {},
   "outputs": [
    {
     "name": "stdout",
     "output_type": "stream",
     "text": [
      "Hello admin,how are you?\n",
      "liuliu，你好\n",
      "linlin，你好\n",
      "ruirui，你好\n",
      "xiaoming，你好\n"
     ]
    }
   ],
   "source": [
    "l = [\"admin\",\"liuliu\",\"linlin\",\"ruirui\",\"xiaoming\"]\n",
    "\n",
    "for i in l:\n",
    "    if i == \"admin\":\n",
    "        print(\"Hello \" + str(i) + \",how are you?\")\n",
    "    else:\n",
    "        print(str(i) + '，你好')\n",
    "    "
   ]
  },
  {
   "cell_type": "code",
   "execution_count": 50,
   "metadata": {},
   "outputs": [
    {
     "name": "stdout",
     "output_type": "stream",
     "text": [
      "We need to find some users!\n"
     ]
    }
   ],
   "source": [
    "l = []\n",
    "if l:\n",
    "    for i in l:\n",
    "        if i == \"admin\":\n",
    "            print(\"Hello \" + str(i) + \",how are you?\")\n",
    "        else:\n",
    "            print(str(i) + '，你好')\n",
    "else:\n",
    "    print(\"We need to find some users!\")"
   ]
  },
  {
   "cell_type": "code",
   "execution_count": 57,
   "metadata": {},
   "outputs": [
    {
     "name": "stdout",
     "output_type": "stream",
     "text": [
      "weapon用户名未被使用\n",
      "ganmes用户名未被使用\n",
      "LinLin这一用户名已存在，请输入别的用户名\n",
      "Wudi用户名未被使用\n",
      "ADMIN这一用户名已存在，请输入别的用户名\n"
     ]
    }
   ],
   "source": [
    "current_users = [\"admin\",\"liuliu\",\"linlin\",\"ruirui\",\"xiaoming\"]\n",
    "new_users = [\"weapon\",\"ganmes\",\"LinLin\",\"Wudi\",\"ADMIN\"]\n",
    "for i in new_users:\n",
    "    t = i.lower()\n",
    "    if t in current_users:\n",
    "        print(str(i) + \"这一用户名已存在，请输入别的用户名\")\n",
    "    else:\n",
    "        print(str(i) + \"用户名未被使用\")"
   ]
  },
  {
   "cell_type": "code",
   "execution_count": 58,
   "metadata": {},
   "outputs": [
    {
     "name": "stdout",
     "output_type": "stream",
     "text": [
      "1st\n",
      "2nd\n",
      "3rd\n",
      "4th\n",
      "5th\n",
      "6th\n",
      "7th\n",
      "8th\n",
      "9th\n"
     ]
    }
   ],
   "source": [
    "l = [1,2,3,4,5,6,7,8,9]\n",
    "for i in l:\n",
    "    if i == 1:\n",
    "        print(str(i) + \"st\")\n",
    "    elif i == 2:\n",
    "        print(str(i) + \"nd\")\n",
    "    elif i == 3:\n",
    "        print(str(i) + \"rd\")\n",
    "    else:\n",
    "        print(str(i) + \"th\")"
   ]
  }
 ],
 "metadata": {
  "kernelspec": {
   "display_name": "Python 3",
   "language": "python",
   "name": "python3"
  },
  "language_info": {
   "codemirror_mode": {
    "name": "ipython",
    "version": 3
   },
   "file_extension": ".py",
   "mimetype": "text/x-python",
   "name": "python",
   "nbconvert_exporter": "python",
   "pygments_lexer": "ipython3",
   "version": "3.6.3"
  }
 },
 "nbformat": 4,
 "nbformat_minor": 2
}
