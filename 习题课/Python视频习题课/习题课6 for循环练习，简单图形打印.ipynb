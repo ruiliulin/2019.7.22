{
 "cells": [
  {
   "cell_type": "markdown",
   "metadata": {},
   "source": [
    "# 简单图形打印"
   ]
  },
  {
   "cell_type": "code",
   "execution_count": 5,
   "metadata": {},
   "outputs": [
    {
     "name": "stdout",
     "output_type": "stream",
     "text": [
      "* * * * *\n",
      "* * * * *\n",
      "* * * * *\n",
      "* * * * *\n",
      "* * * * *\n"
     ]
    }
   ],
   "source": [
    "'''\n",
    "打印以下图形在输出上面\n",
    "* * * * *\n",
    "* * * * *\n",
    "* * * * *\n",
    "* * * * *\n",
    "* * * * *\n",
    "'''\n",
    "\n",
    "print(\"* * * * *\")\n",
    "print(\"* * * * *\")\n",
    "print(\"* * * * *\")\n",
    "print(\"* * * * *\")\n",
    "print(\"* * * * *\")\n"
   ]
  },
  {
   "cell_type": "code",
   "execution_count": 41,
   "metadata": {},
   "outputs": [
    {
     "name": "stdout",
     "output_type": "stream",
     "text": [
      "*****\n",
      "*****\n",
      "*****\n",
      "*****\n",
      "*****\n"
     ]
    }
   ],
   "source": [
    "# 起始\n",
    "print(\"*\" * 5)\n",
    "print(\"*\" * 5)\n",
    "print(\"*\" * 5)\n",
    "print(\"*\" * 5)\n",
    "print(\"*\" * 5)"
   ]
  },
  {
   "cell_type": "code",
   "execution_count": 8,
   "metadata": {},
   "outputs": [
    {
     "name": "stdout",
     "output_type": "stream",
     "text": [
      "* * * * * \n",
      "* * * * * \n",
      "* * * * * \n",
      "* * * * * \n",
      "* * * * * \n"
     ]
    }
   ],
   "source": [
    "# 更改上面代码\n",
    "print(\"* \" * 5)\n",
    "print(\"* \" * 5)\n",
    "print(\"* \" * 5)\n",
    "print(\"* \" * 5)\n",
    "print(\"* \" * 5)"
   ]
  },
  {
   "cell_type": "code",
   "execution_count": 11,
   "metadata": {},
   "outputs": [
    {
     "name": "stdout",
     "output_type": "stream",
     "text": [
      "* * * * *\n",
      "* * * * *\n",
      "* * * * *\n",
      "* * * * *\n",
      "* * * * *\n"
     ]
    }
   ],
   "source": [
    "# 利用for循环更改上面案例\n",
    "for i in range(0,5):\n",
    "    print(\"* * * * *\")"
   ]
  },
  {
   "cell_type": "code",
   "execution_count": 21,
   "metadata": {},
   "outputs": [
    {
     "name": "stdout",
     "output_type": "stream",
     "text": [
      "* * * * * \n",
      "* * * * * \n",
      "* * * * * \n",
      "* * * * * \n",
      "* * * * * \n"
     ]
    }
   ],
   "source": [
    "# 利用for循环更改上面案例\n",
    "for i in range(0,5):\n",
    "    print(\"* \" * 5)"
   ]
  },
  {
   "cell_type": "code",
   "execution_count": 20,
   "metadata": {},
   "outputs": [
    {
     "name": "stdout",
     "output_type": "stream",
     "text": [
      "* * * * * \n",
      "* * * * * \n",
      "* * * * * \n",
      "* * * * * \n",
      "* * * * * \n"
     ]
    }
   ],
   "source": [
    "# 利用双层for循环更改上面案例\n",
    "for i in range(0,5):\n",
    "    for o in range(0,5):# 利用for循环打印一行星号\n",
    "        print(\"*\",end=\" \")# print默认自动换行，可通过end参数控制\n",
    "    print()# 注意print的对齐位置"
   ]
  },
  {
   "cell_type": "code",
   "execution_count": 1,
   "metadata": {},
   "outputs": [
    {
     "data": {
      "text/plain": [
       "'\\n打印下面图形\\n* * * * * \\n*       *\\n*       *\\n*       *\\n* * * * * \\n\\n'"
      ]
     },
     "execution_count": 1,
     "metadata": {},
     "output_type": "execute_result"
    }
   ],
   "source": [
    "# 简单图形打印\n",
    "\"\"\"\n",
    "打印下面图形\n",
    "* * * * * \n",
    "*       *\n",
    "*       *\n",
    "*       *\n",
    "* * * * * \n",
    "\n",
    "\"\"\"\n"
   ]
  },
  {
   "cell_type": "code",
   "execution_count": 3,
   "metadata": {},
   "outputs": [
    {
     "name": "stdout",
     "output_type": "stream",
     "text": [
      "* * * * * \n",
      "*       * \n",
      "*       * \n",
      "*       * \n",
      "* * * * * \n"
     ]
    }
   ],
   "source": [
    "for i in range(5):\n",
    "    if i == 0 or i == 4:\n",
    "        print(\"* \" * 5)\n",
    "    else:\n",
    "        for j in range(5):\n",
    "            if j == 2 or j == 3 or j == 1:\n",
    "                print(\" \",end=\" \")\n",
    "            else:\n",
    "                print(\"*\",end= \" \")\n",
    "        print()"
   ]
  },
  {
   "cell_type": "code",
   "execution_count": 24,
   "metadata": {},
   "outputs": [
    {
     "name": "stdout",
     "output_type": "stream",
     "text": [
      "* * * * * \n",
      "*       *\n",
      "*       *\n",
      "*       *\n",
      "* * * * * \n"
     ]
    }
   ],
   "source": [
    "for i in range(0,5):# 控制行数\n",
    "    if i == 0 or i == 4:\n",
    "        print(\"* \" * 5)\n",
    "    if i == 1 or i == 2 or i == 3:\n",
    "        print(\"*       *\")\n",
    " "
   ]
  },
  {
   "cell_type": "code",
   "execution_count": 13,
   "metadata": {},
   "outputs": [
    {
     "name": "stdout",
     "output_type": "stream",
     "text": [
      "* * * * * \n",
      "*       * \n",
      "*       * \n",
      "*       * \n",
      "* * * * * \n"
     ]
    }
   ],
   "source": [
    "for i in range(0,5):# 控制行数\n",
    "    if i == 0 or i == 4:\n",
    "        print(\"* \" * 5)\n",
    "    else:\n",
    "        for o in range(5):# 控制列数\n",
    "            if o == 1 or o == 2 or o == 3:\n",
    "                print(\" \",end= \" \")\n",
    "            else:\n",
    "                print(\"*\",end= \" \")\n",
    "        print()"
   ]
  },
  {
   "cell_type": "code",
   "execution_count": 5,
   "metadata": {
    "scrolled": true
   },
   "outputs": [
    {
     "name": "stdout",
     "output_type": "stream",
     "text": [
      "*\n",
      "* *\n",
      "* * *\n",
      "* * * *\n",
      "* * * * *\n"
     ]
    }
   ],
   "source": [
    "# 打印实心三角形图形\n",
    "print(\"*\")\n",
    "print(\"* *\")\n",
    "print(\"* * *\")\n",
    "print(\"* * * *\")\n",
    "print(\"* * * * *\")"
   ]
  },
  {
   "cell_type": "code",
   "execution_count": 7,
   "metadata": {},
   "outputs": [
    {
     "name": "stdout",
     "output_type": "stream",
     "text": [
      "* \n",
      "* * \n",
      "* * * \n",
      "* * * * \n",
      "* * * * * \n"
     ]
    }
   ],
   "source": [
    "for i in range(5):\n",
    "    for j in range(0, i+1):# i+1是因为左包括右不包括！！！\n",
    "        print(\"*\", end=\" \")\n",
    "    print()"
   ]
  },
  {
   "cell_type": "code",
   "execution_count": 19,
   "metadata": {
    "scrolled": true
   },
   "outputs": [
    {
     "name": "stdout",
     "output_type": "stream",
     "text": [
      "* \n",
      "* * \n",
      "* * * \n",
      "* * * * \n",
      "* * * * * \n"
     ]
    }
   ],
   "source": [
    "for i in range(5):\n",
    "    for o in range(i + 1):\n",
    "        print(\"*\",end=\" \")\n",
    "    print()"
   ]
  },
  {
   "cell_type": "code",
   "execution_count": 150,
   "metadata": {},
   "outputs": [
    {
     "name": "stdout",
     "output_type": "stream",
     "text": [
      "1×1=1 \n",
      "2×1=2 2×2=4 \n",
      "3×1=3 3×2=6  3×3=9 \n",
      "4×1=4 4×2=8  4×3=12 4×4=16 \n",
      "5×1=5 5×2=10 5×3=15 5×4=20 5×5=25 \n",
      "6×1=6 6×2=12 6×3=18 6×4=24 6×5=30 6×6=36 \n",
      "7×1=7 7×2=14 7×3=21 7×4=28 7×5=35 7×6=42 7×7=49 \n",
      "8×1=8 8×2=16 8×3=24 8×4=32 8×5=40 8×6=48 8×7=56 8×8=64 \n",
      "9×1=9 9×2=18 9×3=27 9×4=36 9×5=45 9×6=54 9×7=63 9×8=72 9×9=81 \n"
     ]
    }
   ],
   "source": [
    "# 九九乘法表：\n",
    "for i in range(1, 10):\n",
    "    for j in range(1, i+1):\n",
    "        if (i == 3 and j == 3) or (i == 4 and j == 3):# 打印空格方便对齐\n",
    "            print(\"\", end=\" \")\n",
    "        print('%d×%d='%(i,j) + str(i*j), end=\" \")# 注意这个print不能和上一行的print对齐！！！\n",
    "    print()"
   ]
  },
  {
   "cell_type": "code",
   "execution_count": 115,
   "metadata": {},
   "outputs": [
    {
     "name": "stdout",
     "output_type": "stream",
     "text": [
      "1 \n",
      "2 4 \n",
      "3 6  9 \n",
      "4 8  12 16 \n",
      "5 10 15 20 25 \n",
      "6 12 18 24 30 36 \n",
      "7 14 21 28 35 42 49 \n",
      "8 16 24 32 40 48 56 64 \n",
      "9 18 27 36 45 54 63 72 81 \n"
     ]
    }
   ],
   "source": [
    "# 九九乘法表简易版：\n",
    "for i in range(1, 10):\n",
    "    for j in range(1, i+1):\n",
    "        if i == 3 and j == 3 or i == 4 and j == 3:\n",
    "            print(\" \", end=\"\")\n",
    "        print(i * j, end=\" \")\n",
    "    print()"
   ]
  },
  {
   "cell_type": "code",
   "execution_count": 8,
   "metadata": {},
   "outputs": [
    {
     "name": "stdout",
     "output_type": "stream",
     "text": [
      "*\n",
      "* *\n",
      "*   *\n",
      "*     *\n",
      "* * * * *\n"
     ]
    }
   ],
   "source": [
    "# 打印空心三角形图形\n",
    "print(\"*\")\n",
    "print(\"* *\")\n",
    "print(\"*   *\")\n",
    "print(\"*     *\")\n",
    "print(\"* * * * *\")"
   ]
  },
  {
   "cell_type": "code",
   "execution_count": 17,
   "metadata": {},
   "outputs": [
    {
     "name": "stdout",
     "output_type": "stream",
     "text": [
      "* \n",
      "* * \n",
      "*   * \n",
      "*     * \n",
      "* * * * * \n"
     ]
    }
   ],
   "source": [
    "for i in range(5):\n",
    "    for j in range(i+1):\n",
    "        if i == 0 or i == 4:\n",
    "            print(\"*\",end=\" \")\n",
    "        else:\n",
    "            if j != 0 and j != i:\n",
    "                print(\" \",end=\" \")\n",
    "            else:\n",
    "                print(\"*\",end=\" \")\n",
    "    print()"
   ]
  },
  {
   "cell_type": "code",
   "execution_count": 120,
   "metadata": {},
   "outputs": [
    {
     "name": "stdout",
     "output_type": "stream",
     "text": [
      "* \n",
      "* * \n",
      "*   * \n",
      "*     * \n",
      "* * * * * \n"
     ]
    }
   ],
   "source": [
    "# for\n",
    "for i in range(5):\n",
    "    for o in range(i + 1):\n",
    "        if i != 2 and i != 3:\n",
    "            print(\"*\",end= \" \")\n",
    "            \n",
    "        else:\n",
    "            if o == 0 or o == i:\n",
    "                print(\"*\",end= \" \")   \n",
    "            \n",
    "            else:\n",
    "                print(\" \",end= \" \")\n",
    "    print()"
   ]
  },
  {
   "cell_type": "code",
   "execution_count": 152,
   "metadata": {},
   "outputs": [
    {
     "name": "stdout",
     "output_type": "stream",
     "text": [
      "* \n",
      "* * \n",
      "*   * \n",
      "*     * \n",
      "* * * * * \n"
     ]
    }
   ],
   "source": [
    "# for 自己做的，繁琐\n",
    "for i in range(5):\n",
    "    if i != 2 and i != 3:\n",
    "        for o in range(i + 1):\n",
    "            print(\"*\",end= \" \")\n",
    "    else:\n",
    "        for o in range(i + 1):\n",
    "            if o == 0 or o == i:\n",
    "                print(\"*\",end= \" \")   \n",
    "            \n",
    "            else:\n",
    "                print(\" \",end= \" \")   \n",
    "    print() "
   ]
  },
  {
   "cell_type": "code",
   "execution_count": 169,
   "metadata": {},
   "outputs": [
    {
     "name": "stdout",
     "output_type": "stream",
     "text": [
      "* * * * * \n",
      "* * * * \n",
      "* * * \n",
      "* * \n",
      "* \n"
     ]
    }
   ],
   "source": [
    "# 打印倒立三角\n",
    "for i in range(0, 5):\n",
    "    for j in range(0, 5-i):# 注意i的取值，实际上i是从0-4，j应该是从4-0\n",
    "        print(\"*\", end=\" \")\n",
    "    print()\n",
    "    "
   ]
  },
  {
   "cell_type": "code",
   "execution_count": 90,
   "metadata": {},
   "outputs": [
    {
     "name": "stdout",
     "output_type": "stream",
     "text": [
      "* * * * * \n",
      "* * * * \n",
      "* * * \n",
      "* * \n",
      "* \n"
     ]
    }
   ],
   "source": [
    "# 打印倒立三角\n",
    "\n",
    "for i in range(5):\n",
    "    for o in range(5-i):\n",
    "        print(\"*\",end= \" \")\n",
    "    print()"
   ]
  },
  {
   "cell_type": "code",
   "execution_count": 1,
   "metadata": {
    "scrolled": true
   },
   "outputs": [
    {
     "name": "stdout",
     "output_type": "stream",
     "text": [
      "* * * * * \n",
      "* * * * \n",
      "* * * \n",
      "* * \n",
      "* \n"
     ]
    }
   ],
   "source": [
    "# 打印倒立三角\n",
    "\n",
    "for i in range(5,0,-1):# 这次i是先从第五行开始，此时j只有第一列，由于左包括右不包括，即此时i=5，j=0！！！所以第一行i=1，j=4！！即i从5-1，j从0-4\n",
    "    for o in range(0,i):\n",
    "        print(\"*\",end= \" \")\n",
    "    print()"
   ]
  },
  {
   "cell_type": "code",
   "execution_count": 32,
   "metadata": {},
   "outputs": [
    {
     "name": "stdout",
     "output_type": "stream",
     "text": [
      "1×9=9  1×8=8  1×7=7  1×6=6  1×5=5  1×4=4  1×3=3 1×2=2 1×1=1 \n",
      "2×9=18 2×8=16 2×7=14 2×6=12 2×5=10 2×4=8  2×3=6 2×2=4 \n",
      "3×9=27 3×8=24 3×7=21 3×6=18 3×5=15 3×4=12 3×3=9 \n",
      "4×9=36 4×8=32 4×7=28 4×6=24 4×5=20 4×4=16 \n",
      "5×9=45 5×8=40 5×7=35 5×6=30 5×5=25 \n",
      "6×9=54 6×8=48 6×7=42 6×6=36 \n",
      "7×9=63 7×8=56 7×7=49 \n",
      "8×9=72 8×8=64 \n",
      "9×9=81 \n"
     ]
    }
   ],
   "source": [
    "# 倒立九九乘法表（1.自家用）\n",
    "for i in range(1, 10):\n",
    "    for j in range(1, 11-i):\n",
    "        if i == 1 and (j == 2 or j == 3 or j == 4 or j == 5 or j == 6 or j == 7):\n",
    "            print(\" \", end=\"\")\n",
    "        elif i == 2 and j == 7:\n",
    "            print(\" \", end=\"\")\n",
    "        print(\"%d×%d=\"%(i,10-j) + str(i*(10-j)), end=\" \")\n",
    "    print()"
   ]
  },
  {
   "cell_type": "code",
   "execution_count": 34,
   "metadata": {},
   "outputs": [
    {
     "name": "stdout",
     "output_type": "stream",
     "text": [
      "1×9=9 2×9=18 3×9=27 4×9=36 5×9=45 6×9=54 7×9=63 8×9=72 9×9=81 \n",
      "1×8=8 2×8=16 3×8=24 4×8=32 5×8=40 6×8=48 7×8=56 8×8=64 \n",
      "1×7=7 2×7=14 3×7=21 4×7=28 5×7=35 6×7=42 7×7=49 \n",
      "1×6=6 2×6=12 3×6=18 4×6=24 5×6=30 6×6=36 \n",
      "1×5=5 2×5=10 3×5=15 4×5=20 5×5=25 \n",
      "1×4=4 2×4=8  3×4=12 4×4=16 \n",
      "1×3=3 2×3=6  3×3=9 \n",
      "1×2=2 2×2=4 \n",
      "1×1=1 \n"
     ]
    }
   ],
   "source": [
    "# 倒立九九乘法表（2.自家用）\n",
    "for i in range(1, 10):\n",
    "    for j in range(1, 11-i):\n",
    "        if i == 6 and j == 3 or i == 7 and j == 3:\n",
    "            print(\" \", end=\"\")\n",
    "        print(\"%d×%d=\"%(j,10-i) + str((10-i)*j), end=\" \")\n",
    "    print()"
   ]
  },
  {
   "cell_type": "code",
   "execution_count": 165,
   "metadata": {
    "scrolled": true
   },
   "outputs": [
    {
     "name": "stdout",
     "output_type": "stream",
     "text": [
      "* * * * \n",
      "* * * \n",
      "* * \n",
      "* \n",
      "\n",
      "$ $ $ $ $ $ $ $ $ $ $ $ $ $ $ $ $ $ $ $ $ $ $ $ $ $ $ $ $ $ $ $ $ $ $ $ $ $ $ $ \n",
      "\n",
      "* * * * * \n",
      "* * * * \n",
      "* * * \n",
      "* * \n",
      "* \n"
     ]
    }
   ],
   "source": [
    "# 打印倒立三角\n",
    "for i in range(4,-1,-1):# 这次依旧是先想用i从4-0，那么根据右不包括原则i的右边取值应该为-1才行！！！\n",
    "    for o in range(0,i):\n",
    "        print(\"*\",end= \" \")\n",
    "    print()\n",
    "print(\"$ \" * 40)\n",
    "print()\n",
    "for i in range(4,-1,-1):\n",
    "    for o in range(0,i+1):# 由于上面i的取值为-1，所以此时o右边取值必须要i+1才可以取到4-0，否则就是3-（-1），而-1明显没有，所以上面代码只能打印四行\n",
    "        print(\"*\",end= \" \")\n",
    "    print()"
   ]
  },
  {
   "cell_type": "code",
   "execution_count": 168,
   "metadata": {},
   "outputs": [
    {
     "name": "stdout",
     "output_type": "stream",
     "text": [
      "* * * * * \n",
      "*     * \n",
      "*   * \n",
      "* * \n",
      "* \n"
     ]
    }
   ],
   "source": [
    "for i in range(5):\n",
    "    for j in range(5-i):\n",
    "        if i != 0 and i != 4:\n",
    "            if j == 0 or j == 5-i-1:# 为了便于理解为何是5-i-1，以第二行为例，即当i=1时，j=0或j=3时才可打印*号，所以此时j的取值为5-i（i此时为1）-1！！！\n",
    "                print(\"*\", end=\" \")\n",
    "            else:\n",
    "                print(\" \", end=\" \")\n",
    "        else:\n",
    "            print(\"*\", end=\" \")\n",
    "    print()"
   ]
  },
  {
   "cell_type": "code",
   "execution_count": 171,
   "metadata": {},
   "outputs": [
    {
     "name": "stdout",
     "output_type": "stream",
     "text": [
      "* * * * * \n",
      "*     * \n",
      "*   * \n",
      "* * \n",
      "* \n"
     ]
    }
   ],
   "source": [
    "# 空心的倒立三角\n",
    "for i in range(5):\n",
    "    for o in range(5-i):\n",
    "        if i != 1 and i != 2:\n",
    "            print(\"*\",end= \" \")\n",
    "            \n",
    "        else:\n",
    "            if o == 0 or o == 4 - i: # 5-i-1\n",
    "                print(\"*\", end= \" \")   \n",
    "            \n",
    "            else:\n",
    "                print(\" \", end= \" \")\n",
    "        \n",
    "    print()"
   ]
  },
  {
   "cell_type": "code",
   "execution_count": 185,
   "metadata": {},
   "outputs": [
    {
     "name": "stdout",
     "output_type": "stream",
     "text": [
      "     * \n",
      "    * * \n",
      "   * * * \n",
      "  * * * * \n",
      " * * * * * \n"
     ]
    }
   ],
   "source": [
    "# 打印正三角形\n",
    "for i in range(5):# 这个基本不会变的\n",
    "    for k in range(5-i):# 注意这一手是为了打印倒三角空格（参考打印实心倒立三角形的代码）！！！\n",
    "        print(\" \", end=\"\")# 这里空格少打了一个，因为多了就变成反直角三角形了，下面也有示例，二者原理基本是一样的！！！\n",
    "    for j in range(i+1):# 这一手相当于打印第一种实形三角形（去掉上面两行代码在打印就是第一种实心三角形）！！！\n",
    "        print(\"*\", end=\" \")\n",
    "    print()# 总的来说，这就相当于打印一个全是空格的倒立三角形然后在此基础上打印一个普通三角形"
   ]
  },
  {
   "cell_type": "code",
   "execution_count": 213,
   "metadata": {},
   "outputs": [
    {
     "name": "stdout",
     "output_type": "stream",
     "text": [
      "*      \n",
      "* *     \n",
      "* * *    \n",
      "* * * *   \n",
      "* * * * *  \n"
     ]
    }
   ],
   "source": [
    "# 打印正三角形\n",
    "\n",
    "for i in range(5):\n",
    "    for j in range(i+1):# 注意打印顺序一定不能错，不然就还是上面的第一种三角形了，实际上空格还是打了，只是打在后面了，无法直观的体现出来\n",
    "        print(\"*\", end=\" \")\n",
    "    for k in range(5-i):\n",
    "        print(\" \", end=\"\")\n",
    "    \n",
    "   \n",
    "    print()\n",
    "    "
   ]
  },
  {
   "cell_type": "code",
   "execution_count": 191,
   "metadata": {
    "scrolled": true
   },
   "outputs": [
    {
     "name": "stdout",
     "output_type": "stream",
     "text": [
      "          * \n",
      "        * * \n",
      "      * * * \n",
      "    * * * * \n",
      "  * * * * * \n"
     ]
    }
   ],
   "source": [
    "# 打印反直角三角形\n",
    "\n",
    "for i in range(0,5):\n",
    "    for k in range(0,5-i):\n",
    "        print(\"  \", end=\"\")# 和上面唯一的不同就是这里多了个空格！！！实际上还是一样的原理\n",
    "    \n",
    "    for j in range(0,i+1):\n",
    "        print(\"*\", end=\" \")\n",
    "    print()"
   ]
  },
  {
   "cell_type": "code",
   "execution_count": 202,
   "metadata": {},
   "outputs": [
    {
     "name": "stdout",
     "output_type": "stream",
     "text": [
      "          * \n",
      "        * * \n",
      "      *   * \n",
      "    *     * \n",
      "  * * * * * \n"
     ]
    }
   ],
   "source": [
    "# 打印空心反直角三角形\n",
    "for i in range(5):\n",
    "    for k in range(5-i): \n",
    "        print(\"  \", end=\"\")# 以上和实心的是一样的，下面参考第一种空心三角形的方法\n",
    "    for j in range(i+1): \n",
    "        if i != 0 and i != 4:\n",
    "            if j == 0 or j == i:\n",
    "                print(\"*\", end=\" \")\n",
    "            else:\n",
    "                print(\" \", end=\" \")\n",
    "        else:\n",
    "            print(\"*\", end=\" \")\n",
    "    print()"
   ]
  },
  {
   "cell_type": "code",
   "execution_count": 204,
   "metadata": {},
   "outputs": [
    {
     "name": "stdout",
     "output_type": "stream",
     "text": [
      "          * \n",
      "        * * \n",
      "      *   * \n",
      "    *     * \n",
      "  * * * * * \n"
     ]
    }
   ],
   "source": [
    "# 打印空心反直角三角形\n",
    "\n",
    "for i in range(0,5):\n",
    "    for o in range(0,5-i):\n",
    "        print(\"  \",end=\"\")\n",
    "    for m in range(0,i+1):\n",
    "        if i == 4:# 取值过程并不唯一，只要能打正确就行\n",
    "            print(\"* \",end=\"\")\n",
    "        else:\n",
    "            if m == 0 or m == i:\n",
    "                print(\"*\",end= \" \")   \n",
    "            \n",
    "            else:\n",
    "                print(\" \",end= \" \")\n",
    "\n",
    "    print()"
   ]
  },
  {
   "cell_type": "code",
   "execution_count": 205,
   "metadata": {},
   "outputs": [
    {
     "name": "stdout",
     "output_type": "stream",
     "text": [
      "     * \n",
      "    * * \n",
      "   *   * \n",
      "  *     * \n",
      " * * * * * \n"
     ]
    }
   ],
   "source": [
    "# 打印空正三角形\n",
    "for i in range(0,5):\n",
    "    for o in range(0,5-i):\n",
    "        print(\" \",end=\"\")# 唯一区别是此处比上面少个空格而已。。。\n",
    "    for m in range(0,i+1):\n",
    "        if i == 4:\n",
    "            print(\"* \",end=\"\")\n",
    "        else:\n",
    "            if m == 0 or m == i:\n",
    "                print(\"*\",end= \" \")   \n",
    "            \n",
    "            else:\n",
    "                print(\" \",end= \" \")\n",
    "\n",
    "    print()"
   ]
  },
  {
   "cell_type": "code",
   "execution_count": 179,
   "metadata": {},
   "outputs": [
    {
     "name": "stdout",
     "output_type": "stream",
     "text": [
      "  * * * * * \n",
      "    * * * * \n",
      "      * * * \n",
      "        * * \n",
      "          * \n"
     ]
    }
   ],
   "source": [
    "# 打印实心倒立反直角三角形\n",
    "for i in range(0,5):\n",
    "    for o in range(0,i+1):# 其实都是一样的原理，这次要先打全是空格的第一种实心三角形了，然后再打印第二种实心倒立三角形就可以了。以下内容不再赘述了\n",
    "        print(\"  \",end=\"\")\n",
    "    \n",
    "    for m in range(0,5-i):\n",
    "        print(\"* \",end=\"\")\n",
    "    print()"
   ]
  },
  {
   "cell_type": "code",
   "execution_count": 181,
   "metadata": {
    "scrolled": true
   },
   "outputs": [
    {
     "name": "stdout",
     "output_type": "stream",
     "text": [
      " * * * * * \n",
      "  * * * * \n",
      "   * * * \n",
      "    * * \n",
      "     * \n"
     ]
    }
   ],
   "source": [
    "# 打印实心倒立三角形\n",
    "for i in range(0,5):\n",
    "    for o in range(0,i+1):\n",
    "        print(\" \",end=\"\")\n",
    "    \n",
    "    for m in range(0,5-i):\n",
    "        print(\"* \",end=\"\")\n",
    "    print()"
   ]
  },
  {
   "cell_type": "code",
   "execution_count": 187,
   "metadata": {
    "scrolled": true
   },
   "outputs": [
    {
     "name": "stdout",
     "output_type": "stream",
     "text": [
      "  * * * * * \n",
      "    *     * \n",
      "      *   * \n",
      "        * * \n",
      "          * \n"
     ]
    }
   ],
   "source": [
    "# 打印空心倒立反直角三角形\n",
    "for i in range(0,5):\n",
    "    for o in range(0,i+1):\n",
    "        print(\"  \",end=\"\")\n",
    "    \n",
    "    for m in range(0,5-i):\n",
    "        if i == 0:\n",
    "            print(\"* \",end=\"\")\n",
    "        else:\n",
    "            if m == 0 or m == 4 - i:\n",
    "                print(\"* \",end=\"\")\n",
    "            else:\n",
    "                print(\"  \",end=\"\")\n",
    "    print()"
   ]
  },
  {
   "cell_type": "code",
   "execution_count": 188,
   "metadata": {},
   "outputs": [
    {
     "name": "stdout",
     "output_type": "stream",
     "text": [
      " * * * * * \n",
      "  *     * \n",
      "   *   * \n",
      "    * * \n",
      "     * \n"
     ]
    }
   ],
   "source": [
    "# 打印空心倒立三角形\n",
    "for i in range(0,5):\n",
    "    for o in range(0,i+1):\n",
    "        print(\" \",end=\"\")\n",
    "    \n",
    "    for m in range(0,5-i):\n",
    "        if i == 0:\n",
    "            print(\"* \",end=\"\")\n",
    "        else:\n",
    "            if m == 0 or m == 4 - i:\n",
    "                print(\"* \",end=\"\")\n",
    "            else:\n",
    "                print(\"  \",end=\"\")\n",
    "    print()"
   ]
  }
 ],
 "metadata": {
  "kernelspec": {
   "display_name": "Python 3",
   "language": "python",
   "name": "python3"
  },
  "language_info": {
   "codemirror_mode": {
    "name": "ipython",
    "version": 3
   },
   "file_extension": ".py",
   "mimetype": "text/x-python",
   "name": "python",
   "nbconvert_exporter": "python",
   "pygments_lexer": "ipython3",
   "version": "3.6.3"
  }
 },
 "nbformat": 4,
 "nbformat_minor": 2
}
