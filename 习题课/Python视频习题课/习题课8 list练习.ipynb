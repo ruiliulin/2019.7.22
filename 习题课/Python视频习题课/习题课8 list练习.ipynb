{
 "cells": [
  {
   "cell_type": "code",
   "execution_count": 85,
   "metadata": {},
   "outputs": [
    {
     "name": "stdout",
     "output_type": "stream",
     "text": [
      "Help on list object:\n",
      "\n",
      "class list(object)\n",
      " |  list() -> new empty list\n",
      " |  list(iterable) -> new list initialized from iterable's items\n",
      " |  \n",
      " |  Methods defined here:\n",
      " |  \n",
      " |  __add__(self, value, /)\n",
      " |      Return self+value.\n",
      " |  \n",
      " |  __contains__(self, key, /)\n",
      " |      Return key in self.\n",
      " |  \n",
      " |  __delitem__(self, key, /)\n",
      " |      Delete self[key].\n",
      " |  \n",
      " |  __eq__(self, value, /)\n",
      " |      Return self==value.\n",
      " |  \n",
      " |  __ge__(self, value, /)\n",
      " |      Return self>=value.\n",
      " |  \n",
      " |  __getattribute__(self, name, /)\n",
      " |      Return getattr(self, name).\n",
      " |  \n",
      " |  __getitem__(...)\n",
      " |      x.__getitem__(y) <==> x[y]\n",
      " |  \n",
      " |  __gt__(self, value, /)\n",
      " |      Return self>value.\n",
      " |  \n",
      " |  __iadd__(self, value, /)\n",
      " |      Implement self+=value.\n",
      " |  \n",
      " |  __imul__(self, value, /)\n",
      " |      Implement self*=value.\n",
      " |  \n",
      " |  __init__(self, /, *args, **kwargs)\n",
      " |      Initialize self.  See help(type(self)) for accurate signature.\n",
      " |  \n",
      " |  __iter__(self, /)\n",
      " |      Implement iter(self).\n",
      " |  \n",
      " |  __le__(self, value, /)\n",
      " |      Return self<=value.\n",
      " |  \n",
      " |  __len__(self, /)\n",
      " |      Return len(self).\n",
      " |  \n",
      " |  __lt__(self, value, /)\n",
      " |      Return self<value.\n",
      " |  \n",
      " |  __mul__(self, value, /)\n",
      " |      Return self*value.n\n",
      " |  \n",
      " |  __ne__(self, value, /)\n",
      " |      Return self!=value.\n",
      " |  \n",
      " |  __new__(*args, **kwargs) from builtins.type\n",
      " |      Create and return a new object.  See help(type) for accurate signature.\n",
      " |  \n",
      " |  __repr__(self, /)\n",
      " |      Return repr(self).\n",
      " |  \n",
      " |  __reversed__(...)\n",
      " |      L.__reversed__() -- return a reverse iterator over the list\n",
      " |  \n",
      " |  __rmul__(self, value, /)\n",
      " |      Return self*value.\n",
      " |  \n",
      " |  __setitem__(self, key, value, /)\n",
      " |      Set self[key] to value.\n",
      " |  \n",
      " |  __sizeof__(...)\n",
      " |      L.__sizeof__() -- size of L in memory, in bytes\n",
      " |  \n",
      " |  append(...)\n",
      " |      L.append(object) -> None -- append object to end\n",
      " |  \n",
      " |  clear(...)\n",
      " |      L.clear() -> None -- remove all items from L\n",
      " |  \n",
      " |  copy(...)\n",
      " |      L.copy() -> list -- a shallow copy of L\n",
      " |  \n",
      " |  count(...)\n",
      " |      L.count(value) -> integer -- return number of occurrences of value\n",
      " |  \n",
      " |  extend(...)\n",
      " |      L.extend(iterable) -> None -- extend list by appending elements from the iterable\n",
      " |  \n",
      " |  index(...)\n",
      " |      L.index(value, [start, [stop]]) -> integer -- return first index of value.\n",
      " |      Raises ValueError if the value is not present.\n",
      " |  \n",
      " |  insert(...)\n",
      " |      L.insert(index, object) -- insert object before index\n",
      " |  \n",
      " |  pop(...)\n",
      " |      L.pop([index]) -> item -- remove and return item at index (default last).\n",
      " |      Raises IndexError if list is empty or index is out of range.\n",
      " |  \n",
      " |  remove(...)\n",
      " |      L.remove(value) -> None -- remove first occurrence of value.\n",
      " |      Raises ValueError if the value is not present.\n",
      " |  \n",
      " |  reverse(...)\n",
      " |      L.reverse() -- reverse *IN PLACE*\n",
      " |  \n",
      " |  sort(...)\n",
      " |      L.sort(key=None, reverse=False) -> None -- stable sort *IN PLACE*\n",
      " |  \n",
      " |  ----------------------------------------------------------------------\n",
      " |  Data and other attributes defined here:\n",
      " |  \n",
      " |  __hash__ = None\n",
      "\n"
     ]
    }
   ],
   "source": [
    "help(list)"
   ]
  },
  {
   "cell_type": "markdown",
   "metadata": {},
   "source": [
    "#### append(), extend(), insert() 基本用法\n"
   ]
  },
  {
   "cell_type": "code",
   "execution_count": 13,
   "metadata": {
    "scrolled": true
   },
   "outputs": [
    {
     "name": "stdout",
     "output_type": "stream",
     "text": [
      "140187738484104\n",
      "[1, 2, 3, 4, 5, [6, 7, 8]]\n",
      "140187738484104\n",
      "* * * * * * * * * * * * * * * * * * * * \n",
      "140187738109576\n",
      "[1, 2, 3, 4, 5, 6, 7, 8]\n",
      "140187738109576\n",
      "* * * * * * * * * * * * * * * * * * * * \n",
      "140187738110280\n",
      "[1, 2, 6, 3, 4, 5]\n",
      "140187738110280\n",
      "* * * * * * * * * * * * * * * * * * * * \n",
      "140187738109192\n",
      "[1, 2, 3, [6, 7, 8], 4, 5]\n",
      "140187738109192\n"
     ]
    }
   ],
   "source": [
    "a = [1, 2, 3, 4, 5]\n",
    "print(id(a))\n",
    "a.append([6, 7, 8])# append(附加，增补)将6,7,8作为一个数组添加到列表a的末尾\n",
    "print(a)\n",
    "print(id(a))\n",
    "print(\"* \" * 20)\n",
    "\n",
    "b = [1, 2, 3, 4, 5]\n",
    "print(id(b))\n",
    "b.extend([6, 7, 8])# extend(扩展)将6,7,8作为单个元素添加到列表a的末尾\n",
    "print(b)\n",
    "print(id(b))\n",
    "print(\"* \" * 20)\n",
    "\n",
    "c = [1, 2, 3, 4, 5]\n",
    "print(id(c))\n",
    "c.insert(2,6)# insert(插入)在列表的第三个位置！！添加一个数字6\n",
    "print(c)\n",
    "print(id(c))\n",
    "print(\"* \" * 20)\n",
    "\n",
    "d = [1, 2, 3, 4, 5]\n",
    "print(id(d))\n",
    "d.insert(3,[6,7,8])# insert在列表的第四个位置！！添加一个数组6,7,8\n",
    "print(d)\n",
    "print(id(d))"
   ]
  },
  {
   "cell_type": "code",
   "execution_count": 17,
   "metadata": {},
   "outputs": [
    {
     "name": "stdout",
     "output_type": "stream",
     "text": [
      "140187738111816\n",
      "[1, 2, 3, 4, 5]\n",
      "140187738111368\n"
     ]
    }
   ],
   "source": [
    "# copy 复制列表\n",
    "list1 = [1,2,3,4,5]\n",
    "print(id(list1))\n",
    "list2 = list1.copy()\n",
    "print(list2)\n",
    "print(id(list2))# copy 是重新建立的内存地址，和原有内存地址完全不是一回事"
   ]
  },
  {
   "cell_type": "code",
   "execution_count": 88,
   "metadata": {},
   "outputs": [
    {
     "name": "stdout",
     "output_type": "stream",
     "text": [
      "1\n",
      "3\n",
      "Help on built-in function count:\n",
      "\n",
      "count(...) method of builtins.list instance\n",
      "    L.count(value) -> integer -- return number of occurrences of value\n",
      "\n"
     ]
    }
   ],
   "source": [
    "# count 计算某个元素出现的次数，返回整形\n",
    "list = [1,2,3,4,5,6,7,8,9,10,0,2,2,3,4,5]\n",
    "print(list.count(6))\n",
    "print(list.count(2))\n",
    "help(list.count)"
   ]
  },
  {
   "cell_type": "code",
   "execution_count": 35,
   "metadata": {},
   "outputs": [
    {
     "name": "stdout",
     "output_type": "stream",
     "text": [
      "3\n",
      "7\n"
     ]
    }
   ],
   "source": [
    "# index() 获取值在列表中的索引\n",
    "list = [1,2,3,5,6,7,4,5]\n",
    "print(list.index(5))\n",
    "print(list.index(5,4,9))"
   ]
  },
  {
   "cell_type": "code",
   "execution_count": 43,
   "metadata": {},
   "outputs": [
    {
     "name": "stdout",
     "output_type": "stream",
     "text": [
      "7\n",
      "[1, 2, 3, 4, 5, 6]\n",
      "6\n",
      "[1, 2, 3, 4, 5]\n",
      "[1, 2, 3, 4]\n",
      "[1, 2, 3]\n",
      "[1, 2]\n",
      "[1]\n",
      "[]\n"
     ]
    },
    {
     "ename": "IndexError",
     "evalue": "pop from empty list",
     "output_type": "error",
     "traceback": [
      "\u001b[0;31m---------------------------------------------------------------------------\u001b[0m",
      "\u001b[0;31mIndexError\u001b[0m                                Traceback (most recent call last)",
      "\u001b[0;32m<ipython-input-43-0b3155d6d8db>\u001b[0m in \u001b[0;36m<module>\u001b[0;34m()\u001b[0m\n\u001b[1;32m     15\u001b[0m \u001b[0mlist1\u001b[0m\u001b[0;34m.\u001b[0m\u001b[0mpop\u001b[0m\u001b[0;34m(\u001b[0m\u001b[0;34m)\u001b[0m\u001b[0;34m\u001b[0m\u001b[0m\n\u001b[1;32m     16\u001b[0m \u001b[0mprint\u001b[0m\u001b[0;34m(\u001b[0m\u001b[0mlist1\u001b[0m\u001b[0;34m)\u001b[0m\u001b[0;34m\u001b[0m\u001b[0m\n\u001b[0;32m---> 17\u001b[0;31m \u001b[0mlist1\u001b[0m\u001b[0;34m.\u001b[0m\u001b[0mpop\u001b[0m\u001b[0;34m(\u001b[0m\u001b[0;34m)\u001b[0m\u001b[0;31m# 一定要保证有元素能弹出来\u001b[0m\u001b[0;34m\u001b[0m\u001b[0m\n\u001b[0m\u001b[1;32m     18\u001b[0m \u001b[0mprint\u001b[0m\u001b[0;34m(\u001b[0m\u001b[0mlist1\u001b[0m\u001b[0;34m)\u001b[0m\u001b[0;34m\u001b[0m\u001b[0m\n",
      "\u001b[0;31mIndexError\u001b[0m: pop from empty list"
     ]
    }
   ],
   "source": [
    "# pop() 根据索引弹出列表内的一个元素，不给索引默认弹出最后一个元素，并返回弹出的那个值(一般会用到这个值时使用pop)！！！\n",
    "list1 = [1,2,3,4,5,6,7]\n",
    "print(list1.pop())\n",
    "print(list1)\n",
    "print(list1.pop())\n",
    "print(list1)\n",
    "list1.pop()\n",
    "print(list1)\n",
    "list1.pop()\n",
    "print(list1)\n",
    "list1.pop()\n",
    "print(list1)\n",
    "list1.pop()\n",
    "print(list1)\n",
    "list1.pop()\n",
    "print(list1)\n",
    "list1.pop()# 一定要保证列表里还有元素能弹出来\n",
    "print(list1)\n"
   ]
  },
  {
   "cell_type": "code",
   "execution_count": 50,
   "metadata": {},
   "outputs": [
    {
     "name": "stdout",
     "output_type": "stream",
     "text": [
      "None\n",
      "['a', 'c', 'd']\n"
     ]
    }
   ],
   "source": [
    "# remove() 移除列表中指定的值(注意不是索引)，返回None \n",
    "list1 = [\"a\", \"b\", \"c\", \"d\"]\n",
    "print(list1.remove(\"b\"))\n",
    "print(list1)\n"
   ]
  },
  {
   "cell_type": "code",
   "execution_count": 77,
   "metadata": {},
   "outputs": [
    {
     "name": "stdout",
     "output_type": "stream",
     "text": [
      "[1, 2, 3, 4, 5]\n",
      "140187737879304\n",
      "[5, 4, 3, 2, 1]\n",
      "140187737879304\n"
     ]
    }
   ],
   "source": [
    "# reverse() 列表翻转\n",
    "list = [1,2,3,4,5]\n",
    "print(list)\n",
    "print(id(list))\n",
    "list.reverse()\n",
    "print(list)\n",
    "print(id(list))\n"
   ]
  },
  {
   "cell_type": "code",
   "execution_count": 84,
   "metadata": {},
   "outputs": [
    {
     "name": "stdout",
     "output_type": "stream",
     "text": [
      "[2, 1, 3, 7, 4, 5, 8, 6]\n",
      "140187798384712\n",
      "[1, 2, 3, 4, 5, 6, 7, 8]\n",
      "140187798384712\n",
      "[8, 7, 6, 5, 4, 3, 2, 1]\n",
      "140187798384712\n"
     ]
    }
   ],
   "source": [
    "# sort 排序，默认从小到大\n",
    "list = [2,1,3,7,4,5,8,6]\n",
    "print(list)\n",
    "print(id(list))\n",
    "list.sort()\n",
    "print(list)\n",
    "print(id(list))\n",
    "list.sort(reverse=True)\n",
    "print(list)\n",
    "print(id(list))"
   ]
  },
  {
   "cell_type": "markdown",
   "metadata": {},
   "source": [
    "#### 假设给定一个列表 l 为[\"中国的\",\"liuliu的\",\"python\",\"是\",\"最牛逼的\"]\n",
    "#### 将这个列表 l 变成 l = [\"中国的\",999,\"liuliu的\",888,\"python\",777,\"是\",666,\"最牛逼的\",111]应该如何做？"
   ]
  },
  {
   "cell_type": "code",
   "execution_count": 15,
   "metadata": {},
   "outputs": [
    {
     "name": "stdout",
     "output_type": "stream",
     "text": [
      "['中国的', 'liuliu的', 'python', '是', '最牛逼的']\n",
      "['中国的', 999, 'liuliu的', 888, 'python', 777, '是', 666, '最牛逼的', 111]\n"
     ]
    }
   ],
   "source": [
    "l = [\"中国的\",\"liuliu的\",\"python\",\"是\",\"最牛逼的\"]\n",
    "print(l)\n",
    "l.append(111)\n",
    "l.insert(1, 999)\n",
    "l.insert(3, 888)\n",
    "l.insert(5, 777)\n",
    "l.insert(7, 666)\n",
    "print(l)"
   ]
  },
  {
   "cell_type": "markdown",
   "metadata": {},
   "source": [
    "#### 请问如何将下面列表的”图灵学院“变成”刘大拿“？\n",
    "#### ls = [0, [1,  2,  [3,  '图灵学院', '刘大拿’]], 4, 5, 6, 7]"
   ]
  },
  {
   "cell_type": "code",
   "execution_count": 30,
   "metadata": {},
   "outputs": [
    {
     "name": "stdout",
     "output_type": "stream",
     "text": [
      "[0, [1, 2, [3, '图灵学院', '周老师']], 4, 5, 6, 7]\n",
      "[0, [1, 2, [3, '刘大拿', '周老师']], 4, 5, 6, 7]\n"
     ]
    }
   ],
   "source": [
    "ls = [0,[1, 2, [3,'图灵学院','周老师']], 4, 5, 6, 7]\n",
    "print(ls)\n",
    "ls[1][2][1] = \"刘大拿\"\n",
    "print(ls)"
   ]
  },
  {
   "cell_type": "code",
   "execution_count": 31,
   "metadata": {},
   "outputs": [
    {
     "name": "stdout",
     "output_type": "stream",
     "text": [
      "[(0, 1), (0, 3), (0, 5), (0, 7), (0, 9), (2, 1), (2, 3), (2, 5), (2, 7), (2, 9), (4, 1), (4, 3), (4, 5), (4, 7), (4, 9), (6, 1), (6, 3), (6, 5), (6, 7), (6, 9), (8, 1), (8, 3), (8, 5), (8, 7), (8, 9)]\n"
     ]
    }
   ],
   "source": [
    "#### 将列表推导式还原出来\n",
    "ls = [(x, y) for x in range(10) for y in range(10) if x % 2 == 0 if y % 2 != 0]\n",
    "print(ls)"
   ]
  },
  {
   "cell_type": "code",
   "execution_count": 35,
   "metadata": {},
   "outputs": [
    {
     "name": "stdout",
     "output_type": "stream",
     "text": [
      "[(0, 1), (0, 3), (0, 5), (0, 7), (0, 9), (2, 1), (2, 3), (2, 5), (2, 7), (2, 9), (4, 1), (4, 3), (4, 5), (4, 7), (4, 9), (6, 1), (6, 3), (6, 5), (6, 7), (6, 9), (8, 1), (8, 3), (8, 5), (8, 7), (8, 9)]\n"
     ]
    }
   ],
   "source": [
    "ls = []\n",
    "for x in range(10):\n",
    "    for y in range(10):\n",
    "        if x % 2 == 0 and y % 2 != 0:\n",
    "                z = (x,y)\n",
    "                ls.append(z)\n",
    "print(ls)"
   ]
  },
  {
   "cell_type": "code",
   "execution_count": 39,
   "metadata": {},
   "outputs": [
    {
     "name": "stdout",
     "output_type": "stream",
     "text": [
      "[(0, 1), (0, 3), (0, 5), (0, 7), (0, 9), (2, 1), (2, 3), (2, 5), (2, 7), (2, 9), (4, 1), (4, 3), (4, 5), (4, 7), (4, 9), (6, 1), (6, 3), (6, 5), (6, 7), (6, 9), (8, 1), (8, 3), (8, 5), (8, 7), (8, 9)]\n"
     ]
    }
   ],
   "source": [
    "ls = []\n",
    "for x in range(10):\n",
    "    for y in range(10):\n",
    "        if x % 2 == 0 and y % 2 != 0:\n",
    "                ls.append((x,y))\n",
    "print(ls)"
   ]
  },
  {
   "cell_type": "code",
   "execution_count": 40,
   "metadata": {},
   "outputs": [
    {
     "name": "stdout",
     "output_type": "stream",
     "text": [
      "['I', ' ', 'l', 'o', 'v', 'e', ' ', 'w', 'a', 'n', 'g', 'e', 'r', 'q', 'i', 'n', 'g']\n",
      "['I', ' ', 'l', 'o', 'v', 'e', ' ', 'w', 'a', 'n', 'g', 'e', 'r', 'q', 'i', 'n', 'g']\n",
      "140126024805320\n",
      "140126294493576\n",
      "['A', ' ', 'l', 'o', 'v', 'e', ' ', 'w', 'a', 'n', 'g', 'e', 'r', 'q', 'i', 'n', 'g']\n",
      "['I', ' ', 'l', 'o', 'v', 'e', ' ', 'w', 'a', 'n', 'g', 'e', 'r', 'q', 'i', 'n', 'g']\n",
      "140126024805320\n",
      "140126294493576\n"
     ]
    }
   ],
   "source": [
    "# 有关切片的问题\n",
    "s = \"I love wangerqing\"\n",
    "s = list(s)\n",
    "s1 = s[:]\n",
    "print(s)\n",
    "print(s1)\n",
    "print(id(s))\n",
    "print(id(s1))\n",
    "\n",
    "s[0] = 'A'\n",
    "print(s)\n",
    "print(s1)\n",
    "print(id(s))\n",
    "print(id(s1))"
   ]
  }
 ],
 "metadata": {
  "kernelspec": {
   "display_name": "Python 3",
   "language": "python",
   "name": "python3"
  },
  "language_info": {
   "codemirror_mode": {
    "name": "ipython",
    "version": 3
   },
   "file_extension": ".py",
   "mimetype": "text/x-python",
   "name": "python",
   "nbconvert_exporter": "python",
   "pygments_lexer": "ipython3",
   "version": "3.6.3"
  }
 },
 "nbformat": 4,
 "nbformat_minor": 2
}
