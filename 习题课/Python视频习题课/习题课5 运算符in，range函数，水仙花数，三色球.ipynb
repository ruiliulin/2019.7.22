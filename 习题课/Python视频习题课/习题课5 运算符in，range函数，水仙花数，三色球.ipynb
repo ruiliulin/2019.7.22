{
 "cells": [
  {
   "cell_type": "markdown",
   "metadata": {},
   "source": [
    "####  这行代码是什么意思\n",
    "\n",
    "- if not (money < 100)\n",
    "- 如果money不是小于100，即money >= 100"
   ]
  },
  {
   "cell_type": "markdown",
   "metadata": {},
   "source": [
    "#### 假设有x = 1，y = 2，z = 3，如何快速将三个变量的值相互交换？"
   ]
  },
  {
   "cell_type": "code",
   "execution_count": 3,
   "metadata": {
    "scrolled": true
   },
   "outputs": [
    {
     "name": "stdout",
     "output_type": "stream",
     "text": [
      "1\n",
      "2\n",
      "3\n",
      "3 1 2\n",
      "* * * * * * * * * * * * * * * * * * * * \n",
      "2 3 1\n"
     ]
    }
   ],
   "source": [
    "x = 1\n",
    "y = 2\n",
    "z = 3\n",
    "\n",
    "print(x)\n",
    "print(y)\n",
    "print(z)\n",
    "\n",
    "x,y,z = z,x,y\n",
    "print(x,y,z)\n",
    "\n",
    "print(\"* \" * 20)\n",
    "\n",
    "x,y,z = z,x,y\n",
    "print(x,y,z)"
   ]
  },
  {
   "cell_type": "markdown",
   "metadata": {},
   "source": [
    "#### 成员运算符“in”的用法"
   ]
  },
  {
   "cell_type": "code",
   "execution_count": 9,
   "metadata": {},
   "outputs": [
    {
     "name": "stdout",
     "output_type": "stream",
     "text": [
      "True\n"
     ]
    }
   ],
   "source": [
    "ls = range(1,100)\n",
    "if 100 not in ls:# if not 100 in ls:\n",
    "    print(True)\n",
    "else:\n",
    "    print(False)"
   ]
  },
  {
   "cell_type": "markdown",
   "metadata": {},
   "source": [
    "#### range()函数"
   ]
  },
  {
   "cell_type": "code",
   "execution_count": 14,
   "metadata": {},
   "outputs": [
    {
     "name": "stdout",
     "output_type": "stream",
     "text": [
      "0\n",
      "2\n",
      "4\n",
      "6\n",
      "8\n"
     ]
    }
   ],
   "source": [
    "ls = range(0,10,2)\n",
    "for i in ls:\n",
    "    print(i)"
   ]
  },
  {
   "cell_type": "markdown",
   "metadata": {},
   "source": [
    "#### 下面的循环会打印多少次“Tuling”"
   ]
  },
  {
   "cell_type": "code",
   "execution_count": 15,
   "metadata": {},
   "outputs": [
    {
     "name": "stdout",
     "output_type": "stream",
     "text": [
      "Tuling\n",
      "Tuling\n",
      "Tuling\n",
      "Tuling\n",
      "Tuling\n"
     ]
    }
   ],
   "source": [
    "for i in range(0,10,2):\n",
    "    print(\"Tuling\")"
   ]
  },
  {
   "cell_type": "code",
   "execution_count": 17,
   "metadata": {},
   "outputs": [
    {
     "name": "stdout",
     "output_type": "stream",
     "text": [
      "2\n",
      "3\n"
     ]
    }
   ],
   "source": [
    "#### 目测程序会打印什么东西\n",
    "\n",
    "\n",
    "while True:\n",
    "    while True:\n",
    "        break\n",
    "        print(1)\n",
    "    print(2)\n",
    "    break\n",
    "print(3)\n",
    "            "
   ]
  },
  {
   "cell_type": "markdown",
   "metadata": {},
   "source": [
    "#### 从代码效率的方面考虑，以下代码有什么问题，如何改进？"
   ]
  },
  {
   "cell_type": "code",
   "execution_count": 28,
   "metadata": {},
   "outputs": [
    {
     "name": "stdout",
     "output_type": "stream",
     "text": [
      "0\n",
      "1\n",
      "2\n",
      "3\n",
      "4\n",
      "5\n",
      "6\n",
      "7\n",
      "8\n",
      "9\n",
      "10\n"
     ]
    }
   ],
   "source": [
    "i = 0\n",
    "string = \"ILoveTuling\"\n",
    "while i < len(string): # 不要在循环里执行函数或计算方法，会导致重复调用，影响运行效率\n",
    "    print(i)\n",
    "    i += 1"
   ]
  },
  {
   "cell_type": "code",
   "execution_count": 21,
   "metadata": {},
   "outputs": [
    {
     "name": "stdout",
     "output_type": "stream",
     "text": [
      "11\n"
     ]
    }
   ],
   "source": [
    "string = \"ILoveTuling\"\n",
    "print(len(string))"
   ]
  },
  {
   "cell_type": "code",
   "execution_count": 22,
   "metadata": {},
   "outputs": [
    {
     "name": "stdout",
     "output_type": "stream",
     "text": [
      "Help on built-in function len in module builtins:\n",
      "\n",
      "len(obj, /)\n",
      "    Return the number of items in a container.\n",
      "\n"
     ]
    }
   ],
   "source": [
    "help(len)"
   ]
  },
  {
   "cell_type": "code",
   "execution_count": 27,
   "metadata": {},
   "outputs": [
    {
     "name": "stdout",
     "output_type": "stream",
     "text": [
      "0\n",
      "1\n",
      "2\n",
      "3\n",
      "4\n",
      "5\n",
      "6\n",
      "7\n",
      "8\n",
      "9\n",
      "10\n"
     ]
    }
   ],
   "source": [
    "# 改进！\n",
    "i = 0\n",
    "string = \"ILoveTuling\"\n",
    "l = len(string) # 将内建函数作为一个变量，在后面的循环里将直接调用，不用在重复执行函数len了\n",
    "while i < l:\n",
    "    print(i)\n",
    "    i += 1"
   ]
  },
  {
   "cell_type": "markdown",
   "metadata": {},
   "source": [
    "#### 设计一个验证用户密码的程序，用户只有三次机会输入错误，不过如果用户输入的内容包括”*“则不计算在内"
   ]
  },
  {
   "cell_type": "code",
   "execution_count": 19,
   "metadata": {},
   "outputs": [
    {
     "name": "stdout",
     "output_type": "stream",
     "text": [
      "请输入密码：fsd\n",
      "输入错误，次数减少\n",
      "请输入密码：fd\n",
      "输入错误，次数减少\n",
      "请输入密码：fjhg\n",
      "输入错误，次数减少\n",
      "次数用尽，锁机！\n"
     ]
    }
   ],
   "source": [
    "\n",
    "s = \"llr0497*\"\n",
    "times = 3\n",
    "while times:\n",
    "    i = input(\"请输入密码：\")\n",
    "    if i == s:\n",
    "        print(\"密码正确\")\n",
    "        break\n",
    "    elif '*' in i:\n",
    "            print(\"密码不正确，继续输入\")\n",
    "    else:\n",
    "            print(\"输入错误，次数减少\")\n",
    "            times -= 1\n",
    "\n",
    "else:\n",
    "    print(\"次数用尽，锁机！\")\n"
   ]
  },
  {
   "cell_type": "code",
   "execution_count": 1,
   "metadata": {},
   "outputs": [
    {
     "name": "stdout",
     "output_type": "stream",
     "text": [
      "请输入密码：\n",
      "密码错误\n",
      "请输入密码：\n",
      "密码错误\n",
      "请输入密码：\n",
      "密码错误\n",
      "机会用尽啦\n"
     ]
    }
   ],
   "source": [
    "s = \"llr0808\"\n",
    "i = 3\n",
    "while i:\n",
    "    p = input(\"请输入密码：\")\n",
    "    if \"*\" in p:\n",
    "        print(\"密码不能含有 *\")\n",
    "    elif p == s:\n",
    "        print(\"密码正确\")\n",
    "        break\n",
    "    else:\n",
    "        print(\"密码错误\")\n",
    "        i -= 1\n",
    "else:\n",
    "    print(\"机会用尽啦\")\n"
   ]
  },
  {
   "cell_type": "markdown",
   "metadata": {},
   "source": [
    "### 编写一个程序，求100-999之间的水仙花数\n",
    "#### 如果一个三位数等于其他各位数字的三次方之和，则称这个数为水仙花数。例如 153 = 1^3 + 5^3 + 3^3，因此153就是一个水仙花数"
   ]
  },
  {
   "cell_type": "code",
   "execution_count": 15,
   "metadata": {
    "scrolled": true
   },
   "outputs": [
    {
     "name": "stdout",
     "output_type": "stream",
     "text": [
      "153\n",
      "370\n",
      "371\n",
      "407\n"
     ]
    }
   ],
   "source": [
    "for i in range(100,1000):\n",
    "    l = list(str(i))\n",
    "    #print(l)\n",
    "    a = int(l[0])\n",
    "    b = int(l[1])\n",
    "    c = int(l[2])\n",
    "    if a**3 + b**3 + c**3 == i:\n",
    "        print(i)"
   ]
  },
  {
   "cell_type": "markdown",
   "metadata": {},
   "source": [
    "### 三色球问题\n",
    "#### 有红黄蓝三种颜色的球，其中红球3个，黄球3个，绿球6个。将这12个球放入一个盒子中，从中任意摸出8个球，编程计算出球的各种颜色搭配"
   ]
  },
  {
   "cell_type": "code",
   "execution_count": 21,
   "metadata": {
    "scrolled": true
   },
   "outputs": [
    {
     "name": "stdout",
     "output_type": "stream",
     "text": [
      "\n",
      "\n",
      "红球有：0\n",
      "黄球有：2\n",
      "绿球有：6\n",
      "\n",
      "红球有：0\n",
      "黄球有：3\n",
      "绿球有：5\n",
      "\n",
      "\n",
      "红球有：1\n",
      "黄球有：1\n",
      "绿球有：6\n",
      "\n",
      "红球有：1\n",
      "黄球有：2\n",
      "绿球有：5\n",
      "\n",
      "红球有：1\n",
      "黄球有：3\n",
      "绿球有：4\n",
      "\n",
      "红球有：2\n",
      "黄球有：0\n",
      "绿球有：6\n",
      "\n",
      "红球有：2\n",
      "黄球有：1\n",
      "绿球有：5\n",
      "\n",
      "红球有：2\n",
      "黄球有：2\n",
      "绿球有：4\n",
      "\n",
      "红球有：2\n",
      "黄球有：3\n",
      "绿球有：3\n",
      "\n",
      "红球有：3\n",
      "黄球有：0\n",
      "绿球有：5\n",
      "\n",
      "红球有：3\n",
      "黄球有：1\n",
      "绿球有：4\n",
      "\n",
      "红球有：3\n",
      "黄球有：2\n",
      "绿球有：3\n",
      "\n",
      "红球有：3\n",
      "黄球有：3\n",
      "绿球有：2\n",
      "\n"
     ]
    }
   ],
   "source": [
    "for red in range(0, 4):\n",
    "    for yellow in range(0, 4):\n",
    "        for green in range(2, 7):\n",
    "            if red + yellow + green == 8:\n",
    "                print(\"红球有：{}\".format(red))\n",
    "                print(\"黄球有：{}\".format(yellow))\n",
    "                print(\"绿球有：{}\".format(green))\n",
    "        print()\n",
    "            \n"
   ]
  }
 ],
 "metadata": {
  "kernelspec": {
   "display_name": "Python 3",
   "language": "python",
   "name": "python3"
  },
  "language_info": {
   "codemirror_mode": {
    "name": "ipython",
    "version": 3
   },
   "file_extension": ".py",
   "mimetype": "text/x-python",
   "name": "python",
   "nbconvert_exporter": "python",
   "pygments_lexer": "ipython3",
   "version": "3.6.3"
  }
 },
 "nbformat": 4,
 "nbformat_minor": 2
}
