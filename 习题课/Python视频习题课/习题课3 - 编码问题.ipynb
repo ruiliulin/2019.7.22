{
 "cells": [
  {
   "cell_type": "markdown",
   "metadata": {},
   "source": [
    "# 笔记本两个模式\n",
    "- 输入模式：允许用户输入\n",
    "- 命令模式：允许用户通过命令操作笔记本\n",
    "- 模式的转换：回车to输入，ESC键to命令模式\n",
    "\n",
    "# 两种输入模式\n",
    "- python代码模式：Python代码可以直接运行，输入\n",
    "- Markdown模式：允许使用markdown语法"
   ]
  },
  {
   "cell_type": "code",
   "execution_count": 3,
   "metadata": {},
   "outputs": [
    {
     "name": "stdout",
     "output_type": "stream",
     "text": [
      "hello world\n"
     ]
    }
   ],
   "source": [
    "print(\"hello world\")"
   ]
  },
  {
   "cell_type": "markdown",
   "metadata": {},
   "source": [
    "# 编码问题\n",
    "- 为什么需要编码问题\n",
    "    - 本质上计算机只能识别01代码\n",
    "    - 如何用一长串01代码表示复杂的信息\n",
    "- 编码简史\n",
    "    - 二进制\n",
    "        - bit：一个0或者1的二进制数字\n",
    "        - byte：八个01代码，1个字节\n",
    "    - 第一阶段：ASCII\n",
    "    - 第二阶段：百花齐放，GB2312，GBK，BIG5，Latin1，JIS\n",
    "        - Latin1：兼容欧洲大多数语言\n",
    "        - GB2312，GBK：中国大陆\n",
    "        - BIG5：中国台湾，韩国\n",
    "        - JIS：日本\n",
    "        - ANSI-MBCS（Multi-bytes charecter set，多字节字符集）\n",
    "    - 第三阶段：Unicode（ISO）\n",
    "\n",
    "# 编码表示方法\n",
    "- ASCII-american standard code for information interchange\n",
    "    - 所有控制字符（包括回车，删除等）编码在0-31范围内以及127\n",
    "    - 所有标点符号，引文大小写放在32-126之间\n",
    "    - 预留128-255之间位置\n",
    "    - 0xxxx xxxx 是它的编码形式\n",
    "- Latin1\n",
    "    - 0-127的所有位置不动，那么可以兼容ASCII，二进制位0xxx xxxx\n",
    "    - 128-255位置全部用完，二进制位1xxx xxxx\n",
    "        - 128-159之间为控制字符\n",
    "        - 160-255之间为文字符号\n",
    "        - 其中包括了西欧语言、希腊语、泰语、阿拉伯语、希伯来语\n",
    "    - 欧元符号\n",
    "- GBxxxxx\n",
    "    - GB2312\n",
    "        - 如果一个字节中第一位为0，那么这就是一个ASCII字符\n",
    "        - 如果一个字节中第一位为1，那么这就是一个汉字，认定需要2个字节才表示一个编码的文字\n",
    "        - 这个码表中包含汉字6763个和非汉字图形字符682个\n",
    "        - 还有很多的空间没有用到，索性全部预留了吧\n",
    "        - 0xxxxxxx：表示为ASCII字符\n",
    "        - 1xxxxxxx 1xxxxxxx：表示为汉字\n",
    "    - GBK\n",
    "        - 在GB2312基础上添加汉字\n",
    "        - 兼任GB2312和ASCII\n",
    "        - 0xxxxxxx：表示为ASCII字符\n",
    "        - 1xxxxxxx xxxxxxxx：表示为汉字\n",
    "    - GB18030\n",
    "        - 2/4位混编"
   ]
  },
  {
   "cell_type": "markdown",
   "metadata": {},
   "source": [
    "# Unicode编码\n",
    "    - 只是一个码表，具体实现没有规定\n",
    "    - 0-0x10FFFF来映射这些字符，最多可以容纳1114112个字符\n",
    "    - 中文的编码范围为4E00-9FCF，其中9FC4-9FCF之间的区间没有使用\n",
    "    - 上述区间全部是汉字，不包含全角字符，不包含特殊文字\n",
    "    - UTF = UnicodeTransformationFormat\n",
    "    - UTF-8\n",
    "        \n",
    "            0x0000-0x007F        (0-127)           1字节   0xxxxxxx\n",
    "            0x0080-0x07FF       (128-2047)         2字节   110xxxxx 10xxxxxx\n",
    "            0x0800-FFFF        (2048-65535)        3字节   1110xxxx 10xxxxxx 10xxxxxx\n",
    "            0x10000-1FFFFFF   (65536-2097152)      4字节   11110xxx 10xxxxxx 10xxxxxx 10xxxxxx\n",
    "            0x2000000-0x3FFFFFF                    5字节   111110xx 10xxxxxx 10xxxxxx 10xxxxxx 10xxxxxx \n",
    "            0x4000000-0x7FFFFFFF                   6字节   1111110x 10xxxxxx 10xxxxxx 10xxxxxx 10xxxxxx 10xxxxxx \n",
    "           \n",
    "    - UTF-16 UTF-32\n",
    "        - UTF-16 早期 Unicode历史遗留问题\n",
    "        - UTF-32 浪费空间\n",
    "\n",
    "    - UCS-2\n",
    "        - UCS=UniyersalCharacterSet，通用字符集\n",
    "        - UCS-2与Unicode相同\n",
    "        - 采用2个字符，定长的表示每一个字符，所以总计可以表示 ^16 个字符\n",
    "    \n",
    "    - UCS-4\n",
    "        - 第一个字节：表示组（group），  最高位为0，则有128个\n",
    "        - 第二个字节：表示平面（plane），256个\n",
    "        - 第三个字节：表示行（row），    256个\n",
    "        - 第四个字节：表示码位（cell）， 256个\n",
    "        - 如果UCS-4前两个字节为0，则就是UCS-2        "
   ]
  },
  {
   "cell_type": "markdown",
   "metadata": {},
   "source": [
    "# 常用概念\n",
    "- 编码/解码：由人类可直接读取信息转换成bytes格式的，叫编码\n",
    "- 大尾（BigEndian）和小尾（LitteEndian）\n",
    "    - '汉' -> 6C49\n",
    "    - 6C49 -> BigEndian\n",
    "    - 496C -> LittleEndian\n",
    "- BOM\n",
    "    - UTF-8没有字节顺序问题\n",
    "    - UTF-16会出现问题\n",
    "        - \"奎\" -> 594E\n",
    "        - \"乙\" -> 4E59\n",
    "    - BOM-ByterOrderMark(字节顺序标记法)\n",
    "        - \"ZERO WIDTH NO-BREAK SPACE\" -> FEFF， 在UCS中不存在\n",
    "        - FEFF -> BigEndian\n",
    "        - FFFE -> LittleEndian\n",
    "        - UTF-8用来表示编码，FEFF的UTF-8的编码是 EF BB BF，用来表示此后编码是UTF-8编码       "
   ]
  },
  {
   "cell_type": "markdown",
   "metadata": {},
   "source": [
    "# python编码问题\n",
    "- str\n",
    "- bytes\n",
    "- bytearray\n",
    "- python文件默认UTF-8编码，如果特殊需要，需要声明\n",
    "    - 放在第一行，或者第二行\n",
    "    - '''# -*- coding: windows-1252 -*-'''\n",
    "    - 读写文件默认UTF-8，可以指定\n",
    "    - code point方式比较字符串，可能会带来问题\n",
    "        - 重音符号的表示\n",
    "        - 使用 unicodedata.normalize 函数\n",
    "- Python的源码中出现了解码错误，那么会产生SyntaxError异常\n",
    "- 其他情况下，如果发现编码解码错误，那么会产生UnicodeEncodeError，UnicodeDecodeError异常"
   ]
  },
  {
   "cell_type": "code",
   "execution_count": 4,
   "metadata": {},
   "outputs": [
    {
     "name": "stdout",
     "output_type": "stream",
     "text": [
      "b'\\xe4\\xb8\\xad'\n",
      "中\n",
      "b'\\xe4\\xb8\\xad'\n"
     ]
    }
   ],
   "source": [
    "b = bytes.fromhex(\"E4 B8 AD\")\n",
    "print(b)\n",
    "b1 = b.decode('utf-8')\n",
    "print(b1)\n",
    "b2 = str(b)\n",
    "print(b2)"
   ]
  },
  {
   "cell_type": "code",
   "execution_count": 7,
   "metadata": {},
   "outputs": [
    {
     "data": {
      "text/plain": [
       "65"
      ]
     },
     "execution_count": 7,
     "metadata": {},
     "output_type": "execute_result"
    }
   ],
   "source": [
    "ord('A')"
   ]
  },
  {
   "cell_type": "code",
   "execution_count": 8,
   "metadata": {},
   "outputs": [
    {
     "data": {
      "text/plain": [
       "20013"
      ]
     },
     "execution_count": 8,
     "metadata": {},
     "output_type": "execute_result"
    }
   ],
   "source": [
    "ord('中')"
   ]
  },
  {
   "cell_type": "code",
   "execution_count": 10,
   "metadata": {},
   "outputs": [
    {
     "data": {
      "text/plain": [
       "'A'"
      ]
     },
     "execution_count": 10,
     "metadata": {},
     "output_type": "execute_result"
    }
   ],
   "source": [
    "chr(65)"
   ]
  },
  {
   "cell_type": "code",
   "execution_count": 12,
   "metadata": {},
   "outputs": [
    {
     "data": {
      "text/plain": [
       "'中'"
      ]
     },
     "execution_count": 12,
     "metadata": {},
     "output_type": "execute_result"
    }
   ],
   "source": [
    "chr(20013)"
   ]
  },
  {
   "cell_type": "markdown",
   "metadata": {},
   "source": [
    "# 参考资料\n",
    "- https://www.cnblogs.com/jessonluo/p/4800331.html\n",
    "- https://blog.csdn.net/xuejianhui/article/details/52576771\n",
    "- https://tools.jb51.net/table/gb2312\n"
   ]
  }
 ],
 "metadata": {
  "kernelspec": {
   "display_name": "Python 3",
   "language": "python",
   "name": "python3"
  },
  "language_info": {
   "codemirror_mode": {
    "name": "ipython",
    "version": 3
   },
   "file_extension": ".py",
   "mimetype": "text/x-python",
   "name": "python",
   "nbconvert_exporter": "python",
   "pygments_lexer": "ipython3",
   "version": "3.6.3"
  }
 },
 "nbformat": 4,
 "nbformat_minor": 2
}
