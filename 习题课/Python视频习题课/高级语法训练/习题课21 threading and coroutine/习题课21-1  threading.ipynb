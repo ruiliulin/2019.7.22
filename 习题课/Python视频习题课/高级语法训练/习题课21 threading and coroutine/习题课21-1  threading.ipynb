{
 "cells": [
  {
   "cell_type": "markdown",
   "metadata": {},
   "source": [
    "#### 使用多线程去播放两个播放列表，一个是movie，一个是music\n",
    "- _thread\n",
    "- threading"
   ]
  },
  {
   "cell_type": "code",
   "execution_count": 1,
   "metadata": {},
   "outputs": [
    {
     "name": "stdout",
     "output_type": "stream",
     "text": [
      "正在收听的音乐是：周杰伦.mp3\n",
      "正在播放的电影是: 斗破苍穹.mp4\n",
      "正在收听的音乐是：五月天.mp3\n",
      "正在播放的电影是: 复仇者联盟.avi\n",
      "当前没有可播放的格式\n",
      "正在播放的电影是: 大话西游.mp4\n"
     ]
    },
    {
     "ename": "KeyboardInterrupt",
     "evalue": "",
     "output_type": "error",
     "traceback": [
      "\u001b[0;31m---------------------------------------------------------------------------\u001b[0m",
      "\u001b[0;31mKeyboardInterrupt\u001b[0m                         Traceback (most recent call last)",
      "\u001b[0;32m<ipython-input-1-73553835d18a>\u001b[0m in \u001b[0;36m<module>\u001b[0;34m()\u001b[0m\n\u001b[1;32m     25\u001b[0m     \u001b[0mthread_run\u001b[0m\u001b[0;34m(\u001b[0m\u001b[0;34m)\u001b[0m\u001b[0;34m\u001b[0m\u001b[0m\n\u001b[1;32m     26\u001b[0m     \u001b[0;32mwhile\u001b[0m \u001b[0;32mTrue\u001b[0m\u001b[0;34m:\u001b[0m\u001b[0;34m\u001b[0m\u001b[0m\n\u001b[0;32m---> 27\u001b[0;31m         \u001b[0mtime\u001b[0m\u001b[0;34m.\u001b[0m\u001b[0msleep\u001b[0m\u001b[0;34m(\u001b[0m\u001b[0;36m10\u001b[0m\u001b[0;34m)\u001b[0m\u001b[0;34m\u001b[0m\u001b[0m\n\u001b[0m",
      "\u001b[0;31mKeyboardInterrupt\u001b[0m: "
     ]
    }
   ],
   "source": [
    "import _thread as thread\n",
    "import time\n",
    "\n",
    "movie_list = [\"斗破苍穹.mp4\", \"复仇者联盟.avi\", \"钢铁雨.rmvb\", \"大话西游.mp4\"]\n",
    "music_list = ['周杰伦.mp3', '五月天.mp3']\n",
    "movie_format = [\"mp4\", \"avi\"]\n",
    "music_format = [\"mp3\"]\n",
    "\n",
    "def play(playlist):\n",
    "    for i in playlist:\n",
    "        if i.split(\".\")[1] in movie_format:\n",
    "            print(\"正在播放的电影是: %s\" % i)\n",
    "            time.sleep(5)\n",
    "        elif i.split(\".\")[1] in music_format:\n",
    "            print(\"正在收听的音乐是：%s\" % i)\n",
    "            time.sleep(3)\n",
    "        else:\n",
    "            print(\"当前没有可播放的格式\")\n",
    "            \n",
    "def thread_run():\n",
    "    thread.start_new_thread(play, (movie_list, ))\n",
    "    thread.start_new_thread(play, (music_list, ))\n",
    "    \n",
    "if __name__ == \"__main__\":\n",
    "    thread_run()\n",
    "    while True:\n",
    "        time.sleep(10)"
   ]
  },
  {
   "cell_type": "code",
   "execution_count": 1,
   "metadata": {},
   "outputs": [
    {
     "name": "stdout",
     "output_type": "stream",
     "text": [
      "正在播放的电影是: 斗破苍穹.mp4\n",
      "正在收听的音乐是：周杰伦.mp3\n",
      "正在收听的音乐是：五月天.mp3\n",
      "正在播放的电影是: 复仇者联盟.avi\n",
      "当前没有可播放的格式\n",
      "正在播放的电影是: 大话西游.mp4\n"
     ]
    },
    {
     "ename": "KeyboardInterrupt",
     "evalue": "",
     "output_type": "error",
     "traceback": [
      "\u001b[0;31m---------------------------------------------------------------------------\u001b[0m",
      "\u001b[0;31mKeyboardInterrupt\u001b[0m                         Traceback (most recent call last)",
      "\u001b[0;32m<ipython-input-1-fe1f7c62f298>\u001b[0m in \u001b[0;36m<module>\u001b[0;34m()\u001b[0m\n\u001b[1;32m     27\u001b[0m     \u001b[0mthread_run\u001b[0m\u001b[0;34m(\u001b[0m\u001b[0;34m)\u001b[0m\u001b[0;34m\u001b[0m\u001b[0m\n\u001b[1;32m     28\u001b[0m     \u001b[0;32mwhile\u001b[0m \u001b[0;32mTrue\u001b[0m\u001b[0;34m:\u001b[0m\u001b[0;34m\u001b[0m\u001b[0m\n\u001b[0;32m---> 29\u001b[0;31m         \u001b[0mtime\u001b[0m\u001b[0;34m.\u001b[0m\u001b[0msleep\u001b[0m\u001b[0;34m(\u001b[0m\u001b[0;36m10\u001b[0m\u001b[0;34m)\u001b[0m\u001b[0;34m\u001b[0m\u001b[0m\n\u001b[0m",
      "\u001b[0;31mKeyboardInterrupt\u001b[0m: "
     ]
    }
   ],
   "source": [
    "import threading\n",
    "import time\n",
    "\n",
    "movie_list = [\"斗破苍穹.mp4\", \"复仇者联盟.avi\", \"钢铁雨.rmvb\", \"大话西游.mp4\"]\n",
    "music_list = ['周杰伦.mp3', '五月天.mp3']\n",
    "movie_format = [\"mp4\", \"avi\"]\n",
    "music_format = [\"mp3\"]\n",
    "\n",
    "def play(playlist):\n",
    "    for i in playlist:\n",
    "        if i.split(\".\")[1] in movie_format:\n",
    "            print(\"正在播放的电影是: %s\" % i)\n",
    "            time.sleep(5)\n",
    "        elif i.split(\".\")[1] in music_format:\n",
    "            print(\"正在收听的音乐是：%s\" % i)\n",
    "            time.sleep(3)\n",
    "        else:\n",
    "            print(\"当前没有可播放的格式\")\n",
    "            \n",
    "def thread_run():\n",
    "    t1 = threading.Thread(target=play, args=(movie_list, ))\n",
    "    t2 = threading.Thread(target=play, args=(music_list, ))\n",
    "    t1.start()\n",
    "    t2.start()\n",
    "    \n",
    "if __name__ == \"__main__\":\n",
    "    thread_run()\n",
    "    while True:\n",
    "        time.sleep(10)"
   ]
  }
 ],
 "metadata": {
  "kernelspec": {
   "display_name": "Python 3",
   "language": "python",
   "name": "python3"
  },
  "language_info": {
   "codemirror_mode": {
    "name": "ipython",
    "version": 3
   },
   "file_extension": ".py",
   "mimetype": "text/x-python",
   "name": "python",
   "nbconvert_exporter": "python",
   "pygments_lexer": "ipython3",
   "version": "3.6.3"
  }
 },
 "nbformat": 4,
 "nbformat_minor": 2
}
