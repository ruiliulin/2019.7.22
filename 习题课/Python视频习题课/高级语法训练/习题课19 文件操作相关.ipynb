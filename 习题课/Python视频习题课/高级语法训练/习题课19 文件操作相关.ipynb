{
 "cells": [
  {
   "cell_type": "markdown",
   "metadata": {
    "collapsed": true
   },
   "source": [
    "#### 编写一个程序，接受用户输入的内容，并且保存为新的文件；如果用户单独输入：w，表示文件保存退出\n",
    "\n",
    "- open()\n",
    "- input()\n",
    "- 'w'"
   ]
  },
  {
   "cell_type": "code",
   "execution_count": 14,
   "metadata": {},
   "outputs": [
    {
     "name": "stdout",
     "output_type": "stream",
     "text": [
      "请用户输入文件名：xt_19_3\n",
      "请输入文件内容，如果单独输入 ':w' ，表示文件保存并退出\n",
      "123\n",
      "456\n",
      "789\n",
      "0qwe\n",
      "tyu\n",
      "iop\n",
      "asd\n",
      ":W\n",
      ":w\n"
     ]
    }
   ],
   "source": [
    "file_name = input(\"请用户输入文件名：\")\n",
    "\n",
    "def write_file(file_name):\n",
    "    \n",
    "    f = open(file_name, 'w') # 打开我们用户的文件\n",
    "    print(\"请输入文件内容，如果单独输入 ':w' ，表示文件保存并退出\")\n",
    "    \n",
    "    while True:\n",
    "        write_something = input()\n",
    "        # 判断用户输入的是否是‘:w’\n",
    "        if write_something != ':w':\n",
    "            # 向文件中写入用户输入的内容\n",
    "            f.write(\"%s\\n\"%write_something)\n",
    "        else:\n",
    "            # 用户输入的是‘:w’\n",
    "            break\n",
    "    f.close()\n",
    "    \n",
    "\n",
    "write_file(file_name) "
   ]
  },
  {
   "cell_type": "markdown",
   "metadata": {},
   "source": [
    "#### 编写一个程序，比较用户输入的文件是否相同，如果不同，显示出所有不同的行号\n",
    "\n",
    "- file.readline()\n",
    "- open()\n",
    "- differ"
   ]
  },
  {
   "cell_type": "code",
   "execution_count": 13,
   "metadata": {},
   "outputs": [
    {
     "name": "stdout",
     "output_type": "stream",
     "text": [
      "请输入需要比较的第一个文件名：xt_19_1\n",
      "请输入需要比较的第二个文件名：xt_19_2\n",
      "<class 'list'>\n",
      "一共有2处不同\n",
      "第2行不同\n",
      "第4行不同\n"
     ]
    }
   ],
   "source": [
    "file1 = input(\"请输入需要比较的第一个文件名：\")\n",
    "file2 = input(\"请输入需要比较的第二个文件名：\")\n",
    "\n",
    "def file_compare(file1, file2):\n",
    "    \n",
    "    f1 = open(file1)\n",
    "    f2 = open(file2)\n",
    "    \n",
    "    count = 1 # 统计的行数\n",
    "    differ = [] # 存储不同的行号\n",
    "    \n",
    "    for line in f1:\n",
    "        l1 = line\n",
    "        l2 = f2.readline()\n",
    "        \n",
    "        if l1 != l2:\n",
    "            differ.append(count)\n",
    "        count += 1    \n",
    "    f1.close()\n",
    "    f2.close()\n",
    "    \n",
    "    return differ\n",
    "\n",
    "d = file_compare(file1, file2)\n",
    "print(type(d))\n",
    "if len(d) == 0:\n",
    "    print(\"两个文件完全相同\")\n",
    "else:\n",
    "    print(\"一共有%d处不同\" % len(d))\n",
    "    for i in d:\n",
    "        print(\"第{}行不同\".format(i))"
   ]
  },
  {
   "cell_type": "markdown",
   "metadata": {},
   "source": [
    "#### 编写一个程序，当用户输入文件名和行数的时候，将该文件的前N行内容打印到文件上\n",
    "\n",
    "- input()接受一个文件名以及一个行数"
   ]
  },
  {
   "cell_type": "code",
   "execution_count": 21,
   "metadata": {},
   "outputs": [
    {
     "name": "stdout",
     "output_type": "stream",
     "text": [
      "请输入你要打开的文件名：xt_19_2\n",
      "请输入你要打印前几行：5\n",
      "\n",
      "文件xt_19_2的前5行内容如下：\n",
      "123\n",
      "435\n",
      "789\n",
      "asd\n",
      "rty\n"
     ]
    }
   ],
   "source": [
    "file_name = input(\"请输入你要打开的文件名：\")\n",
    "line_num = input(\"请输入你要打印前几行：\")\n",
    "\n",
    "def content(file_name, line_num):\n",
    "    fn = file_name\n",
    "    ln = line_num\n",
    "    \n",
    "    print(\"\\n文件%s的前%s行内容如下：\" % (fn, ln))\n",
    "    \n",
    "    f = open(fn)\n",
    "    for i in range(int(ln)):\n",
    "        print(f.readline().strip())\n",
    "    f.close()\n",
    "    \n",
    "content(file_name, line_num)"
   ]
  },
  {
   "cell_type": "markdown",
   "metadata": {},
   "source": [
    "#### 我们在上一道题的基础上，增加一点功能，使用户可以随意的输入需要打印的行数\n",
    "    - 12:42\n",
    "    - :\n",
    "    - :9\n",
    "- 用以上的形式来表示我们想要打印的起始和结束的行数"
   ]
  },
  {
   "cell_type": "code",
   "execution_count": 8,
   "metadata": {},
   "outputs": [
    {
     "name": "stdout",
     "output_type": "stream",
     "text": [
      "请输入你要打开的文件名：xt_19_3\n",
      "请输入你要打印的行数，例如'1:8'或者':8':\n",
      "123\n",
      "456\n",
      "789\n",
      "qwe\n",
      "rty\n",
      "\n"
     ]
    }
   ],
   "source": [
    "file_name = input(\"请输入你要打开的文件名：\")\n",
    "line_num = input(\"请输入你要打印的行数，例如'1:8'或者':8'\")\n",
    "\n",
    "def print_line(file_name, line_num):\n",
    "    f = open(file_name)\n",
    "    \n",
    "    begin, end = line_num.split(\":\")\n",
    "    \n",
    "    if begin == \"\":\n",
    "        begin = \"1\"\n",
    "    \n",
    "    if end == \"\":\n",
    "        end = \"-1\"\n",
    "    \n",
    "    begin = int(begin) - 1\n",
    "    end = int(end)\n",
    "    \n",
    "    lines = end - begin \n",
    "    \n",
    "    # 消耗掉begin之前的行数\n",
    "    for i in range(begin):\n",
    "        f.readline()\n",
    "        \n",
    "    if lines > 0:\n",
    "        for j in range(lines):\n",
    "            print(f.readline())\n",
    "    if lines <= 0:\n",
    "        print(f.read())\n",
    "        \n",
    "    f.close()\n",
    "    \n",
    "print_line(file_name, line_num)\n",
    "\n"
   ]
  },
  {
   "cell_type": "markdown",
   "metadata": {},
   "source": [
    "#### 编写一个程序，实现“全部替换”的功能\n",
    "- 打开一个文件\n",
    "- 把文件中的xxx这样的字符串，替换成sss\n",
    "- open()     打开文件\n",
    "- readline() 读取文件内容\n",
    "- replace()  替换"
   ]
  },
  {
   "cell_type": "code",
   "execution_count": 15,
   "metadata": {},
   "outputs": [
    {
     "name": "stdout",
     "output_type": "stream",
     "text": [
      "请输入你要打开的文件名：xt_19_3\n",
      "请输入你准备替换的字符串：123\n",
      "请输入替换后的新的字符串：000\n",
      "你确定要替换吗？输入YES/NOyes\n",
      "\n"
     ]
    }
   ],
   "source": [
    "file_name = input(\"请输入你要打开的文件名：\")\n",
    "rep_word = input(\"请输入你准备替换的字符串：\")\n",
    "new_word = input(\"请输入替换后的新的字符串：\")\n",
    "def file_replace(file_name, rep_word, new_word):\n",
    "    f = open(file_name)\n",
    "    content = []\n",
    "    \n",
    "    for i in f:\n",
    "        if rep_word in i:\n",
    "            i = i.replace(rep_word, new_word)\n",
    "        content.append(i)\n",
    "    \n",
    "    decide = input(\"你确定要替换吗？输入YES/NO\")    \n",
    "    \n",
    "    if decide in [\"YES\", \"Yes\", \"yes\"]:\n",
    "        f_write = open(file_name, 'w')\n",
    "        f_write.write(\"\".join(content))\n",
    "        f_write.close()\n",
    "    print(f.read())\n",
    "    f.close()\n",
    "    \n",
    "file_replace(file_name, rep_word, new_word)\n"
   ]
  },
  {
   "cell_type": "markdown",
   "metadata": {},
   "source": [
    "#### 编写一个程序，统计当前目录下每个文件类型的文件数\n",
    "\n",
    "- 打开当前的文件夹\n",
    "- 获取当前文件夹下面的所有文件\n",
    "- 处理我们当前的文件夹下面可能有文件夹的情况（也要打印出来）\n",
    "- 做出统计"
   ]
  },
  {
   "cell_type": "code",
   "execution_count": 21,
   "metadata": {},
   "outputs": [
    {
     "name": "stdout",
     "output_type": "stream",
     "text": [
      "有.json类型的文件1个\n",
      "有.txt类型的文件1个\n",
      "有类型的文件3个\n",
      "有.ipynb类型的文件3个\n",
      "有文件夹类型的文件1个\n"
     ]
    }
   ],
   "source": [
    "import os\n",
    "\n",
    "# 获取到当前文件夹下面的所有文件\n",
    "all_files = os.listdir(os.curdir)# os.curdir表示当前目录\n",
    "\n",
    "type_dict = dict()\n",
    "\n",
    "for e_file in all_files:\n",
    "    # 如果说我们的e_file是文件夹\n",
    "    if os.path.isdir(e_file):\n",
    "        type_dict.setdefault(\"文件夹\", 0)\n",
    "        type_dict[\"文件夹\"] += 1\n",
    "    else:\n",
    "        # 如果不是文件夹，而是文件，就统计我们的文件\n",
    "        e = os.path.splitext(e_file)[1]\n",
    "        type_dict.setdefault(e, 0)\n",
    "        type_dict[e] += 1\n",
    "\n",
    "for i in type_dict:\n",
    "    print(\"有{}类型的文件{}个\".format(i, type_dict[i]))\n"
   ]
  },
  {
   "cell_type": "markdown",
   "metadata": {},
   "source": [
    "#### 编写一个程序，计算当前文件夹下面所有文件的大小\n",
    "\n",
    "- 打开当前文件夹\n",
    "- 获取到所有的文件和文件大小\n",
    "- 保存我们获取到的数据，然后打印出来"
   ]
  },
  {
   "cell_type": "code",
   "execution_count": 28,
   "metadata": {},
   "outputs": [
    {
     "name": "stdout",
     "output_type": "stream",
     "text": [
      "1234.json文件的大小是93\n",
      "hahaha.txt文件的大小是21\n",
      "xt_19_2文件的大小是24\n",
      "xt_19_3文件的大小是32\n",
      "习题课18 函数式编程-map，filter，sorted，lambda，权重排序.ipynb文件的大小是10378\n",
      "习题课19 文件操作相关.ipynb文件的大小是11406\n",
      "xt_19_1文件的大小是20\n",
      "习题课17 异常处理及常用模块.ipynb文件的大小是6960\n"
     ]
    }
   ],
   "source": [
    "import os\n",
    "\n",
    "all_files = os.listdir()\n",
    "\n",
    "file_dict = {}\n",
    "\n",
    "for e_file in all_files:\n",
    "    # 判断我们的e_file是否是文件\n",
    "    if os.path.isfile(e_file):\n",
    "        file_size = os.path.getsize(e_file)\n",
    "        file_dict[e_file] = file_size\n",
    "\n",
    "for k, v in file_dict.items():\n",
    "    print(\"{}文件的大小是{}\".format(k, v))"
   ]
  },
  {
   "cell_type": "markdown",
   "metadata": {},
   "source": [
    "#### 编写一个程序，用户输入文件名以及开始搜索的路径，搜索该文件是否存在，如果遇到文件夹，则进入该文件夹继续搜索\n",
    "\n",
    "- input 去接收用户输入的文件名和开始搜索的路径\n",
    "- os.path,isdir 去判断是否是文件夹，如果是的话，就需要进入该文件夹继续搜索，循环调用一下我们的函数来实现"
   ]
  },
  {
   "cell_type": "code",
   "execution_count": 32,
   "metadata": {},
   "outputs": [
    {
     "name": "stdout",
     "output_type": "stream",
     "text": [
      "请输入目录：.\n",
      "请输入文件名：hahaha.txt\n",
      "/home/tlxy/tulingxueyuan/习题课/Python视频习题课/高级语法训练/hahaha.txt\n",
      "/home/tlxy/tulingxueyuan/习题课/Python视频习题课/高级语法训练/Untitled Folder/hahaha.txt\n"
     ]
    }
   ],
   "source": [
    "import os\n",
    "\n",
    "start_dir = input(\"请输入目录：\")\n",
    "target = input(\"请输入文件名：\") \n",
    "\n",
    "def find_file(start_dir, target):\n",
    "    # 切换到用户输入的路径下\n",
    "    os.chdir(start_dir)\n",
    "    \n",
    "    for e_file in os.listdir():\n",
    "        if e_file == target:\n",
    "            print(os.getcwd() + \"/\" + e_file)\n",
    "        if os.path.isdir(e_file):\n",
    "            find_file(e_file, target) # 递归调用\n",
    "            os.chdir(os.pardir)\n",
    "\n",
    "find_file(start_dir, target)"
   ]
  },
  {
   "cell_type": "markdown",
   "metadata": {},
   "source": [
    "#### 对上述题目加一些需求，模糊匹配，判断我们的target字符串是否包含在某一个文件中\n",
    "- in 去判断target这个字符串是否在文件的名字中"
   ]
  },
  {
   "cell_type": "code",
   "execution_count": 36,
   "metadata": {},
   "outputs": [
    {
     "name": "stdout",
     "output_type": "stream",
     "text": [
      "请输入目录：.\n",
      "请输入文件名称：ha\n",
      "/home/tlxy/tulingxueyuan/习题课/Python视频习题课/高级语法训练/hahaha.txt\n",
      "/home/tlxy/tulingxueyuan/习题课/Python视频习题课/高级语法训练/Untitled Folder/hahaha.txt\n"
     ]
    }
   ],
   "source": [
    "import os\n",
    "start_dir = input(\"请输入目录：\")\n",
    "target = input(\"请输入文件名称：\")\n",
    "\n",
    "def find_file(start_dir, target):\n",
    "    os.chdir(start_dir)\n",
    "    \n",
    "    for e_file in os.listdir():\n",
    "        if target in e_file:\n",
    "            print(os.getcwd() + os.sep + e_file)\n",
    "        if os.path.isdir(e_file):\n",
    "            find_file(e_file, target)\n",
    "            os.chdir(os.pardir)\n",
    "    \n",
    "find_file(start_dir, target)"
   ]
  },
  {
   "cell_type": "markdown",
   "metadata": {},
   "source": [
    "#### 再加一个需求，上述题目，我们需要保存我们的文件存在的地方，到我们指定的路径\n",
    "- file I/O 写文件操作"
   ]
  },
  {
   "cell_type": "code",
   "execution_count": 9,
   "metadata": {},
   "outputs": [
    {
     "name": "stdout",
     "output_type": "stream",
     "text": [
      "请输入目录：.\n",
      "请输入文件名称：haha\n"
     ]
    }
   ],
   "source": [
    "import os\n",
    "\n",
    "start_dir = input(\"请输入目录：\")\n",
    "target = input(\"请输入文件名称：\")\n",
    "backup = []\n",
    "\n",
    "def find_file(start_dir, target):\n",
    "    os.chdir(start_dir)\n",
    "    \n",
    "    for e_file in os.listdir():\n",
    "        if target in e_file:\n",
    "            backup_file = os.getcwd() + os.sep + e_file\n",
    "            backup.append(backup_file)\n",
    "        if os.path.isdir(e_file):\n",
    "            find_file(e_file, target)\n",
    "            os.chdir(os.pardir)\n",
    "    \n",
    "    return backup\n",
    "\n",
    "ff = find_file(start_dir, target)\n",
    "with open(r\"backup.txt\", 'wb') as f:\n",
    "    f.write(\"\\n\".join(ff).encode(\"utf-8\"))\n"
   ]
  }
 ],
 "metadata": {
  "celltoolbar": "Raw Cell Format",
  "kernelspec": {
   "display_name": "Python 3",
   "language": "python",
   "name": "python3"
  },
  "language_info": {
   "codemirror_mode": {
    "name": "ipython",
    "version": 3
   },
   "file_extension": ".py",
   "mimetype": "text/x-python",
   "name": "python",
   "nbconvert_exporter": "python",
   "pygments_lexer": "ipython3",
   "version": "3.6.3"
  }
 },
 "nbformat": 4,
 "nbformat_minor": 2
}
