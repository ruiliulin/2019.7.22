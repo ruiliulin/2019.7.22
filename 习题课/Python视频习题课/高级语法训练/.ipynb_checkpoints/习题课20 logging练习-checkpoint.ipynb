{
 "cells": [
  {
   "cell_type": "markdown",
   "metadata": {},
   "source": [
    "#### logging\n",
    "- logging.debug()\n",
    "- logging.info()\n",
    "- logging.warning()\n",
    "- logging.error()\n",
    "- logging.critical()"
   ]
  },
  {
   "cell_type": "code",
   "execution_count": 1,
   "metadata": {
    "collapsed": true
   },
   "outputs": [],
   "source": [
    "import logging\n",
    "\n",
    "LOG_FORMAT = \"%(asctime)s - %(levelname)s - %(message)s\"\n",
    "logging.basicConfig(level=logging.DEBUG, format=LOG_FORMAT, filename=\"xt_20_1.log\")\n",
    "\n",
    "logging.debug(\"This is a debug\")\n",
    "logging.info(\"This is a info\")\n",
    "logging.warning(\"This is a warning\")\n",
    "logging.error(\"This is a error\")\n",
    "logging.critical(\"This is a critical\")\n",
    "\n",
    " "
   ]
  },
  {
   "cell_type": "markdown",
   "metadata": {
    "collapsed": true
   },
   "source": [
    "#### 装饰器\n",
    "- 使用装饰器，打印函数的执行时间"
   ]
  },
  {
   "cell_type": "code",
   "execution_count": 1,
   "metadata": {},
   "outputs": [
    {
     "name": "stderr",
     "output_type": "stream",
     "text": [
      "2019-09-04 10:06:05,314 - ERROR - this is a error message!\n"
     ]
    },
    {
     "name": "stdout",
     "output_type": "stream",
     "text": [
      "test done\n"
     ]
    }
   ],
   "source": [
    "import logging\n",
    "\n",
    "LOG_FORMAT = \"%(asctime)s - %(levelname)s - %(message)s\"\n",
    "logging.basicConfig(format=LOG_FORMAT)\n",
    "\n",
    "def log(func):\n",
    "    def wrapper(*args, **kwargs):\n",
    "        logging.error(\"this is a error message!\")\n",
    "        return func(*args, **kwargs)\n",
    "    return wrapper\n",
    "\n",
    "@log\n",
    "def test():\n",
    "    print(\"test done\")\n",
    "    \n",
    "test()"
   ]
  },
  {
   "cell_type": "code",
   "execution_count": 1,
   "metadata": {},
   "outputs": [
    {
     "name": "stderr",
     "output_type": "stream",
     "text": [
      "2019-09-04 10:18:05,998 - ERROR - test done\n",
      "2019-09-04 10:18:06,000 - ERROR - main done\n"
     ]
    },
    {
     "name": "stdout",
     "output_type": "stream",
     "text": [
      "test done\n",
      "main done\n"
     ]
    }
   ],
   "source": [
    "# 使用装饰器，根据不同的函数，传入的日志信息不相同\n",
    "\n",
    "# def log(func):\n",
    "#     def wrapper(*args, **kwargs):\n",
    "#         logging.error(\"this is a error message!\")\n",
    "#         return func(*args, **kwargs)\n",
    "#     return wrapper\n",
    "\n",
    "import logging \n",
    "\n",
    "LOG_FORMAT = \"%(asctime)s - %(levelname)s - %(message)s\"\n",
    "logging.basicConfig(format=LOG_FORMAT)\n",
    "\n",
    "\n",
    "def log(text):\n",
    "    def decorator(func):\n",
    "        def wrapper(*args, **kwargs):\n",
    "            logging.error(text)\n",
    "            return func(*args, **kwargs)\n",
    "        return wrapper\n",
    "    return decorator\n",
    " \n",
    "@log(\"test done\")\n",
    "def test():\n",
    "    print(\"test done\")\n",
    "    \n",
    "@log(\"main done\")\n",
    "def main():\n",
    "    print(\"main done\")\n",
    "\n",
    "test()\n",
    "main()"
   ]
  },
  {
   "cell_type": "markdown",
   "metadata": {
    "collapsed": true
   },
   "source": [
    "#### 用logging的四大组件来实现日志的功能\n",
    "- 打印除函数执行的时间，日志的等级，日志的消息\n",
    "- 用装饰器\n",
    "- 不同的日志，要记录不同等级的日志消息"
   ]
  },
  {
   "cell_type": "code",
   "execution_count": 3,
   "metadata": {},
   "outputs": [
    {
     "name": "stdout",
     "output_type": "stream",
     "text": [
      "test done\n"
     ]
    }
   ],
   "source": [
    "import logging\n",
    "\n",
    "logger = logging.getLogger(\"llrlogger\")\n",
    "\n",
    "logger.setLevel(logging.DEBUG)\n",
    "\n",
    "# handler\n",
    "# TimeRotatingFileHandler 是用来按日期去划分日志\n",
    "# RotatingFileHandler 是按照日志文件的大小来划分日志\n",
    "\n",
    "debug_handler = logging.FileHandler(\"xt_20debug.log\")\n",
    "debug_handler.setLevel(logging.DEBUG)\n",
    "debug_handler.setFormatter(logging.Formatter(\"%(asctime)s - %(levelname)s - %(message)s\"))\n",
    "\n",
    "error_handler = logging.FileHandler(\"xt_20error.log\")\n",
    "error_handler.setLevel(logging.ERROR)\n",
    "error_handler.setFormatter(logging.Formatter(\"%(asctime)s - %(levelname)s - %(message)s\"))\n",
    "\n",
    "logger.addHandler(debug_handler)\n",
    "logger.addHandler(error_handler)\n",
    "\n",
    "def log(f):\n",
    "    def wrapper(*args, **kwargs):\n",
    "        logger.debug(\"this is a debug message\")\n",
    "        logger.error(\"this is a error message\")\n",
    "        return f(*args, **kwargs)\n",
    "    return wrapper\n",
    "\n",
    "@log\n",
    "def test():\n",
    "    print(\"test done\")\n",
    "    \n",
    "test() "
   ]
  },
  {
   "cell_type": "code",
   "execution_count": 1,
   "metadata": {},
   "outputs": [
    {
     "name": "stdout",
     "output_type": "stream",
     "text": [
      "test1 done\n",
      "main done\n"
     ]
    }
   ],
   "source": [
    "import logging\n",
    "\n",
    "logger = logging.getLogger(\"llrlogger\")\n",
    "\n",
    "logger.setLevel(logging.DEBUG)\n",
    "\n",
    "debug_handler = logging.FileHandler(\"xt_20debug1.log\")\n",
    "debug_handler.setLevel(logging.DEBUG)\n",
    "debug_handler.setFormatter(logging.Formatter(\"%(asctime)s - %(levelname)s - %(message)s\"))\n",
    "\n",
    "error_handler = logging.FileHandler(\"xt_20error1.log\")\n",
    "error_handler.setLevel(logging.ERROR)\n",
    "error_handler.setFormatter(logging.Formatter(\"%(asctime)s - %(levelname)s - %(message)s\"))\n",
    "\n",
    "logger.addHandler(debug_handler)\n",
    "logger.addHandler(error_handler)\n",
    "\n",
    "def log(f):\n",
    "    def wrapper(*args, **kwargs):\n",
    "        logger.debug(\"this is a debug message\")\n",
    "        logger.error(\"this is a error message\")\n",
    "        return f(*args, **kwargs)\n",
    "    return wrapper\n",
    "\n",
    "def loghigher(text):\n",
    "    def decorator(f):\n",
    "        def wrapper(*args, **kwargs):\n",
    "            logger.debug(text)\n",
    "            logger.error(text)\n",
    "            return f(*args, **kwargs)\n",
    "        return wrapper\n",
    "    return decorator\n",
    "\n",
    "# 按照函数的不同，要在日志中打印不同的东东！！！\n",
    "@log\n",
    "def test():\n",
    "    print(\"test done\")\n",
    "\n",
    "@loghigher(\"This is a test1 done\")\n",
    "def test1():\n",
    "    print(\"test1 done\")\n",
    "    \n",
    "@loghigher(\"This is a main done\")\n",
    "def main():\n",
    "    print(\"main done\")\n",
    "    \n",
    "    \n",
    "test1()\n",
    "main()"
   ]
  },
  {
   "cell_type": "markdown",
   "metadata": {},
   "source": [
    "#### 工作习惯： \n",
    "- 一般情况，在实际的工作当中，程序员通常会把logging封装成一个装饰器，按照习题课中周老师他自己的习惯，他是习惯新建一个loggerTools的文件，在需要保存日志的地方，把loggerTools给引进进来。"
   ]
  }
 ],
 "metadata": {
  "kernelspec": {
   "display_name": "Python 3",
   "language": "python",
   "name": "python3"
  },
  "language_info": {
   "codemirror_mode": {
    "name": "ipython",
    "version": 3
   },
   "file_extension": ".py",
   "mimetype": "text/x-python",
   "name": "python",
   "nbconvert_exporter": "python",
   "pygments_lexer": "ipython3",
   "version": "3.6.3"
  }
 },
 "nbformat": 4,
 "nbformat_minor": 2
}
