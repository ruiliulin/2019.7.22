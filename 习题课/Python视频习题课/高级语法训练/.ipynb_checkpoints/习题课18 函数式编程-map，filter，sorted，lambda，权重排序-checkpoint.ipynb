{
 "cells": [
  {
   "cell_type": "markdown",
   "metadata": {},
   "source": [
    "#### 利用map()函数，把用户输入的不规范英文，变成首字母大写，其余字母小写的规范名字，比如说[\"AMNAm\", \"LASA\", \"JAck\"]"
   ]
  },
  {
   "cell_type": "code",
   "execution_count": 3,
   "metadata": {},
   "outputs": [
    {
     "name": "stdout",
     "output_type": "stream",
     "text": [
      "Amnam\n",
      "Lasa\n",
      "Jack\n",
      "['Amnam', 'Lasa', 'Jack']\n"
     ]
    }
   ],
   "source": [
    "def standards(s):\n",
    "    t = s.lower()\n",
    "    t = t.capitalize()\n",
    "    print(t)\n",
    "    return t\n",
    "\n",
    "m = list(map(standards, [\"AMNAm\", \"LASA\", \"JAck\"]))\n",
    "print(m)"
   ]
  },
  {
   "cell_type": "markdown",
   "metadata": {},
   "source": [
    "#### 回数：从左向右和从右向左读都是一样的数，例如12321, 999，请利用filter函数"
   ]
  },
  {
   "cell_type": "code",
   "execution_count": 7,
   "metadata": {},
   "outputs": [
    {
     "name": "stdout",
     "output_type": "stream",
     "text": [
      "[0, 1, 2, 3, 4, 5, 6, 7, 8, 9, 11, 22, 33, 44, 55, 66, 77, 88, 99, 101, 111, 121, 131, 141, 151, 161, 171, 181, 191, 202, 212, 222, 232, 242, 252, 262, 272, 282, 292, 303, 313, 323, 333, 343, 353, 363, 373, 383, 393, 404, 414, 424, 434, 444, 454, 464, 474, 484, 494, 505, 515, 525, 535, 545, 555, 565, 575, 585, 595, 606, 616, 626, 636, 646, 656, 666, 676, 686, 696, 707, 717, 727, 737, 747, 757, 767, 777, 787, 797, 808, 818, 828, 838, 848, 858, 868, 878, 888, 898, 909, 919, 929, 939, 949, 959, 969, 979, 989, 999]\n"
     ]
    }
   ],
   "source": [
    "def equal(a, b):\n",
    "    return a==b\n",
    "\n",
    "def is_palindrome(n):\n",
    "    s = str(n)\n",
    "    for i in range(len(s)):\n",
    "        if equal(s[i], s[len(s)-i-1]):\n",
    "            continue\n",
    "        else:\n",
    "            return False\n",
    "    return True\n",
    "\n",
    "rst = filter(is_palindrome, range(1000))\n",
    "print(list(rst))"
   ]
  },
  {
   "cell_type": "markdown",
   "metadata": {},
   "source": [
    "#### 假设我们用一组tuple来表示学生的姓名和成绩，L = [(\"Bob\", 75), (\"Adam\", 97), (\"Bart\", 65), (\"Liuyang\", 29)]用sorted()对上述列表先按照名字排序，然后再按成绩排序"
   ]
  },
  {
   "cell_type": "code",
   "execution_count": 41,
   "metadata": {},
   "outputs": [
    {
     "name": "stdout",
     "output_type": "stream",
     "text": [
      "[('Adam', 97), ('Bart', 65), ('Bob', 75), ('Liuyang', 89)]\n",
      "************************************************************\n",
      "[('Bart', 65), ('Bob', 75), ('Liuyang', 89), ('Adam', 97)]\n"
     ]
    }
   ],
   "source": [
    "L = [(\"Bob\", 75), (\"Adam\", 97), (\"Bart\", 65), (\"Liuyang\", 89)]\n",
    "def by_name(n):\n",
    "    t = sorted(n[0])\n",
    "    return t\n",
    "l = sorted(L, key=by_name)\n",
    "print(l)\n",
    "print(\"**\" * 30)\n",
    "\n",
    "\n",
    "L = [(\"Bob\", 75), (\"Adam\", 97), (\"Bart\", 65), (\"Liuyang\", 89)]\n",
    "def by_name(n):\n",
    "    t = sorted(range(n[1]))\n",
    "    return t\n",
    "l = sorted(L, key=by_name)\n",
    "print(l)"
   ]
  },
  {
   "cell_type": "code",
   "execution_count": 31,
   "metadata": {},
   "outputs": [
    {
     "name": "stdout",
     "output_type": "stream",
     "text": [
      "Help on method_descriptor:\n",
      "\n",
      "lower(...)\n",
      "    S.lower() -> str\n",
      "    \n",
      "    Return a copy of the string S converted to lowercase.\n",
      "\n"
     ]
    }
   ],
   "source": [
    "help(str.lower)"
   ]
  },
  {
   "cell_type": "markdown",
   "metadata": {},
   "source": [
    "#### 利用map()函数；还要利用lambda函数！把用户输入的不规范英文，变成首字母大写，其余字母小写的规范名字，比如说[\"AMNAm\", \"LASA\", \"JAck\"]"
   ]
  },
  {
   "cell_type": "code",
   "execution_count": 15,
   "metadata": {},
   "outputs": [
    {
     "name": "stdout",
     "output_type": "stream",
     "text": [
      "['Amnam', 'Lasa', 'Jack']\n"
     ]
    }
   ],
   "source": [
    "l = [\"AMNAm\", \"LASA\", \"JAck\"]\n",
    "print(list(map(lambda x: x.lower().capitalize(), l)))"
   ]
  },
  {
   "cell_type": "markdown",
   "metadata": {},
   "source": [
    "#### 回数：从左向右和从右向左读都是一样的数，例如12321, 999，请利用filter函数；还要利用lambda函数！"
   ]
  },
  {
   "cell_type": "code",
   "execution_count": 17,
   "metadata": {},
   "outputs": [
    {
     "name": "stdout",
     "output_type": "stream",
     "text": [
      "[0, 1, 2, 3, 4, 5, 6, 7, 8, 9, 11, 22, 33, 44, 55, 66, 77, 88, 99, 101, 111, 121, 131, 141, 151, 161, 171, 181, 191, 202, 212, 222, 232, 242, 252, 262, 272, 282, 292, 303, 313, 323, 333, 343, 353, 363, 373, 383, 393, 404, 414, 424, 434, 444, 454, 464, 474, 484, 494, 505, 515, 525, 535, 545, 555, 565, 575, 585, 595, 606, 616, 626, 636, 646, 656, 666, 676, 686, 696, 707, 717, 727, 737, 747, 757, 767, 777, 787, 797, 808, 818, 828, 838, 848, 858, 868, 878, 888, 898, 909, 919, 929, 939, 949, 959, 969, 979, 989, 999]\n"
     ]
    }
   ],
   "source": [
    "rst = filter(lambda x: str(x)[0] == str(x)[len(str(x))-1], range(1000))\n",
    "print(list(rst))"
   ]
  },
  {
   "cell_type": "markdown",
   "metadata": {},
   "source": [
    "#### 假设我们用一组tuple来表示学生的姓名和成绩，L = [(\"Bob\", 75), (\"Adam\", 97), (\"Bart\", 65), (\"Liuyang\", 29)]用sorted()以及lambda函数对上述列表先按照名字排序，然后再按成绩排序"
   ]
  },
  {
   "cell_type": "code",
   "execution_count": 46,
   "metadata": {},
   "outputs": [
    {
     "name": "stdout",
     "output_type": "stream",
     "text": [
      "[('Adam', 97), ('Bart', 65), ('Bob', 75), ('Liuyang', 89)]\n",
      "[('Adam', 97), ('Bart', 65), ('Bob', 75), ('Liuyang', 89)]\n",
      "************************************************************\n",
      "[('Adam', 97), ('Liuyang', 89), ('Bob', 75), ('Bart', 65)]\n"
     ]
    }
   ],
   "source": [
    "L = [(\"Bob\", 75), (\"Adam\", 97), (\"Bart\", 65), (\"Liuyang\", 89)]\n",
    "print(list(sorted(L, key=lambda x: x[0])))\n",
    "print(list(sorted(L, key=lambda x: x[0].lower())))\n",
    "print(\"**\" * 30)\n",
    "print(list(sorted(L, key=lambda x: x[1], reverse=True)))"
   ]
  },
  {
   "cell_type": "markdown",
   "metadata": {},
   "source": [
    "#### 权重\n",
    "goods = [{\"name\":\"good1\", \"price\":200, \"sales\":100, \"stars\":5, \"comments\":400}, \n",
    "        {\"name\":\"good2\", \"price\":300, \"sales\":120, \"stars\":4, \"comments\":500}, \n",
    "        {\"name\":\"good3\", \"price\":500, \"sales\":3000, \"stars\":2, \"comments\":199},\n",
    "        {\"name\":\"good4\", \"price\":1288, \"sales\":8, \"stars\":5, \"comments\":6}\n",
    "        {\"name\":\"good5\", \"price\":899, \"sales\":99, \"stars\":5, \"comments\":2000}]\n",
    "- 权重是100\n",
    "- 价格占的权重是40%，销量占的权重是17%，评级占的权重是13%，评论占的权重是30%"
   ]
  },
  {
   "cell_type": "code",
   "execution_count": 51,
   "metadata": {},
   "outputs": [
    {
     "name": "stdout",
     "output_type": "stream",
     "text": [
      "[{'name': 'good1', 'price': 200, 'sales': 100, 'stars': 5, 'comments': 400}, {'name': 'good2', 'price': 300, 'sales': 120, 'stars': 4, 'comments': 500}, {'name': 'good4', 'price': 1288, 'sales': 8, 'stars': 5, 'comments': 6}, {'name': 'good3', 'price': 500, 'sales': 3000, 'stars': 2, 'comments': 199}, {'name': 'good5', 'price': 899, 'sales': 99, 'stars': 5, 'comments': 2000}]\n"
     ]
    }
   ],
   "source": [
    "goods = [{\"name\":\"good1\", \"price\":200, \"sales\":100, \"stars\":5, \"comments\":400}, \n",
    "        {\"name\":\"good2\", \"price\":300, \"sales\":120, \"stars\":4, \"comments\":500}, \n",
    "        {\"name\":\"good3\", \"price\":500, \"sales\":3000, \"stars\":2, \"comments\":199},\n",
    "        {\"name\":\"good4\", \"price\":1288, \"sales\":8, \"stars\":5, \"comments\":6},\n",
    "        {\"name\":\"good5\", \"price\":899, \"sales\":99, \"stars\":5, \"comments\":2000}] \n",
    "#print(goods)\n",
    "# sorted()进行排序\n",
    "def my_sorted(args):\n",
    "    price = args[\"price\"]\n",
    "    sale = args['sales']\n",
    "    star = args[\"stars\"]\n",
    "    comment = args[\"comments\"]\n",
    "    data = price * 0.4 + sale * 0.17 + star * 0.13 + comment * 0.3\n",
    "    return data\n",
    "print(sorted(goods, key=my_sorted))\n"
   ]
  },
  {
   "cell_type": "code",
   "execution_count": 55,
   "metadata": {},
   "outputs": [
    {
     "name": "stdout",
     "output_type": "stream",
     "text": [
      "[{'name': 'good5', 'price': 899, 'sales': 99, 'stars': 5, 'comments': 2000}, {'name': 'good3', 'price': 500, 'sales': 3000, 'stars': 2, 'comments': 199}, {'name': 'good4', 'price': 1288, 'sales': 8, 'stars': 5, 'comments': 6}, {'name': 'good2', 'price': 300, 'sales': 120, 'stars': 4, 'comments': 500}, {'name': 'good1', 'price': 200, 'sales': 100, 'stars': 5, 'comments': 400}]\n"
     ]
    }
   ],
   "source": [
    "goods = [{\"name\":\"good1\", \"price\":200, \"sales\":100, \"stars\":5, \"comments\":400}, \n",
    "        {\"name\":\"good2\", \"price\":300, \"sales\":120, \"stars\":4, \"comments\":500}, \n",
    "        {\"name\":\"good3\", \"price\":500, \"sales\":3000, \"stars\":2, \"comments\":199},\n",
    "        {\"name\":\"good4\", \"price\":1288, \"sales\":8, \"stars\":5, \"comments\":6},\n",
    "        {\"name\":\"good5\", \"price\":899, \"sales\":99, \"stars\":5, \"comments\":2000}] \n",
    "# 使用lambda\n",
    "r = sorted(goods, key=lambda x: x['price'] * 0.4 + x[\"sales\"] * 0.17 + x[\"stars\"] * 0.13 + x[\"comments\"] * 0.3, reverse=True)\n",
    "print(r)"
   ]
  }
 ],
 "metadata": {
  "kernelspec": {
   "display_name": "Python 3",
   "language": "python",
   "name": "python3"
  },
  "language_info": {
   "codemirror_mode": {
    "name": "ipython",
    "version": 3
   },
   "file_extension": ".py",
   "mimetype": "text/x-python",
   "name": "python",
   "nbconvert_exporter": "python",
   "pygments_lexer": "ipython3",
   "version": "3.6.3"
  }
 },
 "nbformat": 4,
 "nbformat_minor": 2
}
