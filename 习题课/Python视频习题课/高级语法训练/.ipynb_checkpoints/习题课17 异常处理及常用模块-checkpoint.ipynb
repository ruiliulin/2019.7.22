{
 "cells": [
  {
   "cell_type": "markdown",
   "metadata": {},
   "source": [
    "#### 编写一个计算减法的方法，当第一个数小于第二个数时，抛出 “被减数不能小于减数” 的异常"
   ]
  },
  {
   "cell_type": "code",
   "execution_count": 19,
   "metadata": {},
   "outputs": [
    {
     "name": "stdout",
     "output_type": "stream",
     "text": [
      "出错啦，被减数不能小于减数\n"
     ]
    }
   ],
   "source": [
    "def jianfa(a, b):\n",
    "    if a < b:\n",
    "        raise BaseException(\"被减数不能小于减数\")\n",
    "    else:\n",
    "        return a - b\n",
    "try:\n",
    "    jianfa(3, 7)\n",
    "except BaseException as e:\n",
    "    print(\"出错啦，{}\".format(e))"
   ]
  },
  {
   "cell_type": "markdown",
   "metadata": {},
   "source": [
    "#### 定义一个函数func(filename)filename:文件的路径，函数功能：打开文件，并且返回文件的内容，最后关闭，用异常来处理可能发生的错误"
   ]
  },
  {
   "cell_type": "code",
   "execution_count": 9,
   "metadata": {},
   "outputs": [
    {
     "name": "stdout",
     "output_type": "stream",
     "text": [
      "This is Test Document\n"
     ]
    }
   ],
   "source": [
    "import os\n",
    "def func(filename):\n",
    "    try:\n",
    "        file = open(filename)\n",
    "    except Exception as e:\n",
    "        print(\"出错啦，出错的内容是{}\".format(e))\n",
    "    else:\n",
    "        print(file.read())\n",
    "        file.close()\n",
    "\n",
    "func(\"hahaha.txt\")"
   ]
  },
  {
   "cell_type": "markdown",
   "metadata": {},
   "source": [
    "#### 自己定义一个异常类，继承Exception类，捕获下面的过程：判断输入的字符串长度是否小于5"
   ]
  },
  {
   "cell_type": "code",
   "execution_count": 13,
   "metadata": {},
   "outputs": [
    {
     "name": "stdout",
     "output_type": "stream",
     "text": [
      "算你聪明\n"
     ]
    }
   ],
   "source": [
    "class LlrError(Exception):\n",
    "    \n",
    "    def __init__(self, string):\n",
    "        self.string = string  \n",
    "    \n",
    "    def process(self):\n",
    "        if len(self.string) < 5:\n",
    "            print(\"字符串的长度必须大于5\")\n",
    "        else:\n",
    "            print(\"算你聪明\")\n",
    "            \n",
    "try:\n",
    "    lr = LlrError(\"ssssss\")\n",
    "    lr.process()\n",
    "except LlrError as le:\n",
    "    print(le)"
   ]
  },
  {
   "cell_type": "markdown",
   "metadata": {},
   "source": [
    "#### 写一个6位随机验证码程序(使用random模块)，要求验证码中至少包含一个数字，一个小写字母，一个大写字母"
   ]
  },
  {
   "cell_type": "code",
   "execution_count": 15,
   "metadata": {},
   "outputs": [
    {
     "name": "stdout",
     "output_type": "stream",
     "text": [
      "['e', 'H', '6', 'H', 'F', 'u']\n",
      "eH6HFu\n"
     ]
    }
   ],
   "source": [
    "import random\n",
    "import string\n",
    "\n",
    "# help(string)\n",
    "\n",
    "code = []\n",
    "code.append(random.choice(string.ascii_lowercase))# 保证验证码中有一个小写字母\n",
    "code.append(random.choice(string.ascii_uppercase))# 保证验证码中有一个大写字母\n",
    "code.append(random.choice(string.digits))# 保证验证码中有一个数字\n",
    "\n",
    "while len(code) < 6:\n",
    "    code.append(random.choice(string.ascii_lowercase+string.ascii_uppercase+string.digits))\n",
    "\n",
    "print(code)\n",
    "q_code = \"\".join(code)\n",
    "print(q_code)        "
   ]
  },
  {
   "cell_type": "markdown",
   "metadata": {},
   "source": [
    "#### 写一个用户登录验证程序，文件如下 1234.json\n",
    "- 1234.json\n",
    "- {\"expire_date\":\"2021-01-01\", \"id\":\"1234\", \"status\":\"0\", \"pay_day\":\"22\", \"password\":\"abc\"}\n",
    "    - 用户名为json的用户名\n",
    "    - 判断是否过期，与expire_date作比较\n",
    "    - 登录成功后回应登陆成功，三次登录失败，status值改为1，并且锁定账号"
   ]
  },
  {
   "cell_type": "code",
   "execution_count": null,
   "metadata": {
    "collapsed": true
   },
   "outputs": [],
   "source": [
    "import os\n",
    "import time\n",
    "import json\n",
    "\n",
    "count = 0\n",
    "\n",
    "exit_flag = False\n",
    "\n",
    "while count < 3:\n",
    "    user = input(\"请输入用户名：\")\n",
    "    f = user.strip() + \".json\"\n",
    "    if os.path.exists(f):\n",
    "        fp = open(f, \"r+\", encoding = \"utf-8\")\n",
    "        j_user = json.load(fp)\n",
    "        \n",
    "        if j_user[status] == 1:\n",
    "            print(\"账号已锁定\")\n",
    "            break\n",
    "\n",
    "        "
   ]
  },
  {
   "cell_type": "code",
   "execution_count": null,
   "metadata": {
    "collapsed": true
   },
   "outputs": [],
   "source": []
  }
 ],
 "metadata": {
  "kernelspec": {
   "display_name": "Python 3",
   "language": "python",
   "name": "python3"
  },
  "language_info": {
   "codemirror_mode": {
    "name": "ipython",
    "version": 3
   },
   "file_extension": ".py",
   "mimetype": "text/x-python",
   "name": "python",
   "nbconvert_exporter": "python",
   "pygments_lexer": "ipython3",
   "version": "3.6.3"
  }
 },
 "nbformat": 4,
 "nbformat_minor": 2
}
