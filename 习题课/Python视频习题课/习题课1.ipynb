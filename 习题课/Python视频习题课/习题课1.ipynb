{
 "cells": [
  {
   "cell_type": "markdown",
   "metadata": {},
   "source": [
    "#  GIT - 起源\n",
    "- 个人文件的版本控制\n",
    "- 多方协作\n",
    "- linus搞定的git\n",
    "- 2008年github上线\n",
    "- 关于版本控制的产品：\n",
    "    - 集中式：cvs,svn\n",
    "    - 分布式：github开源，bitbuckets私人\n",
    "    - 分享精神：blog+github"
   ]
  },
  {
   "cell_type": "code",
   "execution_count": null,
   "metadata": {},
   "outputs": [],
   "source": [
    "# 操作系统\n",
    "- 管理软硬件资源，给运行软件提供一个统一调用平台\n",
    "- 操作系统分类\n",
    "    - windows(主要家用市场)\n",
    "    - Unix\n",
    "        - Minix，Linus--Linux\n",
    "        - MacOS（苹果）\n",
    "- 如果内存大于等于8G，尝试使用虚拟机\n",
    "- 否则，windows\n",
    "- 如果是苹果系统，那就苹果系统\n",
    "- 虚拟机\n",
    "    - 虚拟的机器，是软件模拟出来的软件环境，是一个完全独立的系统\n",
    "    - 我们的虚拟机是xubuntu16.04 LTS(长期支持)\n",
    "    - 使用步骤：\n",
    "        - 下载打包好的虚拟环境，解压\n",
    "        - 解压完得到一个vdi格式文件\n",
    "        - 下载virtualbox，不是vmware，官网地址：www.virtualbox.org\n",
    "            - 下载跟你目前操作系统相对应的软件\n",
    "            - 安装完毕\n",
    "            - 载入虚拟操作系统，即已经下载后的集成环境\n",
    "            - 容易出现的问题\n",
    "                - 么有64位系统选择：打开bios虚拟化\n",
    "                - 打开后一直黑屏没反应：集成系统是64位的，你建立的是32位的系统\n",
    "               \n",
    "- 自行安装\n",
    "    - 安装套件：anaconda+pycharm（pycharm：www.jetbrains.com ）\n",
    "    - 安装anaconda\n",
    "    - pycharm\n",
    "  "
   ]
  }
 ],
 "metadata": {
  "kernelspec": {
   "display_name": "Python 3",
   "language": "python",
   "name": "python3"
  },
  "language_info": {
   "codemirror_mode": {
    "name": "ipython",
    "version": 3
   },
   "file_extension": ".py",
   "mimetype": "text/x-python",
   "name": "python",
   "nbconvert_exporter": "python",
   "pygments_lexer": "ipython3",
   "version": "3.6.3"
  }
 },
 "nbformat": 4,
 "nbformat_minor": 2
}
